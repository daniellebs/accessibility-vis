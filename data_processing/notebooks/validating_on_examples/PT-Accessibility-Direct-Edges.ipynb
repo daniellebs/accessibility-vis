{
 "cells": [
  {
   "cell_type": "markdown",
   "metadata": {},
   "source": [
    "## GTFS - Direct Edges"
   ]
  },
  {
   "cell_type": "code",
   "execution_count": 81,
   "metadata": {},
   "outputs": [],
   "source": [
    "import pandas as pd\n",
    "import datetime\n",
    "import numpy as np\n",
    "import pickle\n",
    "\n",
    "DATA_PATH = '../../../input_data/synthetic_examples/input_data/Test1/'"
   ]
  },
  {
   "cell_type": "code",
   "execution_count": 82,
   "metadata": {},
   "outputs": [],
   "source": [
    "OUTPUT_PATH = '../../../output_data/validation/test1/'"
   ]
  },
  {
   "cell_type": "markdown",
   "metadata": {},
   "source": [
    "## Load Nodes"
   ]
  },
  {
   "cell_type": "code",
   "execution_count": 83,
   "metadata": {},
   "outputs": [
    {
     "name": "stdout",
     "output_type": "stream",
     "text": [
      "Loading nodes from file ../../../output_data/validation/test1/morning_nodes.pkl\n"
     ]
    },
    {
     "data": {
      "text/html": [
       "<div>\n",
       "<style scoped>\n",
       "    .dataframe tbody tr th:only-of-type {\n",
       "        vertical-align: middle;\n",
       "    }\n",
       "\n",
       "    .dataframe tbody tr th {\n",
       "        vertical-align: top;\n",
       "    }\n",
       "\n",
       "    .dataframe thead th {\n",
       "        text-align: right;\n",
       "    }\n",
       "</style>\n",
       "<table border=\"1\" class=\"dataframe\">\n",
       "  <thead>\n",
       "    <tr style=\"text-align: right;\">\n",
       "      <th></th>\n",
       "      <th>index</th>\n",
       "      <th>trip_id</th>\n",
       "      <th>arrival_time</th>\n",
       "      <th>departure_time_stop</th>\n",
       "      <th>stop_id</th>\n",
       "      <th>stop_sequence</th>\n",
       "      <th>route_id</th>\n",
       "      <th>departure_time_trip_departure</th>\n",
       "      <th>stop_code</th>\n",
       "      <th>stop_lat</th>\n",
       "      <th>stop_lon</th>\n",
       "      <th>arrival</th>\n",
       "      <th>departure</th>\n",
       "      <th>node_id</th>\n",
       "    </tr>\n",
       "  </thead>\n",
       "  <tbody>\n",
       "    <tr>\n",
       "      <th>0</th>\n",
       "      <td>25</td>\n",
       "      <td>19285956_151215</td>\n",
       "      <td>07:08:00</td>\n",
       "      <td>07:08:00</td>\n",
       "      <td>25123</td>\n",
       "      <td>1</td>\n",
       "      <td>2544</td>\n",
       "      <td>07:08:00</td>\n",
       "      <td>38160</td>\n",
       "      <td>32.050923</td>\n",
       "      <td>34.849426</td>\n",
       "      <td>2016-01-04 07:08:00</td>\n",
       "      <td>2016-01-04 07:08:00</td>\n",
       "      <td>0</td>\n",
       "    </tr>\n",
       "    <tr>\n",
       "      <th>1</th>\n",
       "      <td>26</td>\n",
       "      <td>19285957_151215</td>\n",
       "      <td>07:17:00</td>\n",
       "      <td>07:17:00</td>\n",
       "      <td>25123</td>\n",
       "      <td>1</td>\n",
       "      <td>2544</td>\n",
       "      <td>07:17:00</td>\n",
       "      <td>38160</td>\n",
       "      <td>32.050923</td>\n",
       "      <td>34.849426</td>\n",
       "      <td>2016-01-04 07:17:00</td>\n",
       "      <td>2016-01-04 07:17:00</td>\n",
       "      <td>1</td>\n",
       "    </tr>\n",
       "    <tr>\n",
       "      <th>2</th>\n",
       "      <td>27</td>\n",
       "      <td>19285958_151215</td>\n",
       "      <td>07:26:00</td>\n",
       "      <td>07:26:00</td>\n",
       "      <td>25123</td>\n",
       "      <td>1</td>\n",
       "      <td>2544</td>\n",
       "      <td>07:26:00</td>\n",
       "      <td>38160</td>\n",
       "      <td>32.050923</td>\n",
       "      <td>34.849426</td>\n",
       "      <td>2016-01-04 07:26:00</td>\n",
       "      <td>2016-01-04 07:26:00</td>\n",
       "      <td>2</td>\n",
       "    </tr>\n",
       "  </tbody>\n",
       "</table>\n",
       "</div>"
      ],
      "text/plain": [
       "   index          trip_id arrival_time departure_time_stop  stop_id  \\\n",
       "0     25  19285956_151215     07:08:00            07:08:00    25123   \n",
       "1     26  19285957_151215     07:17:00            07:17:00    25123   \n",
       "2     27  19285958_151215     07:26:00            07:26:00    25123   \n",
       "\n",
       "   stop_sequence  route_id departure_time_trip_departure  stop_code  \\\n",
       "0              1      2544                      07:08:00      38160   \n",
       "1              1      2544                      07:17:00      38160   \n",
       "2              1      2544                      07:26:00      38160   \n",
       "\n",
       "    stop_lat   stop_lon             arrival           departure  node_id  \n",
       "0  32.050923  34.849426 2016-01-04 07:08:00 2016-01-04 07:08:00        0  \n",
       "1  32.050923  34.849426 2016-01-04 07:17:00 2016-01-04 07:17:00        1  \n",
       "2  32.050923  34.849426 2016-01-04 07:26:00 2016-01-04 07:26:00        2  "
      ]
     },
     "execution_count": 83,
     "metadata": {},
     "output_type": "execute_result"
    }
   ],
   "source": [
    "# Load nodes\n",
    "FILES_PREFIX = 'morning'\n",
    "# FILES_PREFIX = 'single_trip'\n",
    "file_name = OUTPUT_PATH + FILES_PREFIX + '_nodes.pkl'\n",
    "print(f'Loading nodes from file {file_name}')\n",
    "nodes_df = pd.read_pickle(file_name)\n",
    "nodes_df.head(3)"
   ]
  },
  {
   "cell_type": "markdown",
   "metadata": {},
   "source": [
    "## Compute Direct Edges"
   ]
  },
  {
   "cell_type": "code",
   "execution_count": 84,
   "metadata": {},
   "outputs": [],
   "source": [
    "# First we verify that the stops in each trip are consecutive\n",
    "\n",
    "tmp_df = nodes_df\n",
    "\n",
    "def verify_consective(l):\n",
    "    if sorted(list(l)) != list(range(min(l), max(l)+1)):\n",
    "        print('Found non-consecutive stop sequence')\n",
    "        raise Exception('NON CONSECUTIVE STOP SEQUENCE')"
   ]
  },
  {
   "cell_type": "code",
   "execution_count": 85,
   "metadata": {},
   "outputs": [
    {
     "data": {
      "text/html": [
       "<div>\n",
       "<style scoped>\n",
       "    .dataframe tbody tr th:only-of-type {\n",
       "        vertical-align: middle;\n",
       "    }\n",
       "\n",
       "    .dataframe tbody tr th {\n",
       "        vertical-align: top;\n",
       "    }\n",
       "\n",
       "    .dataframe thead th {\n",
       "        text-align: right;\n",
       "    }\n",
       "</style>\n",
       "<table border=\"1\" class=\"dataframe\">\n",
       "  <thead>\n",
       "    <tr style=\"text-align: right;\">\n",
       "      <th></th>\n",
       "    </tr>\n",
       "  </thead>\n",
       "  <tbody>\n",
       "  </tbody>\n",
       "</table>\n",
       "</div>"
      ],
      "text/plain": [
       "Empty DataFrame\n",
       "Columns: []\n",
       "Index: []"
      ]
     },
     "execution_count": 85,
     "metadata": {},
     "output_type": "execute_result"
    }
   ],
   "source": [
    "tmp_df[['trip_id', 'stop_sequence']].groupby('trip_id').apply(lambda x: verify_consective(x.stop_sequence))"
   ]
  },
  {
   "cell_type": "code",
   "execution_count": 86,
   "metadata": {},
   "outputs": [],
   "source": [
    "del tmp_df"
   ]
  },
  {
   "cell_type": "markdown",
   "metadata": {},
   "source": [
    "No exception -> all stops are consecutive, we can resume"
   ]
  },
  {
   "cell_type": "code",
   "execution_count": 87,
   "metadata": {},
   "outputs": [],
   "source": [
    "def create_direct_edges_for_trip(x):\n",
    "    # TODO: Save node_id instead of index\n",
    "    for index, node in x.iterrows():\n",
    "        stop_seq = node['stop_sequence']\n",
    "        # For the same trip we want to take the next node\n",
    "        next_node = x[x['stop_sequence'] == stop_seq + 1]\n",
    "        if next_node.shape[0] == 0:\n",
    "            # This is the last node of the current trip, no outgoing edge\n",
    "            continue\n",
    "        assert next_node.shape[0] == 1\n",
    "\n",
    "        w = ((next_node['departure'] - node['arrival'])).values[0] / np.timedelta64(1, 's')\n",
    "        d_edge = (node['node_id'], next_node['node_id'].values[0], w)\n",
    "        direct_edges.add(d_edge)"
   ]
  },
  {
   "cell_type": "markdown",
   "metadata": {},
   "source": [
    "<span style=\"background-color: #F1D9F9\">TODO: make this multiprocessed: group by trip_id, and then split the data to batches of groups (trips). For each group we will apply the 'create direct edges' using a pool. We need to make sure that directed_edges is thread/process-safe.</span>"
   ]
  },
  {
   "cell_type": "code",
   "execution_count": 88,
   "metadata": {},
   "outputs": [
    {
     "data": {
      "application/vnd.jupyter.widget-view+json": {
       "model_id": "02a30f6670114d0a9e4049da1e74a438",
       "version_major": 2,
       "version_minor": 0
      },
      "text/plain": [
       "HBox(children=(IntProgress(value=0, max=42), HTML(value='')))"
      ]
     },
     "metadata": {},
     "output_type": "display_data"
    },
    {
     "name": "stdout",
     "output_type": "stream",
     "text": [
      "\n"
     ]
    },
    {
     "data": {
      "text/html": [
       "<div>\n",
       "<style scoped>\n",
       "    .dataframe tbody tr th:only-of-type {\n",
       "        vertical-align: middle;\n",
       "    }\n",
       "\n",
       "    .dataframe tbody tr th {\n",
       "        vertical-align: top;\n",
       "    }\n",
       "\n",
       "    .dataframe thead th {\n",
       "        text-align: right;\n",
       "    }\n",
       "</style>\n",
       "<table border=\"1\" class=\"dataframe\">\n",
       "  <thead>\n",
       "    <tr style=\"text-align: right;\">\n",
       "      <th></th>\n",
       "    </tr>\n",
       "  </thead>\n",
       "  <tbody>\n",
       "  </tbody>\n",
       "</table>\n",
       "</div>"
      ],
      "text/plain": [
       "Empty DataFrame\n",
       "Columns: []\n",
       "Index: []"
      ]
     },
     "execution_count": 88,
     "metadata": {},
     "output_type": "execute_result"
    }
   ],
   "source": [
    "# For each trip (grouping by trip), create edges for this trip's consecutive nodes.\n",
    "from tqdm.auto import tqdm\n",
    "tqdm.pandas()\n",
    "\n",
    "direct_edges = set()\n",
    "nodes_df[['node_id', 'trip_id', 'stop_sequence', 'arrival', 'departure']].groupby('trip_id').progress_apply(create_direct_edges_for_trip)"
   ]
  },
  {
   "cell_type": "code",
   "execution_count": 89,
   "metadata": {},
   "outputs": [
    {
     "data": {
      "text/plain": [
       "1097"
      ]
     },
     "execution_count": 89,
     "metadata": {},
     "output_type": "execute_result"
    }
   ],
   "source": [
    "len(direct_edges)"
   ]
  },
  {
   "cell_type": "code",
   "execution_count": 90,
   "metadata": {},
   "outputs": [],
   "source": [
    "with open(OUTPUT_PATH + FILES_PREFIX + '_direct_edges.pkl', 'wb') as f:\n",
    "    pickle.dump(direct_edges, f)"
   ]
  }
 ],
 "metadata": {
  "kernelspec": {
   "display_name": "Python 3",
   "language": "python",
   "name": "python3"
  },
  "language_info": {
   "codemirror_mode": {
    "name": "ipython",
    "version": 3
   },
   "file_extension": ".py",
   "mimetype": "text/x-python",
   "name": "python",
   "nbconvert_exporter": "python",
   "pygments_lexer": "ipython3",
   "version": "3.6.4"
  }
 },
 "nbformat": 4,
 "nbformat_minor": 2
}
