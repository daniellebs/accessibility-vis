{
 "cells": [
  {
   "cell_type": "markdown",
   "metadata": {},
   "source": [
    "## GTFS - Direct Edges"
   ]
  },
  {
   "cell_type": "code",
   "execution_count": 24,
   "metadata": {},
   "outputs": [],
   "source": [
    "import pandas as pd\n",
    "import datetime\n",
    "import numpy as np\n",
    "import pickle\n",
    "\n",
    "DATA_PATH = '../../../input_data/synthetic_examples/input_data/Test1/'"
   ]
  },
  {
   "cell_type": "code",
   "execution_count": 25,
   "metadata": {},
   "outputs": [],
   "source": [
    "OUTPUT_PATH = '../../../output_data/validation/two_lines/'"
   ]
  },
  {
   "cell_type": "markdown",
   "metadata": {},
   "source": [
    "## Load Nodes"
   ]
  },
  {
   "cell_type": "code",
   "execution_count": 26,
   "metadata": {},
   "outputs": [
    {
     "name": "stdout",
     "output_type": "stream",
     "text": [
      "Loading nodes from file ../../../output_data/validation/two_lines/morning_nodes.pkl\n"
     ]
    },
    {
     "data": {
      "text/html": [
       "<div>\n",
       "<style scoped>\n",
       "    .dataframe tbody tr th:only-of-type {\n",
       "        vertical-align: middle;\n",
       "    }\n",
       "\n",
       "    .dataframe tbody tr th {\n",
       "        vertical-align: top;\n",
       "    }\n",
       "\n",
       "    .dataframe thead th {\n",
       "        text-align: right;\n",
       "    }\n",
       "</style>\n",
       "<table border=\"1\" class=\"dataframe\">\n",
       "  <thead>\n",
       "    <tr style=\"text-align: right;\">\n",
       "      <th></th>\n",
       "      <th>index</th>\n",
       "      <th>trip_id</th>\n",
       "      <th>arrival_time</th>\n",
       "      <th>departure_time_stop</th>\n",
       "      <th>stop_id</th>\n",
       "      <th>stop_sequence</th>\n",
       "      <th>route_id</th>\n",
       "      <th>departure_time_trip_departure</th>\n",
       "      <th>stop_code</th>\n",
       "      <th>stop_lat</th>\n",
       "      <th>stop_lon</th>\n",
       "      <th>arrival</th>\n",
       "      <th>departure</th>\n",
       "      <th>node_id</th>\n",
       "    </tr>\n",
       "  </thead>\n",
       "  <tbody>\n",
       "    <tr>\n",
       "      <th>0</th>\n",
       "      <td>1</td>\n",
       "      <td>19407596_081215</td>\n",
       "      <td>07:06:06</td>\n",
       "      <td>07:06:06</td>\n",
       "      <td>12962</td>\n",
       "      <td>6</td>\n",
       "      <td>2544</td>\n",
       "      <td>06:59:00</td>\n",
       "      <td>21257</td>\n",
       "      <td>32.076767</td>\n",
       "      <td>34.844303</td>\n",
       "      <td>2015-12-14 07:06:06</td>\n",
       "      <td>2015-12-14 07:06:06</td>\n",
       "      <td>0</td>\n",
       "    </tr>\n",
       "    <tr>\n",
       "      <th>1</th>\n",
       "      <td>2</td>\n",
       "      <td>19407597_081215</td>\n",
       "      <td>07:15:06</td>\n",
       "      <td>07:15:06</td>\n",
       "      <td>12962</td>\n",
       "      <td>6</td>\n",
       "      <td>2544</td>\n",
       "      <td>07:08:00</td>\n",
       "      <td>21257</td>\n",
       "      <td>32.076767</td>\n",
       "      <td>34.844303</td>\n",
       "      <td>2015-12-14 07:15:06</td>\n",
       "      <td>2015-12-14 07:15:06</td>\n",
       "      <td>1</td>\n",
       "    </tr>\n",
       "    <tr>\n",
       "      <th>2</th>\n",
       "      <td>3</td>\n",
       "      <td>19407598_081215</td>\n",
       "      <td>07:24:06</td>\n",
       "      <td>07:24:06</td>\n",
       "      <td>12962</td>\n",
       "      <td>6</td>\n",
       "      <td>2544</td>\n",
       "      <td>07:17:00</td>\n",
       "      <td>21257</td>\n",
       "      <td>32.076767</td>\n",
       "      <td>34.844303</td>\n",
       "      <td>2015-12-14 07:24:06</td>\n",
       "      <td>2015-12-14 07:24:06</td>\n",
       "      <td>2</td>\n",
       "    </tr>\n",
       "  </tbody>\n",
       "</table>\n",
       "</div>"
      ],
      "text/plain": [
       "   index          trip_id arrival_time departure_time_stop  stop_id  \\\n",
       "0      1  19407596_081215     07:06:06            07:06:06    12962   \n",
       "1      2  19407597_081215     07:15:06            07:15:06    12962   \n",
       "2      3  19407598_081215     07:24:06            07:24:06    12962   \n",
       "\n",
       "   stop_sequence  route_id departure_time_trip_departure  stop_code  \\\n",
       "0              6      2544                      06:59:00      21257   \n",
       "1              6      2544                      07:08:00      21257   \n",
       "2              6      2544                      07:17:00      21257   \n",
       "\n",
       "    stop_lat   stop_lon             arrival           departure  node_id  \n",
       "0  32.076767  34.844303 2015-12-14 07:06:06 2015-12-14 07:06:06        0  \n",
       "1  32.076767  34.844303 2015-12-14 07:15:06 2015-12-14 07:15:06        1  \n",
       "2  32.076767  34.844303 2015-12-14 07:24:06 2015-12-14 07:24:06        2  "
      ]
     },
     "execution_count": 26,
     "metadata": {},
     "output_type": "execute_result"
    }
   ],
   "source": [
    "# Load nodes\n",
    "FILES_PREFIX = 'morning'\n",
    "# FILES_PREFIX = 'single_trip'\n",
    "file_name = OUTPUT_PATH + FILES_PREFIX + '_nodes.pkl'\n",
    "print(f'Loading nodes from file {file_name}')\n",
    "nodes_df = pd.read_pickle(file_name)\n",
    "nodes_df.head(3)"
   ]
  },
  {
   "cell_type": "markdown",
   "metadata": {},
   "source": [
    "## Compute Direct Edges"
   ]
  },
  {
   "cell_type": "code",
   "execution_count": 27,
   "metadata": {},
   "outputs": [],
   "source": [
    "# First we verify that the stops in each trip are consecutive\n",
    "\n",
    "tmp_df = nodes_df\n",
    "\n",
    "def verify_consective(l):\n",
    "    if sorted(list(l)) != list(range(min(l), max(l)+1)):\n",
    "        print('Found non-consecutive stop sequence')\n",
    "        raise Exception('NON CONSECUTIVE STOP SEQUENCE')"
   ]
  },
  {
   "cell_type": "code",
   "execution_count": 28,
   "metadata": {},
   "outputs": [
    {
     "data": {
      "text/html": [
       "<div>\n",
       "<style scoped>\n",
       "    .dataframe tbody tr th:only-of-type {\n",
       "        vertical-align: middle;\n",
       "    }\n",
       "\n",
       "    .dataframe tbody tr th {\n",
       "        vertical-align: top;\n",
       "    }\n",
       "\n",
       "    .dataframe thead th {\n",
       "        text-align: right;\n",
       "    }\n",
       "</style>\n",
       "<table border=\"1\" class=\"dataframe\">\n",
       "  <thead>\n",
       "    <tr style=\"text-align: right;\">\n",
       "      <th></th>\n",
       "    </tr>\n",
       "  </thead>\n",
       "  <tbody>\n",
       "  </tbody>\n",
       "</table>\n",
       "</div>"
      ],
      "text/plain": [
       "Empty DataFrame\n",
       "Columns: []\n",
       "Index: []"
      ]
     },
     "execution_count": 28,
     "metadata": {},
     "output_type": "execute_result"
    }
   ],
   "source": [
    "tmp_df[['trip_id', 'stop_sequence']].groupby('trip_id').apply(lambda x: verify_consective(x.stop_sequence))"
   ]
  },
  {
   "cell_type": "code",
   "execution_count": 29,
   "metadata": {},
   "outputs": [],
   "source": [
    "del tmp_df"
   ]
  },
  {
   "cell_type": "markdown",
   "metadata": {},
   "source": [
    "No exception -> all stops are consecutive, we can resume"
   ]
  },
  {
   "cell_type": "code",
   "execution_count": 30,
   "metadata": {},
   "outputs": [],
   "source": [
    "def create_direct_edges_for_trip(x):\n",
    "    # TODO: Save node_id instead of index\n",
    "    for index, node in x.iterrows():\n",
    "        stop_seq = node['stop_sequence']\n",
    "        # For the same trip we want to take the next node\n",
    "        next_node = x[x['stop_sequence'] == stop_seq + 1]\n",
    "        if next_node.shape[0] == 0:\n",
    "            # This is the last node of the current trip, no outgoing edge\n",
    "            continue\n",
    "        assert next_node.shape[0] == 1\n",
    "\n",
    "        w = ((next_node['departure'] - node['arrival'])).values[0] / np.timedelta64(1, 's')\n",
    "        d_edge = (node['node_id'], next_node['node_id'].values[0], w)\n",
    "        direct_edges.add(d_edge)"
   ]
  },
  {
   "cell_type": "markdown",
   "metadata": {},
   "source": [
    "<span style=\"background-color: #F1D9F9\">TODO: make this multiprocessed: group by trip_id, and then split the data to batches of groups (trips). For each group we will apply the 'create direct edges' using a pool. We need to make sure that directed_edges is thread/process-safe.</span>"
   ]
  },
  {
   "cell_type": "code",
   "execution_count": 31,
   "metadata": {},
   "outputs": [
    {
     "data": {
      "application/vnd.jupyter.widget-view+json": {
       "model_id": "87de710692524c1c99797aa471e33741",
       "version_major": 2,
       "version_minor": 0
      },
      "text/plain": [
       "HBox(children=(IntProgress(value=0, max=26), HTML(value='')))"
      ]
     },
     "metadata": {},
     "output_type": "display_data"
    },
    {
     "name": "stdout",
     "output_type": "stream",
     "text": [
      "\n"
     ]
    },
    {
     "data": {
      "text/html": [
       "<div>\n",
       "<style scoped>\n",
       "    .dataframe tbody tr th:only-of-type {\n",
       "        vertical-align: middle;\n",
       "    }\n",
       "\n",
       "    .dataframe tbody tr th {\n",
       "        vertical-align: top;\n",
       "    }\n",
       "\n",
       "    .dataframe thead th {\n",
       "        text-align: right;\n",
       "    }\n",
       "</style>\n",
       "<table border=\"1\" class=\"dataframe\">\n",
       "  <thead>\n",
       "    <tr style=\"text-align: right;\">\n",
       "      <th></th>\n",
       "    </tr>\n",
       "  </thead>\n",
       "  <tbody>\n",
       "  </tbody>\n",
       "</table>\n",
       "</div>"
      ],
      "text/plain": [
       "Empty DataFrame\n",
       "Columns: []\n",
       "Index: []"
      ]
     },
     "execution_count": 31,
     "metadata": {},
     "output_type": "execute_result"
    }
   ],
   "source": [
    "# For each trip (grouping by trip), create edges for this trip's consecutive nodes.\n",
    "from tqdm.auto import tqdm\n",
    "tqdm.pandas()\n",
    "\n",
    "direct_edges = set()\n",
    "nodes_df[['node_id', 'trip_id', 'stop_sequence', 'arrival', 'departure']].groupby('trip_id').progress_apply(create_direct_edges_for_trip)"
   ]
  },
  {
   "cell_type": "code",
   "execution_count": 32,
   "metadata": {},
   "outputs": [
    {
     "data": {
      "text/plain": [
       "582"
      ]
     },
     "execution_count": 32,
     "metadata": {},
     "output_type": "execute_result"
    }
   ],
   "source": [
    "len(direct_edges)"
   ]
  },
  {
   "cell_type": "code",
   "execution_count": 33,
   "metadata": {},
   "outputs": [],
   "source": [
    "with open(OUTPUT_PATH + FILES_PREFIX + '_direct_edges.pkl', 'wb') as f:\n",
    "    pickle.dump(direct_edges, f)"
   ]
  },
  {
   "cell_type": "code",
   "execution_count": null,
   "metadata": {},
   "outputs": [],
   "source": []
  }
 ],
 "metadata": {
  "kernelspec": {
   "display_name": "Python 3",
   "language": "python",
   "name": "python3"
  },
  "language_info": {
   "codemirror_mode": {
    "name": "ipython",
    "version": 3
   },
   "file_extension": ".py",
   "mimetype": "text/x-python",
   "name": "python",
   "nbconvert_exporter": "python",
   "pygments_lexer": "ipython3",
   "version": "3.6.4"
  }
 },
 "nbformat": 4,
 "nbformat_minor": 2
}
