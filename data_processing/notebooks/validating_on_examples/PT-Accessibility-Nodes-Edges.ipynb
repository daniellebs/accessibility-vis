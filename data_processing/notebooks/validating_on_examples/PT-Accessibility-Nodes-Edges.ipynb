{
 "cells": [
  {
   "cell_type": "markdown",
   "metadata": {},
   "source": [
    "## GTFS\n",
    "In order to compute accessibility based on GTFS data (General Transit Feed Specification, can by downloaded from ftp://199.203.58.18/), we will first perform basic processing of the data.\n",
    "We are using the pandas library.\n",
    "\n",
    "The code is based on the following structure of GTFS tables:\n",
    "![GTFS Tables](../../input_data/GTFS_tables.PNG)"
   ]
  },
  {
   "cell_type": "code",
   "execution_count": 329,
   "metadata": {},
   "outputs": [],
   "source": [
    "import pandas as pd\n",
    "import datetime as dt\n",
    "import pickle\n",
    "from tqdm.auto import tqdm\n",
    "tqdm.pandas()\n",
    "\n",
    "DATA_PATH = '../../../input_data/synthetic_examples/input_data/Test1/'"
   ]
  },
  {
   "cell_type": "code",
   "execution_count": 330,
   "metadata": {},
   "outputs": [],
   "source": [
    "OUTPUT_PATH = '../../../output_data/validation/test1/'"
   ]
  },
  {
   "cell_type": "code",
   "execution_count": 331,
   "metadata": {},
   "outputs": [],
   "source": [
    "DAY = dt.datetime(2016, 1, 4)"
   ]
  },
  {
   "cell_type": "code",
   "execution_count": 386,
   "metadata": {},
   "outputs": [],
   "source": [
    "weekdays = ['monday', 'tuesday', 'wednesday', 'thursday', 'friday', 'saturday', 'sunday']\n",
    "DAY_OF_WEEK = weekdays[DAY.weekday()]"
   ]
  },
  {
   "cell_type": "code",
   "execution_count": 388,
   "metadata": {},
   "outputs": [
    {
     "data": {
      "text/plain": [
       "'monday'"
      ]
     },
     "execution_count": 388,
     "metadata": {},
     "output_type": "execute_result"
    }
   ],
   "source": [
    "DAY_OF_WEEK"
   ]
  },
  {
   "cell_type": "markdown",
   "metadata": {},
   "source": [
    "## Process Calendar - Get trips for a single day"
   ]
  },
  {
   "cell_type": "code",
   "execution_count": 389,
   "metadata": {},
   "outputs": [
    {
     "data": {
      "text/html": [
       "<div>\n",
       "<style scoped>\n",
       "    .dataframe tbody tr th:only-of-type {\n",
       "        vertical-align: middle;\n",
       "    }\n",
       "\n",
       "    .dataframe tbody tr th {\n",
       "        vertical-align: top;\n",
       "    }\n",
       "\n",
       "    .dataframe thead th {\n",
       "        text-align: right;\n",
       "    }\n",
       "</style>\n",
       "<table border=\"1\" class=\"dataframe\">\n",
       "  <thead>\n",
       "    <tr style=\"text-align: right;\">\n",
       "      <th></th>\n",
       "      <th>service_id</th>\n",
       "      <th>sunday</th>\n",
       "      <th>monday</th>\n",
       "      <th>tuesday</th>\n",
       "      <th>wednesday</th>\n",
       "      <th>thursday</th>\n",
       "      <th>friday</th>\n",
       "      <th>saturday</th>\n",
       "      <th>start_date</th>\n",
       "      <th>end_date</th>\n",
       "    </tr>\n",
       "  </thead>\n",
       "  <tbody>\n",
       "    <tr>\n",
       "      <th>0</th>\n",
       "      <td>31349658</td>\n",
       "      <td>1</td>\n",
       "      <td>1</td>\n",
       "      <td>1</td>\n",
       "      <td>1</td>\n",
       "      <td>1</td>\n",
       "      <td>0</td>\n",
       "      <td>0</td>\n",
       "      <td>2015-12-06</td>\n",
       "      <td>2015-12-07</td>\n",
       "    </tr>\n",
       "    <tr>\n",
       "      <th>1</th>\n",
       "      <td>31349659</td>\n",
       "      <td>1</td>\n",
       "      <td>1</td>\n",
       "      <td>1</td>\n",
       "      <td>1</td>\n",
       "      <td>1</td>\n",
       "      <td>0</td>\n",
       "      <td>0</td>\n",
       "      <td>2015-12-15</td>\n",
       "      <td>2016-02-04</td>\n",
       "    </tr>\n",
       "    <tr>\n",
       "      <th>2</th>\n",
       "      <td>31349660</td>\n",
       "      <td>0</td>\n",
       "      <td>0</td>\n",
       "      <td>0</td>\n",
       "      <td>0</td>\n",
       "      <td>0</td>\n",
       "      <td>1</td>\n",
       "      <td>0</td>\n",
       "      <td>2015-12-15</td>\n",
       "      <td>2016-02-04</td>\n",
       "    </tr>\n",
       "  </tbody>\n",
       "</table>\n",
       "</div>"
      ],
      "text/plain": [
       "   service_id  sunday  monday  tuesday  wednesday  thursday  friday  saturday  \\\n",
       "0    31349658       1       1        1          1         1       0         0   \n",
       "1    31349659       1       1        1          1         1       0         0   \n",
       "2    31349660       0       0        0          0         0       1         0   \n",
       "\n",
       "  start_date   end_date  \n",
       "0 2015-12-06 2015-12-07  \n",
       "1 2015-12-15 2016-02-04  \n",
       "2 2015-12-15 2016-02-04  "
      ]
     },
     "execution_count": 389,
     "metadata": {},
     "output_type": "execute_result"
    }
   ],
   "source": [
    "# Load calendar\n",
    "calendar_df = pd.read_csv(DATA_PATH + 'calendar.txt')\n",
    "# Convert dates to python's datetime type\n",
    "calendar_df['start_date'] = calendar_df['start_date'].apply(lambda x: dt.datetime.strptime(str(x), '%Y%m%d'))\n",
    "calendar_df['end_date'] = calendar_df['end_date'].apply(lambda x: dt.datetime.strptime(str(x), '%Y%m%d'))\n",
    "\n",
    "calendar_df.columns = ['service_id',\n",
    " 'sunday',\n",
    " 'monday',\n",
    " 'tuesday',\n",
    " 'wednesday',\n",
    " 'thursday',\n",
    " 'friday',\n",
    " 'saturday',\n",
    " 'start_date',\n",
    " 'end_date']\n",
    "\n",
    "calendar_df[:3]"
   ]
  },
  {
   "cell_type": "code",
   "execution_count": 390,
   "metadata": {},
   "outputs": [],
   "source": [
    "# Let's say we want all trips that occurred on the first Sunday after the feed was published \n",
    "\n",
    "# Filter so we only keep services that are active on Sunday.\n",
    "sunday_services_df = calendar_df[calendar_df[DAY_OF_WEEK] == 1][['service_id', 'start_date', 'end_date']]\n",
    "\n",
    "# Keep only services that start during/before selected date\n",
    "sunday_services_df = sunday_services_df[sunday_services_df['start_date'] <= DAY]\n",
    "\n",
    "# Keep only services that end during/after selected date\n",
    "sunday_services_df = sunday_services_df[sunday_services_df['end_date'] >= DAY]"
   ]
  },
  {
   "cell_type": "code",
   "execution_count": 391,
   "metadata": {},
   "outputs": [
    {
     "data": {
      "text/html": [
       "<div>\n",
       "<style scoped>\n",
       "    .dataframe tbody tr th:only-of-type {\n",
       "        vertical-align: middle;\n",
       "    }\n",
       "\n",
       "    .dataframe tbody tr th {\n",
       "        vertical-align: top;\n",
       "    }\n",
       "\n",
       "    .dataframe thead th {\n",
       "        text-align: right;\n",
       "    }\n",
       "</style>\n",
       "<table border=\"1\" class=\"dataframe\">\n",
       "  <thead>\n",
       "    <tr style=\"text-align: right;\">\n",
       "      <th></th>\n",
       "      <th>service_id</th>\n",
       "      <th>start_date</th>\n",
       "      <th>end_date</th>\n",
       "    </tr>\n",
       "  </thead>\n",
       "  <tbody>\n",
       "    <tr>\n",
       "      <th>1</th>\n",
       "      <td>31349659</td>\n",
       "      <td>2015-12-15</td>\n",
       "      <td>2016-02-04</td>\n",
       "    </tr>\n",
       "    <tr>\n",
       "      <th>14</th>\n",
       "      <td>31360273</td>\n",
       "      <td>2015-12-16</td>\n",
       "      <td>2016-02-04</td>\n",
       "    </tr>\n",
       "  </tbody>\n",
       "</table>\n",
       "</div>"
      ],
      "text/plain": [
       "    service_id start_date   end_date\n",
       "1     31349659 2015-12-15 2016-02-04\n",
       "14    31360273 2015-12-16 2016-02-04"
      ]
     },
     "execution_count": 391,
     "metadata": {},
     "output_type": "execute_result"
    }
   ],
   "source": [
    "sunday_services_df"
   ]
  },
  {
   "cell_type": "markdown",
   "metadata": {},
   "source": [
    "## Process Trips"
   ]
  },
  {
   "cell_type": "code",
   "execution_count": 392,
   "metadata": {},
   "outputs": [],
   "source": [
    "# Load trips\n",
    "trips_df = pd.read_csv(DATA_PATH + 'trips.txt')"
   ]
  },
  {
   "cell_type": "code",
   "execution_count": 393,
   "metadata": {},
   "outputs": [
    {
     "data": {
      "text/html": [
       "<div>\n",
       "<style scoped>\n",
       "    .dataframe tbody tr th:only-of-type {\n",
       "        vertical-align: middle;\n",
       "    }\n",
       "\n",
       "    .dataframe tbody tr th {\n",
       "        vertical-align: top;\n",
       "    }\n",
       "\n",
       "    .dataframe thead th {\n",
       "        text-align: right;\n",
       "    }\n",
       "</style>\n",
       "<table border=\"1\" class=\"dataframe\">\n",
       "  <thead>\n",
       "    <tr style=\"text-align: right;\">\n",
       "      <th></th>\n",
       "      <th>route_id</th>\n",
       "      <th>service_id</th>\n",
       "      <th>trip_id</th>\n",
       "      <th>direction_id</th>\n",
       "      <th>shape_id</th>\n",
       "    </tr>\n",
       "  </thead>\n",
       "  <tbody>\n",
       "    <tr>\n",
       "      <th>0</th>\n",
       "      <td>9807</td>\n",
       "      <td>31360272</td>\n",
       "      <td>18673606_161215</td>\n",
       "      <td>1</td>\n",
       "      <td>64069</td>\n",
       "    </tr>\n",
       "    <tr>\n",
       "      <th>1</th>\n",
       "      <td>9807</td>\n",
       "      <td>31360272</td>\n",
       "      <td>18673610_161215</td>\n",
       "      <td>1</td>\n",
       "      <td>64069</td>\n",
       "    </tr>\n",
       "  </tbody>\n",
       "</table>\n",
       "</div>"
      ],
      "text/plain": [
       "   route_id  service_id          trip_id  direction_id  shape_id\n",
       "0      9807    31360272  18673606_161215             1     64069\n",
       "1      9807    31360272  18673610_161215             1     64069"
      ]
     },
     "execution_count": 393,
     "metadata": {},
     "output_type": "execute_result"
    }
   ],
   "source": [
    "trips_df.head(2)"
   ]
  },
  {
   "cell_type": "code",
   "execution_count": 394,
   "metadata": {},
   "outputs": [
    {
     "data": {
      "text/html": [
       "<div>\n",
       "<style scoped>\n",
       "    .dataframe tbody tr th:only-of-type {\n",
       "        vertical-align: middle;\n",
       "    }\n",
       "\n",
       "    .dataframe tbody tr th {\n",
       "        vertical-align: top;\n",
       "    }\n",
       "\n",
       "    .dataframe thead th {\n",
       "        text-align: right;\n",
       "    }\n",
       "</style>\n",
       "<table border=\"1\" class=\"dataframe\">\n",
       "  <thead>\n",
       "    <tr style=\"text-align: right;\">\n",
       "      <th></th>\n",
       "      <th>service_id</th>\n",
       "      <th>route_id</th>\n",
       "      <th>trip_id</th>\n",
       "      <th>direction_is</th>\n",
       "      <th>shape_id</th>\n",
       "    </tr>\n",
       "  </thead>\n",
       "  <tbody>\n",
       "    <tr>\n",
       "      <th>0</th>\n",
       "      <td>31349659</td>\n",
       "      <td>2544</td>\n",
       "      <td>19286012_151215</td>\n",
       "      <td>1</td>\n",
       "      <td>62838</td>\n",
       "    </tr>\n",
       "    <tr>\n",
       "      <th>1</th>\n",
       "      <td>31349659</td>\n",
       "      <td>2544</td>\n",
       "      <td>19286013_151215</td>\n",
       "      <td>1</td>\n",
       "      <td>62838</td>\n",
       "    </tr>\n",
       "    <tr>\n",
       "      <th>2</th>\n",
       "      <td>31349659</td>\n",
       "      <td>2544</td>\n",
       "      <td>19286016_151215</td>\n",
       "      <td>1</td>\n",
       "      <td>62838</td>\n",
       "    </tr>\n",
       "  </tbody>\n",
       "</table>\n",
       "</div>"
      ],
      "text/plain": [
       "   service_id  route_id          trip_id  direction_is  shape_id\n",
       "0    31349659      2544  19286012_151215             1     62838\n",
       "1    31349659      2544  19286013_151215             1     62838\n",
       "2    31349659      2544  19286016_151215             1     62838"
      ]
     },
     "execution_count": 394,
     "metadata": {},
     "output_type": "execute_result"
    }
   ],
   "source": [
    "\n",
    "\n",
    "# Fix column names (some columns have special 'hudden' characters that we want to remove)\n",
    "trips_df.columns = ['route_id', 'service_id', 'trip_id', 'direction_is', 'shape_id']\n",
    "\n",
    "trips_calendar_df = sunday_services_df.merge(trips_df, on='service_id', suffixes=('_calendar', '_trips'))\n",
    "sunday_trips_df = trips_calendar_df.drop(['start_date', 'end_date'], axis=1)\n",
    "sunday_trips_df[:3]"
   ]
  },
  {
   "cell_type": "code",
   "execution_count": 395,
   "metadata": {},
   "outputs": [
    {
     "data": {
      "text/plain": [
       "service_id        2\n",
       "route_id          2\n",
       "trip_id         150\n",
       "direction_is      1\n",
       "shape_id          2\n",
       "dtype: int64"
      ]
     },
     "execution_count": 395,
     "metadata": {},
     "output_type": "execute_result"
    }
   ],
   "source": [
    "sunday_trips_df.nunique()"
   ]
  },
  {
   "cell_type": "markdown",
   "metadata": {},
   "source": [
    "### We now have all trips that occurred on the selected date"
   ]
  },
  {
   "cell_type": "markdown",
   "metadata": {},
   "source": [
    "## Process Stop Times\n",
    "Note: This is pretty heavy compared to the rest of the tables"
   ]
  },
  {
   "cell_type": "code",
   "execution_count": 396,
   "metadata": {},
   "outputs": [],
   "source": [
    "# Load stop times\n",
    "stop_times_df = pd.read_csv(DATA_PATH + 'stop_times.txt')\n",
    "\n",
    "# Get all trips departures by getting the minimal departure time for each trip\n",
    "trips_start_times_df = stop_times_df.groupby('trip_id').agg({'departure_time': 'min'})\n",
    "\n",
    "# Let's join the last two tabled to get the departure times of all sunday trips\n",
    "sunday_departures_df = sunday_trips_df.merge(trips_start_times_df, on='trip_id', suffixes=('_departures', '_trips'))"
   ]
  },
  {
   "cell_type": "code",
   "execution_count": 397,
   "metadata": {},
   "outputs": [
    {
     "data": {
      "text/html": [
       "<div>\n",
       "<style scoped>\n",
       "    .dataframe tbody tr th:only-of-type {\n",
       "        vertical-align: middle;\n",
       "    }\n",
       "\n",
       "    .dataframe tbody tr th {\n",
       "        vertical-align: top;\n",
       "    }\n",
       "\n",
       "    .dataframe thead th {\n",
       "        text-align: right;\n",
       "    }\n",
       "</style>\n",
       "<table border=\"1\" class=\"dataframe\">\n",
       "  <thead>\n",
       "    <tr style=\"text-align: right;\">\n",
       "      <th></th>\n",
       "      <th>trip_id</th>\n",
       "      <th>arrival_time</th>\n",
       "      <th>departure_time</th>\n",
       "      <th>stop_id</th>\n",
       "      <th>stop_sequence</th>\n",
       "      <th>pickup_type</th>\n",
       "      <th>drop_off_type</th>\n",
       "    </tr>\n",
       "  </thead>\n",
       "  <tbody>\n",
       "  </tbody>\n",
       "</table>\n",
       "</div>"
      ],
      "text/plain": [
       "Empty DataFrame\n",
       "Columns: [trip_id, arrival_time, departure_time, stop_id, stop_sequence, pickup_type, drop_off_type]\n",
       "Index: []"
      ]
     },
     "execution_count": 397,
     "metadata": {},
     "output_type": "execute_result"
    }
   ],
   "source": [
    "# Remove this\n",
    "stop_times_df[stop_times_df['stop_id'] == 12816]"
   ]
  },
  {
   "cell_type": "code",
   "execution_count": 398,
   "metadata": {},
   "outputs": [
    {
     "data": {
      "text/html": [
       "<div>\n",
       "<style scoped>\n",
       "    .dataframe tbody tr th:only-of-type {\n",
       "        vertical-align: middle;\n",
       "    }\n",
       "\n",
       "    .dataframe tbody tr th {\n",
       "        vertical-align: top;\n",
       "    }\n",
       "\n",
       "    .dataframe thead th {\n",
       "        text-align: right;\n",
       "    }\n",
       "</style>\n",
       "<table border=\"1\" class=\"dataframe\">\n",
       "  <thead>\n",
       "    <tr style=\"text-align: right;\">\n",
       "      <th></th>\n",
       "      <th>service_id</th>\n",
       "      <th>route_id</th>\n",
       "      <th>trip_id</th>\n",
       "      <th>direction_is</th>\n",
       "      <th>shape_id</th>\n",
       "      <th>departure_time</th>\n",
       "    </tr>\n",
       "  </thead>\n",
       "  <tbody>\n",
       "    <tr>\n",
       "      <th>0</th>\n",
       "      <td>31349659</td>\n",
       "      <td>2544</td>\n",
       "      <td>19286012_151215</td>\n",
       "      <td>1</td>\n",
       "      <td>62838</td>\n",
       "      <td>18:50:00</td>\n",
       "    </tr>\n",
       "    <tr>\n",
       "      <th>1</th>\n",
       "      <td>31349659</td>\n",
       "      <td>2544</td>\n",
       "      <td>19286013_151215</td>\n",
       "      <td>1</td>\n",
       "      <td>62838</td>\n",
       "      <td>19:05:00</td>\n",
       "    </tr>\n",
       "  </tbody>\n",
       "</table>\n",
       "</div>"
      ],
      "text/plain": [
       "   service_id  route_id          trip_id  direction_is  shape_id  \\\n",
       "0    31349659      2544  19286012_151215             1     62838   \n",
       "1    31349659      2544  19286013_151215             1     62838   \n",
       "\n",
       "  departure_time  \n",
       "0       18:50:00  \n",
       "1       19:05:00  "
      ]
     },
     "execution_count": 398,
     "metadata": {},
     "output_type": "execute_result"
    }
   ],
   "source": [
    "sunday_departures_df.head(2)"
   ]
  },
  {
   "cell_type": "markdown",
   "metadata": {},
   "source": [
    "## Process Stops"
   ]
  },
  {
   "cell_type": "code",
   "execution_count": 399,
   "metadata": {},
   "outputs": [],
   "source": [
    "def convert_gtfs_time_to_datetime(gtfs_time):\n",
    "#     date = dt.datetime(2019, 11, 3)\n",
    "    h, m, s = [int(x) for x in gtfs_time.split(':')]\n",
    "    if h < 24:\n",
    "        # This is a 'normal' situation, we can simply create a datetime object using the date we defined before\n",
    "        return DAY + dt.timedelta(hours=h, minutes=m, seconds=s)\n",
    "    # Otherwise we have a 'strange' time: it's after midnight\n",
    "    new_date = DAY + dt.timedelta(days=1)\n",
    "    return new_date + dt.timedelta(hours=h-24, minutes=m, seconds=s)"
   ]
  },
  {
   "cell_type": "code",
   "execution_count": 400,
   "metadata": {},
   "outputs": [
    {
     "data": {
      "text/html": [
       "<div>\n",
       "<style scoped>\n",
       "    .dataframe tbody tr th:only-of-type {\n",
       "        vertical-align: middle;\n",
       "    }\n",
       "\n",
       "    .dataframe tbody tr th {\n",
       "        vertical-align: top;\n",
       "    }\n",
       "\n",
       "    .dataframe thead th {\n",
       "        text-align: right;\n",
       "    }\n",
       "</style>\n",
       "<table border=\"1\" class=\"dataframe\">\n",
       "  <thead>\n",
       "    <tr style=\"text-align: right;\">\n",
       "      <th></th>\n",
       "      <th>stop_id</th>\n",
       "      <th>stop_code</th>\n",
       "      <th>stop_name</th>\n",
       "      <th>stop_desc</th>\n",
       "      <th>stop_lat</th>\n",
       "      <th>stop_lon</th>\n",
       "      <th>location_type</th>\n",
       "      <th>parent_station</th>\n",
       "    </tr>\n",
       "  </thead>\n",
       "  <tbody>\n",
       "    <tr>\n",
       "      <th>0</th>\n",
       "      <td>12834</td>\n",
       "      <td>21038</td>\n",
       "      <td>הועד הפועל/ארלוזורוב</td>\n",
       "      <td>רחוב:ארלוזורוב 93 עיר: תל אביב יפו רציף:   קו...</td>\n",
       "      <td>32.084755</td>\n",
       "      <td>34.784677</td>\n",
       "      <td>0</td>\n",
       "      <td>NaN</td>\n",
       "    </tr>\n",
       "    <tr>\n",
       "      <th>1</th>\n",
       "      <td>12841</td>\n",
       "      <td>21068</td>\n",
       "      <td>ארלוזורוב/משה שרת</td>\n",
       "      <td>רחוב:ארלוזורוב 117 עיר: תל אביב יפו רציף:   ק...</td>\n",
       "      <td>32.084074</td>\n",
       "      <td>34.787875</td>\n",
       "      <td>0</td>\n",
       "      <td>NaN</td>\n",
       "    </tr>\n",
       "  </tbody>\n",
       "</table>\n",
       "</div>"
      ],
      "text/plain": [
       "   stop_id  stop_code             stop_name  \\\n",
       "0    12834      21038  הועד הפועל/ארלוזורוב   \n",
       "1    12841      21068     ארלוזורוב/משה שרת   \n",
       "\n",
       "                                           stop_desc   stop_lat   stop_lon  \\\n",
       "0   רחוב:ארלוזורוב 93 עיר: תל אביב יפו רציף:   קו...  32.084755  34.784677   \n",
       "1   רחוב:ארלוזורוב 117 עיר: תל אביב יפו רציף:   ק...  32.084074  34.787875   \n",
       "\n",
       "   location_type  parent_station  \n",
       "0              0             NaN  \n",
       "1              0             NaN  "
      ]
     },
     "execution_count": 400,
     "metadata": {},
     "output_type": "execute_result"
    }
   ],
   "source": [
    "# Load stops\n",
    "stops_df = pd.read_csv(DATA_PATH + 'stops.txt')\n",
    "\n",
    "stops_df.head(2)"
   ]
  },
  {
   "cell_type": "code",
   "execution_count": 401,
   "metadata": {},
   "outputs": [
    {
     "data": {
      "text/html": [
       "<div>\n",
       "<style scoped>\n",
       "    .dataframe tbody tr th:only-of-type {\n",
       "        vertical-align: middle;\n",
       "    }\n",
       "\n",
       "    .dataframe tbody tr th {\n",
       "        vertical-align: top;\n",
       "    }\n",
       "\n",
       "    .dataframe thead th {\n",
       "        text-align: right;\n",
       "    }\n",
       "</style>\n",
       "<table border=\"1\" class=\"dataframe\">\n",
       "  <thead>\n",
       "    <tr style=\"text-align: right;\">\n",
       "      <th></th>\n",
       "      <th>stop_id</th>\n",
       "      <th>stop_code</th>\n",
       "      <th>stop_name</th>\n",
       "      <th>stop_desc</th>\n",
       "      <th>stop_lat</th>\n",
       "      <th>stop_lon</th>\n",
       "      <th>location_type</th>\n",
       "      <th>parent_station</th>\n",
       "    </tr>\n",
       "  </thead>\n",
       "  <tbody>\n",
       "  </tbody>\n",
       "</table>\n",
       "</div>"
      ],
      "text/plain": [
       "Empty DataFrame\n",
       "Columns: [stop_id, stop_code, stop_name, stop_desc, stop_lat, stop_lon, location_type, parent_station]\n",
       "Index: []"
      ]
     },
     "execution_count": 401,
     "metadata": {},
     "output_type": "execute_result"
    }
   ],
   "source": [
    "# Remove this! only for validation:\n",
    "stops_df[stops_df['stop_id'] == 12816]"
   ]
  },
  {
   "cell_type": "code",
   "execution_count": 402,
   "metadata": {},
   "outputs": [],
   "source": [
    "# Add stop code and zone id to stop times\n",
    "stop_times_with_stop_codes_df = stop_times_df.merge(\n",
    "    stops_df[['stop_id', 'stop_code']], on='stop_id')\n",
    "\n",
    "stop_times_with_stop_codes_df['departure_time'] = stop_times_with_stop_codes_df[\n",
    "    'departure_time'].apply(convert_gtfs_time_to_datetime)"
   ]
  },
  {
   "cell_type": "markdown",
   "metadata": {},
   "source": [
    "## Construct Nodes"
   ]
  },
  {
   "cell_type": "code",
   "execution_count": 403,
   "metadata": {},
   "outputs": [
    {
     "data": {
      "text/html": [
       "<div>\n",
       "<style scoped>\n",
       "    .dataframe tbody tr th:only-of-type {\n",
       "        vertical-align: middle;\n",
       "    }\n",
       "\n",
       "    .dataframe tbody tr th {\n",
       "        vertical-align: top;\n",
       "    }\n",
       "\n",
       "    .dataframe thead th {\n",
       "        text-align: right;\n",
       "    }\n",
       "</style>\n",
       "<table border=\"1\" class=\"dataframe\">\n",
       "  <thead>\n",
       "    <tr style=\"text-align: right;\">\n",
       "      <th></th>\n",
       "      <th>trip_id</th>\n",
       "      <th>arrival_time</th>\n",
       "      <th>departure_time_stop</th>\n",
       "      <th>stop_id</th>\n",
       "      <th>stop_sequence</th>\n",
       "      <th>route_id</th>\n",
       "      <th>departure_time_trip_departure</th>\n",
       "      <th>stop_code</th>\n",
       "      <th>stop_lat</th>\n",
       "      <th>stop_lon</th>\n",
       "    </tr>\n",
       "  </thead>\n",
       "  <tbody>\n",
       "    <tr>\n",
       "      <th>0</th>\n",
       "      <td>19285948_151215</td>\n",
       "      <td>05:20:00</td>\n",
       "      <td>05:20:00</td>\n",
       "      <td>25123</td>\n",
       "      <td>1</td>\n",
       "      <td>2544</td>\n",
       "      <td>05:20:00</td>\n",
       "      <td>38160</td>\n",
       "      <td>32.050923</td>\n",
       "      <td>34.849426</td>\n",
       "    </tr>\n",
       "    <tr>\n",
       "      <th>1</th>\n",
       "      <td>19285949_151215</td>\n",
       "      <td>05:40:00</td>\n",
       "      <td>05:40:00</td>\n",
       "      <td>25123</td>\n",
       "      <td>1</td>\n",
       "      <td>2544</td>\n",
       "      <td>05:40:00</td>\n",
       "      <td>38160</td>\n",
       "      <td>32.050923</td>\n",
       "      <td>34.849426</td>\n",
       "    </tr>\n",
       "    <tr>\n",
       "      <th>2</th>\n",
       "      <td>19285950_151215</td>\n",
       "      <td>06:00:00</td>\n",
       "      <td>06:00:00</td>\n",
       "      <td>25123</td>\n",
       "      <td>1</td>\n",
       "      <td>2544</td>\n",
       "      <td>06:00:00</td>\n",
       "      <td>38160</td>\n",
       "      <td>32.050923</td>\n",
       "      <td>34.849426</td>\n",
       "    </tr>\n",
       "  </tbody>\n",
       "</table>\n",
       "</div>"
      ],
      "text/plain": [
       "           trip_id arrival_time departure_time_stop  stop_id  stop_sequence  \\\n",
       "0  19285948_151215     05:20:00            05:20:00    25123              1   \n",
       "1  19285949_151215     05:40:00            05:40:00    25123              1   \n",
       "2  19285950_151215     06:00:00            06:00:00    25123              1   \n",
       "\n",
       "   route_id departure_time_trip_departure  stop_code   stop_lat   stop_lon  \n",
       "0      2544                      05:20:00      38160  32.050923  34.849426  \n",
       "1      2544                      05:40:00      38160  32.050923  34.849426  \n",
       "2      2544                      06:00:00      38160  32.050923  34.849426  "
      ]
     },
     "execution_count": 403,
     "metadata": {},
     "output_type": "execute_result"
    }
   ],
   "source": [
    "# We want to (right) join this table with stop_times in order to get the sunday stop times with trip departure time.\n",
    "sunday_nodes_df = stop_times_df.merge(sunday_departures_df, how='right', on='trip_id', suffixes=('_stop', '_trip_departure'))\n",
    "\n",
    "# Remove some columns to clear the data\n",
    "sunday_nodes_df = sunday_nodes_df.drop(['pickup_type',\n",
    "                                        'drop_off_type', 'service_id', 'direction_is', 'shape_id'], \n",
    "                                       axis=1)\n",
    "\n",
    "# Add stops data to nodes\n",
    "nodes_df = sunday_nodes_df.merge(stops_df, on='stop_id', suffixes=('_node', '_stop'))\n",
    "nodes_df = nodes_df.drop(['stop_desc', 'stop_name', 'parent_station', 'location_type'],axis=1)\n",
    "\n",
    "\n",
    "nodes_df[:3]"
   ]
  },
  {
   "cell_type": "code",
   "execution_count": 404,
   "metadata": {},
   "outputs": [],
   "source": [
    "sunday_nodes_df = stop_times_df.merge(sunday_departures_df, how='right', on='trip_id', suffixes=('_stop', '_trip_departure'))"
   ]
  },
  {
   "cell_type": "code",
   "execution_count": 405,
   "metadata": {},
   "outputs": [
    {
     "data": {
      "text/html": [
       "<div>\n",
       "<style scoped>\n",
       "    .dataframe tbody tr th:only-of-type {\n",
       "        vertical-align: middle;\n",
       "    }\n",
       "\n",
       "    .dataframe tbody tr th {\n",
       "        vertical-align: top;\n",
       "    }\n",
       "\n",
       "    .dataframe thead th {\n",
       "        text-align: right;\n",
       "    }\n",
       "</style>\n",
       "<table border=\"1\" class=\"dataframe\">\n",
       "  <thead>\n",
       "    <tr style=\"text-align: right;\">\n",
       "      <th></th>\n",
       "      <th>trip_id</th>\n",
       "      <th>arrival_time</th>\n",
       "      <th>departure_time_stop</th>\n",
       "      <th>stop_id</th>\n",
       "      <th>stop_sequence</th>\n",
       "      <th>pickup_type</th>\n",
       "      <th>drop_off_type</th>\n",
       "      <th>service_id</th>\n",
       "      <th>route_id</th>\n",
       "      <th>direction_is</th>\n",
       "      <th>shape_id</th>\n",
       "      <th>departure_time_trip_departure</th>\n",
       "    </tr>\n",
       "  </thead>\n",
       "  <tbody>\n",
       "    <tr>\n",
       "      <th>0</th>\n",
       "      <td>19285948_151215</td>\n",
       "      <td>05:20:00</td>\n",
       "      <td>05:20:00</td>\n",
       "      <td>25123</td>\n",
       "      <td>1</td>\n",
       "      <td>0</td>\n",
       "      <td>1</td>\n",
       "      <td>31349659</td>\n",
       "      <td>2544</td>\n",
       "      <td>1</td>\n",
       "      <td>62838</td>\n",
       "      <td>05:20:00</td>\n",
       "    </tr>\n",
       "  </tbody>\n",
       "</table>\n",
       "</div>"
      ],
      "text/plain": [
       "           trip_id arrival_time departure_time_stop  stop_id  stop_sequence  \\\n",
       "0  19285948_151215     05:20:00            05:20:00    25123              1   \n",
       "\n",
       "   pickup_type  drop_off_type  service_id  route_id  direction_is  shape_id  \\\n",
       "0            0              1    31349659      2544             1     62838   \n",
       "\n",
       "  departure_time_trip_departure  \n",
       "0                      05:20:00  "
      ]
     },
     "execution_count": 405,
     "metadata": {},
     "output_type": "execute_result"
    }
   ],
   "source": [
    "sunday_nodes_df.head(1)"
   ]
  },
  {
   "cell_type": "code",
   "execution_count": 406,
   "metadata": {},
   "outputs": [],
   "source": [
    "# Remove some columns to clear the data\n",
    "sunday_nodes_df = sunday_nodes_df.drop(['pickup_type',\n",
    "                                        'drop_off_type', 'service_id', 'direction_is', 'shape_id'], \n",
    "                                       axis=1)"
   ]
  },
  {
   "cell_type": "code",
   "execution_count": 407,
   "metadata": {},
   "outputs": [],
   "source": [
    "nodes_df = sunday_nodes_df.merge(stops_df, on='stop_id', suffixes=('_node', '_stop'))\n"
   ]
  },
  {
   "cell_type": "code",
   "execution_count": 408,
   "metadata": {},
   "outputs": [],
   "source": [
    "nodes_df = nodes_df.drop(['stop_desc', 'stop_name', 'parent_station', 'location_type'],axis=1)\n"
   ]
  },
  {
   "cell_type": "code",
   "execution_count": 409,
   "metadata": {},
   "outputs": [],
   "source": [
    "# Convert GTFS times to match \"real-world time\".\n",
    "nodes_df['arrival'] = nodes_df['arrival_time'].apply(convert_gtfs_time_to_datetime)\n",
    "nodes_df['departure'] = nodes_df['departure_time_stop'].apply(convert_gtfs_time_to_datetime)"
   ]
  },
  {
   "cell_type": "code",
   "execution_count": 410,
   "metadata": {},
   "outputs": [
    {
     "data": {
      "text/html": [
       "<div>\n",
       "<style scoped>\n",
       "    .dataframe tbody tr th:only-of-type {\n",
       "        vertical-align: middle;\n",
       "    }\n",
       "\n",
       "    .dataframe tbody tr th {\n",
       "        vertical-align: top;\n",
       "    }\n",
       "\n",
       "    .dataframe thead th {\n",
       "        text-align: right;\n",
       "    }\n",
       "</style>\n",
       "<table border=\"1\" class=\"dataframe\">\n",
       "  <thead>\n",
       "    <tr style=\"text-align: right;\">\n",
       "      <th></th>\n",
       "      <th>trip_id</th>\n",
       "      <th>arrival_time</th>\n",
       "      <th>departure_time_stop</th>\n",
       "      <th>stop_id</th>\n",
       "      <th>stop_sequence</th>\n",
       "      <th>route_id</th>\n",
       "      <th>departure_time_trip_departure</th>\n",
       "      <th>stop_code</th>\n",
       "      <th>stop_lat</th>\n",
       "      <th>stop_lon</th>\n",
       "      <th>arrival</th>\n",
       "      <th>departure</th>\n",
       "    </tr>\n",
       "  </thead>\n",
       "  <tbody>\n",
       "    <tr>\n",
       "      <th>0</th>\n",
       "      <td>19285948_151215</td>\n",
       "      <td>05:20:00</td>\n",
       "      <td>05:20:00</td>\n",
       "      <td>25123</td>\n",
       "      <td>1</td>\n",
       "      <td>2544</td>\n",
       "      <td>05:20:00</td>\n",
       "      <td>38160</td>\n",
       "      <td>32.050923</td>\n",
       "      <td>34.849426</td>\n",
       "      <td>2016-01-04 05:20:00</td>\n",
       "      <td>2016-01-04 05:20:00</td>\n",
       "    </tr>\n",
       "    <tr>\n",
       "      <th>1</th>\n",
       "      <td>19285949_151215</td>\n",
       "      <td>05:40:00</td>\n",
       "      <td>05:40:00</td>\n",
       "      <td>25123</td>\n",
       "      <td>1</td>\n",
       "      <td>2544</td>\n",
       "      <td>05:40:00</td>\n",
       "      <td>38160</td>\n",
       "      <td>32.050923</td>\n",
       "      <td>34.849426</td>\n",
       "      <td>2016-01-04 05:40:00</td>\n",
       "      <td>2016-01-04 05:40:00</td>\n",
       "    </tr>\n",
       "    <tr>\n",
       "      <th>2</th>\n",
       "      <td>19285950_151215</td>\n",
       "      <td>06:00:00</td>\n",
       "      <td>06:00:00</td>\n",
       "      <td>25123</td>\n",
       "      <td>1</td>\n",
       "      <td>2544</td>\n",
       "      <td>06:00:00</td>\n",
       "      <td>38160</td>\n",
       "      <td>32.050923</td>\n",
       "      <td>34.849426</td>\n",
       "      <td>2016-01-04 06:00:00</td>\n",
       "      <td>2016-01-04 06:00:00</td>\n",
       "    </tr>\n",
       "    <tr>\n",
       "      <th>3</th>\n",
       "      <td>19285951_151215</td>\n",
       "      <td>06:15:00</td>\n",
       "      <td>06:15:00</td>\n",
       "      <td>25123</td>\n",
       "      <td>1</td>\n",
       "      <td>2544</td>\n",
       "      <td>06:15:00</td>\n",
       "      <td>38160</td>\n",
       "      <td>32.050923</td>\n",
       "      <td>34.849426</td>\n",
       "      <td>2016-01-04 06:15:00</td>\n",
       "      <td>2016-01-04 06:15:00</td>\n",
       "    </tr>\n",
       "    <tr>\n",
       "      <th>4</th>\n",
       "      <td>19285952_151215</td>\n",
       "      <td>06:29:00</td>\n",
       "      <td>06:29:00</td>\n",
       "      <td>25123</td>\n",
       "      <td>1</td>\n",
       "      <td>2544</td>\n",
       "      <td>06:29:00</td>\n",
       "      <td>38160</td>\n",
       "      <td>32.050923</td>\n",
       "      <td>34.849426</td>\n",
       "      <td>2016-01-04 06:29:00</td>\n",
       "      <td>2016-01-04 06:29:00</td>\n",
       "    </tr>\n",
       "  </tbody>\n",
       "</table>\n",
       "</div>"
      ],
      "text/plain": [
       "           trip_id arrival_time departure_time_stop  stop_id  stop_sequence  \\\n",
       "0  19285948_151215     05:20:00            05:20:00    25123              1   \n",
       "1  19285949_151215     05:40:00            05:40:00    25123              1   \n",
       "2  19285950_151215     06:00:00            06:00:00    25123              1   \n",
       "3  19285951_151215     06:15:00            06:15:00    25123              1   \n",
       "4  19285952_151215     06:29:00            06:29:00    25123              1   \n",
       "\n",
       "   route_id departure_time_trip_departure  stop_code   stop_lat   stop_lon  \\\n",
       "0      2544                      05:20:00      38160  32.050923  34.849426   \n",
       "1      2544                      05:40:00      38160  32.050923  34.849426   \n",
       "2      2544                      06:00:00      38160  32.050923  34.849426   \n",
       "3      2544                      06:15:00      38160  32.050923  34.849426   \n",
       "4      2544                      06:29:00      38160  32.050923  34.849426   \n",
       "\n",
       "              arrival           departure  \n",
       "0 2016-01-04 05:20:00 2016-01-04 05:20:00  \n",
       "1 2016-01-04 05:40:00 2016-01-04 05:40:00  \n",
       "2 2016-01-04 06:00:00 2016-01-04 06:00:00  \n",
       "3 2016-01-04 06:15:00 2016-01-04 06:15:00  \n",
       "4 2016-01-04 06:29:00 2016-01-04 06:29:00  "
      ]
     },
     "execution_count": 410,
     "metadata": {},
     "output_type": "execute_result"
    }
   ],
   "source": [
    "nodes_df.head()"
   ]
  },
  {
   "cell_type": "code",
   "execution_count": 411,
   "metadata": {},
   "outputs": [
    {
     "data": {
      "text/plain": [
       "(4902, 12)"
      ]
     },
     "execution_count": 411,
     "metadata": {},
     "output_type": "execute_result"
    }
   ],
   "source": [
    "nodes_df.shape"
   ]
  },
  {
   "cell_type": "markdown",
   "metadata": {},
   "source": [
    "## Some Stats on the Overall Nodes For the Day "
   ]
  },
  {
   "cell_type": "code",
   "execution_count": 412,
   "metadata": {},
   "outputs": [
    {
     "data": {
      "text/plain": [
       "trip_id                           150\n",
       "arrival_time                     4711\n",
       "departure_time_stop              4711\n",
       "stop_id                            64\n",
       "stop_sequence                      37\n",
       "route_id                            2\n",
       "departure_time_trip_departure     143\n",
       "stop_code                          64\n",
       "stop_lat                           64\n",
       "stop_lon                           64\n",
       "arrival                          4711\n",
       "departure                        4711\n",
       "dtype: int64"
      ]
     },
     "execution_count": 412,
     "metadata": {},
     "output_type": "execute_result"
    }
   ],
   "source": [
    "nodes_df.nunique()"
   ]
  },
  {
   "cell_type": "code",
   "execution_count": 413,
   "metadata": {},
   "outputs": [],
   "source": [
    "# TODO: add node_id according to index, and save in pkl"
   ]
  },
  {
   "cell_type": "code",
   "execution_count": 414,
   "metadata": {},
   "outputs": [],
   "source": [
    "nodes_df.to_pickle(OUTPUT_PATH + 'all_nodes.pkl')"
   ]
  },
  {
   "cell_type": "code",
   "execution_count": 415,
   "metadata": {},
   "outputs": [
    {
     "name": "stderr",
     "output_type": "stream",
     "text": [
      "d:\\users\\bensdani\\venvs\\lib\\site-packages\\ipykernel_launcher.py:4: UserWarning: Boolean Series key will be reindexed to match DataFrame index.\n",
      "  after removing the cwd from sys.path.\n"
     ]
    },
    {
     "data": {
      "text/html": [
       "<div>\n",
       "<style scoped>\n",
       "    .dataframe tbody tr th:only-of-type {\n",
       "        vertical-align: middle;\n",
       "    }\n",
       "\n",
       "    .dataframe tbody tr th {\n",
       "        vertical-align: top;\n",
       "    }\n",
       "\n",
       "    .dataframe thead th {\n",
       "        text-align: right;\n",
       "    }\n",
       "</style>\n",
       "<table border=\"1\" class=\"dataframe\">\n",
       "  <thead>\n",
       "    <tr style=\"text-align: right;\">\n",
       "      <th></th>\n",
       "      <th>trip_id</th>\n",
       "      <th>arrival_time</th>\n",
       "      <th>departure_time_stop</th>\n",
       "      <th>stop_id</th>\n",
       "      <th>stop_sequence</th>\n",
       "      <th>route_id</th>\n",
       "      <th>departure_time_trip_departure</th>\n",
       "      <th>stop_code</th>\n",
       "      <th>stop_lat</th>\n",
       "      <th>stop_lon</th>\n",
       "      <th>arrival</th>\n",
       "      <th>departure</th>\n",
       "    </tr>\n",
       "  </thead>\n",
       "  <tbody>\n",
       "    <tr>\n",
       "      <th>25</th>\n",
       "      <td>19285956_151215</td>\n",
       "      <td>07:08:00</td>\n",
       "      <td>07:08:00</td>\n",
       "      <td>25123</td>\n",
       "      <td>1</td>\n",
       "      <td>2544</td>\n",
       "      <td>07:08:00</td>\n",
       "      <td>38160</td>\n",
       "      <td>32.050923</td>\n",
       "      <td>34.849426</td>\n",
       "      <td>2016-01-04 07:08:00</td>\n",
       "      <td>2016-01-04 07:08:00</td>\n",
       "    </tr>\n",
       "    <tr>\n",
       "      <th>26</th>\n",
       "      <td>19285957_151215</td>\n",
       "      <td>07:17:00</td>\n",
       "      <td>07:17:00</td>\n",
       "      <td>25123</td>\n",
       "      <td>1</td>\n",
       "      <td>2544</td>\n",
       "      <td>07:17:00</td>\n",
       "      <td>38160</td>\n",
       "      <td>32.050923</td>\n",
       "      <td>34.849426</td>\n",
       "      <td>2016-01-04 07:17:00</td>\n",
       "      <td>2016-01-04 07:17:00</td>\n",
       "    </tr>\n",
       "    <tr>\n",
       "      <th>27</th>\n",
       "      <td>19285958_151215</td>\n",
       "      <td>07:26:00</td>\n",
       "      <td>07:26:00</td>\n",
       "      <td>25123</td>\n",
       "      <td>1</td>\n",
       "      <td>2544</td>\n",
       "      <td>07:26:00</td>\n",
       "      <td>38160</td>\n",
       "      <td>32.050923</td>\n",
       "      <td>34.849426</td>\n",
       "      <td>2016-01-04 07:26:00</td>\n",
       "      <td>2016-01-04 07:26:00</td>\n",
       "    </tr>\n",
       "  </tbody>\n",
       "</table>\n",
       "</div>"
      ],
      "text/plain": [
       "            trip_id arrival_time departure_time_stop  stop_id  stop_sequence  \\\n",
       "25  19285956_151215     07:08:00            07:08:00    25123              1   \n",
       "26  19285957_151215     07:17:00            07:17:00    25123              1   \n",
       "27  19285958_151215     07:26:00            07:26:00    25123              1   \n",
       "\n",
       "    route_id departure_time_trip_departure  stop_code   stop_lat   stop_lon  \\\n",
       "25      2544                      07:08:00      38160  32.050923  34.849426   \n",
       "26      2544                      07:17:00      38160  32.050923  34.849426   \n",
       "27      2544                      07:26:00      38160  32.050923  34.849426   \n",
       "\n",
       "               arrival           departure  \n",
       "25 2016-01-04 07:08:00 2016-01-04 07:08:00  \n",
       "26 2016-01-04 07:17:00 2016-01-04 07:17:00  \n",
       "27 2016-01-04 07:26:00 2016-01-04 07:26:00  "
      ]
     },
     "execution_count": 415,
     "metadata": {},
     "output_type": "execute_result"
    }
   ],
   "source": [
    "start_time = DAY + dt.timedelta(hours=7)\n",
    "end_time = start_time + dt.timedelta(hours=3, minutes=0)\n",
    "\n",
    "morning_nodes_df = nodes_df[nodes_df['arrival'] > start_time][nodes_df['arrival'] < end_time]\n",
    "morning_nodes_df.head(3)"
   ]
  },
  {
   "cell_type": "code",
   "execution_count": 416,
   "metadata": {},
   "outputs": [
    {
     "data": {
      "text/plain": [
       "trip_id                            42\n",
       "arrival_time                     1080\n",
       "departure_time_stop              1080\n",
       "stop_id                            64\n",
       "stop_sequence                      37\n",
       "route_id                            2\n",
       "departure_time_trip_departure      41\n",
       "stop_code                          64\n",
       "stop_lat                           64\n",
       "stop_lon                           64\n",
       "arrival                          1080\n",
       "departure                        1080\n",
       "dtype: int64"
      ]
     },
     "execution_count": 416,
     "metadata": {},
     "output_type": "execute_result"
    }
   ],
   "source": [
    "morning_nodes_df.nunique()"
   ]
  },
  {
   "cell_type": "code",
   "execution_count": 417,
   "metadata": {},
   "outputs": [],
   "source": [
    "morning_nodes_df = morning_nodes_df.reset_index()"
   ]
  },
  {
   "cell_type": "code",
   "execution_count": 418,
   "metadata": {},
   "outputs": [],
   "source": [
    "morning_nodes_df['node_id'] = morning_nodes_df.index"
   ]
  },
  {
   "cell_type": "code",
   "execution_count": 419,
   "metadata": {},
   "outputs": [
    {
     "data": {
      "text/html": [
       "<div>\n",
       "<style scoped>\n",
       "    .dataframe tbody tr th:only-of-type {\n",
       "        vertical-align: middle;\n",
       "    }\n",
       "\n",
       "    .dataframe tbody tr th {\n",
       "        vertical-align: top;\n",
       "    }\n",
       "\n",
       "    .dataframe thead th {\n",
       "        text-align: right;\n",
       "    }\n",
       "</style>\n",
       "<table border=\"1\" class=\"dataframe\">\n",
       "  <thead>\n",
       "    <tr style=\"text-align: right;\">\n",
       "      <th></th>\n",
       "      <th>index</th>\n",
       "      <th>trip_id</th>\n",
       "      <th>arrival_time</th>\n",
       "      <th>departure_time_stop</th>\n",
       "      <th>stop_id</th>\n",
       "      <th>stop_sequence</th>\n",
       "      <th>route_id</th>\n",
       "      <th>departure_time_trip_departure</th>\n",
       "      <th>stop_code</th>\n",
       "      <th>stop_lat</th>\n",
       "      <th>stop_lon</th>\n",
       "      <th>arrival</th>\n",
       "      <th>departure</th>\n",
       "      <th>node_id</th>\n",
       "    </tr>\n",
       "  </thead>\n",
       "  <tbody>\n",
       "    <tr>\n",
       "      <th>0</th>\n",
       "      <td>25</td>\n",
       "      <td>19285956_151215</td>\n",
       "      <td>07:08:00</td>\n",
       "      <td>07:08:00</td>\n",
       "      <td>25123</td>\n",
       "      <td>1</td>\n",
       "      <td>2544</td>\n",
       "      <td>07:08:00</td>\n",
       "      <td>38160</td>\n",
       "      <td>32.050923</td>\n",
       "      <td>34.849426</td>\n",
       "      <td>2016-01-04 07:08:00</td>\n",
       "      <td>2016-01-04 07:08:00</td>\n",
       "      <td>0</td>\n",
       "    </tr>\n",
       "    <tr>\n",
       "      <th>1</th>\n",
       "      <td>26</td>\n",
       "      <td>19285957_151215</td>\n",
       "      <td>07:17:00</td>\n",
       "      <td>07:17:00</td>\n",
       "      <td>25123</td>\n",
       "      <td>1</td>\n",
       "      <td>2544</td>\n",
       "      <td>07:17:00</td>\n",
       "      <td>38160</td>\n",
       "      <td>32.050923</td>\n",
       "      <td>34.849426</td>\n",
       "      <td>2016-01-04 07:17:00</td>\n",
       "      <td>2016-01-04 07:17:00</td>\n",
       "      <td>1</td>\n",
       "    </tr>\n",
       "    <tr>\n",
       "      <th>2</th>\n",
       "      <td>27</td>\n",
       "      <td>19285958_151215</td>\n",
       "      <td>07:26:00</td>\n",
       "      <td>07:26:00</td>\n",
       "      <td>25123</td>\n",
       "      <td>1</td>\n",
       "      <td>2544</td>\n",
       "      <td>07:26:00</td>\n",
       "      <td>38160</td>\n",
       "      <td>32.050923</td>\n",
       "      <td>34.849426</td>\n",
       "      <td>2016-01-04 07:26:00</td>\n",
       "      <td>2016-01-04 07:26:00</td>\n",
       "      <td>2</td>\n",
       "    </tr>\n",
       "  </tbody>\n",
       "</table>\n",
       "</div>"
      ],
      "text/plain": [
       "   index          trip_id arrival_time departure_time_stop  stop_id  \\\n",
       "0     25  19285956_151215     07:08:00            07:08:00    25123   \n",
       "1     26  19285957_151215     07:17:00            07:17:00    25123   \n",
       "2     27  19285958_151215     07:26:00            07:26:00    25123   \n",
       "\n",
       "   stop_sequence  route_id departure_time_trip_departure  stop_code  \\\n",
       "0              1      2544                      07:08:00      38160   \n",
       "1              1      2544                      07:17:00      38160   \n",
       "2              1      2544                      07:26:00      38160   \n",
       "\n",
       "    stop_lat   stop_lon             arrival           departure  node_id  \n",
       "0  32.050923  34.849426 2016-01-04 07:08:00 2016-01-04 07:08:00        0  \n",
       "1  32.050923  34.849426 2016-01-04 07:17:00 2016-01-04 07:17:00        1  \n",
       "2  32.050923  34.849426 2016-01-04 07:26:00 2016-01-04 07:26:00        2  "
      ]
     },
     "execution_count": 419,
     "metadata": {},
     "output_type": "execute_result"
    }
   ],
   "source": [
    "morning_nodes_df.head(3)"
   ]
  },
  {
   "cell_type": "code",
   "execution_count": 420,
   "metadata": {},
   "outputs": [],
   "source": [
    "morning_nodes_df.to_pickle(OUTPUT_PATH + 'morning_nodes.pkl')"
   ]
  }
 ],
 "metadata": {
  "kernelspec": {
   "display_name": "Python 3",
   "language": "python",
   "name": "python3"
  },
  "language_info": {
   "codemirror_mode": {
    "name": "ipython",
    "version": 3
   },
   "file_extension": ".py",
   "mimetype": "text/x-python",
   "name": "python",
   "nbconvert_exporter": "python",
   "pygments_lexer": "ipython3",
   "version": "3.6.4"
  }
 },
 "nbformat": 4,
 "nbformat_minor": 2
}
