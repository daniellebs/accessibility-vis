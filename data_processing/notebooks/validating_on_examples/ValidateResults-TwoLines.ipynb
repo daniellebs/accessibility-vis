{
 "cells": [
  {
   "cell_type": "code",
   "execution_count": 1,
   "metadata": {},
   "outputs": [],
   "source": [
    "import pickle\n",
    "import pandas as pd\n",
    "import os\n",
    "import matplotlib.pyplot as plt\n",
    "import seaborn as sns"
   ]
  },
  {
   "cell_type": "code",
   "execution_count": 2,
   "metadata": {},
   "outputs": [],
   "source": [
    "OUTPUT_PATH = '../../../output_data/validation/'"
   ]
  },
  {
   "cell_type": "code",
   "execution_count": 3,
   "metadata": {},
   "outputs": [],
   "source": [
    "SOT_PATH = OUTPUT_PATH + 'source_of_truth/'"
   ]
  },
  {
   "cell_type": "code",
   "execution_count": 4,
   "metadata": {},
   "outputs": [],
   "source": [
    "DATA_PATH = '../../../input_data/synthetic_examples/input_data/'"
   ]
  },
  {
   "cell_type": "code",
   "execution_count": 5,
   "metadata": {},
   "outputs": [
    {
     "data": {
      "text/plain": [
       "['one_line',\n",
       " 'Test0a_15min_Direct_QQ.csv',\n",
       " 'Test0b_15min_Direct_QQ_RT.csv',\n",
       " 'test1',\n",
       " 'Test1_040116_15min_Direct_QQ.csv',\n",
       " 'Test1_040116_30min_Direct_QQ.csv',\n",
       " 'Test1_040116_60min_Direct_QQ (2).csv',\n",
       " 'Test1_040116_90min_Direct_QQ.csv',\n",
       " 'test2',\n",
       " 'Test2_091215_15min_Direct_QQ.csv',\n",
       " 'Test2_091215_30min_Direct_QQ.csv',\n",
       " 'Test2_091215_45min_Direct_QQ.csv',\n",
       " 'Test2_091215_60min_Direct_QQ.csv',\n",
       " 'Test2_091215_90min_Direct_QQ.csv',\n",
       " 'Test3_040116_15min_Direct_QQ.csv',\n",
       " 'Test3_040116_30min_Direct_QQ.csv',\n",
       " 'Test3_040116_45min_Direct_QQ.csv',\n",
       " 'Test3_040116_60min_Direct_QQ.csv',\n",
       " 'Test3_040116_90min_Direct_QQ.csv',\n",
       " 'TestParameters_Statistics.xlsx',\n",
       " 'two_lines']"
      ]
     },
     "execution_count": 5,
     "metadata": {},
     "output_type": "execute_result"
    }
   ],
   "source": [
    "os.listdir(SOT_PATH)"
   ]
  },
  {
   "cell_type": "markdown",
   "metadata": {},
   "source": [
    "## Validate Two Lines : Test0b"
   ]
  },
  {
   "cell_type": "code",
   "execution_count": 7,
   "metadata": {},
   "outputs": [
    {
     "data": {
      "text/plain": [
       "['aa_4-552.pkl',\n",
       " 'all_nodes.pkl',\n",
       " 'morning_direct_edges.pkl',\n",
       " 'morning_nodes.pkl',\n",
       " 'morning_start_nodes.pkl',\n",
       " 'morning_transfer_edges.pkl',\n",
       " 'nearby_stops.csv',\n",
       " 'nearby_stops.pkl',\n",
       " 'sa_4-552.pkl']"
      ]
     },
     "execution_count": 7,
     "metadata": {},
     "output_type": "execute_result"
    }
   ],
   "source": [
    "os.listdir(OUTPUT_PATH + 'two_lines')"
   ]
  },
  {
   "cell_type": "code",
   "execution_count": 8,
   "metadata": {},
   "outputs": [],
   "source": [
    "aa_tl_df = pd.read_pickle(OUTPUT_PATH + 'two_lines/aa_4-552.pkl')"
   ]
  },
  {
   "cell_type": "code",
   "execution_count": 9,
   "metadata": {},
   "outputs": [],
   "source": [
    "aa_tl_df = aa_tl_df[aa_tl_df['time_sec'] <= 900]"
   ]
  },
  {
   "cell_type": "code",
   "execution_count": 10,
   "metadata": {},
   "outputs": [
    {
     "data": {
      "text/plain": [
       "(791, 9)"
      ]
     },
     "execution_count": 10,
     "metadata": {},
     "output_type": "execute_result"
    }
   ],
   "source": [
    "aa_tl_df.shape"
   ]
  },
  {
   "cell_type": "code",
   "execution_count": 11,
   "metadata": {},
   "outputs": [],
   "source": [
    "sot_tl_df = pd.read_csv(SOT_PATH + 'two_lines/Test0b_15min_Direct_QQ_RT.csv')"
   ]
  },
  {
   "cell_type": "code",
   "execution_count": 12,
   "metadata": {},
   "outputs": [
    {
     "data": {
      "text/plain": [
       "(1327, 7)"
      ]
     },
     "execution_count": 12,
     "metadata": {},
     "output_type": "execute_result"
    }
   ],
   "source": [
    "sot_tl_df.shape"
   ]
  },
  {
   "cell_type": "code",
   "execution_count": 13,
   "metadata": {},
   "outputs": [],
   "source": [
    "sot_tl_min_df = sot_tl_df.loc[sot_tl_df.groupby(['ID STOP START', 'ID STOP DEST'])['TRAVEL TIME'].idxmin()]"
   ]
  },
  {
   "cell_type": "code",
   "execution_count": 14,
   "metadata": {},
   "outputs": [
    {
     "data": {
      "text/plain": [
       "(1068, 7)"
      ]
     },
     "execution_count": 14,
     "metadata": {},
     "output_type": "execute_result"
    }
   ],
   "source": [
    "sot_tl_min_df.shape"
   ]
  },
  {
   "cell_type": "code",
   "execution_count": 16,
   "metadata": {},
   "outputs": [],
   "source": [
    "tl_df = aa_tl_df.merge(sot_tl_min_df, left_on=['stop_id_source', 'stop_id_target'], right_on=['ID STOP START', 'ID STOP DEST'])"
   ]
  },
  {
   "cell_type": "code",
   "execution_count": 17,
   "metadata": {},
   "outputs": [
    {
     "data": {
      "text/plain": [
       "(733, 16)"
      ]
     },
     "execution_count": 17,
     "metadata": {},
     "output_type": "execute_result"
    }
   ],
   "source": [
    "tl_df.shape"
   ]
  },
  {
   "cell_type": "code",
   "execution_count": 18,
   "metadata": {},
   "outputs": [
    {
     "data": {
      "text/html": [
       "<div>\n",
       "<style scoped>\n",
       "    .dataframe tbody tr th:only-of-type {\n",
       "        vertical-align: middle;\n",
       "    }\n",
       "\n",
       "    .dataframe tbody tr th {\n",
       "        vertical-align: top;\n",
       "    }\n",
       "\n",
       "    .dataframe thead th {\n",
       "        text-align: right;\n",
       "    }\n",
       "</style>\n",
       "<table border=\"1\" class=\"dataframe\">\n",
       "  <thead>\n",
       "    <tr style=\"text-align: right;\">\n",
       "      <th></th>\n",
       "      <th>stop_id_source</th>\n",
       "      <th>stop_id_target</th>\n",
       "      <th>time_sec</th>\n",
       "      <th>stop_lon_target</th>\n",
       "      <th>stop_lat_target</th>\n",
       "      <th>arrival_target</th>\n",
       "      <th>stop_lon_source</th>\n",
       "      <th>stop_lat_source</th>\n",
       "      <th>departure</th>\n",
       "      <th>ID STOP START</th>\n",
       "      <th>TIME DEPART</th>\n",
       "      <th>ID STOP DEST</th>\n",
       "      <th>TIME ARRIVAL</th>\n",
       "      <th>TRAVEL TIME</th>\n",
       "      <th>ORG_ROUTE_ID</th>\n",
       "      <th>DEST_ROUTE_ID</th>\n",
       "    </tr>\n",
       "  </thead>\n",
       "  <tbody>\n",
       "    <tr>\n",
       "      <th>0</th>\n",
       "      <td>12816</td>\n",
       "      <td>12816</td>\n",
       "      <td>0.0</td>\n",
       "      <td>34.821988</td>\n",
       "      <td>32.059675</td>\n",
       "      <td>2015-12-09 07:28:16</td>\n",
       "      <td>34.821988</td>\n",
       "      <td>32.059675</td>\n",
       "      <td>2015-12-09 07:28:16</td>\n",
       "      <td>12816</td>\n",
       "      <td>07:28:16</td>\n",
       "      <td>12816</td>\n",
       "      <td>07:28:16</td>\n",
       "      <td>0</td>\n",
       "      <td>2517</td>\n",
       "      <td>2517</td>\n",
       "    </tr>\n",
       "    <tr>\n",
       "      <th>1</th>\n",
       "      <td>12816</td>\n",
       "      <td>12837</td>\n",
       "      <td>127.0</td>\n",
       "      <td>34.828604</td>\n",
       "      <td>32.058354</td>\n",
       "      <td>2015-12-09 07:20:23</td>\n",
       "      <td>34.821988</td>\n",
       "      <td>32.059675</td>\n",
       "      <td>2015-12-09 07:18:16</td>\n",
       "      <td>12816</td>\n",
       "      <td>07:28:16</td>\n",
       "      <td>12837</td>\n",
       "      <td>07:30:23</td>\n",
       "      <td>127</td>\n",
       "      <td>2517</td>\n",
       "      <td>2517</td>\n",
       "    </tr>\n",
       "    <tr>\n",
       "      <th>2</th>\n",
       "      <td>12816</td>\n",
       "      <td>12867</td>\n",
       "      <td>304.0</td>\n",
       "      <td>34.833911</td>\n",
       "      <td>32.055035</td>\n",
       "      <td>2015-12-09 07:23:20</td>\n",
       "      <td>34.821988</td>\n",
       "      <td>32.059675</td>\n",
       "      <td>2015-12-09 07:18:16</td>\n",
       "      <td>12816</td>\n",
       "      <td>07:28:16</td>\n",
       "      <td>12867</td>\n",
       "      <td>07:33:20</td>\n",
       "      <td>304</td>\n",
       "      <td>2517</td>\n",
       "      <td>2517</td>\n",
       "    </tr>\n",
       "    <tr>\n",
       "      <th>3</th>\n",
       "      <td>12837</td>\n",
       "      <td>12837</td>\n",
       "      <td>0.0</td>\n",
       "      <td>34.828604</td>\n",
       "      <td>32.058354</td>\n",
       "      <td>2015-12-09 07:20:23</td>\n",
       "      <td>34.828604</td>\n",
       "      <td>32.058354</td>\n",
       "      <td>2015-12-09 07:20:23</td>\n",
       "      <td>12837</td>\n",
       "      <td>07:20:23</td>\n",
       "      <td>12837</td>\n",
       "      <td>07:20:23</td>\n",
       "      <td>0</td>\n",
       "      <td>2517</td>\n",
       "      <td>2517</td>\n",
       "    </tr>\n",
       "    <tr>\n",
       "      <th>4</th>\n",
       "      <td>12837</td>\n",
       "      <td>12867</td>\n",
       "      <td>177.0</td>\n",
       "      <td>34.833911</td>\n",
       "      <td>32.055035</td>\n",
       "      <td>2015-12-09 07:23:20</td>\n",
       "      <td>34.828604</td>\n",
       "      <td>32.058354</td>\n",
       "      <td>2015-12-09 07:20:23</td>\n",
       "      <td>12837</td>\n",
       "      <td>07:20:23</td>\n",
       "      <td>12867</td>\n",
       "      <td>07:23:20</td>\n",
       "      <td>177</td>\n",
       "      <td>2517</td>\n",
       "      <td>2517</td>\n",
       "    </tr>\n",
       "  </tbody>\n",
       "</table>\n",
       "</div>"
      ],
      "text/plain": [
       "   stop_id_source  stop_id_target  time_sec  stop_lon_target  stop_lat_target  \\\n",
       "0           12816           12816       0.0        34.821988        32.059675   \n",
       "1           12816           12837     127.0        34.828604        32.058354   \n",
       "2           12816           12867     304.0        34.833911        32.055035   \n",
       "3           12837           12837       0.0        34.828604        32.058354   \n",
       "4           12837           12867     177.0        34.833911        32.055035   \n",
       "\n",
       "       arrival_target  stop_lon_source  stop_lat_source           departure  \\\n",
       "0 2015-12-09 07:28:16        34.821988        32.059675 2015-12-09 07:28:16   \n",
       "1 2015-12-09 07:20:23        34.821988        32.059675 2015-12-09 07:18:16   \n",
       "2 2015-12-09 07:23:20        34.821988        32.059675 2015-12-09 07:18:16   \n",
       "3 2015-12-09 07:20:23        34.828604        32.058354 2015-12-09 07:20:23   \n",
       "4 2015-12-09 07:23:20        34.828604        32.058354 2015-12-09 07:20:23   \n",
       "\n",
       "   ID STOP START TIME DEPART  ID STOP DEST TIME ARRIVAL  TRAVEL TIME  \\\n",
       "0          12816    07:28:16         12816     07:28:16            0   \n",
       "1          12816    07:28:16         12837     07:30:23          127   \n",
       "2          12816    07:28:16         12867     07:33:20          304   \n",
       "3          12837    07:20:23         12837     07:20:23            0   \n",
       "4          12837    07:20:23         12867     07:23:20          177   \n",
       "\n",
       "   ORG_ROUTE_ID  DEST_ROUTE_ID  \n",
       "0          2517           2517  \n",
       "1          2517           2517  \n",
       "2          2517           2517  \n",
       "3          2517           2517  \n",
       "4          2517           2517  "
      ]
     },
     "execution_count": 18,
     "metadata": {},
     "output_type": "execute_result"
    }
   ],
   "source": [
    "tl_df.head()"
   ]
  },
  {
   "cell_type": "code",
   "execution_count": 19,
   "metadata": {},
   "outputs": [],
   "source": [
    "tl_df['diff'] = tl_df['time_sec'] - tl_df['TRAVEL TIME']"
   ]
  },
  {
   "cell_type": "code",
   "execution_count": 20,
   "metadata": {},
   "outputs": [
    {
     "data": {
      "text/html": [
       "<div>\n",
       "<style scoped>\n",
       "    .dataframe tbody tr th:only-of-type {\n",
       "        vertical-align: middle;\n",
       "    }\n",
       "\n",
       "    .dataframe tbody tr th {\n",
       "        vertical-align: top;\n",
       "    }\n",
       "\n",
       "    .dataframe thead th {\n",
       "        text-align: right;\n",
       "    }\n",
       "</style>\n",
       "<table border=\"1\" class=\"dataframe\">\n",
       "  <thead>\n",
       "    <tr style=\"text-align: right;\">\n",
       "      <th></th>\n",
       "      <th>stop_id_source</th>\n",
       "      <th>stop_id_target</th>\n",
       "      <th>time_sec</th>\n",
       "      <th>stop_lon_target</th>\n",
       "      <th>stop_lat_target</th>\n",
       "      <th>arrival_target</th>\n",
       "      <th>stop_lon_source</th>\n",
       "      <th>stop_lat_source</th>\n",
       "      <th>departure</th>\n",
       "      <th>ID STOP START</th>\n",
       "      <th>TIME DEPART</th>\n",
       "      <th>ID STOP DEST</th>\n",
       "      <th>TIME ARRIVAL</th>\n",
       "      <th>TRAVEL TIME</th>\n",
       "      <th>ORG_ROUTE_ID</th>\n",
       "      <th>DEST_ROUTE_ID</th>\n",
       "      <th>diff</th>\n",
       "    </tr>\n",
       "  </thead>\n",
       "  <tbody>\n",
       "  </tbody>\n",
       "</table>\n",
       "</div>"
      ],
      "text/plain": [
       "Empty DataFrame\n",
       "Columns: [stop_id_source, stop_id_target, time_sec, stop_lon_target, stop_lat_target, arrival_target, stop_lon_source, stop_lat_source, departure, ID STOP START, TIME DEPART, ID STOP DEST, TIME ARRIVAL, TRAVEL TIME, ORG_ROUTE_ID, DEST_ROUTE_ID, diff]\n",
       "Index: []"
      ]
     },
     "execution_count": 20,
     "metadata": {},
     "output_type": "execute_result"
    }
   ],
   "source": [
    "tl_df[tl_df['diff'] != 0]"
   ]
  },
  {
   "cell_type": "markdown",
   "metadata": {},
   "source": [
    "### We don't have any stop-to-stop trips that have any difference in computed times"
   ]
  },
  {
   "cell_type": "markdown",
   "metadata": {},
   "source": [
    "### Check what are the trips that appear in the source of truth but not in my computations (source-target pairs)"
   ]
  },
  {
   "cell_type": "code",
   "execution_count": 22,
   "metadata": {},
   "outputs": [],
   "source": [
    "t1_outer_join = aa_tl_df.merge(sot_tl_min_df, left_on=['stop_id_source', 'stop_id_target'], right_on=['ID STOP START', 'ID STOP DEST'], how='outer')"
   ]
  },
  {
   "cell_type": "code",
   "execution_count": 23,
   "metadata": {},
   "outputs": [
    {
     "data": {
      "text/plain": [
       "(1126, 16)"
      ]
     },
     "execution_count": 23,
     "metadata": {},
     "output_type": "execute_result"
    }
   ],
   "source": [
    "t1_outer_join.shape"
   ]
  },
  {
   "cell_type": "code",
   "execution_count": 24,
   "metadata": {},
   "outputs": [],
   "source": [
    "trips_not_in_my_computations_df = t1_outer_join[t1_outer_join['departure'].isna()]"
   ]
  },
  {
   "cell_type": "code",
   "execution_count": 25,
   "metadata": {},
   "outputs": [
    {
     "data": {
      "text/plain": [
       "(335, 16)"
      ]
     },
     "execution_count": 25,
     "metadata": {},
     "output_type": "execute_result"
    }
   ],
   "source": [
    "trips_not_in_my_computations_df.shape"
   ]
  },
  {
   "cell_type": "code",
   "execution_count": 26,
   "metadata": {},
   "outputs": [
    {
     "data": {
      "text/html": [
       "<div>\n",
       "<style scoped>\n",
       "    .dataframe tbody tr th:only-of-type {\n",
       "        vertical-align: middle;\n",
       "    }\n",
       "\n",
       "    .dataframe tbody tr th {\n",
       "        vertical-align: top;\n",
       "    }\n",
       "\n",
       "    .dataframe thead th {\n",
       "        text-align: right;\n",
       "    }\n",
       "</style>\n",
       "<table border=\"1\" class=\"dataframe\">\n",
       "  <thead>\n",
       "    <tr style=\"text-align: right;\">\n",
       "      <th></th>\n",
       "      <th>stop_id_source</th>\n",
       "      <th>stop_id_target</th>\n",
       "      <th>time_sec</th>\n",
       "      <th>stop_lon_target</th>\n",
       "      <th>stop_lat_target</th>\n",
       "      <th>arrival_target</th>\n",
       "      <th>stop_lon_source</th>\n",
       "      <th>stop_lat_source</th>\n",
       "      <th>departure</th>\n",
       "      <th>ID STOP START</th>\n",
       "      <th>TIME DEPART</th>\n",
       "      <th>ID STOP DEST</th>\n",
       "      <th>TIME ARRIVAL</th>\n",
       "      <th>TRAVEL TIME</th>\n",
       "      <th>ORG_ROUTE_ID</th>\n",
       "      <th>DEST_ROUTE_ID</th>\n",
       "    </tr>\n",
       "  </thead>\n",
       "  <tbody>\n",
       "    <tr>\n",
       "      <th>791</th>\n",
       "      <td>NaN</td>\n",
       "      <td>NaN</td>\n",
       "      <td>NaN</td>\n",
       "      <td>NaN</td>\n",
       "      <td>NaN</td>\n",
       "      <td>NaT</td>\n",
       "      <td>NaN</td>\n",
       "      <td>NaN</td>\n",
       "      <td>NaT</td>\n",
       "      <td>12843.0</td>\n",
       "      <td>07:24:31</td>\n",
       "      <td>12837.0</td>\n",
       "      <td>07:40:23</td>\n",
       "      <td>952.0</td>\n",
       "      <td>2517.0</td>\n",
       "      <td>2517.0</td>\n",
       "    </tr>\n",
       "    <tr>\n",
       "      <th>792</th>\n",
       "      <td>NaN</td>\n",
       "      <td>NaN</td>\n",
       "      <td>NaN</td>\n",
       "      <td>NaN</td>\n",
       "      <td>NaN</td>\n",
       "      <td>NaT</td>\n",
       "      <td>NaN</td>\n",
       "      <td>NaN</td>\n",
       "      <td>NaT</td>\n",
       "      <td>12843.0</td>\n",
       "      <td>07:24:31</td>\n",
       "      <td>12867.0</td>\n",
       "      <td>07:43:20</td>\n",
       "      <td>1129.0</td>\n",
       "      <td>2517.0</td>\n",
       "      <td>2517.0</td>\n",
       "    </tr>\n",
       "    <tr>\n",
       "      <th>793</th>\n",
       "      <td>NaN</td>\n",
       "      <td>NaN</td>\n",
       "      <td>NaN</td>\n",
       "      <td>NaN</td>\n",
       "      <td>NaN</td>\n",
       "      <td>NaT</td>\n",
       "      <td>NaN</td>\n",
       "      <td>NaN</td>\n",
       "      <td>NaT</td>\n",
       "      <td>12844.0</td>\n",
       "      <td>07:24:08</td>\n",
       "      <td>12837.0</td>\n",
       "      <td>07:40:23</td>\n",
       "      <td>975.0</td>\n",
       "      <td>2517.0</td>\n",
       "      <td>2517.0</td>\n",
       "    </tr>\n",
       "    <tr>\n",
       "      <th>794</th>\n",
       "      <td>NaN</td>\n",
       "      <td>NaN</td>\n",
       "      <td>NaN</td>\n",
       "      <td>NaN</td>\n",
       "      <td>NaN</td>\n",
       "      <td>NaT</td>\n",
       "      <td>NaN</td>\n",
       "      <td>NaN</td>\n",
       "      <td>NaT</td>\n",
       "      <td>12844.0</td>\n",
       "      <td>07:24:08</td>\n",
       "      <td>12867.0</td>\n",
       "      <td>07:43:20</td>\n",
       "      <td>1152.0</td>\n",
       "      <td>2517.0</td>\n",
       "      <td>2517.0</td>\n",
       "    </tr>\n",
       "    <tr>\n",
       "      <th>795</th>\n",
       "      <td>NaN</td>\n",
       "      <td>NaN</td>\n",
       "      <td>NaN</td>\n",
       "      <td>NaN</td>\n",
       "      <td>NaN</td>\n",
       "      <td>NaT</td>\n",
       "      <td>NaN</td>\n",
       "      <td>NaN</td>\n",
       "      <td>NaT</td>\n",
       "      <td>12882.0</td>\n",
       "      <td>07:28:33</td>\n",
       "      <td>13266.0</td>\n",
       "      <td>07:44:41</td>\n",
       "      <td>968.0</td>\n",
       "      <td>9823.0</td>\n",
       "      <td>9823.0</td>\n",
       "    </tr>\n",
       "  </tbody>\n",
       "</table>\n",
       "</div>"
      ],
      "text/plain": [
       "     stop_id_source  stop_id_target  time_sec  stop_lon_target  \\\n",
       "791             NaN             NaN       NaN              NaN   \n",
       "792             NaN             NaN       NaN              NaN   \n",
       "793             NaN             NaN       NaN              NaN   \n",
       "794             NaN             NaN       NaN              NaN   \n",
       "795             NaN             NaN       NaN              NaN   \n",
       "\n",
       "     stop_lat_target arrival_target  stop_lon_source  stop_lat_source  \\\n",
       "791              NaN            NaT              NaN              NaN   \n",
       "792              NaN            NaT              NaN              NaN   \n",
       "793              NaN            NaT              NaN              NaN   \n",
       "794              NaN            NaT              NaN              NaN   \n",
       "795              NaN            NaT              NaN              NaN   \n",
       "\n",
       "    departure  ID STOP START TIME DEPART  ID STOP DEST TIME ARRIVAL  \\\n",
       "791       NaT        12843.0    07:24:31       12837.0     07:40:23   \n",
       "792       NaT        12843.0    07:24:31       12867.0     07:43:20   \n",
       "793       NaT        12844.0    07:24:08       12837.0     07:40:23   \n",
       "794       NaT        12844.0    07:24:08       12867.0     07:43:20   \n",
       "795       NaT        12882.0    07:28:33       13266.0     07:44:41   \n",
       "\n",
       "     TRAVEL TIME  ORG_ROUTE_ID  DEST_ROUTE_ID  \n",
       "791        952.0        2517.0         2517.0  \n",
       "792       1129.0        2517.0         2517.0  \n",
       "793        975.0        2517.0         2517.0  \n",
       "794       1152.0        2517.0         2517.0  \n",
       "795        968.0        9823.0         9823.0  "
      ]
     },
     "execution_count": 26,
     "metadata": {},
     "output_type": "execute_result"
    }
   ],
   "source": [
    "trips_not_in_my_computations_df.head()"
   ]
  },
  {
   "cell_type": "code",
   "execution_count": 27,
   "metadata": {},
   "outputs": [],
   "source": [
    "# Remove rows where source != target and where travel time is more than 900 seconds (15 minutes)\n",
    "trips_not_in_my_computations_df = trips_not_in_my_computations_df[trips_not_in_my_computations_df['ID STOP START'] != trips_not_in_my_computations_df['ID STOP DEST']]\n",
    "trips_not_in_my_computations_df = trips_not_in_my_computations_df[trips_not_in_my_computations_df['TRAVEL TIME'] <= 900]"
   ]
  },
  {
   "cell_type": "code",
   "execution_count": 28,
   "metadata": {},
   "outputs": [
    {
     "data": {
      "text/plain": [
       "(0, 16)"
      ]
     },
     "execution_count": 28,
     "metadata": {},
     "output_type": "execute_result"
    }
   ],
   "source": [
    "trips_not_in_my_computations_df.shape"
   ]
  },
  {
   "cell_type": "code",
   "execution_count": 29,
   "metadata": {},
   "outputs": [
    {
     "data": {
      "text/html": [
       "<div>\n",
       "<style scoped>\n",
       "    .dataframe tbody tr th:only-of-type {\n",
       "        vertical-align: middle;\n",
       "    }\n",
       "\n",
       "    .dataframe tbody tr th {\n",
       "        vertical-align: top;\n",
       "    }\n",
       "\n",
       "    .dataframe thead th {\n",
       "        text-align: right;\n",
       "    }\n",
       "</style>\n",
       "<table border=\"1\" class=\"dataframe\">\n",
       "  <thead>\n",
       "    <tr style=\"text-align: right;\">\n",
       "      <th></th>\n",
       "      <th>stop_id_source</th>\n",
       "      <th>stop_id_target</th>\n",
       "      <th>time_sec</th>\n",
       "      <th>stop_lon_target</th>\n",
       "      <th>stop_lat_target</th>\n",
       "      <th>arrival_target</th>\n",
       "      <th>stop_lon_source</th>\n",
       "      <th>stop_lat_source</th>\n",
       "      <th>departure</th>\n",
       "      <th>ID STOP START</th>\n",
       "      <th>TIME DEPART</th>\n",
       "      <th>ID STOP DEST</th>\n",
       "      <th>TIME ARRIVAL</th>\n",
       "      <th>TRAVEL TIME</th>\n",
       "      <th>ORG_ROUTE_ID</th>\n",
       "      <th>DEST_ROUTE_ID</th>\n",
       "    </tr>\n",
       "  </thead>\n",
       "  <tbody>\n",
       "  </tbody>\n",
       "</table>\n",
       "</div>"
      ],
      "text/plain": [
       "Empty DataFrame\n",
       "Columns: [stop_id_source, stop_id_target, time_sec, stop_lon_target, stop_lat_target, arrival_target, stop_lon_source, stop_lat_source, departure, ID STOP START, TIME DEPART, ID STOP DEST, TIME ARRIVAL, TRAVEL TIME, ORG_ROUTE_ID, DEST_ROUTE_ID]\n",
       "Index: []"
      ]
     },
     "execution_count": 29,
     "metadata": {},
     "output_type": "execute_result"
    }
   ],
   "source": [
    "trips_not_in_my_computations_df.head()"
   ]
  }
 ],
 "metadata": {
  "kernelspec": {
   "display_name": "Python 3",
   "language": "python",
   "name": "python3"
  },
  "language_info": {
   "codemirror_mode": {
    "name": "ipython",
    "version": 3
   },
   "file_extension": ".py",
   "mimetype": "text/x-python",
   "name": "python",
   "nbconvert_exporter": "python",
   "pygments_lexer": "ipython3",
   "version": "3.6.4"
  }
 },
 "nbformat": 4,
 "nbformat_minor": 2
}
