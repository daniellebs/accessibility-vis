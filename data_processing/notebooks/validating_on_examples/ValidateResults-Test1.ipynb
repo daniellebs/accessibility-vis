{
 "cells": [
  {
   "cell_type": "code",
   "execution_count": 144,
   "metadata": {},
   "outputs": [],
   "source": [
    "import pickle\n",
    "import pandas as pd\n",
    "import os\n",
    "import matplotlib.pyplot as plt\n",
    "import seaborn as sns"
   ]
  },
  {
   "cell_type": "code",
   "execution_count": 145,
   "metadata": {},
   "outputs": [],
   "source": [
    "DATA_PATH = '../../../input_data/synthetic_examples/input_data/Test1/'"
   ]
  },
  {
   "cell_type": "code",
   "execution_count": 146,
   "metadata": {},
   "outputs": [],
   "source": [
    "OUTPUT_PATH = '../../../output_data/validation/'"
   ]
  },
  {
   "cell_type": "code",
   "execution_count": 147,
   "metadata": {},
   "outputs": [],
   "source": [
    "SOT_PATH = OUTPUT_PATH + 'source_of_truth/'"
   ]
  },
  {
   "cell_type": "code",
   "execution_count": 148,
   "metadata": {},
   "outputs": [],
   "source": [
    "DATA_PATH = '../../../input_data/synthetic_examples/input_data/'"
   ]
  },
  {
   "cell_type": "code",
   "execution_count": 149,
   "metadata": {},
   "outputs": [
    {
     "data": {
      "text/plain": [
       "['one_line',\n",
       " 'Test0a_15min_Direct_QQ.csv',\n",
       " 'Test0b_15min_Direct_QQ_RT.csv',\n",
       " 'test1',\n",
       " 'Test1_040116_15min_Direct_QQ.csv',\n",
       " 'Test1_040116_30min_Direct_QQ.csv',\n",
       " 'Test1_040116_60min_Direct_QQ (2).csv',\n",
       " 'Test1_040116_90min_Direct_QQ.csv',\n",
       " 'test2',\n",
       " 'Test2_091215_15min_Direct_QQ.csv',\n",
       " 'Test2_091215_30min_Direct_QQ.csv',\n",
       " 'Test2_091215_45min_Direct_QQ.csv',\n",
       " 'Test2_091215_60min_Direct_QQ.csv',\n",
       " 'Test2_091215_90min_Direct_QQ.csv',\n",
       " 'Test3_040116_15min_Direct_QQ.csv',\n",
       " 'Test3_040116_30min_Direct_QQ.csv',\n",
       " 'Test3_040116_45min_Direct_QQ.csv',\n",
       " 'Test3_040116_60min_Direct_QQ.csv',\n",
       " 'Test3_040116_90min_Direct_QQ.csv',\n",
       " 'TestParameters_Statistics.xlsx',\n",
       " 'two_lines']"
      ]
     },
     "execution_count": 149,
     "metadata": {},
     "output_type": "execute_result"
    }
   ],
   "source": [
    "os.listdir(SOT_PATH)"
   ]
  },
  {
   "cell_type": "markdown",
   "metadata": {},
   "source": [
    "## Validate Test 1"
   ]
  },
  {
   "cell_type": "code",
   "execution_count": 150,
   "metadata": {},
   "outputs": [
    {
     "data": {
      "text/plain": [
       "['aa_1-601.pkl',\n",
       " 'aa_1-661.pkl',\n",
       " 'all_nodes.pkl',\n",
       " 'morning_direct_edges.pkl',\n",
       " 'morning_nodes.pkl',\n",
       " 'morning_start_nodes.pkl',\n",
       " 'morning_transfer_edges.pkl',\n",
       " 'nearby_stops.csv',\n",
       " 'nearby_stops.pkl',\n",
       " 'original_date_according_to_input',\n",
       " 'problematic.csv',\n",
       " 'problematic_trips.png',\n",
       " 'problematic_trips2.png',\n",
       " 'sa_1-601.pkl',\n",
       " 'stops.csv']"
      ]
     },
     "execution_count": 150,
     "metadata": {},
     "output_type": "execute_result"
    }
   ],
   "source": [
    "os.listdir(OUTPUT_PATH + 'test1/')"
   ]
  },
  {
   "cell_type": "code",
   "execution_count": 185,
   "metadata": {},
   "outputs": [],
   "source": [
    "aa1_df = pd.read_pickle(OUTPUT_PATH + 'test1/aa_1-1134.pkl')"
   ]
  },
  {
   "cell_type": "code",
   "execution_count": 186,
   "metadata": {},
   "outputs": [
    {
     "data": {
      "text/plain": [
       "(1583, 9)"
      ]
     },
     "execution_count": 186,
     "metadata": {},
     "output_type": "execute_result"
    }
   ],
   "source": [
    "aa1_df.shape"
   ]
  },
  {
   "cell_type": "code",
   "execution_count": 187,
   "metadata": {},
   "outputs": [],
   "source": [
    "sot_1_df = pd.read_csv(SOT_PATH + 'test1/Test1_040116_60min_Direct_QQ.csv')\n",
    "sot_1_min_df = sot_1_df.loc[sot_1_df.groupby(['ID STOP START', 'ID STOP DEST'])['TRAVEL TIME'].idxmin()]\n",
    "t1_df = aa1_df.merge(sot_1_min_df, left_on=['stop_id_source', 'stop_id_target'], right_on=['ID STOP START', 'ID STOP DEST'])\n",
    "t1_df['diff'] = t1_df['time_sec'] - t1_df['TRAVEL TIME']"
   ]
  },
  {
   "cell_type": "code",
   "execution_count": 188,
   "metadata": {},
   "outputs": [
    {
     "data": {
      "text/plain": [
       "(1579, 15)"
      ]
     },
     "execution_count": 188,
     "metadata": {},
     "output_type": "execute_result"
    }
   ],
   "source": [
    "t1_df.shape"
   ]
  },
  {
   "cell_type": "code",
   "execution_count": 189,
   "metadata": {},
   "outputs": [],
   "source": [
    "t1_prob_df = t1_df[t1_df['diff'] != 0]"
   ]
  },
  {
   "cell_type": "code",
   "execution_count": 190,
   "metadata": {},
   "outputs": [
    {
     "data": {
      "text/plain": [
       "(191, 15)"
      ]
     },
     "execution_count": 190,
     "metadata": {},
     "output_type": "execute_result"
    }
   ],
   "source": [
    "t1_prob_df.shape"
   ]
  },
  {
   "cell_type": "code",
   "execution_count": 191,
   "metadata": {},
   "outputs": [
    {
     "data": {
      "text/html": [
       "<div>\n",
       "<style scoped>\n",
       "    .dataframe tbody tr th:only-of-type {\n",
       "        vertical-align: middle;\n",
       "    }\n",
       "\n",
       "    .dataframe tbody tr th {\n",
       "        vertical-align: top;\n",
       "    }\n",
       "\n",
       "    .dataframe thead th {\n",
       "        text-align: right;\n",
       "    }\n",
       "</style>\n",
       "<table border=\"1\" class=\"dataframe\">\n",
       "  <thead>\n",
       "    <tr style=\"text-align: right;\">\n",
       "      <th></th>\n",
       "      <th>stop_id_source</th>\n",
       "      <th>stop_id_target</th>\n",
       "      <th>time_sec</th>\n",
       "      <th>stop_lon_target</th>\n",
       "      <th>stop_lat_target</th>\n",
       "      <th>arrival_target</th>\n",
       "      <th>stop_lon_source</th>\n",
       "      <th>stop_lat_source</th>\n",
       "      <th>departure</th>\n",
       "      <th>ID STOP START</th>\n",
       "      <th>TIME DEPART</th>\n",
       "      <th>ID STOP DEST</th>\n",
       "      <th>TIME ARRIVAL</th>\n",
       "      <th>TRAVEL TIME</th>\n",
       "      <th>diff</th>\n",
       "    </tr>\n",
       "  </thead>\n",
       "  <tbody>\n",
       "    <tr>\n",
       "      <th>64</th>\n",
       "      <td>12962</td>\n",
       "      <td>12834</td>\n",
       "      <td>1719.0</td>\n",
       "      <td>34.784677</td>\n",
       "      <td>32.084755</td>\n",
       "      <td>2016-01-04 07:52:45</td>\n",
       "      <td>34.844303</td>\n",
       "      <td>32.076767</td>\n",
       "      <td>2016-01-04 07:24:06</td>\n",
       "      <td>12962</td>\n",
       "      <td>07:24:06</td>\n",
       "      <td>12834</td>\n",
       "      <td>07:47:45</td>\n",
       "      <td>1419</td>\n",
       "      <td>300.0</td>\n",
       "    </tr>\n",
       "    <tr>\n",
       "      <th>65</th>\n",
       "      <td>12962</td>\n",
       "      <td>12841</td>\n",
       "      <td>1659.0</td>\n",
       "      <td>34.787875</td>\n",
       "      <td>32.084074</td>\n",
       "      <td>2016-01-04 07:51:45</td>\n",
       "      <td>34.844303</td>\n",
       "      <td>32.076767</td>\n",
       "      <td>2016-01-04 07:24:06</td>\n",
       "      <td>12962</td>\n",
       "      <td>07:24:06</td>\n",
       "      <td>12841</td>\n",
       "      <td>07:46:45</td>\n",
       "      <td>1359</td>\n",
       "      <td>300.0</td>\n",
       "    </tr>\n",
       "    <tr>\n",
       "      <th>66</th>\n",
       "      <td>12962</td>\n",
       "      <td>12889</td>\n",
       "      <td>1484.0</td>\n",
       "      <td>34.795442</td>\n",
       "      <td>32.082455</td>\n",
       "      <td>2016-01-04 07:48:50</td>\n",
       "      <td>34.844303</td>\n",
       "      <td>32.076767</td>\n",
       "      <td>2016-01-04 07:24:06</td>\n",
       "      <td>12962</td>\n",
       "      <td>07:24:06</td>\n",
       "      <td>12889</td>\n",
       "      <td>07:43:50</td>\n",
       "      <td>1184</td>\n",
       "      <td>300.0</td>\n",
       "    </tr>\n",
       "    <tr>\n",
       "      <th>68</th>\n",
       "      <td>12962</td>\n",
       "      <td>12894</td>\n",
       "      <td>1821.0</td>\n",
       "      <td>34.778794</td>\n",
       "      <td>32.086040</td>\n",
       "      <td>2016-01-04 07:54:27</td>\n",
       "      <td>34.844303</td>\n",
       "      <td>32.076767</td>\n",
       "      <td>2016-01-04 07:24:06</td>\n",
       "      <td>12962</td>\n",
       "      <td>07:24:06</td>\n",
       "      <td>12894</td>\n",
       "      <td>07:49:27</td>\n",
       "      <td>1521</td>\n",
       "      <td>300.0</td>\n",
       "    </tr>\n",
       "    <tr>\n",
       "      <th>83</th>\n",
       "      <td>12962</td>\n",
       "      <td>13296</td>\n",
       "      <td>2504.0</td>\n",
       "      <td>34.772032</td>\n",
       "      <td>32.065619</td>\n",
       "      <td>2016-01-04 08:05:50</td>\n",
       "      <td>34.844303</td>\n",
       "      <td>32.076767</td>\n",
       "      <td>2016-01-04 07:24:06</td>\n",
       "      <td>12962</td>\n",
       "      <td>07:24:06</td>\n",
       "      <td>13296</td>\n",
       "      <td>08:00:50</td>\n",
       "      <td>2204</td>\n",
       "      <td>300.0</td>\n",
       "    </tr>\n",
       "  </tbody>\n",
       "</table>\n",
       "</div>"
      ],
      "text/plain": [
       "    stop_id_source  stop_id_target  time_sec  stop_lon_target  \\\n",
       "64           12962           12834    1719.0        34.784677   \n",
       "65           12962           12841    1659.0        34.787875   \n",
       "66           12962           12889    1484.0        34.795442   \n",
       "68           12962           12894    1821.0        34.778794   \n",
       "83           12962           13296    2504.0        34.772032   \n",
       "\n",
       "    stop_lat_target      arrival_target  stop_lon_source  stop_lat_source  \\\n",
       "64        32.084755 2016-01-04 07:52:45        34.844303        32.076767   \n",
       "65        32.084074 2016-01-04 07:51:45        34.844303        32.076767   \n",
       "66        32.082455 2016-01-04 07:48:50        34.844303        32.076767   \n",
       "68        32.086040 2016-01-04 07:54:27        34.844303        32.076767   \n",
       "83        32.065619 2016-01-04 08:05:50        34.844303        32.076767   \n",
       "\n",
       "             departure  ID STOP START TIME DEPART  ID STOP DEST TIME ARRIVAL  \\\n",
       "64 2016-01-04 07:24:06          12962    07:24:06         12834     07:47:45   \n",
       "65 2016-01-04 07:24:06          12962    07:24:06         12841     07:46:45   \n",
       "66 2016-01-04 07:24:06          12962    07:24:06         12889     07:43:50   \n",
       "68 2016-01-04 07:24:06          12962    07:24:06         12894     07:49:27   \n",
       "83 2016-01-04 07:24:06          12962    07:24:06         13296     08:00:50   \n",
       "\n",
       "    TRAVEL TIME   diff  \n",
       "64         1419  300.0  \n",
       "65         1359  300.0  \n",
       "66         1184  300.0  \n",
       "68         1521  300.0  \n",
       "83         2204  300.0  "
      ]
     },
     "execution_count": 191,
     "metadata": {},
     "output_type": "execute_result"
    }
   ],
   "source": [
    "t1_prob_df.head()"
   ]
  },
  {
   "cell_type": "code",
   "execution_count": 192,
   "metadata": {},
   "outputs": [
    {
     "data": {
      "text/plain": [
       "(array([1388.,    0.,   11.,    0.,   45.,    0.,    0.,    0.,   45.,\n",
       "          90.]),\n",
       " array([  0.,  30.,  60.,  90., 120., 150., 180., 210., 240., 270., 300.]),\n",
       " <a list of 10 Patch objects>)"
      ]
     },
     "execution_count": 192,
     "metadata": {},
     "output_type": "execute_result"
    },
    {
     "data": {
      "image/png": "[encoded data removed]",
      "text/plain": [
       "<Figure size 432x288 with 1 Axes>"
      ]
     },
     "metadata": {
      "needs_background": "light"
     },
     "output_type": "display_data"
    }
   ],
   "source": [
    "plt.hist(t1_df['diff'])"
   ]
  },
  {
   "cell_type": "code",
   "execution_count": 193,
   "metadata": {},
   "outputs": [
    {
     "data": {
      "text/plain": [
       "(array([11.,  0., 45.,  0.,  0.,  0.,  0., 45.,  0., 90.]),\n",
       " array([ 60.,  84., 108., 132., 156., 180., 204., 228., 252., 276., 300.]),\n",
       " <a list of 10 Patch objects>)"
      ]
     },
     "execution_count": 193,
     "metadata": {},
     "output_type": "execute_result"
    },
    {
     "data": {
      "image/png": "[encoded data removed]",
      "text/plain": [
       "<Figure size 432x288 with 1 Axes>"
      ]
     },
     "metadata": {
      "needs_background": "light"
     },
     "output_type": "display_data"
    }
   ],
   "source": [
    "plt.hist(t1_prob_df['diff'])"
   ]
  },
  {
   "cell_type": "code",
   "execution_count": 194,
   "metadata": {},
   "outputs": [
    {
     "data": {
      "text/plain": [
       "(191, 15)"
      ]
     },
     "execution_count": 194,
     "metadata": {},
     "output_type": "execute_result"
    }
   ],
   "source": [
    "t1_prob_df.shape"
   ]
  },
  {
   "cell_type": "code",
   "execution_count": 195,
   "metadata": {},
   "outputs": [
    {
     "data": {
      "text/plain": [
       "stop_id_source      13\n",
       "stop_id_target      26\n",
       "time_sec           184\n",
       "stop_lon_target     26\n",
       "stop_lat_target     26\n",
       "arrival_target      56\n",
       "stop_lon_source     13\n",
       "stop_lat_source     13\n",
       "departure           13\n",
       "ID STOP START       13\n",
       "TIME DEPART         12\n",
       "ID STOP DEST        26\n",
       "TIME ARRIVAL        56\n",
       "TRAVEL TIME        183\n",
       "diff                 4\n",
       "dtype: int64"
      ]
     },
     "execution_count": 195,
     "metadata": {},
     "output_type": "execute_result"
    }
   ],
   "source": [
    "t1_prob_df.nunique()"
   ]
  },
  {
   "cell_type": "code",
   "execution_count": 196,
   "metadata": {},
   "outputs": [
    {
     "data": {
      "text/html": [
       "<div>\n",
       "<style scoped>\n",
       "    .dataframe tbody tr th:only-of-type {\n",
       "        vertical-align: middle;\n",
       "    }\n",
       "\n",
       "    .dataframe tbody tr th {\n",
       "        vertical-align: top;\n",
       "    }\n",
       "\n",
       "    .dataframe thead th {\n",
       "        text-align: right;\n",
       "    }\n",
       "</style>\n",
       "<table border=\"1\" class=\"dataframe\">\n",
       "  <thead>\n",
       "    <tr style=\"text-align: right;\">\n",
       "      <th></th>\n",
       "      <th>stop_id_source</th>\n",
       "      <th>stop_id_target</th>\n",
       "      <th>time_sec</th>\n",
       "      <th>stop_lon_target</th>\n",
       "      <th>stop_lat_target</th>\n",
       "      <th>arrival_target</th>\n",
       "      <th>stop_lon_source</th>\n",
       "      <th>stop_lat_source</th>\n",
       "      <th>departure</th>\n",
       "      <th>ID STOP START</th>\n",
       "      <th>TIME DEPART</th>\n",
       "      <th>ID STOP DEST</th>\n",
       "      <th>TIME ARRIVAL</th>\n",
       "      <th>TRAVEL TIME</th>\n",
       "      <th>diff</th>\n",
       "    </tr>\n",
       "  </thead>\n",
       "  <tbody>\n",
       "    <tr>\n",
       "      <th>64</th>\n",
       "      <td>12962</td>\n",
       "      <td>12834</td>\n",
       "      <td>1719.0</td>\n",
       "      <td>34.784677</td>\n",
       "      <td>32.084755</td>\n",
       "      <td>2016-01-04 07:52:45</td>\n",
       "      <td>34.844303</td>\n",
       "      <td>32.076767</td>\n",
       "      <td>2016-01-04 07:24:06</td>\n",
       "      <td>12962</td>\n",
       "      <td>07:24:06</td>\n",
       "      <td>12834</td>\n",
       "      <td>07:47:45</td>\n",
       "      <td>1419</td>\n",
       "      <td>300.0</td>\n",
       "    </tr>\n",
       "  </tbody>\n",
       "</table>\n",
       "</div>"
      ],
      "text/plain": [
       "    stop_id_source  stop_id_target  time_sec  stop_lon_target  \\\n",
       "64           12962           12834    1719.0        34.784677   \n",
       "\n",
       "    stop_lat_target      arrival_target  stop_lon_source  stop_lat_source  \\\n",
       "64        32.084755 2016-01-04 07:52:45        34.844303        32.076767   \n",
       "\n",
       "             departure  ID STOP START TIME DEPART  ID STOP DEST TIME ARRIVAL  \\\n",
       "64 2016-01-04 07:24:06          12962    07:24:06         12834     07:47:45   \n",
       "\n",
       "    TRAVEL TIME   diff  \n",
       "64         1419  300.0  "
      ]
     },
     "execution_count": 196,
     "metadata": {},
     "output_type": "execute_result"
    }
   ],
   "source": [
    "t1_prob_df.head(1)"
   ]
  },
  {
   "cell_type": "code",
   "execution_count": 197,
   "metadata": {},
   "outputs": [
    {
     "data": {
      "text/plain": [
       "Index(['stop_id_source', 'stop_id_target', 'time_sec', 'stop_lon_target',\n",
       "       'stop_lat_target', 'arrival_target', 'stop_lon_source',\n",
       "       'stop_lat_source', 'departure', 'ID STOP START', 'TIME DEPART',\n",
       "       'ID STOP DEST', 'TIME ARRIVAL', 'TRAVEL TIME', 'diff'],\n",
       "      dtype='object')"
      ]
     },
     "execution_count": 197,
     "metadata": {},
     "output_type": "execute_result"
    }
   ],
   "source": [
    "t1_prob_df.columns"
   ]
  },
  {
   "cell_type": "code",
   "execution_count": 232,
   "metadata": {},
   "outputs": [],
   "source": [
    "sorted_prob_df = t1_prob_df.sort_values(by='TRAVEL TIME')"
   ]
  },
  {
   "cell_type": "code",
   "execution_count": 233,
   "metadata": {},
   "outputs": [
    {
     "data": {
      "text/html": [
       "<div>\n",
       "<style scoped>\n",
       "    .dataframe tbody tr th:only-of-type {\n",
       "        vertical-align: middle;\n",
       "    }\n",
       "\n",
       "    .dataframe tbody tr th {\n",
       "        vertical-align: top;\n",
       "    }\n",
       "\n",
       "    .dataframe thead th {\n",
       "        text-align: right;\n",
       "    }\n",
       "</style>\n",
       "<table border=\"1\" class=\"dataframe\">\n",
       "  <thead>\n",
       "    <tr style=\"text-align: right;\">\n",
       "      <th></th>\n",
       "      <th>stop_id_source</th>\n",
       "      <th>stop_id_target</th>\n",
       "      <th>time_sec</th>\n",
       "      <th>stop_lon_target</th>\n",
       "      <th>stop_lat_target</th>\n",
       "      <th>arrival_target</th>\n",
       "      <th>stop_lon_source</th>\n",
       "      <th>stop_lat_source</th>\n",
       "      <th>departure</th>\n",
       "      <th>ID STOP START</th>\n",
       "      <th>TIME DEPART</th>\n",
       "      <th>ID STOP DEST</th>\n",
       "      <th>TIME ARRIVAL</th>\n",
       "      <th>TRAVEL TIME</th>\n",
       "      <th>diff</th>\n",
       "    </tr>\n",
       "  </thead>\n",
       "  <tbody>\n",
       "    <tr>\n",
       "      <th>1096</th>\n",
       "      <td>14347</td>\n",
       "      <td>12889</td>\n",
       "      <td>1183.0</td>\n",
       "      <td>34.795442</td>\n",
       "      <td>32.082455</td>\n",
       "      <td>2016-01-04 07:48:50</td>\n",
       "      <td>34.838874</td>\n",
       "      <td>32.092796</td>\n",
       "      <td>2016-01-04 07:29:07</td>\n",
       "      <td>14347</td>\n",
       "      <td>07:29:07</td>\n",
       "      <td>12889</td>\n",
       "      <td>07:43:50</td>\n",
       "      <td>883</td>\n",
       "      <td>300.0</td>\n",
       "    </tr>\n",
       "    <tr>\n",
       "      <th>217</th>\n",
       "      <td>13120</td>\n",
       "      <td>12889</td>\n",
       "      <td>1020.0</td>\n",
       "      <td>34.795442</td>\n",
       "      <td>32.082455</td>\n",
       "      <td>2016-01-04 07:40:50</td>\n",
       "      <td>34.824478</td>\n",
       "      <td>32.091293</td>\n",
       "      <td>2016-01-04 07:23:50</td>\n",
       "      <td>13120</td>\n",
       "      <td>07:25:50</td>\n",
       "      <td>12889</td>\n",
       "      <td>07:40:50</td>\n",
       "      <td>900</td>\n",
       "      <td>120.0</td>\n",
       "    </tr>\n",
       "    <tr>\n",
       "      <th>1121</th>\n",
       "      <td>14347</td>\n",
       "      <td>13725</td>\n",
       "      <td>1246.0</td>\n",
       "      <td>34.792847</td>\n",
       "      <td>32.083022</td>\n",
       "      <td>2016-01-04 07:49:53</td>\n",
       "      <td>34.838874</td>\n",
       "      <td>32.092796</td>\n",
       "      <td>2016-01-04 07:29:07</td>\n",
       "      <td>14347</td>\n",
       "      <td>07:29:07</td>\n",
       "      <td>13725</td>\n",
       "      <td>07:44:53</td>\n",
       "      <td>946</td>\n",
       "      <td>300.0</td>\n",
       "    </tr>\n",
       "    <tr>\n",
       "      <th>143</th>\n",
       "      <td>13032</td>\n",
       "      <td>12889</td>\n",
       "      <td>1077.0</td>\n",
       "      <td>34.795442</td>\n",
       "      <td>32.082455</td>\n",
       "      <td>2016-01-04 07:40:50</td>\n",
       "      <td>34.828052</td>\n",
       "      <td>32.091762</td>\n",
       "      <td>2016-01-04 07:22:53</td>\n",
       "      <td>13032</td>\n",
       "      <td>07:24:53</td>\n",
       "      <td>12889</td>\n",
       "      <td>07:40:50</td>\n",
       "      <td>957</td>\n",
       "      <td>120.0</td>\n",
       "    </tr>\n",
       "    <tr>\n",
       "      <th>240</th>\n",
       "      <td>13120</td>\n",
       "      <td>13725</td>\n",
       "      <td>1083.0</td>\n",
       "      <td>34.792847</td>\n",
       "      <td>32.083022</td>\n",
       "      <td>2016-01-04 07:41:53</td>\n",
       "      <td>34.824478</td>\n",
       "      <td>32.091293</td>\n",
       "      <td>2016-01-04 07:23:50</td>\n",
       "      <td>13120</td>\n",
       "      <td>07:25:50</td>\n",
       "      <td>13725</td>\n",
       "      <td>07:41:53</td>\n",
       "      <td>963</td>\n",
       "      <td>120.0</td>\n",
       "    </tr>\n",
       "  </tbody>\n",
       "</table>\n",
       "</div>"
      ],
      "text/plain": [
       "      stop_id_source  stop_id_target  time_sec  stop_lon_target  \\\n",
       "1096           14347           12889    1183.0        34.795442   \n",
       "217            13120           12889    1020.0        34.795442   \n",
       "1121           14347           13725    1246.0        34.792847   \n",
       "143            13032           12889    1077.0        34.795442   \n",
       "240            13120           13725    1083.0        34.792847   \n",
       "\n",
       "      stop_lat_target      arrival_target  stop_lon_source  stop_lat_source  \\\n",
       "1096        32.082455 2016-01-04 07:48:50        34.838874        32.092796   \n",
       "217         32.082455 2016-01-04 07:40:50        34.824478        32.091293   \n",
       "1121        32.083022 2016-01-04 07:49:53        34.838874        32.092796   \n",
       "143         32.082455 2016-01-04 07:40:50        34.828052        32.091762   \n",
       "240         32.083022 2016-01-04 07:41:53        34.824478        32.091293   \n",
       "\n",
       "               departure  ID STOP START TIME DEPART  ID STOP DEST  \\\n",
       "1096 2016-01-04 07:29:07          14347    07:29:07         12889   \n",
       "217  2016-01-04 07:23:50          13120    07:25:50         12889   \n",
       "1121 2016-01-04 07:29:07          14347    07:29:07         13725   \n",
       "143  2016-01-04 07:22:53          13032    07:24:53         12889   \n",
       "240  2016-01-04 07:23:50          13120    07:25:50         13725   \n",
       "\n",
       "     TIME ARRIVAL  TRAVEL TIME   diff  \n",
       "1096     07:43:50          883  300.0  \n",
       "217      07:40:50          900  120.0  \n",
       "1121     07:44:53          946  300.0  \n",
       "143      07:40:50          957  120.0  \n",
       "240      07:41:53          963  120.0  "
      ]
     },
     "execution_count": 233,
     "metadata": {},
     "output_type": "execute_result"
    }
   ],
   "source": [
    "sorted_prob_df.head()"
   ]
  },
  {
   "cell_type": "code",
   "execution_count": 199,
   "metadata": {},
   "outputs": [],
   "source": [
    "t1_prob_df.to_csv(OUTPUT_PATH + 'test1/problematic.csv')"
   ]
  },
  {
   "cell_type": "code",
   "execution_count": 200,
   "metadata": {},
   "outputs": [],
   "source": [
    "stops_df = pd.read_csv(DATA_PATH + 'test1/stops.txt')"
   ]
  },
  {
   "cell_type": "code",
   "execution_count": 201,
   "metadata": {},
   "outputs": [
    {
     "data": {
      "text/html": [
       "<div>\n",
       "<style scoped>\n",
       "    .dataframe tbody tr th:only-of-type {\n",
       "        vertical-align: middle;\n",
       "    }\n",
       "\n",
       "    .dataframe tbody tr th {\n",
       "        vertical-align: top;\n",
       "    }\n",
       "\n",
       "    .dataframe thead th {\n",
       "        text-align: right;\n",
       "    }\n",
       "</style>\n",
       "<table border=\"1\" class=\"dataframe\">\n",
       "  <thead>\n",
       "    <tr style=\"text-align: right;\">\n",
       "      <th></th>\n",
       "      <th>stop_id</th>\n",
       "      <th>stop_code</th>\n",
       "      <th>stop_name</th>\n",
       "      <th>stop_desc</th>\n",
       "      <th>stop_lat</th>\n",
       "      <th>stop_lon</th>\n",
       "      <th>location_type</th>\n",
       "      <th>parent_station</th>\n",
       "    </tr>\n",
       "  </thead>\n",
       "  <tbody>\n",
       "    <tr>\n",
       "      <th>0</th>\n",
       "      <td>12834</td>\n",
       "      <td>21038</td>\n",
       "      <td>הועד הפועל/ארלוזורוב</td>\n",
       "      <td>רחוב:ארלוזורוב 93 עיר: תל אביב יפו רציף:   קו...</td>\n",
       "      <td>32.084755</td>\n",
       "      <td>34.784677</td>\n",
       "      <td>0</td>\n",
       "      <td>NaN</td>\n",
       "    </tr>\n",
       "  </tbody>\n",
       "</table>\n",
       "</div>"
      ],
      "text/plain": [
       "   stop_id  stop_code             stop_name  \\\n",
       "0    12834      21038  הועד הפועל/ארלוזורוב   \n",
       "\n",
       "                                           stop_desc   stop_lat   stop_lon  \\\n",
       "0   רחוב:ארלוזורוב 93 עיר: תל אביב יפו רציף:   קו...  32.084755  34.784677   \n",
       "\n",
       "   location_type  parent_station  \n",
       "0              0             NaN  "
      ]
     },
     "execution_count": 201,
     "metadata": {},
     "output_type": "execute_result"
    }
   ],
   "source": [
    "stops_df.head(1)"
   ]
  },
  {
   "cell_type": "code",
   "execution_count": 202,
   "metadata": {},
   "outputs": [],
   "source": [
    "stops_df.to_csv(OUTPUT_PATH + 'test1/stops.csv')"
   ]
  },
  {
   "cell_type": "code",
   "execution_count": 203,
   "metadata": {},
   "outputs": [
    {
     "data": {
      "text/plain": [
       "array([300., 120.,  60., 240.])"
      ]
     },
     "execution_count": 203,
     "metadata": {},
     "output_type": "execute_result"
    }
   ],
   "source": [
    "t1_prob_df['diff'].unique()"
   ]
  },
  {
   "cell_type": "code",
   "execution_count": 204,
   "metadata": {},
   "outputs": [
    {
     "data": {
      "text/plain": [
       "'../../../input_data/synthetic_examples/input_data/'"
      ]
     },
     "execution_count": 204,
     "metadata": {},
     "output_type": "execute_result"
    }
   ],
   "source": [
    "DATA_PATH"
   ]
  },
  {
   "cell_type": "code",
   "execution_count": 205,
   "metadata": {},
   "outputs": [],
   "source": [
    "stop_times_df = pd.read_csv(DATA_PATH + 'test1/stop_times.txt')"
   ]
  },
  {
   "cell_type": "code",
   "execution_count": 206,
   "metadata": {},
   "outputs": [],
   "source": [
    "calendar_df = pd.read_csv(DATA_PATH + 'test1/calendar.txt')"
   ]
  },
  {
   "cell_type": "markdown",
   "metadata": {},
   "source": [
    "## Exploring the first trip with diff (the one with the shortest travel time) "
   ]
  },
  {
   "cell_type": "code",
   "execution_count": 219,
   "metadata": {
    "scrolled": true
   },
   "outputs": [
    {
     "data": {
      "text/html": [
       "<div>\n",
       "<style scoped>\n",
       "    .dataframe tbody tr th:only-of-type {\n",
       "        vertical-align: middle;\n",
       "    }\n",
       "\n",
       "    .dataframe tbody tr th {\n",
       "        vertical-align: top;\n",
       "    }\n",
       "\n",
       "    .dataframe thead th {\n",
       "        text-align: right;\n",
       "    }\n",
       "</style>\n",
       "<table border=\"1\" class=\"dataframe\">\n",
       "  <thead>\n",
       "    <tr style=\"text-align: right;\">\n",
       "      <th></th>\n",
       "      <th>service_id</th>\n",
       "      <th>sunday</th>\n",
       "      <th>monday</th>\n",
       "      <th>tuesday</th>\n",
       "      <th>wednesday</th>\n",
       "      <th>thursday</th>\n",
       "      <th>friday</th>\n",
       "      <th>saturday</th>\n",
       "      <th>start_date</th>\n",
       "      <th>end_date</th>\n",
       "    </tr>\n",
       "  </thead>\n",
       "  <tbody>\n",
       "    <tr>\n",
       "      <th>15</th>\n",
       "      <td>31360274</td>\n",
       "      <td>0</td>\n",
       "      <td>0</td>\n",
       "      <td>0</td>\n",
       "      <td>0</td>\n",
       "      <td>0</td>\n",
       "      <td>1</td>\n",
       "      <td>0</td>\n",
       "      <td>20151216</td>\n",
       "      <td>20160204</td>\n",
       "    </tr>\n",
       "  </tbody>\n",
       "</table>\n",
       "</div>"
      ],
      "text/plain": [
       "    service_id  sunday  monday  tuesday  wednesday  thursday  friday  \\\n",
       "15    31360274       0       0        0          0         0       1   \n",
       "\n",
       "    saturday  start_date  end_date  \n",
       "15         0    20151216  20160204  "
      ]
     },
     "execution_count": 219,
     "metadata": {},
     "output_type": "execute_result"
    }
   ],
   "source": [
    "calendar_df[calendar_df['service_id'] == 31360274]"
   ]
  },
  {
   "cell_type": "code",
   "execution_count": 220,
   "metadata": {},
   "outputs": [
    {
     "data": {
      "text/html": [
       "<div>\n",
       "<style scoped>\n",
       "    .dataframe tbody tr th:only-of-type {\n",
       "        vertical-align: middle;\n",
       "    }\n",
       "\n",
       "    .dataframe tbody tr th {\n",
       "        vertical-align: top;\n",
       "    }\n",
       "\n",
       "    .dataframe thead th {\n",
       "        text-align: right;\n",
       "    }\n",
       "</style>\n",
       "<table border=\"1\" class=\"dataframe\">\n",
       "  <thead>\n",
       "    <tr style=\"text-align: right;\">\n",
       "      <th></th>\n",
       "      <th>service_id</th>\n",
       "      <th>sunday</th>\n",
       "      <th>monday</th>\n",
       "      <th>tuesday</th>\n",
       "      <th>wednesday</th>\n",
       "      <th>thursday</th>\n",
       "      <th>friday</th>\n",
       "      <th>saturday</th>\n",
       "      <th>start_date</th>\n",
       "      <th>end_date</th>\n",
       "    </tr>\n",
       "  </thead>\n",
       "  <tbody>\n",
       "    <tr>\n",
       "      <th>10</th>\n",
       "      <td>31360269</td>\n",
       "      <td>0</td>\n",
       "      <td>0</td>\n",
       "      <td>0</td>\n",
       "      <td>0</td>\n",
       "      <td>0</td>\n",
       "      <td>1</td>\n",
       "      <td>0</td>\n",
       "      <td>20151209</td>\n",
       "      <td>20151214</td>\n",
       "    </tr>\n",
       "  </tbody>\n",
       "</table>\n",
       "</div>"
      ],
      "text/plain": [
       "    service_id  sunday  monday  tuesday  wednesday  thursday  friday  \\\n",
       "10    31360269       0       0        0          0         0       1   \n",
       "\n",
       "    saturday  start_date  end_date  \n",
       "10         0    20151209  20151214  "
      ]
     },
     "execution_count": 220,
     "metadata": {},
     "output_type": "execute_result"
    }
   ],
   "source": [
    "calendar_df[calendar_df['service_id'] == 31360269]"
   ]
  },
  {
   "cell_type": "code",
   "execution_count": 214,
   "metadata": {},
   "outputs": [],
   "source": [
    "trips_df = pd.read_csv(DATA_PATH + 'test1/trips.txt')"
   ]
  },
  {
   "cell_type": "markdown",
   "metadata": {},
   "source": [
    "We are checking the `stop_times.txt` for trips that have an arrival time of '07:43:50'. There are 2 trips: 18673537_161215 and 19405335_091215. \n",
    "<br>\n",
    "According to `trips.txt`, these trips are related to services: 31360274 and 31360269. The first is only active on Fridays and 04/01/2016 is a Monday. The second is only active between the dates 09/12/15 - 14/12/15."
   ]
  },
  {
   "cell_type": "code",
   "execution_count": 217,
   "metadata": {},
   "outputs": [
    {
     "data": {
      "text/html": [
       "<div>\n",
       "<style scoped>\n",
       "    .dataframe tbody tr th:only-of-type {\n",
       "        vertical-align: middle;\n",
       "    }\n",
       "\n",
       "    .dataframe tbody tr th {\n",
       "        vertical-align: top;\n",
       "    }\n",
       "\n",
       "    .dataframe thead th {\n",
       "        text-align: right;\n",
       "    }\n",
       "</style>\n",
       "<table border=\"1\" class=\"dataframe\">\n",
       "  <thead>\n",
       "    <tr style=\"text-align: right;\">\n",
       "      <th></th>\n",
       "      <th>route_id</th>\n",
       "      <th>service_id</th>\n",
       "      <th>trip_id</th>\n",
       "      <th>direction_id</th>\n",
       "      <th>shape_id</th>\n",
       "    </tr>\n",
       "  </thead>\n",
       "  <tbody>\n",
       "    <tr>\n",
       "      <th>370</th>\n",
       "      <td>9807</td>\n",
       "      <td>31360274</td>\n",
       "      <td>18673537_161215</td>\n",
       "      <td>1</td>\n",
       "      <td>64069</td>\n",
       "    </tr>\n",
       "  </tbody>\n",
       "</table>\n",
       "</div>"
      ],
      "text/plain": [
       "     route_id  service_id          trip_id  direction_id  shape_id\n",
       "370      9807    31360274  18673537_161215             1     64069"
      ]
     },
     "execution_count": 217,
     "metadata": {},
     "output_type": "execute_result"
    }
   ],
   "source": [
    "trips_df[trips_df['trip_id'] == '18673537_161215']  \n",
    "# Service ID is 31360274 This one should be active on the 04/01/16\n",
    "# BUT - this service ID is only"
   ]
  },
  {
   "cell_type": "code",
   "execution_count": 218,
   "metadata": {},
   "outputs": [
    {
     "data": {
      "text/html": [
       "<div>\n",
       "<style scoped>\n",
       "    .dataframe tbody tr th:only-of-type {\n",
       "        vertical-align: middle;\n",
       "    }\n",
       "\n",
       "    .dataframe tbody tr th {\n",
       "        vertical-align: top;\n",
       "    }\n",
       "\n",
       "    .dataframe thead th {\n",
       "        text-align: right;\n",
       "    }\n",
       "</style>\n",
       "<table border=\"1\" class=\"dataframe\">\n",
       "  <thead>\n",
       "    <tr style=\"text-align: right;\">\n",
       "      <th></th>\n",
       "      <th>route_id</th>\n",
       "      <th>service_id</th>\n",
       "      <th>trip_id</th>\n",
       "      <th>direction_id</th>\n",
       "      <th>shape_id</th>\n",
       "    </tr>\n",
       "  </thead>\n",
       "  <tbody>\n",
       "    <tr>\n",
       "      <th>776</th>\n",
       "      <td>9807</td>\n",
       "      <td>31360269</td>\n",
       "      <td>19405335_091215</td>\n",
       "      <td>1</td>\n",
       "      <td>64069</td>\n",
       "    </tr>\n",
       "  </tbody>\n",
       "</table>\n",
       "</div>"
      ],
      "text/plain": [
       "     route_id  service_id          trip_id  direction_id  shape_id\n",
       "776      9807    31360269  19405335_091215             1     64069"
      ]
     },
     "execution_count": 218,
     "metadata": {},
     "output_type": "execute_result"
    }
   ],
   "source": [
    "trips_df[trips_df['trip_id'] == '19405335_091215']"
   ]
  },
  {
   "cell_type": "code",
   "execution_count": 208,
   "metadata": {},
   "outputs": [
    {
     "name": "stderr",
     "output_type": "stream",
     "text": [
      "d:\\users\\bensdani\\venvs\\lib\\site-packages\\ipykernel_launcher.py:1: UserWarning: Boolean Series key will be reindexed to match DataFrame index.\n",
      "  \"\"\"Entry point for launching an IPython kernel.\n"
     ]
    },
    {
     "data": {
      "text/html": [
       "<div>\n",
       "<style scoped>\n",
       "    .dataframe tbody tr th:only-of-type {\n",
       "        vertical-align: middle;\n",
       "    }\n",
       "\n",
       "    .dataframe tbody tr th {\n",
       "        vertical-align: top;\n",
       "    }\n",
       "\n",
       "    .dataframe thead th {\n",
       "        text-align: right;\n",
       "    }\n",
       "</style>\n",
       "<table border=\"1\" class=\"dataframe\">\n",
       "  <thead>\n",
       "    <tr style=\"text-align: right;\">\n",
       "      <th></th>\n",
       "      <th>trip_id</th>\n",
       "      <th>arrival_time</th>\n",
       "      <th>departure_time</th>\n",
       "      <th>stop_id</th>\n",
       "      <th>stop_sequence</th>\n",
       "      <th>pickup_type</th>\n",
       "      <th>drop_off_type</th>\n",
       "    </tr>\n",
       "  </thead>\n",
       "  <tbody>\n",
       "    <tr>\n",
       "      <th>1715</th>\n",
       "      <td>19407598_081215</td>\n",
       "      <td>07:29:07</td>\n",
       "      <td>07:29:07</td>\n",
       "      <td>14347</td>\n",
       "      <td>9</td>\n",
       "      <td>0</td>\n",
       "      <td>0</td>\n",
       "    </tr>\n",
       "    <tr>\n",
       "      <th>11724</th>\n",
       "      <td>19285957_061215</td>\n",
       "      <td>07:29:07</td>\n",
       "      <td>07:29:07</td>\n",
       "      <td>14347</td>\n",
       "      <td>9</td>\n",
       "      <td>0</td>\n",
       "      <td>0</td>\n",
       "    </tr>\n",
       "    <tr>\n",
       "      <th>13052</th>\n",
       "      <td>19285957_151215</td>\n",
       "      <td>07:29:07</td>\n",
       "      <td>07:29:07</td>\n",
       "      <td>14347</td>\n",
       "      <td>9</td>\n",
       "      <td>0</td>\n",
       "      <td>0</td>\n",
       "    </tr>\n",
       "  </tbody>\n",
       "</table>\n",
       "</div>"
      ],
      "text/plain": [
       "               trip_id arrival_time departure_time  stop_id  stop_sequence  \\\n",
       "1715   19407598_081215     07:29:07       07:29:07    14347              9   \n",
       "11724  19285957_061215     07:29:07       07:29:07    14347              9   \n",
       "13052  19285957_151215     07:29:07       07:29:07    14347              9   \n",
       "\n",
       "       pickup_type  drop_off_type  \n",
       "1715             0              0  \n",
       "11724            0              0  \n",
       "13052            0              0  "
      ]
     },
     "execution_count": 208,
     "metadata": {},
     "output_type": "execute_result"
    }
   ],
   "source": [
    "stop_times_df[stop_times_df['stop_id'] == 14347][stop_times_df['departure_time'] == '07:29:07']"
   ]
  },
  {
   "cell_type": "code",
   "execution_count": 209,
   "metadata": {},
   "outputs": [
    {
     "name": "stderr",
     "output_type": "stream",
     "text": [
      "d:\\users\\bensdani\\venvs\\lib\\site-packages\\ipykernel_launcher.py:1: UserWarning: Boolean Series key will be reindexed to match DataFrame index.\n",
      "  \"\"\"Entry point for launching an IPython kernel.\n"
     ]
    },
    {
     "data": {
      "text/html": [
       "<div>\n",
       "<style scoped>\n",
       "    .dataframe tbody tr th:only-of-type {\n",
       "        vertical-align: middle;\n",
       "    }\n",
       "\n",
       "    .dataframe tbody tr th {\n",
       "        vertical-align: top;\n",
       "    }\n",
       "\n",
       "    .dataframe thead th {\n",
       "        text-align: right;\n",
       "    }\n",
       "</style>\n",
       "<table border=\"1\" class=\"dataframe\">\n",
       "  <thead>\n",
       "    <tr style=\"text-align: right;\">\n",
       "      <th></th>\n",
       "      <th>trip_id</th>\n",
       "      <th>arrival_time</th>\n",
       "      <th>departure_time</th>\n",
       "      <th>stop_id</th>\n",
       "      <th>stop_sequence</th>\n",
       "      <th>pickup_type</th>\n",
       "      <th>drop_off_type</th>\n",
       "    </tr>\n",
       "  </thead>\n",
       "  <tbody>\n",
       "    <tr>\n",
       "      <th>5577</th>\n",
       "      <td>18673537_161215</td>\n",
       "      <td>07:43:50</td>\n",
       "      <td>07:43:50</td>\n",
       "      <td>12889</td>\n",
       "      <td>23</td>\n",
       "      <td>0</td>\n",
       "      <td>0</td>\n",
       "    </tr>\n",
       "    <tr>\n",
       "      <th>33497</th>\n",
       "      <td>19405335_091215</td>\n",
       "      <td>07:43:50</td>\n",
       "      <td>07:43:50</td>\n",
       "      <td>12889</td>\n",
       "      <td>23</td>\n",
       "      <td>0</td>\n",
       "      <td>0</td>\n",
       "    </tr>\n",
       "  </tbody>\n",
       "</table>\n",
       "</div>"
      ],
      "text/plain": [
       "               trip_id arrival_time departure_time  stop_id  stop_sequence  \\\n",
       "5577   18673537_161215     07:43:50       07:43:50    12889             23   \n",
       "33497  19405335_091215     07:43:50       07:43:50    12889             23   \n",
       "\n",
       "       pickup_type  drop_off_type  \n",
       "5577             0              0  \n",
       "33497            0              0  "
      ]
     },
     "execution_count": 209,
     "metadata": {},
     "output_type": "execute_result"
    }
   ],
   "source": [
    "stop_times_df[stop_times_df['stop_id'] == 12889][stop_times_df['departure_time'] == '07:43:50']"
   ]
  },
  {
   "cell_type": "code",
   "execution_count": 210,
   "metadata": {},
   "outputs": [],
   "source": [
    "nodes_df = pd.read_pickle(OUTPUT_PATH + 'test1/morning_nodes.pkl')"
   ]
  },
  {
   "cell_type": "code",
   "execution_count": 211,
   "metadata": {},
   "outputs": [
    {
     "data": {
      "text/html": [
       "<div>\n",
       "<style scoped>\n",
       "    .dataframe tbody tr th:only-of-type {\n",
       "        vertical-align: middle;\n",
       "    }\n",
       "\n",
       "    .dataframe tbody tr th {\n",
       "        vertical-align: top;\n",
       "    }\n",
       "\n",
       "    .dataframe thead th {\n",
       "        text-align: right;\n",
       "    }\n",
       "</style>\n",
       "<table border=\"1\" class=\"dataframe\">\n",
       "  <thead>\n",
       "    <tr style=\"text-align: right;\">\n",
       "      <th></th>\n",
       "      <th>index</th>\n",
       "      <th>trip_id</th>\n",
       "      <th>arrival_time</th>\n",
       "      <th>departure_time_stop</th>\n",
       "      <th>stop_id</th>\n",
       "      <th>stop_sequence</th>\n",
       "      <th>route_id</th>\n",
       "      <th>departure_time_trip_departure</th>\n",
       "      <th>stop_code</th>\n",
       "      <th>stop_lat</th>\n",
       "      <th>stop_lon</th>\n",
       "      <th>arrival</th>\n",
       "      <th>departure</th>\n",
       "      <th>node_id</th>\n",
       "    </tr>\n",
       "  </thead>\n",
       "  <tbody>\n",
       "    <tr>\n",
       "      <th>130</th>\n",
       "      <td>602</td>\n",
       "      <td>19285957_151215</td>\n",
       "      <td>07:29:07</td>\n",
       "      <td>07:29:07</td>\n",
       "      <td>14347</td>\n",
       "      <td>9</td>\n",
       "      <td>2544</td>\n",
       "      <td>07:17:00</td>\n",
       "      <td>27059</td>\n",
       "      <td>32.092796</td>\n",
       "      <td>34.838874</td>\n",
       "      <td>2016-01-04 07:29:07</td>\n",
       "      <td>2016-01-04 07:29:07</td>\n",
       "      <td>130</td>\n",
       "    </tr>\n",
       "  </tbody>\n",
       "</table>\n",
       "</div>"
      ],
      "text/plain": [
       "     index          trip_id arrival_time departure_time_stop  stop_id  \\\n",
       "130    602  19285957_151215     07:29:07            07:29:07    14347   \n",
       "\n",
       "     stop_sequence  route_id departure_time_trip_departure  stop_code  \\\n",
       "130              9      2544                      07:17:00      27059   \n",
       "\n",
       "      stop_lat   stop_lon             arrival           departure  node_id  \n",
       "130  32.092796  34.838874 2016-01-04 07:29:07 2016-01-04 07:29:07      130  "
      ]
     },
     "execution_count": 211,
     "metadata": {},
     "output_type": "execute_result"
    }
   ],
   "source": [
    "nodes_df[nodes_df['departure_time_stop'] == '07:29:07']"
   ]
  },
  {
   "cell_type": "code",
   "execution_count": 212,
   "metadata": {},
   "outputs": [
    {
     "data": {
      "text/html": [
       "<div>\n",
       "<style scoped>\n",
       "    .dataframe tbody tr th:only-of-type {\n",
       "        vertical-align: middle;\n",
       "    }\n",
       "\n",
       "    .dataframe tbody tr th {\n",
       "        vertical-align: top;\n",
       "    }\n",
       "\n",
       "    .dataframe thead th {\n",
       "        text-align: right;\n",
       "    }\n",
       "</style>\n",
       "<table border=\"1\" class=\"dataframe\">\n",
       "  <thead>\n",
       "    <tr style=\"text-align: right;\">\n",
       "      <th></th>\n",
       "      <th>index</th>\n",
       "      <th>trip_id</th>\n",
       "      <th>arrival_time</th>\n",
       "      <th>departure_time_stop</th>\n",
       "      <th>stop_id</th>\n",
       "      <th>stop_sequence</th>\n",
       "      <th>route_id</th>\n",
       "      <th>departure_time_trip_departure</th>\n",
       "      <th>stop_code</th>\n",
       "      <th>stop_lat</th>\n",
       "      <th>stop_lon</th>\n",
       "      <th>arrival</th>\n",
       "      <th>departure</th>\n",
       "      <th>node_id</th>\n",
       "    </tr>\n",
       "  </thead>\n",
       "  <tbody>\n",
       "  </tbody>\n",
       "</table>\n",
       "</div>"
      ],
      "text/plain": [
       "Empty DataFrame\n",
       "Columns: [index, trip_id, arrival_time, departure_time_stop, stop_id, stop_sequence, route_id, departure_time_trip_departure, stop_code, stop_lat, stop_lon, arrival, departure, node_id]\n",
       "Index: []"
      ]
     },
     "execution_count": 212,
     "metadata": {},
     "output_type": "execute_result"
    }
   ],
   "source": [
    "nodes_df[nodes_df['departure_time_stop'] == '07:43:50']"
   ]
  },
  {
   "cell_type": "code",
   "execution_count": 182,
   "metadata": {},
   "outputs": [],
   "source": [
    "transfers = pd.read_pickle(OUTPUT_PATH + 'test1/morning_transfer_edges.pkl')"
   ]
  },
  {
   "cell_type": "markdown",
   "metadata": {},
   "source": [
    "## Exploring the second trip with diff (the one with the second shortest travel time) "
   ]
  },
  {
   "cell_type": "markdown",
   "metadata": {},
   "source": [
    "First let's check if these nodes exists in `nodes_df`.\n",
    "The start stop is 13120 and the dest stop is 12889."
   ]
  },
  {
   "cell_type": "code",
   "execution_count": 237,
   "metadata": {},
   "outputs": [
    {
     "data": {
      "text/html": [
       "<div>\n",
       "<style scoped>\n",
       "    .dataframe tbody tr th:only-of-type {\n",
       "        vertical-align: middle;\n",
       "    }\n",
       "\n",
       "    .dataframe tbody tr th {\n",
       "        vertical-align: top;\n",
       "    }\n",
       "\n",
       "    .dataframe thead th {\n",
       "        text-align: right;\n",
       "    }\n",
       "</style>\n",
       "<table border=\"1\" class=\"dataframe\">\n",
       "  <thead>\n",
       "    <tr style=\"text-align: right;\">\n",
       "      <th></th>\n",
       "      <th>index</th>\n",
       "      <th>trip_id</th>\n",
       "      <th>arrival_time</th>\n",
       "      <th>departure_time_stop</th>\n",
       "      <th>stop_id</th>\n",
       "      <th>stop_sequence</th>\n",
       "      <th>route_id</th>\n",
       "      <th>departure_time_trip_departure</th>\n",
       "      <th>stop_code</th>\n",
       "      <th>stop_lat</th>\n",
       "      <th>stop_lon</th>\n",
       "      <th>arrival</th>\n",
       "      <th>departure</th>\n",
       "      <th>node_id</th>\n",
       "    </tr>\n",
       "  </thead>\n",
       "  <tbody>\n",
       "    <tr>\n",
       "      <th>756</th>\n",
       "      <td>3235</td>\n",
       "      <td>18673590_161215</td>\n",
       "      <td>07:25:50</td>\n",
       "      <td>07:25:50</td>\n",
       "      <td>13296</td>\n",
       "      <td>35</td>\n",
       "      <td>9807</td>\n",
       "      <td>06:44:00</td>\n",
       "      <td>22988</td>\n",
       "      <td>32.065619</td>\n",
       "      <td>34.772032</td>\n",
       "      <td>2016-01-04 07:25:50</td>\n",
       "      <td>2016-01-04 07:25:50</td>\n",
       "      <td>756</td>\n",
       "    </tr>\n",
       "    <tr>\n",
       "      <th>972</th>\n",
       "      <td>4187</td>\n",
       "      <td>18673594_161215</td>\n",
       "      <td>07:25:50</td>\n",
       "      <td>07:25:50</td>\n",
       "      <td>33862</td>\n",
       "      <td>10</td>\n",
       "      <td>9807</td>\n",
       "      <td>07:16:00</td>\n",
       "      <td>20826</td>\n",
       "      <td>32.085801</td>\n",
       "      <td>34.835141</td>\n",
       "      <td>2016-01-04 07:25:50</td>\n",
       "      <td>2016-01-04 07:25:50</td>\n",
       "      <td>972</td>\n",
       "    </tr>\n",
       "  </tbody>\n",
       "</table>\n",
       "</div>"
      ],
      "text/plain": [
       "     index          trip_id arrival_time departure_time_stop  stop_id  \\\n",
       "756   3235  18673590_161215     07:25:50            07:25:50    13296   \n",
       "972   4187  18673594_161215     07:25:50            07:25:50    33862   \n",
       "\n",
       "     stop_sequence  route_id departure_time_trip_departure  stop_code  \\\n",
       "756             35      9807                      06:44:00      22988   \n",
       "972             10      9807                      07:16:00      20826   \n",
       "\n",
       "      stop_lat   stop_lon             arrival           departure  node_id  \n",
       "756  32.065619  34.772032 2016-01-04 07:25:50 2016-01-04 07:25:50      756  \n",
       "972  32.085801  34.835141 2016-01-04 07:25:50 2016-01-04 07:25:50      972  "
      ]
     },
     "execution_count": 237,
     "metadata": {},
     "output_type": "execute_result"
    }
   ],
   "source": [
    "nodes_df[nodes_df['departure_time_stop'] == '07:25:50']"
   ]
  },
  {
   "cell_type": "code",
   "execution_count": 223,
   "metadata": {},
   "outputs": [
    {
     "data": {
      "text/html": [
       "<div>\n",
       "<style scoped>\n",
       "    .dataframe tbody tr th:only-of-type {\n",
       "        vertical-align: middle;\n",
       "    }\n",
       "\n",
       "    .dataframe tbody tr th {\n",
       "        vertical-align: top;\n",
       "    }\n",
       "\n",
       "    .dataframe thead th {\n",
       "        text-align: right;\n",
       "    }\n",
       "</style>\n",
       "<table border=\"1\" class=\"dataframe\">\n",
       "  <thead>\n",
       "    <tr style=\"text-align: right;\">\n",
       "      <th></th>\n",
       "      <th>index</th>\n",
       "      <th>trip_id</th>\n",
       "      <th>arrival_time</th>\n",
       "      <th>departure_time_stop</th>\n",
       "      <th>stop_id</th>\n",
       "      <th>stop_sequence</th>\n",
       "      <th>route_id</th>\n",
       "      <th>departure_time_trip_departure</th>\n",
       "      <th>stop_code</th>\n",
       "      <th>stop_lat</th>\n",
       "      <th>stop_lon</th>\n",
       "      <th>arrival</th>\n",
       "      <th>departure</th>\n",
       "      <th>node_id</th>\n",
       "    </tr>\n",
       "  </thead>\n",
       "  <tbody>\n",
       "    <tr>\n",
       "      <th>531</th>\n",
       "      <td>2291</td>\n",
       "      <td>18673594_161215</td>\n",
       "      <td>07:40:50</td>\n",
       "      <td>07:40:50</td>\n",
       "      <td>12889</td>\n",
       "      <td>23</td>\n",
       "      <td>9807</td>\n",
       "      <td>07:16:00</td>\n",
       "      <td>21139</td>\n",
       "      <td>32.082455</td>\n",
       "      <td>34.795442</td>\n",
       "      <td>2016-01-04 07:40:50</td>\n",
       "      <td>2016-01-04 07:40:50</td>\n",
       "      <td>531</td>\n",
       "    </tr>\n",
       "  </tbody>\n",
       "</table>\n",
       "</div>"
      ],
      "text/plain": [
       "     index          trip_id arrival_time departure_time_stop  stop_id  \\\n",
       "531   2291  18673594_161215     07:40:50            07:40:50    12889   \n",
       "\n",
       "     stop_sequence  route_id departure_time_trip_departure  stop_code  \\\n",
       "531             23      9807                      07:16:00      21139   \n",
       "\n",
       "      stop_lat   stop_lon             arrival           departure  node_id  \n",
       "531  32.082455  34.795442 2016-01-04 07:40:50 2016-01-04 07:40:50      531  "
      ]
     },
     "execution_count": 223,
     "metadata": {},
     "output_type": "execute_result"
    }
   ],
   "source": [
    "nodes_df[nodes_df['departure_time_stop'] == '07:40:50']"
   ]
  },
  {
   "cell_type": "markdown",
   "metadata": {},
   "source": [
    "The start stop doesn't appear with the correct time."
   ]
  },
  {
   "cell_type": "code",
   "execution_count": 224,
   "metadata": {},
   "outputs": [
    {
     "name": "stderr",
     "output_type": "stream",
     "text": [
      "d:\\users\\bensdani\\venvs\\lib\\site-packages\\ipykernel_launcher.py:1: UserWarning: Boolean Series key will be reindexed to match DataFrame index.\n",
      "  \"\"\"Entry point for launching an IPython kernel.\n"
     ]
    },
    {
     "data": {
      "text/html": [
       "<div>\n",
       "<style scoped>\n",
       "    .dataframe tbody tr th:only-of-type {\n",
       "        vertical-align: middle;\n",
       "    }\n",
       "\n",
       "    .dataframe tbody tr th {\n",
       "        vertical-align: top;\n",
       "    }\n",
       "\n",
       "    .dataframe thead th {\n",
       "        text-align: right;\n",
       "    }\n",
       "</style>\n",
       "<table border=\"1\" class=\"dataframe\">\n",
       "  <thead>\n",
       "    <tr style=\"text-align: right;\">\n",
       "      <th></th>\n",
       "      <th>trip_id</th>\n",
       "      <th>arrival_time</th>\n",
       "      <th>departure_time</th>\n",
       "      <th>stop_id</th>\n",
       "      <th>stop_sequence</th>\n",
       "      <th>pickup_type</th>\n",
       "      <th>drop_off_type</th>\n",
       "    </tr>\n",
       "  </thead>\n",
       "  <tbody>\n",
       "    <tr>\n",
       "      <th>1375</th>\n",
       "      <td>19286311_151215</td>\n",
       "      <td>07:25:50</td>\n",
       "      <td>07:25:50</td>\n",
       "      <td>13120</td>\n",
       "      <td>12</td>\n",
       "      <td>0</td>\n",
       "      <td>0</td>\n",
       "    </tr>\n",
       "    <tr>\n",
       "      <th>16383</th>\n",
       "      <td>19407937_081215</td>\n",
       "      <td>07:25:50</td>\n",
       "      <td>07:25:50</td>\n",
       "      <td>13120</td>\n",
       "      <td>12</td>\n",
       "      <td>0</td>\n",
       "      <td>0</td>\n",
       "    </tr>\n",
       "  </tbody>\n",
       "</table>\n",
       "</div>"
      ],
      "text/plain": [
       "               trip_id arrival_time departure_time  stop_id  stop_sequence  \\\n",
       "1375   19286311_151215     07:25:50       07:25:50    13120             12   \n",
       "16383  19407937_081215     07:25:50       07:25:50    13120             12   \n",
       "\n",
       "       pickup_type  drop_off_type  \n",
       "1375             0              0  \n",
       "16383            0              0  "
      ]
     },
     "execution_count": 224,
     "metadata": {},
     "output_type": "execute_result"
    }
   ],
   "source": [
    "stop_times_df[stop_times_df['stop_id'] == 13120][stop_times_df['departure_time'] == '07:25:50']"
   ]
  },
  {
   "cell_type": "markdown",
   "metadata": {},
   "source": [
    "We have two services that have this time in the start stop. Let's check them."
   ]
  },
  {
   "cell_type": "code",
   "execution_count": 225,
   "metadata": {},
   "outputs": [
    {
     "data": {
      "text/html": [
       "<div>\n",
       "<style scoped>\n",
       "    .dataframe tbody tr th:only-of-type {\n",
       "        vertical-align: middle;\n",
       "    }\n",
       "\n",
       "    .dataframe tbody tr th {\n",
       "        vertical-align: top;\n",
       "    }\n",
       "\n",
       "    .dataframe thead th {\n",
       "        text-align: right;\n",
       "    }\n",
       "</style>\n",
       "<table border=\"1\" class=\"dataframe\">\n",
       "  <thead>\n",
       "    <tr style=\"text-align: right;\">\n",
       "      <th></th>\n",
       "      <th>route_id</th>\n",
       "      <th>service_id</th>\n",
       "      <th>trip_id</th>\n",
       "      <th>direction_id</th>\n",
       "      <th>shape_id</th>\n",
       "    </tr>\n",
       "  </thead>\n",
       "  <tbody>\n",
       "    <tr>\n",
       "      <th>644</th>\n",
       "      <td>2544</td>\n",
       "      <td>31349660</td>\n",
       "      <td>19286311_151215</td>\n",
       "      <td>1</td>\n",
       "      <td>62838</td>\n",
       "    </tr>\n",
       "  </tbody>\n",
       "</table>\n",
       "</div>"
      ],
      "text/plain": [
       "     route_id  service_id          trip_id  direction_id  shape_id\n",
       "644      2544    31349660  19286311_151215             1     62838"
      ]
     },
     "execution_count": 225,
     "metadata": {},
     "output_type": "execute_result"
    }
   ],
   "source": [
    "trips_df[trips_df['trip_id'] == '19286311_151215']"
   ]
  },
  {
   "cell_type": "code",
   "execution_count": 226,
   "metadata": {},
   "outputs": [
    {
     "data": {
      "text/html": [
       "<div>\n",
       "<style scoped>\n",
       "    .dataframe tbody tr th:only-of-type {\n",
       "        vertical-align: middle;\n",
       "    }\n",
       "\n",
       "    .dataframe tbody tr th {\n",
       "        vertical-align: top;\n",
       "    }\n",
       "\n",
       "    .dataframe thead th {\n",
       "        text-align: right;\n",
       "    }\n",
       "</style>\n",
       "<table border=\"1\" class=\"dataframe\">\n",
       "  <thead>\n",
       "    <tr style=\"text-align: right;\">\n",
       "      <th></th>\n",
       "      <th>route_id</th>\n",
       "      <th>service_id</th>\n",
       "      <th>trip_id</th>\n",
       "      <th>direction_id</th>\n",
       "      <th>shape_id</th>\n",
       "    </tr>\n",
       "  </thead>\n",
       "  <tbody>\n",
       "    <tr>\n",
       "      <th>467</th>\n",
       "      <td>2544</td>\n",
       "      <td>31349670</td>\n",
       "      <td>19407937_081215</td>\n",
       "      <td>1</td>\n",
       "      <td>62838</td>\n",
       "    </tr>\n",
       "  </tbody>\n",
       "</table>\n",
       "</div>"
      ],
      "text/plain": [
       "     route_id  service_id          trip_id  direction_id  shape_id\n",
       "467      2544    31349670  19407937_081215             1     62838"
      ]
     },
     "execution_count": 226,
     "metadata": {},
     "output_type": "execute_result"
    }
   ],
   "source": [
    "trips_df[trips_df['trip_id'] == '19407937_081215']"
   ]
  },
  {
   "cell_type": "code",
   "execution_count": 229,
   "metadata": {},
   "outputs": [
    {
     "data": {
      "text/html": [
       "<div>\n",
       "<style scoped>\n",
       "    .dataframe tbody tr th:only-of-type {\n",
       "        vertical-align: middle;\n",
       "    }\n",
       "\n",
       "    .dataframe tbody tr th {\n",
       "        vertical-align: top;\n",
       "    }\n",
       "\n",
       "    .dataframe thead th {\n",
       "        text-align: right;\n",
       "    }\n",
       "</style>\n",
       "<table border=\"1\" class=\"dataframe\">\n",
       "  <thead>\n",
       "    <tr style=\"text-align: right;\">\n",
       "      <th></th>\n",
       "      <th>service_id</th>\n",
       "      <th>sunday</th>\n",
       "      <th>monday</th>\n",
       "      <th>tuesday</th>\n",
       "      <th>wednesday</th>\n",
       "      <th>thursday</th>\n",
       "      <th>friday</th>\n",
       "      <th>saturday</th>\n",
       "      <th>start_date</th>\n",
       "      <th>end_date</th>\n",
       "    </tr>\n",
       "  </thead>\n",
       "  <tbody>\n",
       "    <tr>\n",
       "      <th>2</th>\n",
       "      <td>31349660</td>\n",
       "      <td>0</td>\n",
       "      <td>0</td>\n",
       "      <td>0</td>\n",
       "      <td>0</td>\n",
       "      <td>0</td>\n",
       "      <td>1</td>\n",
       "      <td>0</td>\n",
       "      <td>20151215</td>\n",
       "      <td>20160204</td>\n",
       "    </tr>\n",
       "  </tbody>\n",
       "</table>\n",
       "</div>"
      ],
      "text/plain": [
       "   service_id  sunday  monday  tuesday  wednesday  thursday  friday  saturday  \\\n",
       "2    31349660       0       0        0          0         0       1         0   \n",
       "\n",
       "   start_date  end_date  \n",
       "2    20151215  20160204  "
      ]
     },
     "execution_count": 229,
     "metadata": {},
     "output_type": "execute_result"
    }
   ],
   "source": [
    "calendar_df[calendar_df['service_id'] == 31349660]"
   ]
  },
  {
   "cell_type": "code",
   "execution_count": 228,
   "metadata": {},
   "outputs": [
    {
     "data": {
      "text/html": [
       "<div>\n",
       "<style scoped>\n",
       "    .dataframe tbody tr th:only-of-type {\n",
       "        vertical-align: middle;\n",
       "    }\n",
       "\n",
       "    .dataframe tbody tr th {\n",
       "        vertical-align: top;\n",
       "    }\n",
       "\n",
       "    .dataframe thead th {\n",
       "        text-align: right;\n",
       "    }\n",
       "</style>\n",
       "<table border=\"1\" class=\"dataframe\">\n",
       "  <thead>\n",
       "    <tr style=\"text-align: right;\">\n",
       "      <th></th>\n",
       "      <th>service_id</th>\n",
       "      <th>sunday</th>\n",
       "      <th>monday</th>\n",
       "      <th>tuesday</th>\n",
       "      <th>wednesday</th>\n",
       "      <th>thursday</th>\n",
       "      <th>friday</th>\n",
       "      <th>saturday</th>\n",
       "      <th>start_date</th>\n",
       "      <th>end_date</th>\n",
       "    </tr>\n",
       "  </thead>\n",
       "  <tbody>\n",
       "    <tr>\n",
       "      <th>5</th>\n",
       "      <td>31349670</td>\n",
       "      <td>0</td>\n",
       "      <td>0</td>\n",
       "      <td>0</td>\n",
       "      <td>0</td>\n",
       "      <td>0</td>\n",
       "      <td>1</td>\n",
       "      <td>0</td>\n",
       "      <td>20151208</td>\n",
       "      <td>20151214</td>\n",
       "    </tr>\n",
       "  </tbody>\n",
       "</table>\n",
       "</div>"
      ],
      "text/plain": [
       "   service_id  sunday  monday  tuesday  wednesday  thursday  friday  saturday  \\\n",
       "5    31349670       0       0        0          0         0       1         0   \n",
       "\n",
       "   start_date  end_date  \n",
       "5    20151208  20151214  "
      ]
     },
     "execution_count": 228,
     "metadata": {},
     "output_type": "execute_result"
    }
   ],
   "source": [
    "calendar_df[calendar_df['service_id'] == 31349670]"
   ]
  },
  {
   "cell_type": "markdown",
   "metadata": {},
   "source": [
    "The same thing happened again - these services are active on Friday, but 04/01/16 is a Monday."
   ]
  },
  {
   "cell_type": "markdown",
   "metadata": {},
   "source": [
    "## We checked diff=300 and diff=120, Now let's check diff=60 "
   ]
  },
  {
   "cell_type": "code",
   "execution_count": 236,
   "metadata": {},
   "outputs": [
    {
     "data": {
      "text/html": [
       "<div>\n",
       "<style scoped>\n",
       "    .dataframe tbody tr th:only-of-type {\n",
       "        vertical-align: middle;\n",
       "    }\n",
       "\n",
       "    .dataframe tbody tr th {\n",
       "        vertical-align: top;\n",
       "    }\n",
       "\n",
       "    .dataframe thead th {\n",
       "        text-align: right;\n",
       "    }\n",
       "</style>\n",
       "<table border=\"1\" class=\"dataframe\">\n",
       "  <thead>\n",
       "    <tr style=\"text-align: right;\">\n",
       "      <th></th>\n",
       "      <th>stop_id_source</th>\n",
       "      <th>stop_id_target</th>\n",
       "      <th>time_sec</th>\n",
       "      <th>stop_lon_target</th>\n",
       "      <th>stop_lat_target</th>\n",
       "      <th>arrival_target</th>\n",
       "      <th>stop_lon_source</th>\n",
       "      <th>stop_lat_source</th>\n",
       "      <th>departure</th>\n",
       "      <th>ID STOP START</th>\n",
       "      <th>TIME DEPART</th>\n",
       "      <th>ID STOP DEST</th>\n",
       "      <th>TIME ARRIVAL</th>\n",
       "      <th>TRAVEL TIME</th>\n",
       "      <th>diff</th>\n",
       "    </tr>\n",
       "  </thead>\n",
       "  <tbody>\n",
       "    <tr>\n",
       "      <th>870</th>\n",
       "      <td>14022</td>\n",
       "      <td>38943</td>\n",
       "      <td>1471.0</td>\n",
       "      <td>34.797633</td>\n",
       "      <td>32.081422</td>\n",
       "      <td>2016-01-04 07:40:31</td>\n",
       "      <td>34.838972</td>\n",
       "      <td>32.069215</td>\n",
       "      <td>2016-01-04 07:16:00</td>\n",
       "      <td>14022</td>\n",
       "      <td>07:30:00</td>\n",
       "      <td>38943</td>\n",
       "      <td>07:53:31</td>\n",
       "      <td>1411</td>\n",
       "      <td>60.0</td>\n",
       "    </tr>\n",
       "  </tbody>\n",
       "</table>\n",
       "</div>"
      ],
      "text/plain": [
       "     stop_id_source  stop_id_target  time_sec  stop_lon_target  \\\n",
       "870           14022           38943    1471.0        34.797633   \n",
       "\n",
       "     stop_lat_target      arrival_target  stop_lon_source  stop_lat_source  \\\n",
       "870        32.081422 2016-01-04 07:40:31        34.838972        32.069215   \n",
       "\n",
       "              departure  ID STOP START TIME DEPART  ID STOP DEST TIME ARRIVAL  \\\n",
       "870 2016-01-04 07:16:00          14022    07:30:00         38943     07:53:31   \n",
       "\n",
       "     TRAVEL TIME  diff  \n",
       "870         1411  60.0  "
      ]
     },
     "execution_count": 236,
     "metadata": {},
     "output_type": "execute_result"
    }
   ],
   "source": [
    "sorted_prob_df[sorted_prob_df['diff'] == 60].sort_values('TRAVEL TIME').head(1)"
   ]
  },
  {
   "cell_type": "code",
   "execution_count": 238,
   "metadata": {},
   "outputs": [
    {
     "data": {
      "text/html": [
       "<div>\n",
       "<style scoped>\n",
       "    .dataframe tbody tr th:only-of-type {\n",
       "        vertical-align: middle;\n",
       "    }\n",
       "\n",
       "    .dataframe tbody tr th {\n",
       "        vertical-align: top;\n",
       "    }\n",
       "\n",
       "    .dataframe thead th {\n",
       "        text-align: right;\n",
       "    }\n",
       "</style>\n",
       "<table border=\"1\" class=\"dataframe\">\n",
       "  <thead>\n",
       "    <tr style=\"text-align: right;\">\n",
       "      <th></th>\n",
       "      <th>index</th>\n",
       "      <th>trip_id</th>\n",
       "      <th>arrival_time</th>\n",
       "      <th>departure_time_stop</th>\n",
       "      <th>stop_id</th>\n",
       "      <th>stop_sequence</th>\n",
       "      <th>route_id</th>\n",
       "      <th>departure_time_trip_departure</th>\n",
       "      <th>stop_code</th>\n",
       "      <th>stop_lat</th>\n",
       "      <th>stop_lon</th>\n",
       "      <th>arrival</th>\n",
       "      <th>departure</th>\n",
       "      <th>node_id</th>\n",
       "    </tr>\n",
       "  </thead>\n",
       "  <tbody>\n",
       "  </tbody>\n",
       "</table>\n",
       "</div>"
      ],
      "text/plain": [
       "Empty DataFrame\n",
       "Columns: [index, trip_id, arrival_time, departure_time_stop, stop_id, stop_sequence, route_id, departure_time_trip_departure, stop_code, stop_lat, stop_lon, arrival, departure, node_id]\n",
       "Index: []"
      ]
     },
     "execution_count": 238,
     "metadata": {},
     "output_type": "execute_result"
    }
   ],
   "source": [
    "nodes_df[nodes_df['departure_time_stop'] == '07:30:00']"
   ]
  },
  {
   "cell_type": "code",
   "execution_count": 239,
   "metadata": {},
   "outputs": [
    {
     "name": "stderr",
     "output_type": "stream",
     "text": [
      "d:\\users\\bensdani\\venvs\\lib\\site-packages\\ipykernel_launcher.py:1: UserWarning: Boolean Series key will be reindexed to match DataFrame index.\n",
      "  \"\"\"Entry point for launching an IPython kernel.\n"
     ]
    },
    {
     "data": {
      "text/html": [
       "<div>\n",
       "<style scoped>\n",
       "    .dataframe tbody tr th:only-of-type {\n",
       "        vertical-align: middle;\n",
       "    }\n",
       "\n",
       "    .dataframe tbody tr th {\n",
       "        vertical-align: top;\n",
       "    }\n",
       "\n",
       "    .dataframe thead th {\n",
       "        text-align: right;\n",
       "    }\n",
       "</style>\n",
       "<table border=\"1\" class=\"dataframe\">\n",
       "  <thead>\n",
       "    <tr style=\"text-align: right;\">\n",
       "      <th></th>\n",
       "      <th>trip_id</th>\n",
       "      <th>arrival_time</th>\n",
       "      <th>departure_time</th>\n",
       "      <th>stop_id</th>\n",
       "      <th>stop_sequence</th>\n",
       "      <th>pickup_type</th>\n",
       "      <th>drop_off_type</th>\n",
       "    </tr>\n",
       "  </thead>\n",
       "  <tbody>\n",
       "    <tr>\n",
       "      <th>5592</th>\n",
       "      <td>18673538_161215</td>\n",
       "      <td>07:30:00</td>\n",
       "      <td>07:30:00</td>\n",
       "      <td>14022</td>\n",
       "      <td>1</td>\n",
       "      <td>0</td>\n",
       "      <td>1</td>\n",
       "    </tr>\n",
       "    <tr>\n",
       "      <th>33512</th>\n",
       "      <td>19405336_091215</td>\n",
       "      <td>07:30:00</td>\n",
       "      <td>07:30:00</td>\n",
       "      <td>14022</td>\n",
       "      <td>1</td>\n",
       "      <td>0</td>\n",
       "      <td>1</td>\n",
       "    </tr>\n",
       "  </tbody>\n",
       "</table>\n",
       "</div>"
      ],
      "text/plain": [
       "               trip_id arrival_time departure_time  stop_id  stop_sequence  \\\n",
       "5592   18673538_161215     07:30:00       07:30:00    14022              1   \n",
       "33512  19405336_091215     07:30:00       07:30:00    14022              1   \n",
       "\n",
       "       pickup_type  drop_off_type  \n",
       "5592             0              1  \n",
       "33512            0              1  "
      ]
     },
     "execution_count": 239,
     "metadata": {},
     "output_type": "execute_result"
    }
   ],
   "source": [
    "stop_times_df[stop_times_df['stop_id'] == 14022][stop_times_df['departure_time'] == '07:30:00']"
   ]
  },
  {
   "cell_type": "code",
   "execution_count": 240,
   "metadata": {},
   "outputs": [
    {
     "data": {
      "text/html": [
       "<div>\n",
       "<style scoped>\n",
       "    .dataframe tbody tr th:only-of-type {\n",
       "        vertical-align: middle;\n",
       "    }\n",
       "\n",
       "    .dataframe tbody tr th {\n",
       "        vertical-align: top;\n",
       "    }\n",
       "\n",
       "    .dataframe thead th {\n",
       "        text-align: right;\n",
       "    }\n",
       "</style>\n",
       "<table border=\"1\" class=\"dataframe\">\n",
       "  <thead>\n",
       "    <tr style=\"text-align: right;\">\n",
       "      <th></th>\n",
       "      <th>route_id</th>\n",
       "      <th>service_id</th>\n",
       "      <th>trip_id</th>\n",
       "      <th>direction_id</th>\n",
       "      <th>shape_id</th>\n",
       "    </tr>\n",
       "  </thead>\n",
       "  <tbody>\n",
       "    <tr>\n",
       "      <th>240</th>\n",
       "      <td>9807</td>\n",
       "      <td>31360274</td>\n",
       "      <td>18673538_161215</td>\n",
       "      <td>1</td>\n",
       "      <td>64069</td>\n",
       "    </tr>\n",
       "  </tbody>\n",
       "</table>\n",
       "</div>"
      ],
      "text/plain": [
       "     route_id  service_id          trip_id  direction_id  shape_id\n",
       "240      9807    31360274  18673538_161215             1     64069"
      ]
     },
     "execution_count": 240,
     "metadata": {},
     "output_type": "execute_result"
    }
   ],
   "source": [
    "trips_df[trips_df['trip_id'] == '18673538_161215']"
   ]
  },
  {
   "cell_type": "code",
   "execution_count": 241,
   "metadata": {},
   "outputs": [
    {
     "data": {
      "text/html": [
       "<div>\n",
       "<style scoped>\n",
       "    .dataframe tbody tr th:only-of-type {\n",
       "        vertical-align: middle;\n",
       "    }\n",
       "\n",
       "    .dataframe tbody tr th {\n",
       "        vertical-align: top;\n",
       "    }\n",
       "\n",
       "    .dataframe thead th {\n",
       "        text-align: right;\n",
       "    }\n",
       "</style>\n",
       "<table border=\"1\" class=\"dataframe\">\n",
       "  <thead>\n",
       "    <tr style=\"text-align: right;\">\n",
       "      <th></th>\n",
       "      <th>route_id</th>\n",
       "      <th>service_id</th>\n",
       "      <th>trip_id</th>\n",
       "      <th>direction_id</th>\n",
       "      <th>shape_id</th>\n",
       "    </tr>\n",
       "  </thead>\n",
       "  <tbody>\n",
       "    <tr>\n",
       "      <th>777</th>\n",
       "      <td>9807</td>\n",
       "      <td>31360269</td>\n",
       "      <td>19405336_091215</td>\n",
       "      <td>1</td>\n",
       "      <td>64069</td>\n",
       "    </tr>\n",
       "  </tbody>\n",
       "</table>\n",
       "</div>"
      ],
      "text/plain": [
       "     route_id  service_id          trip_id  direction_id  shape_id\n",
       "777      9807    31360269  19405336_091215             1     64069"
      ]
     },
     "execution_count": 241,
     "metadata": {},
     "output_type": "execute_result"
    }
   ],
   "source": [
    "trips_df[trips_df['trip_id'] == '19405336_091215']"
   ]
  },
  {
   "cell_type": "code",
   "execution_count": 242,
   "metadata": {},
   "outputs": [
    {
     "data": {
      "text/html": [
       "<div>\n",
       "<style scoped>\n",
       "    .dataframe tbody tr th:only-of-type {\n",
       "        vertical-align: middle;\n",
       "    }\n",
       "\n",
       "    .dataframe tbody tr th {\n",
       "        vertical-align: top;\n",
       "    }\n",
       "\n",
       "    .dataframe thead th {\n",
       "        text-align: right;\n",
       "    }\n",
       "</style>\n",
       "<table border=\"1\" class=\"dataframe\">\n",
       "  <thead>\n",
       "    <tr style=\"text-align: right;\">\n",
       "      <th></th>\n",
       "      <th>service_id</th>\n",
       "      <th>sunday</th>\n",
       "      <th>monday</th>\n",
       "      <th>tuesday</th>\n",
       "      <th>wednesday</th>\n",
       "      <th>thursday</th>\n",
       "      <th>friday</th>\n",
       "      <th>saturday</th>\n",
       "      <th>start_date</th>\n",
       "      <th>end_date</th>\n",
       "    </tr>\n",
       "  </thead>\n",
       "  <tbody>\n",
       "    <tr>\n",
       "      <th>15</th>\n",
       "      <td>31360274</td>\n",
       "      <td>0</td>\n",
       "      <td>0</td>\n",
       "      <td>0</td>\n",
       "      <td>0</td>\n",
       "      <td>0</td>\n",
       "      <td>1</td>\n",
       "      <td>0</td>\n",
       "      <td>20151216</td>\n",
       "      <td>20160204</td>\n",
       "    </tr>\n",
       "  </tbody>\n",
       "</table>\n",
       "</div>"
      ],
      "text/plain": [
       "    service_id  sunday  monday  tuesday  wednesday  thursday  friday  \\\n",
       "15    31360274       0       0        0          0         0       1   \n",
       "\n",
       "    saturday  start_date  end_date  \n",
       "15         0    20151216  20160204  "
      ]
     },
     "execution_count": 242,
     "metadata": {},
     "output_type": "execute_result"
    }
   ],
   "source": [
    "calendar_df[calendar_df['service_id'] == 31360274]"
   ]
  },
  {
   "cell_type": "code",
   "execution_count": 243,
   "metadata": {},
   "outputs": [
    {
     "data": {
      "text/html": [
       "<div>\n",
       "<style scoped>\n",
       "    .dataframe tbody tr th:only-of-type {\n",
       "        vertical-align: middle;\n",
       "    }\n",
       "\n",
       "    .dataframe tbody tr th {\n",
       "        vertical-align: top;\n",
       "    }\n",
       "\n",
       "    .dataframe thead th {\n",
       "        text-align: right;\n",
       "    }\n",
       "</style>\n",
       "<table border=\"1\" class=\"dataframe\">\n",
       "  <thead>\n",
       "    <tr style=\"text-align: right;\">\n",
       "      <th></th>\n",
       "      <th>service_id</th>\n",
       "      <th>sunday</th>\n",
       "      <th>monday</th>\n",
       "      <th>tuesday</th>\n",
       "      <th>wednesday</th>\n",
       "      <th>thursday</th>\n",
       "      <th>friday</th>\n",
       "      <th>saturday</th>\n",
       "      <th>start_date</th>\n",
       "      <th>end_date</th>\n",
       "    </tr>\n",
       "  </thead>\n",
       "  <tbody>\n",
       "    <tr>\n",
       "      <th>10</th>\n",
       "      <td>31360269</td>\n",
       "      <td>0</td>\n",
       "      <td>0</td>\n",
       "      <td>0</td>\n",
       "      <td>0</td>\n",
       "      <td>0</td>\n",
       "      <td>1</td>\n",
       "      <td>0</td>\n",
       "      <td>20151209</td>\n",
       "      <td>20151214</td>\n",
       "    </tr>\n",
       "  </tbody>\n",
       "</table>\n",
       "</div>"
      ],
      "text/plain": [
       "    service_id  sunday  monday  tuesday  wednesday  thursday  friday  \\\n",
       "10    31360269       0       0        0          0         0       1   \n",
       "\n",
       "    saturday  start_date  end_date  \n",
       "10         0    20151209  20151214  "
      ]
     },
     "execution_count": 243,
     "metadata": {},
     "output_type": "execute_result"
    }
   ],
   "source": [
    "calendar_df[calendar_df['service_id'] == 31360269]"
   ]
  },
  {
   "cell_type": "code",
   "execution_count": 244,
   "metadata": {},
   "outputs": [
    {
     "data": {
      "text/plain": [
       "array([300., 120., 240.,  60.])"
      ]
     },
     "execution_count": 244,
     "metadata": {},
     "output_type": "execute_result"
    }
   ],
   "source": [
    "sorted_prob_df['diff'].unique()"
   ]
  },
  {
   "cell_type": "markdown",
   "metadata": {},
   "source": [
    "## Last one to check: diff = 240"
   ]
  },
  {
   "cell_type": "code",
   "execution_count": 245,
   "metadata": {},
   "outputs": [
    {
     "data": {
      "text/html": [
       "<div>\n",
       "<style scoped>\n",
       "    .dataframe tbody tr th:only-of-type {\n",
       "        vertical-align: middle;\n",
       "    }\n",
       "\n",
       "    .dataframe tbody tr th {\n",
       "        vertical-align: top;\n",
       "    }\n",
       "\n",
       "    .dataframe thead th {\n",
       "        text-align: right;\n",
       "    }\n",
       "</style>\n",
       "<table border=\"1\" class=\"dataframe\">\n",
       "  <thead>\n",
       "    <tr style=\"text-align: right;\">\n",
       "      <th></th>\n",
       "      <th>stop_id_source</th>\n",
       "      <th>stop_id_target</th>\n",
       "      <th>time_sec</th>\n",
       "      <th>stop_lon_target</th>\n",
       "      <th>stop_lat_target</th>\n",
       "      <th>arrival_target</th>\n",
       "      <th>stop_lon_source</th>\n",
       "      <th>stop_lat_source</th>\n",
       "      <th>departure</th>\n",
       "      <th>ID STOP START</th>\n",
       "      <th>TIME DEPART</th>\n",
       "      <th>ID STOP DEST</th>\n",
       "      <th>TIME ARRIVAL</th>\n",
       "      <th>TRAVEL TIME</th>\n",
       "      <th>diff</th>\n",
       "    </tr>\n",
       "  </thead>\n",
       "  <tbody>\n",
       "    <tr>\n",
       "      <th>1140</th>\n",
       "      <td>15907</td>\n",
       "      <td>12889</td>\n",
       "      <td>1622.0</td>\n",
       "      <td>34.795442</td>\n",
       "      <td>32.082455</td>\n",
       "      <td>2016-01-04 07:56:50</td>\n",
       "      <td>34.84621</td>\n",
       "      <td>32.062576</td>\n",
       "      <td>2016-01-04 07:29:48</td>\n",
       "      <td>15907</td>\n",
       "      <td>07:20:48</td>\n",
       "      <td>12889</td>\n",
       "      <td>07:43:50</td>\n",
       "      <td>1382</td>\n",
       "      <td>240.0</td>\n",
       "    </tr>\n",
       "  </tbody>\n",
       "</table>\n",
       "</div>"
      ],
      "text/plain": [
       "      stop_id_source  stop_id_target  time_sec  stop_lon_target  \\\n",
       "1140           15907           12889    1622.0        34.795442   \n",
       "\n",
       "      stop_lat_target      arrival_target  stop_lon_source  stop_lat_source  \\\n",
       "1140        32.082455 2016-01-04 07:56:50         34.84621        32.062576   \n",
       "\n",
       "               departure  ID STOP START TIME DEPART  ID STOP DEST  \\\n",
       "1140 2016-01-04 07:29:48          15907    07:20:48         12889   \n",
       "\n",
       "     TIME ARRIVAL  TRAVEL TIME   diff  \n",
       "1140     07:43:50         1382  240.0  "
      ]
     },
     "execution_count": 245,
     "metadata": {},
     "output_type": "execute_result"
    }
   ],
   "source": [
    "sorted_prob_df[sorted_prob_df['diff'] == 240].sort_values('TRAVEL TIME').head(1)"
   ]
  },
  {
   "cell_type": "code",
   "execution_count": 246,
   "metadata": {},
   "outputs": [
    {
     "data": {
      "text/html": [
       "<div>\n",
       "<style scoped>\n",
       "    .dataframe tbody tr th:only-of-type {\n",
       "        vertical-align: middle;\n",
       "    }\n",
       "\n",
       "    .dataframe tbody tr th {\n",
       "        vertical-align: top;\n",
       "    }\n",
       "\n",
       "    .dataframe thead th {\n",
       "        text-align: right;\n",
       "    }\n",
       "</style>\n",
       "<table border=\"1\" class=\"dataframe\">\n",
       "  <thead>\n",
       "    <tr style=\"text-align: right;\">\n",
       "      <th></th>\n",
       "      <th>index</th>\n",
       "      <th>trip_id</th>\n",
       "      <th>arrival_time</th>\n",
       "      <th>departure_time_stop</th>\n",
       "      <th>stop_id</th>\n",
       "      <th>stop_sequence</th>\n",
       "      <th>route_id</th>\n",
       "      <th>departure_time_trip_departure</th>\n",
       "      <th>stop_code</th>\n",
       "      <th>stop_lat</th>\n",
       "      <th>stop_lon</th>\n",
       "      <th>arrival</th>\n",
       "      <th>departure</th>\n",
       "      <th>node_id</th>\n",
       "    </tr>\n",
       "  </thead>\n",
       "  <tbody>\n",
       "    <tr>\n",
       "      <th>33</th>\n",
       "      <td>170</td>\n",
       "      <td>19285957_151215</td>\n",
       "      <td>07:20:48</td>\n",
       "      <td>07:20:48</td>\n",
       "      <td>15907</td>\n",
       "      <td>3</td>\n",
       "      <td>2544</td>\n",
       "      <td>07:17:00</td>\n",
       "      <td>31900</td>\n",
       "      <td>32.062576</td>\n",
       "      <td>34.84621</td>\n",
       "      <td>2016-01-04 07:20:48</td>\n",
       "      <td>2016-01-04 07:20:48</td>\n",
       "      <td>33</td>\n",
       "    </tr>\n",
       "  </tbody>\n",
       "</table>\n",
       "</div>"
      ],
      "text/plain": [
       "    index          trip_id arrival_time departure_time_stop  stop_id  \\\n",
       "33    170  19285957_151215     07:20:48            07:20:48    15907   \n",
       "\n",
       "    stop_sequence  route_id departure_time_trip_departure  stop_code  \\\n",
       "33              3      2544                      07:17:00      31900   \n",
       "\n",
       "     stop_lat  stop_lon             arrival           departure  node_id  \n",
       "33  32.062576  34.84621 2016-01-04 07:20:48 2016-01-04 07:20:48       33  "
      ]
     },
     "execution_count": 246,
     "metadata": {},
     "output_type": "execute_result"
    }
   ],
   "source": [
    "nodes_df[nodes_df['departure_time_stop'] == '07:20:48']"
   ]
  },
  {
   "cell_type": "code",
   "execution_count": 247,
   "metadata": {},
   "outputs": [
    {
     "data": {
      "text/html": [
       "<div>\n",
       "<style scoped>\n",
       "    .dataframe tbody tr th:only-of-type {\n",
       "        vertical-align: middle;\n",
       "    }\n",
       "\n",
       "    .dataframe tbody tr th {\n",
       "        vertical-align: top;\n",
       "    }\n",
       "\n",
       "    .dataframe thead th {\n",
       "        text-align: right;\n",
       "    }\n",
       "</style>\n",
       "<table border=\"1\" class=\"dataframe\">\n",
       "  <thead>\n",
       "    <tr style=\"text-align: right;\">\n",
       "      <th></th>\n",
       "      <th>index</th>\n",
       "      <th>trip_id</th>\n",
       "      <th>arrival_time</th>\n",
       "      <th>departure_time_stop</th>\n",
       "      <th>stop_id</th>\n",
       "      <th>stop_sequence</th>\n",
       "      <th>route_id</th>\n",
       "      <th>departure_time_trip_departure</th>\n",
       "      <th>stop_code</th>\n",
       "      <th>stop_lat</th>\n",
       "      <th>stop_lon</th>\n",
       "      <th>arrival</th>\n",
       "      <th>departure</th>\n",
       "      <th>node_id</th>\n",
       "    </tr>\n",
       "  </thead>\n",
       "  <tbody>\n",
       "  </tbody>\n",
       "</table>\n",
       "</div>"
      ],
      "text/plain": [
       "Empty DataFrame\n",
       "Columns: [index, trip_id, arrival_time, departure_time_stop, stop_id, stop_sequence, route_id, departure_time_trip_departure, stop_code, stop_lat, stop_lon, arrival, departure, node_id]\n",
       "Index: []"
      ]
     },
     "execution_count": 247,
     "metadata": {},
     "output_type": "execute_result"
    }
   ],
   "source": [
    "nodes_df[nodes_df['departure_time_stop'] == '07:43:50']"
   ]
  },
  {
   "cell_type": "markdown",
   "metadata": {},
   "source": [
    "We already checked this \"node\" and discovered the line works on Fridays only during these dates (4/1/16) "
   ]
  },
  {
   "cell_type": "code",
   "execution_count": null,
   "metadata": {},
   "outputs": [],
   "source": []
  }
 ],
 "metadata": {
  "kernelspec": {
   "display_name": "Python 3",
   "language": "python",
   "name": "python3"
  },
  "language_info": {
   "codemirror_mode": {
    "name": "ipython",
    "version": 3
   },
   "file_extension": ".py",
   "mimetype": "text/x-python",
   "name": "python",
   "nbconvert_exporter": "python",
   "pygments_lexer": "ipython3",
   "version": "3.6.4"
  }
 },
 "nbformat": 4,
 "nbformat_minor": 2
}
