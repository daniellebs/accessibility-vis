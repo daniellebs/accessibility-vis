{
 "cells": [
  {
   "cell_type": "code",
   "execution_count": 23,
   "metadata": {},
   "outputs": [],
   "source": [
    "import pickle\n",
    "import pandas as pd"
   ]
  },
  {
   "cell_type": "code",
   "execution_count": 24,
   "metadata": {},
   "outputs": [],
   "source": [
    "filename = '../../../output_data/validation/test1/sa_1-601.pkl'"
   ]
  },
  {
   "cell_type": "code",
   "execution_count": 25,
   "metadata": {},
   "outputs": [],
   "source": [
    "access_areas_df = pd.read_pickle(filename)"
   ]
  },
  {
   "cell_type": "code",
   "execution_count": 26,
   "metadata": {},
   "outputs": [
    {
     "data": {
      "text/html": [
       "<div>\n",
       "<style scoped>\n",
       "    .dataframe tbody tr th:only-of-type {\n",
       "        vertical-align: middle;\n",
       "    }\n",
       "\n",
       "    .dataframe tbody tr th {\n",
       "        vertical-align: top;\n",
       "    }\n",
       "\n",
       "    .dataframe thead th {\n",
       "        text-align: right;\n",
       "    }\n",
       "</style>\n",
       "<table border=\"1\" class=\"dataframe\">\n",
       "  <thead>\n",
       "    <tr style=\"text-align: right;\">\n",
       "      <th></th>\n",
       "      <th>stop_id_source</th>\n",
       "      <th>stop_id_target</th>\n",
       "      <th>time_sec</th>\n",
       "      <th>stop_lon_target</th>\n",
       "      <th>stop_lat_target</th>\n",
       "      <th>arrival_target</th>\n",
       "      <th>stop_lon_source</th>\n",
       "      <th>stop_lat_source</th>\n",
       "      <th>departure</th>\n",
       "    </tr>\n",
       "  </thead>\n",
       "  <tbody>\n",
       "    <tr>\n",
       "      <th>0</th>\n",
       "      <td>12834</td>\n",
       "      <td>12834</td>\n",
       "      <td>0.0</td>\n",
       "      <td>34.784677</td>\n",
       "      <td>32.084755</td>\n",
       "      <td>2015-12-14 07:20:45</td>\n",
       "      <td>34.784677</td>\n",
       "      <td>32.084755</td>\n",
       "      <td>2015-12-14 07:20:45</td>\n",
       "    </tr>\n",
       "    <tr>\n",
       "      <th>1</th>\n",
       "      <td>12834</td>\n",
       "      <td>12841</td>\n",
       "      <td>60.0</td>\n",
       "      <td>34.787875</td>\n",
       "      <td>32.084074</td>\n",
       "      <td>2015-12-14 07:19:45</td>\n",
       "      <td>34.784677</td>\n",
       "      <td>32.084755</td>\n",
       "      <td>2015-12-14 07:20:45</td>\n",
       "    </tr>\n",
       "    <tr>\n",
       "      <th>2</th>\n",
       "      <td>12834</td>\n",
       "      <td>12889</td>\n",
       "      <td>235.0</td>\n",
       "      <td>34.795442</td>\n",
       "      <td>32.082455</td>\n",
       "      <td>2015-12-14 07:24:50</td>\n",
       "      <td>34.784677</td>\n",
       "      <td>32.084755</td>\n",
       "      <td>2015-12-14 07:28:45</td>\n",
       "    </tr>\n",
       "    <tr>\n",
       "      <th>3</th>\n",
       "      <td>12834</td>\n",
       "      <td>12962</td>\n",
       "      <td>1359.0</td>\n",
       "      <td>34.844303</td>\n",
       "      <td>32.076767</td>\n",
       "      <td>2015-12-14 07:06:06</td>\n",
       "      <td>34.784677</td>\n",
       "      <td>32.084755</td>\n",
       "      <td>2015-12-14 07:28:45</td>\n",
       "    </tr>\n",
       "    <tr>\n",
       "      <th>4</th>\n",
       "      <td>12834</td>\n",
       "      <td>12979</td>\n",
       "      <td>1285.0</td>\n",
       "      <td>34.845456</td>\n",
       "      <td>32.082794</td>\n",
       "      <td>2015-12-14 07:07:20</td>\n",
       "      <td>34.784677</td>\n",
       "      <td>32.084755</td>\n",
       "      <td>2015-12-14 07:28:45</td>\n",
       "    </tr>\n",
       "  </tbody>\n",
       "</table>\n",
       "</div>"
      ],
      "text/plain": [
       "   stop_id_source  stop_id_target  time_sec  stop_lon_target  stop_lat_target  \\\n",
       "0           12834           12834       0.0        34.784677        32.084755   \n",
       "1           12834           12841      60.0        34.787875        32.084074   \n",
       "2           12834           12889     235.0        34.795442        32.082455   \n",
       "3           12834           12962    1359.0        34.844303        32.076767   \n",
       "4           12834           12979    1285.0        34.845456        32.082794   \n",
       "\n",
       "       arrival_target  stop_lon_source  stop_lat_source           departure  \n",
       "0 2015-12-14 07:20:45        34.784677        32.084755 2015-12-14 07:20:45  \n",
       "1 2015-12-14 07:19:45        34.784677        32.084755 2015-12-14 07:20:45  \n",
       "2 2015-12-14 07:24:50        34.784677        32.084755 2015-12-14 07:28:45  \n",
       "3 2015-12-14 07:06:06        34.784677        32.084755 2015-12-14 07:28:45  \n",
       "4 2015-12-14 07:07:20        34.784677        32.084755 2015-12-14 07:28:45  "
      ]
     },
     "execution_count": 26,
     "metadata": {},
     "output_type": "execute_result"
    }
   ],
   "source": [
    "access_areas_df.head()"
   ]
  },
  {
   "cell_type": "code",
   "execution_count": 27,
   "metadata": {},
   "outputs": [],
   "source": [
    "single_source_aa_df = access_areas_df[access_areas_df['stop_id_source'] == 25123]"
   ]
  },
  {
   "cell_type": "code",
   "execution_count": 28,
   "metadata": {},
   "outputs": [
    {
     "data": {
      "text/html": [
       "<div>\n",
       "<style scoped>\n",
       "    .dataframe tbody tr th:only-of-type {\n",
       "        vertical-align: middle;\n",
       "    }\n",
       "\n",
       "    .dataframe tbody tr th {\n",
       "        vertical-align: top;\n",
       "    }\n",
       "\n",
       "    .dataframe thead th {\n",
       "        text-align: right;\n",
       "    }\n",
       "</style>\n",
       "<table border=\"1\" class=\"dataframe\">\n",
       "  <thead>\n",
       "    <tr style=\"text-align: right;\">\n",
       "      <th></th>\n",
       "      <th>stop_id_source</th>\n",
       "      <th>stop_id_target</th>\n",
       "      <th>time_sec</th>\n",
       "      <th>stop_lon_target</th>\n",
       "      <th>stop_lat_target</th>\n",
       "      <th>arrival_target</th>\n",
       "      <th>stop_lon_source</th>\n",
       "      <th>stop_lat_source</th>\n",
       "      <th>departure</th>\n",
       "    </tr>\n",
       "  </thead>\n",
       "  <tbody>\n",
       "    <tr>\n",
       "      <th>989</th>\n",
       "      <td>25123</td>\n",
       "      <td>25123</td>\n",
       "      <td>0.0</td>\n",
       "      <td>34.849426</td>\n",
       "      <td>32.050923</td>\n",
       "      <td>2015-12-14 07:17:00</td>\n",
       "      <td>34.849426</td>\n",
       "      <td>32.050923</td>\n",
       "      <td>2015-12-14 07:17:00</td>\n",
       "    </tr>\n",
       "  </tbody>\n",
       "</table>\n",
       "</div>"
      ],
      "text/plain": [
       "     stop_id_source  stop_id_target  time_sec  stop_lon_target  \\\n",
       "989           25123           25123       0.0        34.849426   \n",
       "\n",
       "     stop_lat_target      arrival_target  stop_lon_source  stop_lat_source  \\\n",
       "989        32.050923 2015-12-14 07:17:00        34.849426        32.050923   \n",
       "\n",
       "              departure  \n",
       "989 2015-12-14 07:17:00  "
      ]
     },
     "execution_count": 28,
     "metadata": {},
     "output_type": "execute_result"
    }
   ],
   "source": [
    "single_source_aa_df.head()"
   ]
  },
  {
   "cell_type": "code",
   "execution_count": 29,
   "metadata": {},
   "outputs": [],
   "source": [
    "single_source_aa_df.to_csv('../../../output_data/sp/csv/aa_5-556_from_stop_775.csv')"
   ]
  },
  {
   "cell_type": "code",
   "execution_count": 10,
   "metadata": {},
   "outputs": [
    {
     "data": {
      "text/plain": [
       "(15, 9)"
      ]
     },
     "execution_count": 10,
     "metadata": {},
     "output_type": "execute_result"
    }
   ],
   "source": [
    "single_source_aa_df.shape"
   ]
  },
  {
   "cell_type": "code",
   "execution_count": 11,
   "metadata": {},
   "outputs": [
    {
     "data": {
      "text/html": [
       "<div>\n",
       "<style scoped>\n",
       "    .dataframe tbody tr th:only-of-type {\n",
       "        vertical-align: middle;\n",
       "    }\n",
       "\n",
       "    .dataframe tbody tr th {\n",
       "        vertical-align: top;\n",
       "    }\n",
       "\n",
       "    .dataframe thead th {\n",
       "        text-align: right;\n",
       "    }\n",
       "</style>\n",
       "<table border=\"1\" class=\"dataframe\">\n",
       "  <thead>\n",
       "    <tr style=\"text-align: right;\">\n",
       "      <th></th>\n",
       "      <th>stop_id_source</th>\n",
       "      <th>stop_id_target</th>\n",
       "      <th>time_sec</th>\n",
       "      <th>stop_lon_target</th>\n",
       "      <th>stop_lat_target</th>\n",
       "      <th>arrival_target</th>\n",
       "      <th>stop_lon_source</th>\n",
       "      <th>stop_lat_source</th>\n",
       "      <th>departure</th>\n",
       "    </tr>\n",
       "  </thead>\n",
       "  <tbody>\n",
       "    <tr>\n",
       "      <th>0</th>\n",
       "      <td>775</td>\n",
       "      <td>775</td>\n",
       "      <td>0.0</td>\n",
       "      <td>34.774177</td>\n",
       "      <td>32.017504</td>\n",
       "      <td>2015-12-14 07:10:36</td>\n",
       "      <td>34.774177</td>\n",
       "      <td>32.017504</td>\n",
       "      <td>2015-12-14 07:10:36</td>\n",
       "    </tr>\n",
       "    <tr>\n",
       "      <th>1</th>\n",
       "      <td>775</td>\n",
       "      <td>15564</td>\n",
       "      <td>790.0</td>\n",
       "      <td>34.805505</td>\n",
       "      <td>32.021799</td>\n",
       "      <td>2015-12-14 07:23:46</td>\n",
       "      <td>34.774177</td>\n",
       "      <td>32.017504</td>\n",
       "      <td>2015-12-14 07:10:36</td>\n",
       "    </tr>\n",
       "    <tr>\n",
       "      <th>2</th>\n",
       "      <td>775</td>\n",
       "      <td>21416</td>\n",
       "      <td>234.0</td>\n",
       "      <td>34.786839</td>\n",
       "      <td>32.017610</td>\n",
       "      <td>2015-12-14 07:14:30</td>\n",
       "      <td>34.774177</td>\n",
       "      <td>32.017504</td>\n",
       "      <td>2015-12-14 07:10:36</td>\n",
       "    </tr>\n",
       "    <tr>\n",
       "      <th>3</th>\n",
       "      <td>775</td>\n",
       "      <td>21475</td>\n",
       "      <td>848.0</td>\n",
       "      <td>34.802347</td>\n",
       "      <td>32.024450</td>\n",
       "      <td>2015-12-14 07:24:44</td>\n",
       "      <td>34.774177</td>\n",
       "      <td>32.017504</td>\n",
       "      <td>2015-12-14 07:10:36</td>\n",
       "    </tr>\n",
       "    <tr>\n",
       "      <th>4</th>\n",
       "      <td>775</td>\n",
       "      <td>21812</td>\n",
       "      <td>504.0</td>\n",
       "      <td>34.797698</td>\n",
       "      <td>32.016885</td>\n",
       "      <td>2015-12-14 07:19:00</td>\n",
       "      <td>34.774177</td>\n",
       "      <td>32.017504</td>\n",
       "      <td>2015-12-14 07:10:36</td>\n",
       "    </tr>\n",
       "  </tbody>\n",
       "</table>\n",
       "</div>"
      ],
      "text/plain": [
       "   stop_id_source  stop_id_target  time_sec  stop_lon_target  stop_lat_target  \\\n",
       "0             775             775       0.0        34.774177        32.017504   \n",
       "1             775           15564     790.0        34.805505        32.021799   \n",
       "2             775           21416     234.0        34.786839        32.017610   \n",
       "3             775           21475     848.0        34.802347        32.024450   \n",
       "4             775           21812     504.0        34.797698        32.016885   \n",
       "\n",
       "       arrival_target  stop_lon_source  stop_lat_source           departure  \n",
       "0 2015-12-14 07:10:36        34.774177        32.017504 2015-12-14 07:10:36  \n",
       "1 2015-12-14 07:23:46        34.774177        32.017504 2015-12-14 07:10:36  \n",
       "2 2015-12-14 07:14:30        34.774177        32.017504 2015-12-14 07:10:36  \n",
       "3 2015-12-14 07:24:44        34.774177        32.017504 2015-12-14 07:10:36  \n",
       "4 2015-12-14 07:19:00        34.774177        32.017504 2015-12-14 07:10:36  "
      ]
     },
     "execution_count": 11,
     "metadata": {},
     "output_type": "execute_result"
    }
   ],
   "source": [
    "single_source_aa_df.head()"
   ]
  },
  {
   "cell_type": "code",
   "execution_count": null,
   "metadata": {},
   "outputs": [],
   "source": []
  }
 ],
 "metadata": {
  "kernelspec": {
   "display_name": "Python 3",
   "language": "python",
   "name": "python3"
  },
  "language_info": {
   "codemirror_mode": {
    "name": "ipython",
    "version": 3
   },
   "file_extension": ".py",
   "mimetype": "text/x-python",
   "name": "python",
   "nbconvert_exporter": "python",
   "pygments_lexer": "ipython3",
   "version": "3.6.4"
  }
 },
 "nbformat": 4,
 "nbformat_minor": 2
}
