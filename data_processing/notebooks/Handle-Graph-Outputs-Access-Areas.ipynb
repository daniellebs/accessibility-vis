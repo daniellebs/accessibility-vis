{
 "cells": [
  {
   "cell_type": "code",
   "execution_count": 1,
   "metadata": {},
   "outputs": [],
   "source": [
    "import pickle\n",
    "import pandas as pd"
   ]
  },
  {
   "cell_type": "code",
   "execution_count": 2,
   "metadata": {},
   "outputs": [],
   "source": [
    "filename = '../../output_data/sp/sp_97005-97415.pkl'"
   ]
  },
  {
   "cell_type": "code",
   "execution_count": 3,
   "metadata": {},
   "outputs": [],
   "source": [
    "access_areas_df = pd.read_pickle(filename) "
   ]
  },
  {
   "cell_type": "code",
   "execution_count": 4,
   "metadata": {},
   "outputs": [
    {
     "data": {
      "text/html": [
       "<div>\n",
       "<style scoped>\n",
       "    .dataframe tbody tr th:only-of-type {\n",
       "        vertical-align: middle;\n",
       "    }\n",
       "\n",
       "    .dataframe tbody tr th {\n",
       "        vertical-align: top;\n",
       "    }\n",
       "\n",
       "    .dataframe thead th {\n",
       "        text-align: right;\n",
       "    }\n",
       "</style>\n",
       "<table border=\"1\" class=\"dataframe\">\n",
       "  <thead>\n",
       "    <tr style=\"text-align: right;\">\n",
       "      <th></th>\n",
       "      <th>stop_id_source</th>\n",
       "      <th>stop_id_target</th>\n",
       "      <th>time_sec</th>\n",
       "      <th>stop_lon_target</th>\n",
       "      <th>stop_lat_target</th>\n",
       "      <th>arrival_target</th>\n",
       "      <th>stop_lon_source</th>\n",
       "      <th>stop_lat_source</th>\n",
       "      <th>departure</th>\n",
       "    </tr>\n",
       "  </thead>\n",
       "  <tbody>\n",
       "    <tr>\n",
       "      <th>0</th>\n",
       "      <td>13160</td>\n",
       "      <td>18</td>\n",
       "      <td>2944.0</td>\n",
       "      <td>34.912708</td>\n",
       "      <td>32.300345</td>\n",
       "      <td>2019-11-03 09:00:08</td>\n",
       "      <td>34.849355</td>\n",
       "      <td>32.167168</td>\n",
       "      <td>2019-11-03 08:11:04</td>\n",
       "    </tr>\n",
       "    <tr>\n",
       "      <th>1</th>\n",
       "      <td>13160</td>\n",
       "      <td>19</td>\n",
       "      <td>2867.0</td>\n",
       "      <td>34.912602</td>\n",
       "      <td>32.301347</td>\n",
       "      <td>2019-11-03 08:58:51</td>\n",
       "      <td>34.849355</td>\n",
       "      <td>32.167168</td>\n",
       "      <td>2019-11-03 08:11:04</td>\n",
       "    </tr>\n",
       "    <tr>\n",
       "      <th>2</th>\n",
       "      <td>13160</td>\n",
       "      <td>48</td>\n",
       "      <td>2907.0</td>\n",
       "      <td>34.878765</td>\n",
       "      <td>32.299994</td>\n",
       "      <td>2019-11-03 08:52:31</td>\n",
       "      <td>34.849355</td>\n",
       "      <td>32.167168</td>\n",
       "      <td>2019-11-03 08:04:04</td>\n",
       "    </tr>\n",
       "    <tr>\n",
       "      <th>3</th>\n",
       "      <td>13160</td>\n",
       "      <td>90</td>\n",
       "      <td>3207.0</td>\n",
       "      <td>34.764014</td>\n",
       "      <td>31.985680</td>\n",
       "      <td>2019-11-03 09:02:02</td>\n",
       "      <td>34.849355</td>\n",
       "      <td>32.167168</td>\n",
       "      <td>2019-11-03 08:08:35</td>\n",
       "    </tr>\n",
       "    <tr>\n",
       "      <th>4</th>\n",
       "      <td>13160</td>\n",
       "      <td>188</td>\n",
       "      <td>2848.0</td>\n",
       "      <td>34.837598</td>\n",
       "      <td>32.270586</td>\n",
       "      <td>2019-11-03 08:51:32</td>\n",
       "      <td>34.849355</td>\n",
       "      <td>32.167168</td>\n",
       "      <td>2019-11-03 08:04:04</td>\n",
       "    </tr>\n",
       "  </tbody>\n",
       "</table>\n",
       "</div>"
      ],
      "text/plain": [
       "   stop_id_source  stop_id_target  time_sec  stop_lon_target  stop_lat_target  \\\n",
       "0           13160              18    2944.0        34.912708        32.300345   \n",
       "1           13160              19    2867.0        34.912602        32.301347   \n",
       "2           13160              48    2907.0        34.878765        32.299994   \n",
       "3           13160              90    3207.0        34.764014        31.985680   \n",
       "4           13160             188    2848.0        34.837598        32.270586   \n",
       "\n",
       "       arrival_target  stop_lon_source  stop_lat_source           departure  \n",
       "0 2019-11-03 09:00:08        34.849355        32.167168 2019-11-03 08:11:04  \n",
       "1 2019-11-03 08:58:51        34.849355        32.167168 2019-11-03 08:11:04  \n",
       "2 2019-11-03 08:52:31        34.849355        32.167168 2019-11-03 08:04:04  \n",
       "3 2019-11-03 09:02:02        34.849355        32.167168 2019-11-03 08:08:35  \n",
       "4 2019-11-03 08:51:32        34.849355        32.167168 2019-11-03 08:04:04  "
      ]
     },
     "execution_count": 4,
     "metadata": {},
     "output_type": "execute_result"
    }
   ],
   "source": [
    "access_areas_df.head()"
   ]
  },
  {
   "cell_type": "code",
   "execution_count": 6,
   "metadata": {},
   "outputs": [],
   "source": [
    "single_source_aa_df = access_areas_df[access_areas_df['stop_id_source'] == 13160]"
   ]
  },
  {
   "cell_type": "code",
   "execution_count": 7,
   "metadata": {},
   "outputs": [],
   "source": [
    "single_source_aa_df.to_csv('../../output_data/sp/csv/aa_97005-97415_from_stop_13160.csv')"
   ]
  },
  {
   "cell_type": "code",
   "execution_count": 8,
   "metadata": {},
   "outputs": [
    {
     "data": {
      "text/plain": [
       "(4109, 9)"
      ]
     },
     "execution_count": 8,
     "metadata": {},
     "output_type": "execute_result"
    }
   ],
   "source": [
    "single_source_aa_df.shape"
   ]
  },
  {
   "cell_type": "code",
   "execution_count": 9,
   "metadata": {},
   "outputs": [
    {
     "data": {
      "text/html": [
       "<div>\n",
       "<style scoped>\n",
       "    .dataframe tbody tr th:only-of-type {\n",
       "        vertical-align: middle;\n",
       "    }\n",
       "\n",
       "    .dataframe tbody tr th {\n",
       "        vertical-align: top;\n",
       "    }\n",
       "\n",
       "    .dataframe thead th {\n",
       "        text-align: right;\n",
       "    }\n",
       "</style>\n",
       "<table border=\"1\" class=\"dataframe\">\n",
       "  <thead>\n",
       "    <tr style=\"text-align: right;\">\n",
       "      <th></th>\n",
       "      <th>stop_id_source</th>\n",
       "      <th>stop_id_target</th>\n",
       "      <th>time_sec</th>\n",
       "      <th>stop_lon_target</th>\n",
       "      <th>stop_lat_target</th>\n",
       "      <th>arrival_target</th>\n",
       "      <th>stop_lon_source</th>\n",
       "      <th>stop_lat_source</th>\n",
       "      <th>departure</th>\n",
       "    </tr>\n",
       "  </thead>\n",
       "  <tbody>\n",
       "    <tr>\n",
       "      <th>0</th>\n",
       "      <td>13160</td>\n",
       "      <td>18</td>\n",
       "      <td>2944.0</td>\n",
       "      <td>34.912708</td>\n",
       "      <td>32.300345</td>\n",
       "      <td>2019-11-03 09:00:08</td>\n",
       "      <td>34.849355</td>\n",
       "      <td>32.167168</td>\n",
       "      <td>2019-11-03 08:11:04</td>\n",
       "    </tr>\n",
       "    <tr>\n",
       "      <th>1</th>\n",
       "      <td>13160</td>\n",
       "      <td>19</td>\n",
       "      <td>2867.0</td>\n",
       "      <td>34.912602</td>\n",
       "      <td>32.301347</td>\n",
       "      <td>2019-11-03 08:58:51</td>\n",
       "      <td>34.849355</td>\n",
       "      <td>32.167168</td>\n",
       "      <td>2019-11-03 08:11:04</td>\n",
       "    </tr>\n",
       "    <tr>\n",
       "      <th>2</th>\n",
       "      <td>13160</td>\n",
       "      <td>48</td>\n",
       "      <td>2907.0</td>\n",
       "      <td>34.878765</td>\n",
       "      <td>32.299994</td>\n",
       "      <td>2019-11-03 08:52:31</td>\n",
       "      <td>34.849355</td>\n",
       "      <td>32.167168</td>\n",
       "      <td>2019-11-03 08:04:04</td>\n",
       "    </tr>\n",
       "    <tr>\n",
       "      <th>3</th>\n",
       "      <td>13160</td>\n",
       "      <td>90</td>\n",
       "      <td>3207.0</td>\n",
       "      <td>34.764014</td>\n",
       "      <td>31.985680</td>\n",
       "      <td>2019-11-03 09:02:02</td>\n",
       "      <td>34.849355</td>\n",
       "      <td>32.167168</td>\n",
       "      <td>2019-11-03 08:08:35</td>\n",
       "    </tr>\n",
       "    <tr>\n",
       "      <th>4</th>\n",
       "      <td>13160</td>\n",
       "      <td>188</td>\n",
       "      <td>2848.0</td>\n",
       "      <td>34.837598</td>\n",
       "      <td>32.270586</td>\n",
       "      <td>2019-11-03 08:51:32</td>\n",
       "      <td>34.849355</td>\n",
       "      <td>32.167168</td>\n",
       "      <td>2019-11-03 08:04:04</td>\n",
       "    </tr>\n",
       "  </tbody>\n",
       "</table>\n",
       "</div>"
      ],
      "text/plain": [
       "   stop_id_source  stop_id_target  time_sec  stop_lon_target  stop_lat_target  \\\n",
       "0           13160              18    2944.0        34.912708        32.300345   \n",
       "1           13160              19    2867.0        34.912602        32.301347   \n",
       "2           13160              48    2907.0        34.878765        32.299994   \n",
       "3           13160              90    3207.0        34.764014        31.985680   \n",
       "4           13160             188    2848.0        34.837598        32.270586   \n",
       "\n",
       "       arrival_target  stop_lon_source  stop_lat_source           departure  \n",
       "0 2019-11-03 09:00:08        34.849355        32.167168 2019-11-03 08:11:04  \n",
       "1 2019-11-03 08:58:51        34.849355        32.167168 2019-11-03 08:11:04  \n",
       "2 2019-11-03 08:52:31        34.849355        32.167168 2019-11-03 08:04:04  \n",
       "3 2019-11-03 09:02:02        34.849355        32.167168 2019-11-03 08:08:35  \n",
       "4 2019-11-03 08:51:32        34.849355        32.167168 2019-11-03 08:04:04  "
      ]
     },
     "execution_count": 9,
     "metadata": {},
     "output_type": "execute_result"
    }
   ],
   "source": [
    "single_source_aa_df.head()"
   ]
  },
  {
   "cell_type": "code",
   "execution_count": null,
   "metadata": {},
   "outputs": [],
   "source": []
  }
 ],
 "metadata": {
  "kernelspec": {
   "display_name": "Python 3",
   "language": "python",
   "name": "python3"
  },
  "language_info": {
   "codemirror_mode": {
    "name": "ipython",
    "version": 3
   },
   "file_extension": ".py",
   "mimetype": "text/x-python",
   "name": "python",
   "nbconvert_exporter": "python",
   "pygments_lexer": "ipython3",
   "version": "3.6.4"
  }
 },
 "nbformat": 4,
 "nbformat_minor": 2
}
