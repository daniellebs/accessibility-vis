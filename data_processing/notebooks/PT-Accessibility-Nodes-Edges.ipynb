{
 "cells": [
  {
   "cell_type": "markdown",
   "metadata": {},
   "source": [
    "## GTFS\n",
    "In order to compute accessibility based on GTFS data (General Transit Feed Specification, can by downloaded from ftp://199.203.58.18/), we will first perform basic processing of the data.\n",
    "We are using the pandas library.\n",
    "\n",
    "The code is based on the following structure of GTFS tables:\n",
    "![GTFS Tables](../../input_data/GTFS_tables.PNG)"
   ]
  },
  {
   "cell_type": "code",
   "execution_count": 1,
   "metadata": {},
   "outputs": [],
   "source": [
    "import pandas as pd\n",
    "import datetime as dt\n",
    "import pickle\n",
    "from tqdm.auto import tqdm\n",
    "tqdm.pandas()\n",
    "\n",
    "DATA_PATH = '../../input_data/GTFS-28-Oct-19/'"
   ]
  },
  {
   "cell_type": "code",
   "execution_count": 2,
   "metadata": {},
   "outputs": [],
   "source": [
    "OUTPUT_PATH = '../../output_data/'"
   ]
  },
  {
   "cell_type": "code",
   "execution_count": 3,
   "metadata": {},
   "outputs": [],
   "source": [
    "DAY = dt.datetime(2019, 11, 3)"
   ]
  },
  {
   "cell_type": "markdown",
   "metadata": {},
   "source": [
    "## Process Calendar - Get trips for a single day"
   ]
  },
  {
   "cell_type": "code",
   "execution_count": 5,
   "metadata": {},
   "outputs": [
    {
     "data": {
      "text/html": [
       "<div>\n",
       "<style scoped>\n",
       "    .dataframe tbody tr th:only-of-type {\n",
       "        vertical-align: middle;\n",
       "    }\n",
       "\n",
       "    .dataframe tbody tr th {\n",
       "        vertical-align: top;\n",
       "    }\n",
       "\n",
       "    .dataframe thead th {\n",
       "        text-align: right;\n",
       "    }\n",
       "</style>\n",
       "<table border=\"1\" class=\"dataframe\">\n",
       "  <thead>\n",
       "    <tr style=\"text-align: right;\">\n",
       "      <th></th>\n",
       "      <th>service_id</th>\n",
       "      <th>sunday</th>\n",
       "      <th>monday</th>\n",
       "      <th>tuesday</th>\n",
       "      <th>wednesday</th>\n",
       "      <th>thursday</th>\n",
       "      <th>friday</th>\n",
       "      <th>saturday</th>\n",
       "      <th>start_date</th>\n",
       "      <th>end_date</th>\n",
       "    </tr>\n",
       "  </thead>\n",
       "  <tbody>\n",
       "    <tr>\n",
       "      <th>0</th>\n",
       "      <td>1</td>\n",
       "      <td>1</td>\n",
       "      <td>1</td>\n",
       "      <td>1</td>\n",
       "      <td>1</td>\n",
       "      <td>1</td>\n",
       "      <td>0</td>\n",
       "      <td>0</td>\n",
       "      <td>2019-10-27</td>\n",
       "      <td>2019-10-31</td>\n",
       "    </tr>\n",
       "    <tr>\n",
       "      <th>1</th>\n",
       "      <td>2</td>\n",
       "      <td>1</td>\n",
       "      <td>1</td>\n",
       "      <td>1</td>\n",
       "      <td>1</td>\n",
       "      <td>1</td>\n",
       "      <td>0</td>\n",
       "      <td>0</td>\n",
       "      <td>2019-11-01</td>\n",
       "      <td>2019-12-26</td>\n",
       "    </tr>\n",
       "    <tr>\n",
       "      <th>2</th>\n",
       "      <td>3</td>\n",
       "      <td>0</td>\n",
       "      <td>0</td>\n",
       "      <td>0</td>\n",
       "      <td>0</td>\n",
       "      <td>0</td>\n",
       "      <td>1</td>\n",
       "      <td>0</td>\n",
       "      <td>2019-11-01</td>\n",
       "      <td>2019-12-26</td>\n",
       "    </tr>\n",
       "  </tbody>\n",
       "</table>\n",
       "</div>"
      ],
      "text/plain": [
       "   service_id  sunday  monday  tuesday  wednesday  thursday  friday  saturday  \\\n",
       "0           1       1       1        1          1         1       0         0   \n",
       "1           2       1       1        1          1         1       0         0   \n",
       "2           3       0       0        0          0         0       1         0   \n",
       "\n",
       "  start_date   end_date  \n",
       "0 2019-10-27 2019-10-31  \n",
       "1 2019-11-01 2019-12-26  \n",
       "2 2019-11-01 2019-12-26  "
      ]
     },
     "execution_count": 5,
     "metadata": {},
     "output_type": "execute_result"
    }
   ],
   "source": [
    "# Load calendar\n",
    "calendar_df = pd.read_csv(DATA_PATH + 'calendar.txt')\n",
    "# Convert dates to python's datetime type\n",
    "calendar_df['start_date'] = calendar_df['start_date'].apply(lambda x: dt.datetime.strptime(str(x), '%Y%m%d'))\n",
    "calendar_df['end_date'] = calendar_df['end_date'].apply(lambda x: dt.datetime.strptime(str(x), '%Y%m%d'))\n",
    "\n",
    "calendar_df.columns = ['service_id',\n",
    " 'sunday',\n",
    " 'monday',\n",
    " 'tuesday',\n",
    " 'wednesday',\n",
    " 'thursday',\n",
    " 'friday',\n",
    " 'saturday',\n",
    " 'start_date',\n",
    " 'end_date']\n",
    "\n",
    "calendar_df[:3]"
   ]
  },
  {
   "cell_type": "code",
   "execution_count": 6,
   "metadata": {},
   "outputs": [],
   "source": [
    "# Let's say we want all trips that occurred on the first Sunday after the feed was published \n",
    "\n",
    "# Filter so we only keep services that are active on Sunday.\n",
    "sunday_services_df = calendar_df[calendar_df['sunday'] == 1][['service_id', 'start_date', 'end_date']]\n",
    "\n",
    "# Keep only services that start during/before selected date\n",
    "sunday_services_df = sunday_services_df[sunday_services_df['start_date'] <= DAY]\n",
    "\n",
    "# Keep only services that end during/after selected date\n",
    "sunday_services_df = sunday_services_df[sunday_services_df['end_date'] >= DAY]"
   ]
  },
  {
   "cell_type": "markdown",
   "metadata": {},
   "source": [
    "## Process Trips"
   ]
  },
  {
   "cell_type": "code",
   "execution_count": 7,
   "metadata": {},
   "outputs": [
    {
     "data": {
      "text/html": [
       "<div>\n",
       "<style scoped>\n",
       "    .dataframe tbody tr th:only-of-type {\n",
       "        vertical-align: middle;\n",
       "    }\n",
       "\n",
       "    .dataframe tbody tr th {\n",
       "        vertical-align: top;\n",
       "    }\n",
       "\n",
       "    .dataframe thead th {\n",
       "        text-align: right;\n",
       "    }\n",
       "</style>\n",
       "<table border=\"1\" class=\"dataframe\">\n",
       "  <thead>\n",
       "    <tr style=\"text-align: right;\">\n",
       "      <th></th>\n",
       "      <th>service_id</th>\n",
       "      <th>route_id</th>\n",
       "      <th>trip_id</th>\n",
       "      <th>trip_headsign</th>\n",
       "      <th>direction_is</th>\n",
       "      <th>shape_id</th>\n",
       "    </tr>\n",
       "  </thead>\n",
       "  <tbody>\n",
       "    <tr>\n",
       "      <th>0</th>\n",
       "      <td>2</td>\n",
       "      <td>1</td>\n",
       "      <td>30900053_011119</td>\n",
       "      <td>רכבת יבנה מזרח</td>\n",
       "      <td>0</td>\n",
       "      <td>97105.0</td>\n",
       "    </tr>\n",
       "    <tr>\n",
       "      <th>1</th>\n",
       "      <td>2</td>\n",
       "      <td>1</td>\n",
       "      <td>30900054_011119</td>\n",
       "      <td>רכבת יבנה מזרח</td>\n",
       "      <td>0</td>\n",
       "      <td>97105.0</td>\n",
       "    </tr>\n",
       "    <tr>\n",
       "      <th>2</th>\n",
       "      <td>2</td>\n",
       "      <td>1</td>\n",
       "      <td>30900055_011119</td>\n",
       "      <td>רכבת יבנה מזרח</td>\n",
       "      <td>0</td>\n",
       "      <td>97105.0</td>\n",
       "    </tr>\n",
       "  </tbody>\n",
       "</table>\n",
       "</div>"
      ],
      "text/plain": [
       "   service_id  route_id          trip_id   trip_headsign  direction_is  \\\n",
       "0           2         1  30900053_011119  רכבת יבנה מזרח             0   \n",
       "1           2         1  30900054_011119  רכבת יבנה מזרח             0   \n",
       "2           2         1  30900055_011119  רכבת יבנה מזרח             0   \n",
       "\n",
       "   shape_id  \n",
       "0   97105.0  \n",
       "1   97105.0  \n",
       "2   97105.0  "
      ]
     },
     "execution_count": 7,
     "metadata": {},
     "output_type": "execute_result"
    }
   ],
   "source": [
    "# Load trips\n",
    "trips_df = pd.read_csv(DATA_PATH + 'trips.txt')\n",
    "\n",
    "# Fix column names (some columns have special 'hudden' characters that we want to remove)\n",
    "trips_df.columns = ['route_id', 'service_id', 'trip_id','trip_headsign', 'direction_is', 'shape_id']\n",
    "\n",
    "trips_calendar_df = sunday_services_df.merge(trips_df, on='service_id', suffixes=('_calendar', '_trips'))\n",
    "sunday_trips_df = trips_calendar_df.drop(['start_date', 'end_date'], axis=1)\n",
    "sunday_trips_df[:3]"
   ]
  },
  {
   "cell_type": "code",
   "execution_count": 8,
   "metadata": {},
   "outputs": [
    {
     "data": {
      "text/plain": [
       "service_id        6742\n",
       "route_id          6742\n",
       "trip_id          99653\n",
       "trip_headsign     1710\n",
       "direction_is         2\n",
       "shape_id          6665\n",
       "dtype: int64"
      ]
     },
     "execution_count": 8,
     "metadata": {},
     "output_type": "execute_result"
    }
   ],
   "source": [
    "sunday_trips_df.nunique()"
   ]
  },
  {
   "cell_type": "markdown",
   "metadata": {},
   "source": [
    "### We now have all trips that occurred on the selected date"
   ]
  },
  {
   "cell_type": "markdown",
   "metadata": {},
   "source": [
    "## Process Stop Times\n",
    "Note: This is pretty heavy compared to the rest of the tables"
   ]
  },
  {
   "cell_type": "code",
   "execution_count": 9,
   "metadata": {},
   "outputs": [],
   "source": [
    "# Load stop times\n",
    "stop_times_df = pd.read_csv(DATA_PATH + 'stop_times.txt')\n",
    "\n",
    "# Get all trips departures by getting the minimal departure time for each trip\n",
    "trips_start_times_df = stop_times_df.groupby('trip_id').agg({'departure_time': 'min'})\n",
    "\n",
    "# Let's join the last two tabled to get the departure times of all sunday trips\n",
    "sunday_departures_df = sunday_trips_df.merge(trips_start_times_df, on='trip_id', suffixes=('_departures', '_trips'))"
   ]
  },
  {
   "cell_type": "markdown",
   "metadata": {},
   "source": [
    "## Process Stops"
   ]
  },
  {
   "cell_type": "code",
   "execution_count": 10,
   "metadata": {},
   "outputs": [],
   "source": [
    "def convert_gtfs_time_to_datetime(gtfs_time):\n",
    "    date = dt.datetime(2019, 11, 3)\n",
    "    h, m, s = [int(x) for x in gtfs_time.split(':')]\n",
    "    if h < 24:\n",
    "        # This is a 'normal' situation, we can simply create a datetime object using the date we defined before\n",
    "        return date + dt.timedelta(hours=h, minutes=m, seconds=s)\n",
    "    # Otherwise we have a 'strange' time: it's after midnight\n",
    "    new_date = date + dt.timedelta(days=1)\n",
    "    return new_date + dt.timedelta(hours=h-24, minutes=m, seconds=s)"
   ]
  },
  {
   "cell_type": "code",
   "execution_count": 11,
   "metadata": {},
   "outputs": [],
   "source": [
    "# Load stops\n",
    "stops_df = pd.read_csv(DATA_PATH + 'stops.txt')\n",
    "\n",
    "# Add stop code and zone id to stop times\n",
    "stop_times_with_stop_codes_df = stop_times_df.merge(\n",
    "    stops_df[['stop_id', 'stop_code', 'zone_id']], on='stop_id')\n",
    "\n",
    "# Add stop code to stop times - Yulia's example\n",
    "# stop_times_with_stop_codes_df = stop_times_df.merge(\n",
    "#     stops_df[['stop_id', 'stop_code']], on='stop_id')\n",
    "\n",
    "\n",
    "stop_times_with_stop_codes_df['departure_time'] = stop_times_with_stop_codes_df[\n",
    "    'departure_time'].apply(convert_gtfs_time_to_datetime)"
   ]
  },
  {
   "cell_type": "markdown",
   "metadata": {},
   "source": [
    "## Construct Nodes"
   ]
  },
  {
   "cell_type": "code",
   "execution_count": 12,
   "metadata": {},
   "outputs": [
    {
     "data": {
      "text/html": [
       "<div>\n",
       "<style scoped>\n",
       "    .dataframe tbody tr th:only-of-type {\n",
       "        vertical-align: middle;\n",
       "    }\n",
       "\n",
       "    .dataframe tbody tr th {\n",
       "        vertical-align: top;\n",
       "    }\n",
       "\n",
       "    .dataframe thead th {\n",
       "        text-align: right;\n",
       "    }\n",
       "</style>\n",
       "<table border=\"1\" class=\"dataframe\">\n",
       "  <thead>\n",
       "    <tr style=\"text-align: right;\">\n",
       "      <th></th>\n",
       "      <th>trip_id</th>\n",
       "      <th>arrival_time</th>\n",
       "      <th>departure_time_stop</th>\n",
       "      <th>stop_id</th>\n",
       "      <th>stop_sequence</th>\n",
       "      <th>route_id</th>\n",
       "      <th>trip_headsign</th>\n",
       "      <th>departure_time_trip_departure</th>\n",
       "      <th>stop_code</th>\n",
       "      <th>stop_lat</th>\n",
       "      <th>stop_lon</th>\n",
       "    </tr>\n",
       "  </thead>\n",
       "  <tbody>\n",
       "    <tr>\n",
       "      <th>0</th>\n",
       "      <td>10021427_271019</td>\n",
       "      <td>00:00:00</td>\n",
       "      <td>00:00:00</td>\n",
       "      <td>36133</td>\n",
       "      <td>1</td>\n",
       "      <td>10376</td>\n",
       "      <td>כרמיאל_גבעת רם</td>\n",
       "      <td>00:00:00</td>\n",
       "      <td>47915</td>\n",
       "      <td>32.791771</td>\n",
       "      <td>35.034289</td>\n",
       "    </tr>\n",
       "    <tr>\n",
       "      <th>1</th>\n",
       "      <td>10021428_271019</td>\n",
       "      <td>01:00:00</td>\n",
       "      <td>01:00:00</td>\n",
       "      <td>36133</td>\n",
       "      <td>1</td>\n",
       "      <td>10376</td>\n",
       "      <td>כרמיאל_גבעת רם</td>\n",
       "      <td>01:00:00</td>\n",
       "      <td>47915</td>\n",
       "      <td>32.791771</td>\n",
       "      <td>35.034289</td>\n",
       "    </tr>\n",
       "    <tr>\n",
       "      <th>2</th>\n",
       "      <td>10021429_271019</td>\n",
       "      <td>02:00:00</td>\n",
       "      <td>02:00:00</td>\n",
       "      <td>36133</td>\n",
       "      <td>1</td>\n",
       "      <td>10376</td>\n",
       "      <td>כרמיאל_גבעת רם</td>\n",
       "      <td>02:00:00</td>\n",
       "      <td>47915</td>\n",
       "      <td>32.791771</td>\n",
       "      <td>35.034289</td>\n",
       "    </tr>\n",
       "  </tbody>\n",
       "</table>\n",
       "</div>"
      ],
      "text/plain": [
       "           trip_id arrival_time departure_time_stop  stop_id  stop_sequence  \\\n",
       "0  10021427_271019     00:00:00            00:00:00    36133              1   \n",
       "1  10021428_271019     01:00:00            01:00:00    36133              1   \n",
       "2  10021429_271019     02:00:00            02:00:00    36133              1   \n",
       "\n",
       "   route_id   trip_headsign departure_time_trip_departure  stop_code  \\\n",
       "0     10376  כרמיאל_גבעת רם                      00:00:00      47915   \n",
       "1     10376  כרמיאל_גבעת רם                      01:00:00      47915   \n",
       "2     10376  כרמיאל_גבעת רם                      02:00:00      47915   \n",
       "\n",
       "    stop_lat   stop_lon  \n",
       "0  32.791771  35.034289  \n",
       "1  32.791771  35.034289  \n",
       "2  32.791771  35.034289  "
      ]
     },
     "execution_count": 12,
     "metadata": {},
     "output_type": "execute_result"
    }
   ],
   "source": [
    "# We want to (right) join this table with stop_times in order to get the sunday stop times with trip departure time.\n",
    "sunday_nodes_df = stop_times_df.merge(sunday_departures_df, how='right', on='trip_id', suffixes=('_stop', '_trip_departure'))\n",
    "\n",
    "# Remove some columns to clear the data\n",
    "sunday_nodes_df = sunday_nodes_df.drop(['pickup_type', 'shape_dist_traveled', \n",
    "                                        'drop_off_type', 'service_id', 'direction_is', 'shape_id'], \n",
    "                                       axis=1)\n",
    "\n",
    "# Add stops data to nodes\n",
    "nodes_df = sunday_nodes_df.merge(stops_df, on='stop_id', suffixes=('_node', '_stop'))\n",
    "nodes_df = nodes_df.drop(['stop_desc', 'stop_name', 'zone_id', 'parent_station', 'location_type'],axis=1)\n",
    "\n",
    "# Fot Yulia's example\n",
    "# Remove some columns to clear the data\n",
    "# sunday_nodes_df = sunday_nodes_df.drop(['pickup_type',\n",
    "#                                         'drop_off_type', 'service_id', 'direction_is', 'shape_id'], \n",
    "#                                        axis=1)\n",
    "# nodes_df = sunday_nodes_df.merge(stops_df, on='stop_id', suffixes=('_node', '_stop'))\n",
    "# nodes_df = nodes_df.drop(['stop_desc', 'stop_name', 'parent_station', 'location_type'],axis=1)\n",
    "\n",
    "nodes_df[:3]"
   ]
  },
  {
   "cell_type": "code",
   "execution_count": 13,
   "metadata": {},
   "outputs": [],
   "source": [
    "# Convert GTFS times to match \"real-world time\".\n",
    "nodes_df['arrival'] = nodes_df['arrival_time'].apply(convert_gtfs_time_to_datetime)\n",
    "nodes_df['departure'] = nodes_df['departure_time_stop'].apply(convert_gtfs_time_to_datetime)"
   ]
  },
  {
   "cell_type": "code",
   "execution_count": 14,
   "metadata": {},
   "outputs": [
    {
     "data": {
      "text/html": [
       "<div>\n",
       "<style scoped>\n",
       "    .dataframe tbody tr th:only-of-type {\n",
       "        vertical-align: middle;\n",
       "    }\n",
       "\n",
       "    .dataframe tbody tr th {\n",
       "        vertical-align: top;\n",
       "    }\n",
       "\n",
       "    .dataframe thead th {\n",
       "        text-align: right;\n",
       "    }\n",
       "</style>\n",
       "<table border=\"1\" class=\"dataframe\">\n",
       "  <thead>\n",
       "    <tr style=\"text-align: right;\">\n",
       "      <th></th>\n",
       "      <th>trip_id</th>\n",
       "      <th>arrival_time</th>\n",
       "      <th>departure_time_stop</th>\n",
       "      <th>stop_id</th>\n",
       "      <th>stop_sequence</th>\n",
       "      <th>route_id</th>\n",
       "      <th>trip_headsign</th>\n",
       "      <th>departure_time_trip_departure</th>\n",
       "      <th>stop_code</th>\n",
       "      <th>stop_lat</th>\n",
       "      <th>stop_lon</th>\n",
       "      <th>arrival</th>\n",
       "      <th>departure</th>\n",
       "    </tr>\n",
       "  </thead>\n",
       "  <tbody>\n",
       "    <tr>\n",
       "      <th>0</th>\n",
       "      <td>10021427_271019</td>\n",
       "      <td>00:00:00</td>\n",
       "      <td>00:00:00</td>\n",
       "      <td>36133</td>\n",
       "      <td>1</td>\n",
       "      <td>10376</td>\n",
       "      <td>כרמיאל_גבעת רם</td>\n",
       "      <td>00:00:00</td>\n",
       "      <td>47915</td>\n",
       "      <td>32.791771</td>\n",
       "      <td>35.034289</td>\n",
       "      <td>2019-11-03 00:00:00</td>\n",
       "      <td>2019-11-03 00:00:00</td>\n",
       "    </tr>\n",
       "    <tr>\n",
       "      <th>1</th>\n",
       "      <td>10021428_271019</td>\n",
       "      <td>01:00:00</td>\n",
       "      <td>01:00:00</td>\n",
       "      <td>36133</td>\n",
       "      <td>1</td>\n",
       "      <td>10376</td>\n",
       "      <td>כרמיאל_גבעת רם</td>\n",
       "      <td>01:00:00</td>\n",
       "      <td>47915</td>\n",
       "      <td>32.791771</td>\n",
       "      <td>35.034289</td>\n",
       "      <td>2019-11-03 01:00:00</td>\n",
       "      <td>2019-11-03 01:00:00</td>\n",
       "    </tr>\n",
       "    <tr>\n",
       "      <th>2</th>\n",
       "      <td>10021429_271019</td>\n",
       "      <td>02:00:00</td>\n",
       "      <td>02:00:00</td>\n",
       "      <td>36133</td>\n",
       "      <td>1</td>\n",
       "      <td>10376</td>\n",
       "      <td>כרמיאל_גבעת רם</td>\n",
       "      <td>02:00:00</td>\n",
       "      <td>47915</td>\n",
       "      <td>32.791771</td>\n",
       "      <td>35.034289</td>\n",
       "      <td>2019-11-03 02:00:00</td>\n",
       "      <td>2019-11-03 02:00:00</td>\n",
       "    </tr>\n",
       "  </tbody>\n",
       "</table>\n",
       "</div>"
      ],
      "text/plain": [
       "           trip_id arrival_time departure_time_stop  stop_id  stop_sequence  \\\n",
       "0  10021427_271019     00:00:00            00:00:00    36133              1   \n",
       "1  10021428_271019     01:00:00            01:00:00    36133              1   \n",
       "2  10021429_271019     02:00:00            02:00:00    36133              1   \n",
       "\n",
       "   route_id   trip_headsign departure_time_trip_departure  stop_code  \\\n",
       "0     10376  כרמיאל_גבעת רם                      00:00:00      47915   \n",
       "1     10376  כרמיאל_גבעת רם                      01:00:00      47915   \n",
       "2     10376  כרמיאל_גבעת רם                      02:00:00      47915   \n",
       "\n",
       "    stop_lat   stop_lon             arrival           departure  \n",
       "0  32.791771  35.034289 2019-11-03 00:00:00 2019-11-03 00:00:00  \n",
       "1  32.791771  35.034289 2019-11-03 01:00:00 2019-11-03 01:00:00  \n",
       "2  32.791771  35.034289 2019-11-03 02:00:00 2019-11-03 02:00:00  "
      ]
     },
     "execution_count": 14,
     "metadata": {},
     "output_type": "execute_result"
    }
   ],
   "source": [
    "nodes_df.head(3)"
   ]
  },
  {
   "cell_type": "markdown",
   "metadata": {},
   "source": [
    "## Some Stats on the Overall Nodes For the Day "
   ]
  },
  {
   "cell_type": "code",
   "execution_count": 15,
   "metadata": {},
   "outputs": [
    {
     "data": {
      "text/plain": [
       "trip_id                          99653\n",
       "arrival_time                     88667\n",
       "departure_time_stop              88667\n",
       "stop_id                          27622\n",
       "stop_sequence                      117\n",
       "route_id                          6742\n",
       "trip_headsign                     1710\n",
       "departure_time_trip_departure     1202\n",
       "stop_code                        27273\n",
       "stop_lat                         26961\n",
       "stop_lon                         26795\n",
       "arrival                          88667\n",
       "departure                        88667\n",
       "dtype: int64"
      ]
     },
     "execution_count": 15,
     "metadata": {},
     "output_type": "execute_result"
    }
   ],
   "source": [
    "nodes_df.nunique()"
   ]
  },
  {
   "cell_type": "code",
   "execution_count": 20,
   "metadata": {},
   "outputs": [],
   "source": [
    "# TODO: add node_id according to index, and save in pkl"
   ]
  },
  {
   "cell_type": "code",
   "execution_count": 16,
   "metadata": {},
   "outputs": [],
   "source": [
    "nodes_df.to_pickle(OUTPUT_PATH + 'all_nodes.pkl')"
   ]
  },
  {
   "cell_type": "code",
   "execution_count": 17,
   "metadata": {},
   "outputs": [
    {
     "name": "stderr",
     "output_type": "stream",
     "text": [
      "d:\\users\\bensdani\\venvs\\lib\\site-packages\\ipykernel_launcher.py:4: UserWarning: Boolean Series key will be reindexed to match DataFrame index.\n",
      "  after removing the cwd from sys.path.\n"
     ]
    },
    {
     "data": {
      "text/html": [
       "<div>\n",
       "<style scoped>\n",
       "    .dataframe tbody tr th:only-of-type {\n",
       "        vertical-align: middle;\n",
       "    }\n",
       "\n",
       "    .dataframe tbody tr th {\n",
       "        vertical-align: top;\n",
       "    }\n",
       "\n",
       "    .dataframe thead th {\n",
       "        text-align: right;\n",
       "    }\n",
       "</style>\n",
       "<table border=\"1\" class=\"dataframe\">\n",
       "  <thead>\n",
       "    <tr style=\"text-align: right;\">\n",
       "      <th></th>\n",
       "      <th>trip_id</th>\n",
       "      <th>arrival_time</th>\n",
       "      <th>departure_time_stop</th>\n",
       "      <th>stop_id</th>\n",
       "      <th>stop_sequence</th>\n",
       "      <th>route_id</th>\n",
       "      <th>trip_headsign</th>\n",
       "      <th>departure_time_trip_departure</th>\n",
       "      <th>stop_code</th>\n",
       "      <th>stop_lat</th>\n",
       "      <th>stop_lon</th>\n",
       "      <th>arrival</th>\n",
       "      <th>departure</th>\n",
       "    </tr>\n",
       "  </thead>\n",
       "  <tbody>\n",
       "    <tr>\n",
       "      <th>18</th>\n",
       "      <td>14824097_271019</td>\n",
       "      <td>08:02:40</td>\n",
       "      <td>08:02:40</td>\n",
       "      <td>2356</td>\n",
       "      <td>2</td>\n",
       "      <td>1606</td>\n",
       "      <td>נוף הגליל_שלום</td>\n",
       "      <td>08:00:00</td>\n",
       "      <td>41476</td>\n",
       "      <td>32.793214</td>\n",
       "      <td>35.038925</td>\n",
       "      <td>2019-11-03 08:02:40</td>\n",
       "      <td>2019-11-03 08:02:40</td>\n",
       "    </tr>\n",
       "    <tr>\n",
       "      <th>19</th>\n",
       "      <td>14824098_271019</td>\n",
       "      <td>09:02:40</td>\n",
       "      <td>09:02:40</td>\n",
       "      <td>2356</td>\n",
       "      <td>2</td>\n",
       "      <td>1606</td>\n",
       "      <td>נוף הגליל_שלום</td>\n",
       "      <td>09:00:00</td>\n",
       "      <td>41476</td>\n",
       "      <td>32.793214</td>\n",
       "      <td>35.038925</td>\n",
       "      <td>2019-11-03 09:02:40</td>\n",
       "      <td>2019-11-03 09:02:40</td>\n",
       "    </tr>\n",
       "    <tr>\n",
       "      <th>36</th>\n",
       "      <td>19590744_271019</td>\n",
       "      <td>08:14:17</td>\n",
       "      <td>08:14:17</td>\n",
       "      <td>2356</td>\n",
       "      <td>2</td>\n",
       "      <td>16379</td>\n",
       "      <td>טבריה_תחנה מרכזית</td>\n",
       "      <td>08:10:00</td>\n",
       "      <td>41476</td>\n",
       "      <td>32.793214</td>\n",
       "      <td>35.038925</td>\n",
       "      <td>2019-11-03 08:14:17</td>\n",
       "      <td>2019-11-03 08:14:17</td>\n",
       "    </tr>\n",
       "  </tbody>\n",
       "</table>\n",
       "</div>"
      ],
      "text/plain": [
       "            trip_id arrival_time departure_time_stop  stop_id  stop_sequence  \\\n",
       "18  14824097_271019     08:02:40            08:02:40     2356              2   \n",
       "19  14824098_271019     09:02:40            09:02:40     2356              2   \n",
       "36  19590744_271019     08:14:17            08:14:17     2356              2   \n",
       "\n",
       "    route_id      trip_headsign departure_time_trip_departure  stop_code  \\\n",
       "18      1606     נוף הגליל_שלום                      08:00:00      41476   \n",
       "19      1606     נוף הגליל_שלום                      09:00:00      41476   \n",
       "36     16379  טבריה_תחנה מרכזית                      08:10:00      41476   \n",
       "\n",
       "     stop_lat   stop_lon             arrival           departure  \n",
       "18  32.793214  35.038925 2019-11-03 08:02:40 2019-11-03 08:02:40  \n",
       "19  32.793214  35.038925 2019-11-03 09:02:40 2019-11-03 09:02:40  \n",
       "36  32.793214  35.038925 2019-11-03 08:14:17 2019-11-03 08:14:17  "
      ]
     },
     "execution_count": 17,
     "metadata": {},
     "output_type": "execute_result"
    }
   ],
   "source": [
    "start_time = DAY + dt.timedelta(hours=8)\n",
    "end_time = start_time + dt.timedelta(hours=1, minutes=30)\n",
    "\n",
    "morning_nodes_df = nodes_df[nodes_df['arrival'] > start_time][nodes_df['arrival'] < end_time]\n",
    "morning_nodes_df.head(3)"
   ]
  },
  {
   "cell_type": "code",
   "execution_count": 18,
   "metadata": {},
   "outputs": [
    {
     "data": {
      "text/plain": [
       "trip_id                          13765\n",
       "arrival_time                      5399\n",
       "departure_time_stop               5399\n",
       "stop_id                          25713\n",
       "stop_sequence                      117\n",
       "route_id                          3793\n",
       "trip_headsign                     1127\n",
       "departure_time_trip_departure      199\n",
       "stop_code                        25383\n",
       "stop_lat                         25107\n",
       "stop_lon                         24961\n",
       "arrival                           5399\n",
       "departure                         5399\n",
       "dtype: int64"
      ]
     },
     "execution_count": 18,
     "metadata": {},
     "output_type": "execute_result"
    }
   ],
   "source": [
    "morning_nodes_df.nunique()"
   ]
  },
  {
   "cell_type": "code",
   "execution_count": 24,
   "metadata": {},
   "outputs": [],
   "source": [
    "morning_nodes_df = morning_nodes_df.reset_index()"
   ]
  },
  {
   "cell_type": "code",
   "execution_count": 25,
   "metadata": {},
   "outputs": [],
   "source": [
    "morning_nodes_df['node_id'] = morning_nodes_df.index"
   ]
  },
  {
   "cell_type": "code",
   "execution_count": 26,
   "metadata": {},
   "outputs": [
    {
     "data": {
      "text/html": [
       "<div>\n",
       "<style scoped>\n",
       "    .dataframe tbody tr th:only-of-type {\n",
       "        vertical-align: middle;\n",
       "    }\n",
       "\n",
       "    .dataframe tbody tr th {\n",
       "        vertical-align: top;\n",
       "    }\n",
       "\n",
       "    .dataframe thead th {\n",
       "        text-align: right;\n",
       "    }\n",
       "</style>\n",
       "<table border=\"1\" class=\"dataframe\">\n",
       "  <thead>\n",
       "    <tr style=\"text-align: right;\">\n",
       "      <th></th>\n",
       "      <th>index</th>\n",
       "      <th>trip_id</th>\n",
       "      <th>arrival_time</th>\n",
       "      <th>departure_time_stop</th>\n",
       "      <th>stop_id</th>\n",
       "      <th>stop_sequence</th>\n",
       "      <th>route_id</th>\n",
       "      <th>trip_headsign</th>\n",
       "      <th>departure_time_trip_departure</th>\n",
       "      <th>stop_code</th>\n",
       "      <th>stop_lat</th>\n",
       "      <th>stop_lon</th>\n",
       "      <th>arrival</th>\n",
       "      <th>departure</th>\n",
       "      <th>node_id</th>\n",
       "    </tr>\n",
       "  </thead>\n",
       "  <tbody>\n",
       "    <tr>\n",
       "      <th>0</th>\n",
       "      <td>18</td>\n",
       "      <td>14824097_271019</td>\n",
       "      <td>08:02:40</td>\n",
       "      <td>08:02:40</td>\n",
       "      <td>2356</td>\n",
       "      <td>2</td>\n",
       "      <td>1606</td>\n",
       "      <td>נוף הגליל_שלום</td>\n",
       "      <td>08:00:00</td>\n",
       "      <td>41476</td>\n",
       "      <td>32.793214</td>\n",
       "      <td>35.038925</td>\n",
       "      <td>2019-11-03 08:02:40</td>\n",
       "      <td>2019-11-03 08:02:40</td>\n",
       "      <td>0</td>\n",
       "    </tr>\n",
       "    <tr>\n",
       "      <th>1</th>\n",
       "      <td>19</td>\n",
       "      <td>14824098_271019</td>\n",
       "      <td>09:02:40</td>\n",
       "      <td>09:02:40</td>\n",
       "      <td>2356</td>\n",
       "      <td>2</td>\n",
       "      <td>1606</td>\n",
       "      <td>נוף הגליל_שלום</td>\n",
       "      <td>09:00:00</td>\n",
       "      <td>41476</td>\n",
       "      <td>32.793214</td>\n",
       "      <td>35.038925</td>\n",
       "      <td>2019-11-03 09:02:40</td>\n",
       "      <td>2019-11-03 09:02:40</td>\n",
       "      <td>1</td>\n",
       "    </tr>\n",
       "    <tr>\n",
       "      <th>2</th>\n",
       "      <td>36</td>\n",
       "      <td>19590744_271019</td>\n",
       "      <td>08:14:17</td>\n",
       "      <td>08:14:17</td>\n",
       "      <td>2356</td>\n",
       "      <td>2</td>\n",
       "      <td>16379</td>\n",
       "      <td>טבריה_תחנה מרכזית</td>\n",
       "      <td>08:10:00</td>\n",
       "      <td>41476</td>\n",
       "      <td>32.793214</td>\n",
       "      <td>35.038925</td>\n",
       "      <td>2019-11-03 08:14:17</td>\n",
       "      <td>2019-11-03 08:14:17</td>\n",
       "      <td>2</td>\n",
       "    </tr>\n",
       "  </tbody>\n",
       "</table>\n",
       "</div>"
      ],
      "text/plain": [
       "   index          trip_id arrival_time departure_time_stop  stop_id  \\\n",
       "0     18  14824097_271019     08:02:40            08:02:40     2356   \n",
       "1     19  14824098_271019     09:02:40            09:02:40     2356   \n",
       "2     36  19590744_271019     08:14:17            08:14:17     2356   \n",
       "\n",
       "   stop_sequence  route_id      trip_headsign departure_time_trip_departure  \\\n",
       "0              2      1606     נוף הגליל_שלום                      08:00:00   \n",
       "1              2      1606     נוף הגליל_שלום                      09:00:00   \n",
       "2              2     16379  טבריה_תחנה מרכזית                      08:10:00   \n",
       "\n",
       "   stop_code   stop_lat   stop_lon             arrival           departure  \\\n",
       "0      41476  32.793214  35.038925 2019-11-03 08:02:40 2019-11-03 08:02:40   \n",
       "1      41476  32.793214  35.038925 2019-11-03 09:02:40 2019-11-03 09:02:40   \n",
       "2      41476  32.793214  35.038925 2019-11-03 08:14:17 2019-11-03 08:14:17   \n",
       "\n",
       "   node_id  \n",
       "0        0  \n",
       "1        1  \n",
       "2        2  "
      ]
     },
     "execution_count": 26,
     "metadata": {},
     "output_type": "execute_result"
    }
   ],
   "source": [
    "morning_nodes_df.head(3)"
   ]
  },
  {
   "cell_type": "code",
   "execution_count": 27,
   "metadata": {},
   "outputs": [],
   "source": [
    "morning_nodes_df.to_pickle(OUTPUT_PATH + 'morning_nodes.pkl')"
   ]
  },
  {
   "cell_type": "markdown",
   "metadata": {},
   "source": [
    "## Filter only Tel Aviv Metropolitan stops"
   ]
  },
  {
   "cell_type": "markdown",
   "metadata": {},
   "source": [
    "Let's get all Tel Aviv (TLV) stops "
   ]
  },
  {
   "cell_type": "code",
   "execution_count": null,
   "metadata": {},
   "outputs": [],
   "source": [
    "for zone in stops_df['zone_id'].unique():\n",
    "    print(zone)"
   ]
  },
  {
   "cell_type": "code",
   "execution_count": null,
   "metadata": {},
   "outputs": [],
   "source": [
    "test_stops = stops_df[stops_df['zone_id'] == 6900]\n",
    "test_stops.to_csv(OUTPUT_PATH + 'test_stops.csv')"
   ]
  },
  {
   "cell_type": "code",
   "execution_count": null,
   "metadata": {},
   "outputs": [],
   "source": [
    "test_stops.shape"
   ]
  },
  {
   "cell_type": "code",
   "execution_count": null,
   "metadata": {},
   "outputs": [],
   "source": [
    "stops_df.shape"
   ]
  },
  {
   "cell_type": "code",
   "execution_count": null,
   "metadata": {},
   "outputs": [],
   "source": [
    "# Let's see how manu NaN zones we have:\n",
    "stops_df['zone_id'].isna().sum()"
   ]
  },
  {
   "cell_type": "code",
   "execution_count": null,
   "metadata": {},
   "outputs": [],
   "source": [
    "# I think zone 210 is tel aviv metropolitan area (only the small surrounding part, we would need to extend for our real computations). \n",
    "# We need to filter only trips that contain stops (and then only nodes with those stops) that are in this zone.\n",
    "tlv_stops_df = stops_df[stops_df['zone_id'] == 210]"
   ]
  },
  {
   "cell_type": "code",
   "execution_count": null,
   "metadata": {},
   "outputs": [],
   "source": [
    "tlv_stops_df.shape"
   ]
  },
  {
   "cell_type": "markdown",
   "metadata": {},
   "source": [
    "Now we need to get the TLV stop times, in order to find all trips that include TLV stops"
   ]
  },
  {
   "cell_type": "code",
   "execution_count": null,
   "metadata": {},
   "outputs": [],
   "source": [
    "# stop_times_df\n",
    "tlv_stop_times_df = stop_times_df.merge(tlv_stops_df[['stop_id']], on='stop_id', how='inner')"
   ]
  },
  {
   "cell_type": "code",
   "execution_count": null,
   "metadata": {},
   "outputs": [],
   "source": [
    "tlv_stop_times_df.shape"
   ]
  },
  {
   "cell_type": "code",
   "execution_count": null,
   "metadata": {},
   "outputs": [],
   "source": [
    "stop_times_df.shape"
   ]
  },
  {
   "cell_type": "markdown",
   "metadata": {},
   "source": [
    "Next, the TLV stop times include all actual trip ids with TLV stops in them. Let's find relevant trip in the Sunday's trips we're examining"
   ]
  },
  {
   "cell_type": "code",
   "execution_count": null,
   "metadata": {},
   "outputs": [],
   "source": [
    "# !!!!!!!!!!!!!!!!!!!!!!!!!!!!!!!!!!!!!!!!!!!!!!!!!!!!!!!!\n",
    "#\n",
    "# We want to get unique trips which pass through TLV, then we will use these trips to filter \n",
    "# only nodes that pass through TLV.\n",
    "#\n",
    "# !!!!!!!!!!!!!!!!!!!!!!!!!!!!!!!!!!!!!!!!!!!!!!!!!!!!!!!!\n",
    "\n",
    "tlv_trips_df = tlv_stop_times_df[['trip_id']].drop_duplicates(subset =\"trip_id\", \n",
    "                     keep = False, inplace = False)"
   ]
  },
  {
   "cell_type": "code",
   "execution_count": null,
   "metadata": {},
   "outputs": [],
   "source": [
    "tlv_trips_df.head()"
   ]
  },
  {
   "cell_type": "code",
   "execution_count": null,
   "metadata": {},
   "outputs": [],
   "source": [
    "tlv_trips_df.shape"
   ]
  },
  {
   "cell_type": "markdown",
   "metadata": {},
   "source": [
    "Finally, let's save only nodes that include TLV trips"
   ]
  },
  {
   "cell_type": "code",
   "execution_count": null,
   "metadata": {},
   "outputs": [],
   "source": [
    "tlv_nodes_df = nodes_df.merge(tlv_trips_df[['trip_id']], on='trip_id', how='inner')"
   ]
  },
  {
   "cell_type": "code",
   "execution_count": null,
   "metadata": {},
   "outputs": [],
   "source": [
    "nodes_df.shape"
   ]
  },
  {
   "cell_type": "code",
   "execution_count": null,
   "metadata": {},
   "outputs": [],
   "source": [
    "tlv_nodes_df.shape"
   ]
  },
  {
   "cell_type": "code",
   "execution_count": null,
   "metadata": {},
   "outputs": [],
   "source": [
    "tlv_nodes_df.to_csv('tlv_nodes.csv')"
   ]
  }
 ],
 "metadata": {
  "kernelspec": {
   "display_name": "Python 3",
   "language": "python",
   "name": "python3"
  },
  "language_info": {
   "codemirror_mode": {
    "name": "ipython",
    "version": 3
   },
   "file_extension": ".py",
   "mimetype": "text/x-python",
   "name": "python",
   "nbconvert_exporter": "python",
   "pygments_lexer": "ipython3",
   "version": "3.6.4"
  }
 },
 "nbformat": 4,
 "nbformat_minor": 2
}
