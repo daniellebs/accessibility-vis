{
 "cells": [
  {
   "cell_type": "markdown",
   "metadata": {},
   "source": [
    "## GTFS\n",
    "In order to compute accessibility based on GTFS data (General Transit Feed Specification, can by downloaded from ftp://199.203.58.18/), we will first perform basic processing of the data.\n",
    "We are using the pandas library.\n",
    "\n",
    "The code is based on the following structure of GTFS tables:\n",
    "![GTFS Tables](./GTFS_tables.PNG)"
   ]
  },
  {
   "cell_type": "code",
   "execution_count": 1,
   "metadata": {},
   "outputs": [],
   "source": [
    "import pandas as pd\n",
    "import datetime\n",
    "import numpy as np\n",
    "import geopy.distance\n",
    "from tqdm.auto import tqdm\n",
    "tqdm.pandas()\n",
    "import dask.dataframe as dd\n",
    "from dask.multiprocessing import get\n",
    "from geopy.point import Point\n",
    "\n",
    "from dask.diagnostics import ProgressBar\n",
    "ProgressBar().register()\n",
    "\n",
    "# DATA_PATH = '../data/'\n",
    "DATA_PATH = '../../input_data/GTFS-28-Oct-19/'\n",
    "OUTPUT_PATH = '../../output_data/'"
   ]
  },
  {
   "cell_type": "markdown",
   "metadata": {},
   "source": [
    "## Load Nodes"
   ]
  },
  {
   "cell_type": "code",
   "execution_count": 2,
   "metadata": {},
   "outputs": [
    {
     "data": {
      "text/html": [
       "<div>\n",
       "<style scoped>\n",
       "    .dataframe tbody tr th:only-of-type {\n",
       "        vertical-align: middle;\n",
       "    }\n",
       "\n",
       "    .dataframe tbody tr th {\n",
       "        vertical-align: top;\n",
       "    }\n",
       "\n",
       "    .dataframe thead th {\n",
       "        text-align: right;\n",
       "    }\n",
       "</style>\n",
       "<table border=\"1\" class=\"dataframe\">\n",
       "  <thead>\n",
       "    <tr style=\"text-align: right;\">\n",
       "      <th></th>\n",
       "      <th>trip_id</th>\n",
       "      <th>arrival_time</th>\n",
       "      <th>departure_time_stop</th>\n",
       "      <th>stop_id</th>\n",
       "      <th>stop_sequence</th>\n",
       "      <th>route_id</th>\n",
       "      <th>departure_time_trip_departure</th>\n",
       "      <th>stop_code</th>\n",
       "      <th>stop_lat</th>\n",
       "      <th>stop_lon</th>\n",
       "      <th>arrival</th>\n",
       "      <th>departure</th>\n",
       "    </tr>\n",
       "  </thead>\n",
       "  <tbody>\n",
       "    <tr>\n",
       "      <th>18</th>\n",
       "      <td>14824097_271019</td>\n",
       "      <td>08:02:40</td>\n",
       "      <td>08:02:40</td>\n",
       "      <td>2356</td>\n",
       "      <td>2</td>\n",
       "      <td>1606</td>\n",
       "      <td>08:00:00</td>\n",
       "      <td>41476</td>\n",
       "      <td>32.793214</td>\n",
       "      <td>35.038925</td>\n",
       "      <td>2019-11-03 08:02:40</td>\n",
       "      <td>2019-11-03 08:02:40</td>\n",
       "    </tr>\n",
       "    <tr>\n",
       "      <th>36</th>\n",
       "      <td>19590744_271019</td>\n",
       "      <td>08:14:17</td>\n",
       "      <td>08:14:17</td>\n",
       "      <td>2356</td>\n",
       "      <td>2</td>\n",
       "      <td>16379</td>\n",
       "      <td>08:10:00</td>\n",
       "      <td>41476</td>\n",
       "      <td>32.793214</td>\n",
       "      <td>35.038925</td>\n",
       "      <td>2019-11-03 08:14:17</td>\n",
       "      <td>2019-11-03 08:14:17</td>\n",
       "    </tr>\n",
       "    <tr>\n",
       "      <th>61</th>\n",
       "      <td>24004495_271019</td>\n",
       "      <td>08:09:09</td>\n",
       "      <td>08:09:09</td>\n",
       "      <td>2356</td>\n",
       "      <td>2</td>\n",
       "      <td>4418</td>\n",
       "      <td>08:05:00</td>\n",
       "      <td>41476</td>\n",
       "      <td>32.793214</td>\n",
       "      <td>35.038925</td>\n",
       "      <td>2019-11-03 08:09:09</td>\n",
       "      <td>2019-11-03 08:09:09</td>\n",
       "    </tr>\n",
       "  </tbody>\n",
       "</table>\n",
       "</div>"
      ],
      "text/plain": [
       "            trip_id arrival_time departure_time_stop  stop_id  stop_sequence  \\\n",
       "18  14824097_271019     08:02:40            08:02:40     2356              2   \n",
       "36  19590744_271019     08:14:17            08:14:17     2356              2   \n",
       "61  24004495_271019     08:09:09            08:09:09     2356              2   \n",
       "\n",
       "    route_id departure_time_trip_departure  stop_code   stop_lat   stop_lon  \\\n",
       "18      1606                      08:00:00      41476  32.793214  35.038925   \n",
       "36     16379                      08:10:00      41476  32.793214  35.038925   \n",
       "61      4418                      08:05:00      41476  32.793214  35.038925   \n",
       "\n",
       "               arrival           departure  \n",
       "18 2019-11-03 08:02:40 2019-11-03 08:02:40  \n",
       "36 2019-11-03 08:14:17 2019-11-03 08:14:17  \n",
       "61 2019-11-03 08:09:09 2019-11-03 08:09:09  "
      ]
     },
     "execution_count": 2,
     "metadata": {},
     "output_type": "execute_result"
    }
   ],
   "source": [
    "# Load nodes\n",
    "NODES_PATH = 'morning_trips_nodes.pkl'\n",
    "nodes_df = pd.read_pickle(OUTPUT_PATH + NODES_PATH)\n",
    "nodes_df.head(3)"
   ]
  },
  {
   "cell_type": "markdown",
   "metadata": {},
   "source": [
    "## Compute transferable stops"
   ]
  },
  {
   "cell_type": "code",
   "execution_count": 3,
   "metadata": {},
   "outputs": [
    {
     "data": {
      "text/html": [
       "<div>\n",
       "<style scoped>\n",
       "    .dataframe tbody tr th:only-of-type {\n",
       "        vertical-align: middle;\n",
       "    }\n",
       "\n",
       "    .dataframe tbody tr th {\n",
       "        vertical-align: top;\n",
       "    }\n",
       "\n",
       "    .dataframe thead th {\n",
       "        text-align: right;\n",
       "    }\n",
       "</style>\n",
       "<table border=\"1\" class=\"dataframe\">\n",
       "  <thead>\n",
       "    <tr style=\"text-align: right;\">\n",
       "      <th></th>\n",
       "      <th>stop_id</th>\n",
       "      <th>stop_code</th>\n",
       "      <th>stop_name</th>\n",
       "      <th>stop_desc</th>\n",
       "      <th>stop_lat</th>\n",
       "      <th>stop_lon</th>\n",
       "      <th>location_type</th>\n",
       "      <th>parent_station</th>\n",
       "      <th>zone_id</th>\n",
       "    </tr>\n",
       "  </thead>\n",
       "  <tbody>\n",
       "    <tr>\n",
       "      <th>0</th>\n",
       "      <td>1</td>\n",
       "      <td>38831</td>\n",
       "      <td>בי''ס בר לב/בן יהודה</td>\n",
       "      <td>רחוב:בן יהודה 76 עיר: כפר סבא רציף:   קומה:</td>\n",
       "      <td>32.183939</td>\n",
       "      <td>34.917812</td>\n",
       "      <td>0</td>\n",
       "      <td>NaN</td>\n",
       "      <td>6900</td>\n",
       "    </tr>\n",
       "    <tr>\n",
       "      <th>1</th>\n",
       "      <td>2</td>\n",
       "      <td>38832</td>\n",
       "      <td>הרצל/צומת בילו</td>\n",
       "      <td>רחוב:הרצל  עיר: קרית עקרון רציף:   קומה:</td>\n",
       "      <td>31.870034</td>\n",
       "      <td>34.819541</td>\n",
       "      <td>0</td>\n",
       "      <td>NaN</td>\n",
       "      <td>469</td>\n",
       "    </tr>\n",
       "    <tr>\n",
       "      <th>2</th>\n",
       "      <td>3</td>\n",
       "      <td>38833</td>\n",
       "      <td>הנחשול/הדייגים</td>\n",
       "      <td>רחוב:הנחשול 30 עיר: ראשון לציון רציף:   קומה:</td>\n",
       "      <td>31.984553</td>\n",
       "      <td>34.782828</td>\n",
       "      <td>0</td>\n",
       "      <td>NaN</td>\n",
       "      <td>8300</td>\n",
       "    </tr>\n",
       "  </tbody>\n",
       "</table>\n",
       "</div>"
      ],
      "text/plain": [
       "   stop_id  stop_code             stop_name  \\\n",
       "0        1      38831  בי''ס בר לב/בן יהודה   \n",
       "1        2      38832        הרצל/צומת בילו   \n",
       "2        3      38833        הנחשול/הדייגים   \n",
       "\n",
       "                                          stop_desc   stop_lat   stop_lon  \\\n",
       "0     רחוב:בן יהודה 76 עיר: כפר סבא רציף:   קומה:    32.183939  34.917812   \n",
       "1        רחוב:הרצל  עיר: קרית עקרון רציף:   קומה:    31.870034  34.819541   \n",
       "2   רחוב:הנחשול 30 עיר: ראשון לציון רציף:   קומה:    31.984553  34.782828   \n",
       "\n",
       "   location_type  parent_station  zone_id  \n",
       "0              0             NaN     6900  \n",
       "1              0             NaN      469  \n",
       "2              0             NaN     8300  "
      ]
     },
     "execution_count": 3,
     "metadata": {},
     "output_type": "execute_result"
    }
   ],
   "source": [
    "stops_df = pd.read_csv(DATA_PATH + 'stops.txt')\n",
    "stops_df.head(3)"
   ]
  },
  {
   "cell_type": "code",
   "execution_count": 4,
   "metadata": {},
   "outputs": [
    {
     "data": {
      "text/plain": [
       "stop_id           27989\n",
       "stop_code         27553\n",
       "stop_name         20556\n",
       "stop_desc         17768\n",
       "stop_lat          27231\n",
       "stop_lon          27069\n",
       "location_type         2\n",
       "parent_station       87\n",
       "zone_id            3895\n",
       "dtype: int64"
      ]
     },
     "execution_count": 4,
     "metadata": {},
     "output_type": "execute_result"
    }
   ],
   "source": [
    "stops_df.nunique()"
   ]
  },
  {
   "cell_type": "code",
   "execution_count": null,
   "metadata": {},
   "outputs": [],
   "source": [
    "stops = stops_df[['stop_id', 'stop_lon', 'stop_lat']]\n",
    "\n",
    "transferable_stops = {'source': [], 'dest': [], \n",
    "#                       'source_point': [], 'dest_point': [], \n",
    "                      'distance': []}\n",
    "\n",
    "def get_stop_transfers(stop):\n",
    "    current_point = geopy.Point(stop['stop_lon'], stop['stop_lat'])\n",
    "    current_stop_id = stop['stop_id']\n",
    "    dest_stops_df = pd.DataFrame(columns=['source', 'dest', 'distance'])\n",
    "    def get_points_dist(s):\n",
    "        # Get distance in meters\n",
    "        p = geopy.Point(stop['stop_lon'], stop['stop_lat'])\n",
    "        dist = geopy.distance.distance(p, current_point).m\n",
    "        if dist <= 200:\n",
    "            transferable_stops['source'].append(current_stop_id)\n",
    "            transferable_stops['dest'].append(s['stop_id'])\n",
    "    #         transferable_stops['source_point'].append(current_point)\n",
    "    #         transferable_stops['dest_point'].append(p)\n",
    "            transferable_stops['distance'].append(dist)\n",
    "\n",
    "    stops.apply(lambda s: get_points_dist(s), axis=1)\n",
    "    \n",
    "    \n",
    "d_stops = dd.from_pandas(stops, npartitions=30)\n",
    "d_stops.map_partitions(lambda df: df.apply(lambda x: get_stop_transfers(x), axis=1)).compute(scheduler='threads') \n",
    "\n",
    "transferable_stops_df = pd.DataFrame.from_dict(transferable_stops)\n",
    "transferable_stops_df.head()"
   ]
  },
  {
   "cell_type": "code",
   "execution_count": 56,
   "metadata": {},
   "outputs": [
    {
     "data": {
      "text/plain": [
       "(56010, 3)"
      ]
     },
     "execution_count": 56,
     "metadata": {},
     "output_type": "execute_result"
    }
   ],
   "source": [
    "transferable_stops_df.shape"
   ]
  },
  {
   "cell_type": "code",
   "execution_count": 59,
   "metadata": {},
   "outputs": [
    {
     "data": {
      "text/plain": [
       "source          1.0\n",
       "dest        42005.0\n",
       "distance        0.0\n",
       "dtype: float64"
      ]
     },
     "execution_count": 59,
     "metadata": {},
     "output_type": "execute_result"
    }
   ],
   "source": [
    "transferable_stops_df.max()"
   ]
  },
  {
   "cell_type": "markdown",
   "metadata": {},
   "source": [
    "## Let's compute for a test zone (6900, Kfar Saba)"
   ]
  },
  {
   "cell_type": "code",
   "execution_count": 5,
   "metadata": {},
   "outputs": [
    {
     "data": {
      "text/html": [
       "<div>\n",
       "<style scoped>\n",
       "    .dataframe tbody tr th:only-of-type {\n",
       "        vertical-align: middle;\n",
       "    }\n",
       "\n",
       "    .dataframe tbody tr th {\n",
       "        vertical-align: top;\n",
       "    }\n",
       "\n",
       "    .dataframe thead th {\n",
       "        text-align: right;\n",
       "    }\n",
       "</style>\n",
       "<table border=\"1\" class=\"dataframe\">\n",
       "  <thead>\n",
       "    <tr style=\"text-align: right;\">\n",
       "      <th></th>\n",
       "      <th>stop_id</th>\n",
       "      <th>stop_code</th>\n",
       "      <th>stop_name</th>\n",
       "      <th>stop_desc</th>\n",
       "      <th>stop_lat</th>\n",
       "      <th>stop_lon</th>\n",
       "      <th>location_type</th>\n",
       "      <th>parent_station</th>\n",
       "      <th>zone_id</th>\n",
       "    </tr>\n",
       "  </thead>\n",
       "  <tbody>\n",
       "    <tr>\n",
       "      <th>0</th>\n",
       "      <td>1</td>\n",
       "      <td>38831</td>\n",
       "      <td>בי''ס בר לב/בן יהודה</td>\n",
       "      <td>רחוב:בן יהודה 76 עיר: כפר סבא רציף:   קומה:</td>\n",
       "      <td>32.183939</td>\n",
       "      <td>34.917812</td>\n",
       "      <td>0</td>\n",
       "      <td>NaN</td>\n",
       "      <td>6900</td>\n",
       "    </tr>\n",
       "    <tr>\n",
       "      <th>613</th>\n",
       "      <td>745</td>\n",
       "      <td>39690</td>\n",
       "      <td>וייצמן/סוקולוב</td>\n",
       "      <td>רחוב:וייצמן 66 עיר: כפר סבא רציף:   קומה:</td>\n",
       "      <td>32.176261</td>\n",
       "      <td>34.903576</td>\n",
       "      <td>0</td>\n",
       "      <td>NaN</td>\n",
       "      <td>6900</td>\n",
       "    </tr>\n",
       "    <tr>\n",
       "      <th>614</th>\n",
       "      <td>747</td>\n",
       "      <td>39699</td>\n",
       "      <td>וייצמן/נורדאו</td>\n",
       "      <td>רחוב:וייצמן 186 עיר: כפר סבא רציף:   קומה:</td>\n",
       "      <td>32.172781</td>\n",
       "      <td>34.918988</td>\n",
       "      <td>0</td>\n",
       "      <td>NaN</td>\n",
       "      <td>6900</td>\n",
       "    </tr>\n",
       "  </tbody>\n",
       "</table>\n",
       "</div>"
      ],
      "text/plain": [
       "     stop_id  stop_code             stop_name  \\\n",
       "0          1      38831  בי''ס בר לב/בן יהודה   \n",
       "613      745      39690        וייצמן/סוקולוב   \n",
       "614      747      39699         וייצמן/נורדאו   \n",
       "\n",
       "                                          stop_desc   stop_lat   stop_lon  \\\n",
       "0     רחוב:בן יהודה 76 עיר: כפר סבא רציף:   קומה:    32.183939  34.917812   \n",
       "613     רחוב:וייצמן 66 עיר: כפר סבא רציף:   קומה:    32.176261  34.903576   \n",
       "614    רחוב:וייצמן 186 עיר: כפר סבא רציף:   קומה:    32.172781  34.918988   \n",
       "\n",
       "     location_type  parent_station  zone_id  \n",
       "0                0             NaN     6900  \n",
       "613              0             NaN     6900  \n",
       "614              0             NaN     6900  "
      ]
     },
     "execution_count": 5,
     "metadata": {},
     "output_type": "execute_result"
    }
   ],
   "source": [
    "test_stops_df = stops_df[stops_df['zone_id'] == 6900]\n",
    "test_stops_df.head(3)"
   ]
  },
  {
   "cell_type": "code",
   "execution_count": null,
   "metadata": {},
   "outputs": [],
   "source": [
    "stops = test_stops_df[['stop_id', 'stop_lon', 'stop_lat']]\n",
    "\n",
    "transferable_stops = {'source': [], 'dest': [], \n",
    "#                       'source_point': [], 'dest_point': [], \n",
    "                      'distance': []}\n",
    "\n",
    "def get_stop_transfers(stop):\n",
    "    current_point = Point(stop['stop_lon'], stop['stop_lat'])\n",
    "    current_stop_id = stop['stop_id']\n",
    "    dest_stops_df = pd.DataFrame(columns=['source', 'dest', 'distance'])\n",
    "    def get_points_dist(s):\n",
    "        # Get distance in meters\n",
    "        p = geopy.Point(s['stop_lon'], s['stop_lat'])\n",
    "#         print(type(p))\n",
    "#         print(type(current_point))\n",
    "        dist = geopy.distance.distance(p, current_point).m\n",
    "        if dist <= 200:\n",
    "            transferable_stops['source'].append(current_stop_id)\n",
    "            transferable_stops['dest'].append(s['stop_id'])\n",
    "    #         transferable_stops['source_point'].append(current_point)\n",
    "    #         transferable_stops['dest_point'].append(p)\n",
    "            transferable_stops['distance'].append(dist)\n",
    "\n",
    "    stops.apply(lambda s: get_points_dist(s), axis=1)\n",
    "    \n",
    "    \n",
    "d_stops = dd.from_pandas(stops, npartitions=30)\n",
    "d_stops.map_partitions(lambda df: df.apply(lambda x: get_stop_transfers(x), axis=1)).compute(scheduler='threads') \n",
    "\n",
    "transferable_stops_df = pd.DataFrame.from_dict(transferable_stops)\n",
    "transferable_stops_df.head()"
   ]
  },
  {
   "cell_type": "code",
   "execution_count": null,
   "metadata": {},
   "outputs": [],
   "source": [
    "transferable_stops_df = pd.DataFrame.from_dict(transferable_stops)\n",
    "transferable_stops_df.head()"
   ]
  },
  {
   "cell_type": "code",
   "execution_count": 16,
   "metadata": {},
   "outputs": [
    {
     "name": "stdout",
     "output_type": "stream",
     "text": [
      "32 49m 53.3712s N, 34 58m 58.8648s E\n",
      "32 49m 55.3152s N, 34 58m 59.502s E\n"
     ]
    },
    {
     "data": {
      "text/plain": [
       "62.137565373103996"
      ]
     },
     "execution_count": 16,
     "metadata": {},
     "output_type": "execute_result"
    }
   ],
   "source": [
    "# Milson street Haifa\n",
    "a = Point(32.831492, 34.983018)\n",
    "b = Point(32.832032, 34.983195)\n",
    "\n",
    "# TLV example\n",
    "# 32.078797, 34.781148 to 32.078797, 34.781148 is 0.0\n",
    "# a = Point(32.076684, 34.781313)\n",
    "# b = Point(32.075101, 34.78157)\n",
    "\n",
    "latitude, longitude, altitude = a\n",
    "print(a)\n",
    "print(b)\n",
    "geopy.distance.distance(a, b).m"
   ]
  },
  {
   "cell_type": "markdown",
   "metadata": {},
   "source": [
    "## Compute Transfer Edges"
   ]
  },
  {
   "cell_type": "code",
   "execution_count": null,
   "metadata": {},
   "outputs": [],
   "source": []
  }
 ],
 "metadata": {
  "kernelspec": {
   "display_name": "Python 3",
   "language": "python",
   "name": "python3"
  },
  "language_info": {
   "codemirror_mode": {
    "name": "ipython",
    "version": 3
   },
   "file_extension": ".py",
   "mimetype": "text/x-python",
   "name": "python",
   "nbconvert_exporter": "python",
   "pygments_lexer": "ipython3",
   "version": "3.6.4"
  }
 },
 "nbformat": 4,
 "nbformat_minor": 2
}
