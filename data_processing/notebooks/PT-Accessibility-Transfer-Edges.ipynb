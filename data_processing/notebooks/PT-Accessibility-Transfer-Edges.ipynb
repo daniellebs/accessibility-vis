{
 "cells": [
  {
   "cell_type": "markdown",
   "metadata": {},
   "source": [
    "## GTFS - Transfer Edges"
   ]
  },
  {
   "cell_type": "code",
   "execution_count": 4,
   "metadata": {},
   "outputs": [],
   "source": [
    "import bisect\n",
    "import pandas as pd\n",
    "import datetime\n",
    "import numpy as np\n",
    "from tqdm.auto import tqdm\n",
    "from tqdm import tqdm_notebook\n",
    "tqdm.pandas()\n",
    "import datetime as dt\n",
    "from multiprocessing import Pool, cpu_count\n",
    "from contextlib import closing\n",
    "import math\n",
    "\n",
    "# from dask.diagnostics import ProgressBar\n",
    "# ProgressBar().register()\n",
    "\n",
    "DATA_PATH = '../../input_data/GTFS-28-Oct-19/'"
   ]
  },
  {
   "cell_type": "code",
   "execution_count": 6,
   "metadata": {},
   "outputs": [],
   "source": [
    "OUTPUT_PATH = '../../output_data/'"
   ]
  },
  {
   "cell_type": "code",
   "execution_count": 3,
   "metadata": {},
   "outputs": [],
   "source": [
    "DAY = dt.datetime(2019, 11, 3)"
   ]
  },
  {
   "cell_type": "markdown",
   "metadata": {},
   "source": [
    "## Load Nodes"
   ]
  },
  {
   "cell_type": "code",
   "execution_count": 4,
   "metadata": {},
   "outputs": [
    {
     "name": "stdout",
     "output_type": "stream",
     "text": [
      "Loading nodes from file ../../output_data/morning_nodes.pkl\n"
     ]
    },
    {
     "data": {
      "text/html": [
       "<div>\n",
       "<style scoped>\n",
       "    .dataframe tbody tr th:only-of-type {\n",
       "        vertical-align: middle;\n",
       "    }\n",
       "\n",
       "    .dataframe tbody tr th {\n",
       "        vertical-align: top;\n",
       "    }\n",
       "\n",
       "    .dataframe thead th {\n",
       "        text-align: right;\n",
       "    }\n",
       "</style>\n",
       "<table border=\"1\" class=\"dataframe\">\n",
       "  <thead>\n",
       "    <tr style=\"text-align: right;\">\n",
       "      <th></th>\n",
       "      <th>index</th>\n",
       "      <th>trip_id</th>\n",
       "      <th>arrival_time</th>\n",
       "      <th>departure_time_stop</th>\n",
       "      <th>stop_id</th>\n",
       "      <th>stop_sequence</th>\n",
       "      <th>route_id</th>\n",
       "      <th>trip_headsign</th>\n",
       "      <th>departure_time_trip_departure</th>\n",
       "      <th>stop_code</th>\n",
       "      <th>stop_lat</th>\n",
       "      <th>stop_lon</th>\n",
       "      <th>arrival</th>\n",
       "      <th>departure</th>\n",
       "      <th>node_id</th>\n",
       "    </tr>\n",
       "  </thead>\n",
       "  <tbody>\n",
       "    <tr>\n",
       "      <th>0</th>\n",
       "      <td>18</td>\n",
       "      <td>14824097_271019</td>\n",
       "      <td>08:02:40</td>\n",
       "      <td>08:02:40</td>\n",
       "      <td>2356</td>\n",
       "      <td>2</td>\n",
       "      <td>1606</td>\n",
       "      <td>נוף הגליל_שלום</td>\n",
       "      <td>08:00:00</td>\n",
       "      <td>41476</td>\n",
       "      <td>32.793214</td>\n",
       "      <td>35.038925</td>\n",
       "      <td>2019-11-03 08:02:40</td>\n",
       "      <td>2019-11-03 08:02:40</td>\n",
       "      <td>0</td>\n",
       "    </tr>\n",
       "    <tr>\n",
       "      <th>1</th>\n",
       "      <td>19</td>\n",
       "      <td>14824098_271019</td>\n",
       "      <td>09:02:40</td>\n",
       "      <td>09:02:40</td>\n",
       "      <td>2356</td>\n",
       "      <td>2</td>\n",
       "      <td>1606</td>\n",
       "      <td>נוף הגליל_שלום</td>\n",
       "      <td>09:00:00</td>\n",
       "      <td>41476</td>\n",
       "      <td>32.793214</td>\n",
       "      <td>35.038925</td>\n",
       "      <td>2019-11-03 09:02:40</td>\n",
       "      <td>2019-11-03 09:02:40</td>\n",
       "      <td>1</td>\n",
       "    </tr>\n",
       "    <tr>\n",
       "      <th>2</th>\n",
       "      <td>36</td>\n",
       "      <td>19590744_271019</td>\n",
       "      <td>08:14:17</td>\n",
       "      <td>08:14:17</td>\n",
       "      <td>2356</td>\n",
       "      <td>2</td>\n",
       "      <td>16379</td>\n",
       "      <td>טבריה_תחנה מרכזית</td>\n",
       "      <td>08:10:00</td>\n",
       "      <td>41476</td>\n",
       "      <td>32.793214</td>\n",
       "      <td>35.038925</td>\n",
       "      <td>2019-11-03 08:14:17</td>\n",
       "      <td>2019-11-03 08:14:17</td>\n",
       "      <td>2</td>\n",
       "    </tr>\n",
       "  </tbody>\n",
       "</table>\n",
       "</div>"
      ],
      "text/plain": [
       "   index          trip_id arrival_time departure_time_stop  stop_id  \\\n",
       "0     18  14824097_271019     08:02:40            08:02:40     2356   \n",
       "1     19  14824098_271019     09:02:40            09:02:40     2356   \n",
       "2     36  19590744_271019     08:14:17            08:14:17     2356   \n",
       "\n",
       "   stop_sequence  route_id      trip_headsign departure_time_trip_departure  \\\n",
       "0              2      1606     נוף הגליל_שלום                      08:00:00   \n",
       "1              2      1606     נוף הגליל_שלום                      09:00:00   \n",
       "2              2     16379  טבריה_תחנה מרכזית                      08:10:00   \n",
       "\n",
       "   stop_code   stop_lat   stop_lon             arrival           departure  \\\n",
       "0      41476  32.793214  35.038925 2019-11-03 08:02:40 2019-11-03 08:02:40   \n",
       "1      41476  32.793214  35.038925 2019-11-03 09:02:40 2019-11-03 09:02:40   \n",
       "2      41476  32.793214  35.038925 2019-11-03 08:14:17 2019-11-03 08:14:17   \n",
       "\n",
       "   node_id  \n",
       "0        0  \n",
       "1        1  \n",
       "2        2  "
      ]
     },
     "execution_count": 4,
     "metadata": {},
     "output_type": "execute_result"
    }
   ],
   "source": [
    "# Load nodes\n",
    "FILES_PREFIX = 'morning'\n",
    "file_name = OUTPUT_PATH + FILES_PREFIX + '_nodes.pkl'\n",
    "print(f'Loading nodes from file {file_name}')\n",
    "nodes_df = pd.read_pickle(file_name)\n",
    "nodes_df.head(3)"
   ]
  },
  {
   "cell_type": "code",
   "execution_count": 5,
   "metadata": {},
   "outputs": [
    {
     "data": {
      "text/plain": [
       "(325870, 15)"
      ]
     },
     "execution_count": 5,
     "metadata": {},
     "output_type": "execute_result"
    }
   ],
   "source": [
    "nodes_df.shape"
   ]
  },
  {
   "cell_type": "code",
   "execution_count": 59,
   "metadata": {},
   "outputs": [
    {
     "data": {
      "text/plain": [
       "index                            325870\n",
       "trip_id                           13765\n",
       "arrival_time                       5399\n",
       "departure_time_stop                5399\n",
       "stop_id                           25713\n",
       "stop_sequence                       117\n",
       "route_id                           3793\n",
       "trip_headsign                      1127\n",
       "departure_time_trip_departure       199\n",
       "stop_code                         25383\n",
       "stop_lat                          25107\n",
       "stop_lon                          24961\n",
       "arrival                            5399\n",
       "departure                          5399\n",
       "node_id                          325870\n",
       "dtype: int64"
      ]
     },
     "execution_count": 59,
     "metadata": {},
     "output_type": "execute_result"
    }
   ],
   "source": [
    "nodes_df.nunique()"
   ]
  },
  {
   "cell_type": "markdown",
   "metadata": {},
   "source": [
    "### Filter nodes for development"
   ]
  },
  {
   "cell_type": "code",
   "execution_count": null,
   "metadata": {},
   "outputs": [],
   "source": [
    "# start_time = DAY + dt.timedelta(hours=8)\n",
    "# end_time = start_time + dt.timedelta(minutes=10)\n",
    "\n",
    "# nodes_df = nodes_df[nodes_df['arrival'] > start_time][nodes_df['arrival'] < end_time]"
   ]
  },
  {
   "cell_type": "code",
   "execution_count": null,
   "metadata": {},
   "outputs": [],
   "source": [
    "# nodes_df.shape"
   ]
  },
  {
   "cell_type": "code",
   "execution_count": null,
   "metadata": {},
   "outputs": [],
   "source": [
    "# nodes_df.nunique()"
   ]
  },
  {
   "cell_type": "markdown",
   "metadata": {},
   "source": [
    "## Parallelizing"
   ]
  },
  {
   "cell_type": "code",
   "execution_count": null,
   "metadata": {},
   "outputs": [],
   "source": [
    "def run_parallel_df(df_grouped, func):\n",
    "    with closing(Pool()) as pool:\n",
    "        res_list = pool.map(func, [group for name, group in df_grouped])\n",
    "    return pd.concat(res_list)"
   ]
  },
  {
   "cell_type": "code",
   "execution_count": null,
   "metadata": {},
   "outputs": [],
   "source": [
    "def run_parallel_dict(data, num_of_batches, func):\n",
    "    batch_size = math.ceil(len(data) / num_of_batches)\n",
    "    with closing(Pool()) as pool:\n",
    "#         res_list = []\n",
    "        data_items = list(data.items())\n",
    "        print(f'Processing data in workers pool. Numner of batches is {num_of_batches} where each batch has approx. {batch_size} keys')\n",
    "        sliced_data = [data_items[i:i+batch_size] for i in range(num_of_batches)]\n",
    "        print('Finished slicing the data.')\n",
    "#         curr_batch = 1\n",
    "        res_list = pool.map(func, sliced_data)\n",
    "#         for res in tqdm_notebook(pool.imap(func, sliced_data), total=num_of_batches):\n",
    "#             res_list.append(res)\n",
    "#             print(f'Finished processing batch number {curr_batch} of {num_of_batches} total. Number of transfers from this batch: {len(res)}')\n",
    "#             curr_batch += 1\n",
    "    return [item for sublist in res_list for item in sublist]"
   ]
  },
  {
   "cell_type": "markdown",
   "metadata": {},
   "source": [
    "#### Testing parallelization"
   ]
  },
  {
   "cell_type": "code",
   "execution_count": null,
   "metadata": {},
   "outputs": [],
   "source": [
    "# d = {'a': [1,2,3], 'b':[1]}\n",
    "# # num_of_batches = 2\n",
    "# # d_items = list(d.items())\n",
    "# # batch_size = math.ceil(len(d) / num_of_batches)\n",
    "# # sliced_d = [d_items[i:i+batch_size] for i in range(num_of_batches)]\n",
    "# # print(len(d))\n",
    "\n",
    "# def print_dict_with_sleep(data):\n",
    "#     print('processing..')\n",
    "#     data = dict(data)\n",
    "#     for k,v in data.items():\n",
    "#         print(len(v))\n",
    "# #     time.sleep(3)\n",
    "# run_parallel_dict(d, 2, print_dict_with_sleep)"
   ]
  },
  {
   "cell_type": "markdown",
   "metadata": {},
   "source": [
    "## Load Nearby Stops"
   ]
  },
  {
   "cell_type": "code",
   "execution_count": 7,
   "metadata": {},
   "outputs": [],
   "source": [
    "stops_mapping_df = pd.read_csv(OUTPUT_PATH + 'stop_nbh_1000.txt')"
   ]
  },
  {
   "cell_type": "code",
   "execution_count": null,
   "metadata": {},
   "outputs": [],
   "source": [
    "# stops_mapping_df.head(3)"
   ]
  },
  {
   "cell_type": "code",
   "execution_count": null,
   "metadata": {},
   "outputs": [],
   "source": [
    "# stops_mapping_df.shape"
   ]
  },
  {
   "cell_type": "code",
   "execution_count": null,
   "metadata": {},
   "outputs": [],
   "source": [
    "# stops_mapping_df.nunique()"
   ]
  },
  {
   "cell_type": "markdown",
   "metadata": {},
   "source": [
    "If we allow walking 300 meters we get an average of 6.24 transfers to neighboring stops from each stop. "
   ]
  },
  {
   "cell_type": "code",
   "execution_count": null,
   "metadata": {},
   "outputs": [],
   "source": [
    "# TODO: \n",
    "# change walk speed to 1m/s - IMPL\n",
    "# maybe switch to 100-150\n",
    "# 15 minutes walk + wait\n",
    "\n",
    "# hoping to get to 10-20 edges per node"
   ]
  },
  {
   "cell_type": "code",
   "execution_count": 60,
   "metadata": {},
   "outputs": [],
   "source": [
    "stops_df = pd.read_csv(DATA_PATH + 'stops.txt')"
   ]
  },
  {
   "cell_type": "markdown",
   "metadata": {},
   "source": [
    "### Get all stops from which we wish to start computations"
   ]
  },
  {
   "cell_type": "code",
   "execution_count": null,
   "metadata": {},
   "outputs": [],
   "source": [
    "nodes_df.head()"
   ]
  },
  {
   "cell_type": "code",
   "execution_count": 12,
   "metadata": {},
   "outputs": [],
   "source": [
    "t = DAY+dt.timedelta(hours=8, minutes=25)\n",
    "start_nodes_df = nodes_df[nodes_df['departure'] < t]"
   ]
  },
  {
   "cell_type": "code",
   "execution_count": 13,
   "metadata": {},
   "outputs": [
    {
     "data": {
      "text/plain": [
       "(96674, 15)"
      ]
     },
     "execution_count": 13,
     "metadata": {},
     "output_type": "execute_result"
    }
   ],
   "source": [
    "start_nodes_df.shape"
   ]
  },
  {
   "cell_type": "code",
   "execution_count": null,
   "metadata": {},
   "outputs": [],
   "source": [
    "start_nodes_df.head()"
   ]
  },
  {
   "cell_type": "code",
   "execution_count": null,
   "metadata": {},
   "outputs": [],
   "source": []
  },
  {
   "cell_type": "markdown",
   "metadata": {},
   "source": [
    "#### Validation - let's find the most frequent origin stops and make sure it seems right."
   ]
  },
  {
   "cell_type": "code",
   "execution_count": null,
   "metadata": {},
   "outputs": [],
   "source": [
    "# stops_mapping_150m_df.IN_FID.mode()"
   ]
  },
  {
   "cell_type": "code",
   "execution_count": null,
   "metadata": {},
   "outputs": [],
   "source": [
    "# stops_df.iloc[10841]"
   ]
  },
  {
   "cell_type": "code",
   "execution_count": null,
   "metadata": {},
   "outputs": [],
   "source": [
    "# stops_df.iloc[10841]"
   ]
  },
  {
   "cell_type": "markdown",
   "metadata": {},
   "source": [
    "We can see this is the central bus station, which makes sense it will have the most possible transfers."
   ]
  },
  {
   "cell_type": "markdown",
   "metadata": {},
   "source": [
    "Now we must re-map the nearby stops to stop_id as used in the GTFS feeds."
   ]
  },
  {
   "cell_type": "code",
   "execution_count": 61,
   "metadata": {},
   "outputs": [],
   "source": [
    "stops_df['IN_FID'] = stops_df.index"
   ]
  },
  {
   "cell_type": "code",
   "execution_count": 62,
   "metadata": {},
   "outputs": [
    {
     "data": {
      "text/html": [
       "<div>\n",
       "<style scoped>\n",
       "    .dataframe tbody tr th:only-of-type {\n",
       "        vertical-align: middle;\n",
       "    }\n",
       "\n",
       "    .dataframe tbody tr th {\n",
       "        vertical-align: top;\n",
       "    }\n",
       "\n",
       "    .dataframe thead th {\n",
       "        text-align: right;\n",
       "    }\n",
       "</style>\n",
       "<table border=\"1\" class=\"dataframe\">\n",
       "  <thead>\n",
       "    <tr style=\"text-align: right;\">\n",
       "      <th></th>\n",
       "      <th>IN_FID</th>\n",
       "      <th>stop_id</th>\n",
       "    </tr>\n",
       "  </thead>\n",
       "  <tbody>\n",
       "    <tr>\n",
       "      <th>0</th>\n",
       "      <td>0</td>\n",
       "      <td>1</td>\n",
       "    </tr>\n",
       "    <tr>\n",
       "      <th>1</th>\n",
       "      <td>1</td>\n",
       "      <td>2</td>\n",
       "    </tr>\n",
       "    <tr>\n",
       "      <th>2</th>\n",
       "      <td>2</td>\n",
       "      <td>3</td>\n",
       "    </tr>\n",
       "    <tr>\n",
       "      <th>3</th>\n",
       "      <td>3</td>\n",
       "      <td>6</td>\n",
       "    </tr>\n",
       "    <tr>\n",
       "      <th>4</th>\n",
       "      <td>4</td>\n",
       "      <td>7</td>\n",
       "    </tr>\n",
       "  </tbody>\n",
       "</table>\n",
       "</div>"
      ],
      "text/plain": [
       "   IN_FID  stop_id\n",
       "0       0        1\n",
       "1       1        2\n",
       "2       2        3\n",
       "3       3        6\n",
       "4       4        7"
      ]
     },
     "execution_count": 62,
     "metadata": {},
     "output_type": "execute_result"
    }
   ],
   "source": [
    "stops_df[['IN_FID', 'stop_id']].head()"
   ]
  },
  {
   "cell_type": "code",
   "execution_count": 63,
   "metadata": {},
   "outputs": [
    {
     "data": {
      "text/plain": [
       "(27989, 10)"
      ]
     },
     "execution_count": 63,
     "metadata": {},
     "output_type": "execute_result"
    }
   ],
   "source": [
    "stops_df.shape"
   ]
  },
  {
   "cell_type": "code",
   "execution_count": 13,
   "metadata": {},
   "outputs": [],
   "source": [
    "stops_mapping_df = stops_mapping_df.merge(stops_df[['IN_FID', 'stop_id']], on='IN_FID', how='left')\n",
    "stops_mapping_df.rename(columns={'stop_id':'from_stop_id'}, inplace=True)\n",
    "stops_mapping_df = stops_mapping_df.merge(stops_df[['IN_FID', 'stop_id']], left_on='NEAR_FID', right_on='IN_FID', how='left')\n",
    "stops_mapping_df.rename(columns={'stop_id':'to_stop_id', 'NEAR_DIST':'dist'}, inplace=True)"
   ]
  },
  {
   "cell_type": "code",
   "execution_count": 14,
   "metadata": {},
   "outputs": [
    {
     "data": {
      "text/html": [
       "<div>\n",
       "<style scoped>\n",
       "    .dataframe tbody tr th:only-of-type {\n",
       "        vertical-align: middle;\n",
       "    }\n",
       "\n",
       "    .dataframe tbody tr th {\n",
       "        vertical-align: top;\n",
       "    }\n",
       "\n",
       "    .dataframe thead th {\n",
       "        text-align: right;\n",
       "    }\n",
       "</style>\n",
       "<table border=\"1\" class=\"dataframe\">\n",
       "  <thead>\n",
       "    <tr style=\"text-align: right;\">\n",
       "      <th></th>\n",
       "      <th>from_stop_id</th>\n",
       "      <th>to_stop_id</th>\n",
       "      <th>dist</th>\n",
       "    </tr>\n",
       "  </thead>\n",
       "  <tbody>\n",
       "    <tr>\n",
       "      <th>0</th>\n",
       "      <td>1</td>\n",
       "      <td>1011</td>\n",
       "      <td>97.818515</td>\n",
       "    </tr>\n",
       "    <tr>\n",
       "      <th>1</th>\n",
       "      <td>1</td>\n",
       "      <td>848</td>\n",
       "      <td>210.233162</td>\n",
       "    </tr>\n",
       "    <tr>\n",
       "      <th>2</th>\n",
       "      <td>1</td>\n",
       "      <td>850</td>\n",
       "      <td>214.393854</td>\n",
       "    </tr>\n",
       "    <tr>\n",
       "      <th>3</th>\n",
       "      <td>1</td>\n",
       "      <td>846</td>\n",
       "      <td>268.285651</td>\n",
       "    </tr>\n",
       "    <tr>\n",
       "      <th>4</th>\n",
       "      <td>1</td>\n",
       "      <td>849</td>\n",
       "      <td>346.204359</td>\n",
       "    </tr>\n",
       "  </tbody>\n",
       "</table>\n",
       "</div>"
      ],
      "text/plain": [
       "   from_stop_id  to_stop_id        dist\n",
       "0             1        1011   97.818515\n",
       "1             1         848  210.233162\n",
       "2             1         850  214.393854\n",
       "3             1         846  268.285651\n",
       "4             1         849  346.204359"
      ]
     },
     "execution_count": 14,
     "metadata": {},
     "output_type": "execute_result"
    }
   ],
   "source": [
    "stops_mapping_df = stops_mapping_df[['from_stop_id', 'to_stop_id', 'dist']]\n",
    "stops_mapping_df.head()"
   ]
  },
  {
   "cell_type": "code",
   "execution_count": 15,
   "metadata": {},
   "outputs": [],
   "source": [
    "AVG_WALK_SPEED = 1  # meters per second (m/s)\n",
    "stops_mapping_df['walk_time_sec'] = stops_mapping_df['dist'] / AVG_WALK_SPEED"
   ]
  },
  {
   "cell_type": "code",
   "execution_count": 16,
   "metadata": {},
   "outputs": [
    {
     "data": {
      "text/html": [
       "<div>\n",
       "<style scoped>\n",
       "    .dataframe tbody tr th:only-of-type {\n",
       "        vertical-align: middle;\n",
       "    }\n",
       "\n",
       "    .dataframe tbody tr th {\n",
       "        vertical-align: top;\n",
       "    }\n",
       "\n",
       "    .dataframe thead th {\n",
       "        text-align: right;\n",
       "    }\n",
       "</style>\n",
       "<table border=\"1\" class=\"dataframe\">\n",
       "  <thead>\n",
       "    <tr style=\"text-align: right;\">\n",
       "      <th></th>\n",
       "      <th>from_stop_id</th>\n",
       "      <th>to_stop_id</th>\n",
       "      <th>dist</th>\n",
       "      <th>walk_time_sec</th>\n",
       "    </tr>\n",
       "  </thead>\n",
       "  <tbody>\n",
       "    <tr>\n",
       "      <th>0</th>\n",
       "      <td>1</td>\n",
       "      <td>1011</td>\n",
       "      <td>97.818515</td>\n",
       "      <td>97.818515</td>\n",
       "    </tr>\n",
       "    <tr>\n",
       "      <th>1</th>\n",
       "      <td>1</td>\n",
       "      <td>848</td>\n",
       "      <td>210.233162</td>\n",
       "      <td>210.233162</td>\n",
       "    </tr>\n",
       "    <tr>\n",
       "      <th>2</th>\n",
       "      <td>1</td>\n",
       "      <td>850</td>\n",
       "      <td>214.393854</td>\n",
       "      <td>214.393854</td>\n",
       "    </tr>\n",
       "  </tbody>\n",
       "</table>\n",
       "</div>"
      ],
      "text/plain": [
       "   from_stop_id  to_stop_id        dist  walk_time_sec\n",
       "0             1        1011   97.818515      97.818515\n",
       "1             1         848  210.233162     210.233162\n",
       "2             1         850  214.393854     214.393854"
      ]
     },
     "execution_count": 16,
     "metadata": {},
     "output_type": "execute_result"
    }
   ],
   "source": [
    "stops_mapping_df.head(3)"
   ]
  },
  {
   "cell_type": "code",
   "execution_count": 17,
   "metadata": {},
   "outputs": [],
   "source": [
    "stops_mapping_df.to_csv(OUTPUT_PATH + 'nearby_stops.csv')"
   ]
  },
  {
   "cell_type": "code",
   "execution_count": 18,
   "metadata": {},
   "outputs": [],
   "source": [
    "stops_mapping_df.to_pickle(OUTPUT_PATH + 'nearby_stops.pkl')"
   ]
  },
  {
   "cell_type": "code",
   "execution_count": 21,
   "metadata": {},
   "outputs": [
    {
     "data": {
      "text/plain": [
       "(1260752, 4)"
      ]
     },
     "execution_count": 21,
     "metadata": {},
     "output_type": "execute_result"
    }
   ],
   "source": [
    "stops_mapping_df.shape"
   ]
  },
  {
   "cell_type": "code",
   "execution_count": 22,
   "metadata": {},
   "outputs": [
    {
     "data": {
      "text/plain": [
       "from_stop_id      27785\n",
       "to_stop_id        27785\n",
       "dist             600126\n",
       "walk_time_sec    600126\n",
       "dtype: int64"
      ]
     },
     "execution_count": 22,
     "metadata": {},
     "output_type": "execute_result"
    }
   ],
   "source": [
    "stops_mapping_df.nunique()"
   ]
  },
  {
   "cell_type": "code",
   "execution_count": null,
   "metadata": {},
   "outputs": [],
   "source": [
    "# stops_mapping_df = pd.read_pickle(OUTPUT_PATH + 'nearby_stops.pkl')"
   ]
  },
  {
   "cell_type": "code",
   "execution_count": 38,
   "metadata": {},
   "outputs": [],
   "source": [
    "stops_mapping_200m_df = stops_mapping_df[stops_mapping_df['dist'] < 200]"
   ]
  },
  {
   "cell_type": "code",
   "execution_count": 39,
   "metadata": {},
   "outputs": [
    {
     "data": {
      "text/plain": [
       "(90360, 4)"
      ]
     },
     "execution_count": 39,
     "metadata": {},
     "output_type": "execute_result"
    }
   ],
   "source": [
    "stops_mapping_200m_df.shape"
   ]
  },
  {
   "cell_type": "code",
   "execution_count": 41,
   "metadata": {},
   "outputs": [
    {
     "data": {
      "text/plain": [
       "from_stop_id     25438\n",
       "to_stop_id       25438\n",
       "dist             38970\n",
       "walk_time_sec    38970\n",
       "dtype: int64"
      ]
     },
     "execution_count": 41,
     "metadata": {},
     "output_type": "execute_result"
    }
   ],
   "source": [
    "stops_mapping_200m_df.nunique()"
   ]
  },
  {
   "cell_type": "code",
   "execution_count": 64,
   "metadata": {},
   "outputs": [
    {
     "data": {
      "text/plain": [
       "(58766, 4)"
      ]
     },
     "execution_count": 64,
     "metadata": {},
     "output_type": "execute_result"
    }
   ],
   "source": [
    "stops_mapping_150m_df.shape"
   ]
  },
  {
   "cell_type": "markdown",
   "metadata": {},
   "source": [
    "## Compute Transfer Edges"
   ]
  },
  {
   "cell_type": "code",
   "execution_count": 65,
   "metadata": {},
   "outputs": [],
   "source": [
    "stops_to_nodes = nodes_df.groupby('stop_id')[[\n",
    "    'node_id', 'trip_id', 'arrival', 'departure', 'route_id']].apply(lambda g: g.values.tolist()).to_dict()"
   ]
  },
  {
   "cell_type": "code",
   "execution_count": 66,
   "metadata": {
    "scrolled": true
   },
   "outputs": [
    {
     "data": {
      "text/plain": [
       "{2: [[210307,\n",
       "   '39289949_271019',\n",
       "   Timestamp('2019-11-03 08:43:17'),\n",
       "   Timestamp('2019-11-03 08:43:17'),\n",
       "   26018],\n",
       "  [210308,\n",
       "   '39554229_271019',\n",
       "   Timestamp('2019-11-03 08:15:41'),\n",
       "   Timestamp('2019-11-03 08:15:41'),\n",
       "   25529],\n",
       "  [210309,\n",
       "   '42203990_271019',\n",
       "   Timestamp('2019-11-03 08:17:34'),\n",
       "   Timestamp('2019-11-03 08:17:34'),\n",
       "   26015],\n",
       "  [210310,\n",
       "   '42203991_271019',\n",
       "   Timestamp('2019-11-03 09:02:34'),\n",
       "   Timestamp('2019-11-03 09:02:34'),\n",
       "   26015],\n",
       "  [210311,\n",
       "   '42203992_271019',\n",
       "   Timestamp('2019-11-03 09:22:34'),\n",
       "   Timestamp('2019-11-03 09:22:34'),\n",
       "   26015]],\n",
       " 3: [[196896,\n",
       "   '36196412_271019',\n",
       "   Timestamp('2019-11-03 08:11:42'),\n",
       "   Timestamp('2019-11-03 08:11:42'),\n",
       "   10109],\n",
       "  [196897,\n",
       "   '36196413_271019',\n",
       "   Timestamp('2019-11-03 08:26:42'),\n",
       "   Timestamp('2019-11-03 08:26:42'),\n",
       "   10109],\n",
       "  [196898,\n",
       "   '36196414_271019',\n",
       "   Timestamp('2019-11-03 08:41:42'),\n",
       "   Timestamp('2019-11-03 08:41:42'),\n",
       "   10109],\n",
       "  [196899,\n",
       "   '36196415_271019',\n",
       "   Timestamp('2019-11-03 08:56:42'),\n",
       "   Timestamp('2019-11-03 08:56:42'),\n",
       "   10109],\n",
       "  [196900,\n",
       "   '42244136_271019',\n",
       "   Timestamp('2019-11-03 09:11:42'),\n",
       "   Timestamp('2019-11-03 09:11:42'),\n",
       "   10110],\n",
       "  [196901,\n",
       "   '42244137_271019',\n",
       "   Timestamp('2019-11-03 09:26:42'),\n",
       "   Timestamp('2019-11-03 09:26:42'),\n",
       "   10110],\n",
       "  [196902,\n",
       "   '42245485_271019',\n",
       "   Timestamp('2019-11-03 08:17:38'),\n",
       "   Timestamp('2019-11-03 08:17:38'),\n",
       "   25580],\n",
       "  [196903,\n",
       "   '42245486_271019',\n",
       "   Timestamp('2019-11-03 08:37:38'),\n",
       "   Timestamp('2019-11-03 08:37:38'),\n",
       "   25580],\n",
       "  [196904,\n",
       "   '42245487_271019',\n",
       "   Timestamp('2019-11-03 08:57:38'),\n",
       "   Timestamp('2019-11-03 08:57:38'),\n",
       "   25580],\n",
       "  [196905,\n",
       "   '42245488_271019',\n",
       "   Timestamp('2019-11-03 09:17:38'),\n",
       "   Timestamp('2019-11-03 09:17:38'),\n",
       "   25580]]}"
      ]
     },
     "execution_count": 66,
     "metadata": {},
     "output_type": "execute_result"
    }
   ],
   "source": [
    "dict(list(stops_to_nodes.items())[0:2])"
   ]
  },
  {
   "cell_type": "code",
   "execution_count": null,
   "metadata": {},
   "outputs": [],
   "source": [
    "dict(list(stops_to_nodes.items()))"
   ]
  },
  {
   "cell_type": "code",
   "execution_count": 67,
   "metadata": {},
   "outputs": [],
   "source": [
    "DEPARTURE_INDEX = 3\n",
    "for stop, nodes in stops_to_nodes.items():\n",
    "    stops_to_nodes[stop] = sorted(nodes, key=lambda x: x[DEPARTURE_INDEX])"
   ]
  },
  {
   "cell_type": "code",
   "execution_count": 68,
   "metadata": {},
   "outputs": [
    {
     "name": "stdout",
     "output_type": "stream",
     "text": [
      "There is a total of 325870 nodes in the stops_to_nodes dictionary\n"
     ]
    }
   ],
   "source": [
    "total_values = 0\n",
    "max_nodes_in_stop = 0\n",
    "for n in stops_to_nodes.values():\n",
    "    num_nodes = len(n)\n",
    "    if num_nodes > max_nodes_in_stop:\n",
    "        max_nodes_in_stop = num_nodes\n",
    "    total_values += num_nodes\n",
    "print(f'There is a total of {total_values} nodes in the stops_to_nodes dictionary')"
   ]
  },
  {
   "cell_type": "code",
   "execution_count": 69,
   "metadata": {},
   "outputs": [
    {
     "data": {
      "text/plain": [
       "25713"
      ]
     },
     "execution_count": 69,
     "metadata": {},
     "output_type": "execute_result"
    }
   ],
   "source": [
    "len(stops_to_nodes)"
   ]
  },
  {
   "cell_type": "code",
   "execution_count": 70,
   "metadata": {},
   "outputs": [
    {
     "name": "stdout",
     "output_type": "stream",
     "text": [
      "We have an average of 12.673355890016722, and a max of 305 nodes in a single stop.\n"
     ]
    }
   ],
   "source": [
    "print(f'We have an average of {total_values/len(stops_to_nodes)}, and a max of {max_nodes_in_stop} nodes in a single stop.')"
   ]
  },
  {
   "cell_type": "code",
   "execution_count": 71,
   "metadata": {},
   "outputs": [],
   "source": [
    "ARRIVAL_INDEX = 2\n",
    "DEPARTURE_INDEX = 3\n",
    "ROUTE_ID_INDEX = 4\n",
    "MAX_WAIT_TIME = dt.timedelta(minutes=15)\n",
    "def get_transfer_edges_from_nodes(stops_to_nodes_batch):\n",
    "    print('Processing batch...')\n",
    "    stops_to_nodes_batch = dict(stops_to_nodes_batch)\n",
    "    transfer_edges = []\n",
    "    for stop, nodes in tqdm(stops_to_nodes_batch.items()):\n",
    "        for start_n in nodes:\n",
    "            nearby_stops_df = stops_mapping_200m_df[stops_mapping_200m_df['from_stop_id'] == stop]\n",
    "            # Add current stop to check transfers from the same stop\n",
    "            nearby_stops_df.append({'from_stop_id': [stop], 'to_stop_id': [stop], 'dist': [0], 'walk_time_sec': [0]}, ignore_index=True)\n",
    "            # TODO: verify this we're not staying to the same line in same direction\n",
    "            for s in nearby_stops_df.iterrows():\n",
    "                nearby_stop_id = s[1]['to_stop_id']\n",
    "                if nearby_stop_id not in stops_to_nodes:\n",
    "                    # Some stops don't have trips that operate all week. Some operate only on weekends.\n",
    "                    # If this is such a stop we should continue to look at other stops, we won't find any\n",
    "                    # nodes here.\n",
    "                    continue\n",
    "                nearby_nodes = stops_to_nodes[nearby_stop_id]\n",
    "                second_line_earliest_start_time = start_n[ARRIVAL_INDEX] + dt.timedelta(seconds=s[1]['walk_time_sec'])\n",
    "                second_line_latest_start_time = second_line_earliest_start_time + MAX_WAIT_TIME\n",
    "                # Find index of first node that departs at least at second_start_time or later\n",
    "                _, _, _, departures, _ = zip(*nearby_nodes)\n",
    "                i = bisect.bisect_left(departures, second_line_earliest_start_time)\n",
    "                while (i < len(nearby_nodes) and \n",
    "                       nearby_nodes[i][DEPARTURE_INDEX] >= second_line_earliest_start_time and \n",
    "                       nearby_nodes[i][DEPARTURE_INDEX] <= second_line_latest_start_time):\n",
    "                    node = nearby_nodes[i][0]\n",
    "                    if node == start_n[0] or (nearby_nodes[i][ROUTE_ID_INDEX] == start_n[ROUTE_ID_INDEX] and s == stop):\n",
    "                        # We don't wish to transfer to the same node (no self-edges). \n",
    "                        # Another case we wish to avoid is transferring to the same line (route__id) in the same stop.\n",
    "                        i += 1\n",
    "                        continue\n",
    "                    transfer_edges.append((start_n[0], nearby_nodes[i][0], nearby_nodes[i][DEPARTURE_INDEX] - start_n[ARRIVAL_INDEX]))\n",
    "                    i += 1\n",
    "    return transfer_edges"
   ]
  },
  {
   "cell_type": "code",
   "execution_count": null,
   "metadata": {},
   "outputs": [],
   "source": [
    "# transfer_edges = run_parallel_dict(stops_to_nodes, 1000, get_transfer_edges_from_nodes)"
   ]
  },
  {
   "cell_type": "code",
   "execution_count": 72,
   "metadata": {},
   "outputs": [
    {
     "name": "stdout",
     "output_type": "stream",
     "text": [
      "Processing batch...\n"
     ]
    },
    {
     "data": {
      "application/vnd.jupyter.widget-view+json": {
       "model_id": "eac5a99046c2450794e64f68d89a9d7d",
       "version_major": 2,
       "version_minor": 0
      },
      "text/plain": [
       "HBox(children=(IntProgress(value=0, max=25713), HTML(value='')))"
      ]
     },
     "metadata": {},
     "output_type": "display_data"
    },
    {
     "name": "stdout",
     "output_type": "stream",
     "text": [
      "\n"
     ]
    }
   ],
   "source": [
    "transfer_edges = get_transfer_edges_from_nodes(stops_to_nodes)"
   ]
  },
  {
   "cell_type": "code",
   "execution_count": 73,
   "metadata": {},
   "outputs": [
    {
     "data": {
      "text/plain": [
       "4191638"
      ]
     },
     "execution_count": 73,
     "metadata": {},
     "output_type": "execute_result"
    }
   ],
   "source": [
    "len(transfer_edges)"
   ]
  },
  {
   "cell_type": "code",
   "execution_count": 74,
   "metadata": {},
   "outputs": [],
   "source": [
    "transfer_edges_sec = []\n",
    "for s, t, w in transfer_edges:\n",
    "    transfer_edges_sec.append((s, t, w.total_seconds()))"
   ]
  },
  {
   "cell_type": "code",
   "execution_count": 76,
   "metadata": {},
   "outputs": [
    {
     "data": {
      "text/plain": [
       "[(104345, 301218, 360.0),\n",
       " (104345, 301213, 844.0),\n",
       " (104345, 301223, 709.0),\n",
       " (104345, 104315, 592.0),\n",
       " (104345, 104309, 737.0)]"
      ]
     },
     "execution_count": 76,
     "metadata": {},
     "output_type": "execute_result"
    }
   ],
   "source": [
    "transfer_edges_sec[1000:1005]"
   ]
  },
  {
   "cell_type": "code",
   "execution_count": 75,
   "metadata": {},
   "outputs": [
    {
     "name": "stdout",
     "output_type": "stream",
     "text": [
      "Saving transfers to file ../../output_data/morning_transfer_edges.pkl\n"
     ]
    }
   ],
   "source": [
    "import pickle\n",
    "with open(OUTPUT_PATH + FILES_PREFIX + '_transfer_edges.pkl', 'wb') as f:\n",
    "    print(f'Saving transfers to file {f.name}')\n",
    "    pickle.dump(transfer_edges_sec, f)"
   ]
  },
  {
   "cell_type": "markdown",
   "metadata": {},
   "source": [
    "## [FOR TESTING] Let's check some transfers manually"
   ]
  },
  {
   "cell_type": "code",
   "execution_count": 46,
   "metadata": {},
   "outputs": [
    {
     "data": {
      "text/plain": [
       "[(1120240, 3243432, Timedelta('0 days 00:06:00')),\n",
       " (1120240, 3243400, Timedelta('0 days 00:14:04')),\n",
       " (1120240, 3243469, Timedelta('0 days 00:11:49')),\n",
       " (1120240, 1119942, Timedelta('0 days 00:09:52')),\n",
       " (1120240, 1119886, Timedelta('0 days 00:12:17'))]"
      ]
     },
     "execution_count": 46,
     "metadata": {},
     "output_type": "execute_result"
    }
   ],
   "source": [
    "transfer_edges[1000:1005]"
   ]
  },
  {
   "cell_type": "code",
   "execution_count": 47,
   "metadata": {},
   "outputs": [
    {
     "data": {
      "text/html": [
       "<div>\n",
       "<style scoped>\n",
       "    .dataframe tbody tr th:only-of-type {\n",
       "        vertical-align: middle;\n",
       "    }\n",
       "\n",
       "    .dataframe tbody tr th {\n",
       "        vertical-align: top;\n",
       "    }\n",
       "\n",
       "    .dataframe thead th {\n",
       "        text-align: right;\n",
       "    }\n",
       "</style>\n",
       "<table border=\"1\" class=\"dataframe\">\n",
       "  <thead>\n",
       "    <tr style=\"text-align: right;\">\n",
       "      <th></th>\n",
       "      <th>trip_id</th>\n",
       "      <th>arrival_time</th>\n",
       "      <th>departure_time_stop</th>\n",
       "      <th>stop_id</th>\n",
       "      <th>stop_sequence</th>\n",
       "      <th>route_id</th>\n",
       "      <th>trip_headsign</th>\n",
       "      <th>departure_time_trip_departure</th>\n",
       "      <th>stop_code</th>\n",
       "      <th>stop_lat</th>\n",
       "      <th>stop_lon</th>\n",
       "      <th>arrival</th>\n",
       "      <th>departure</th>\n",
       "      <th>node_id</th>\n",
       "    </tr>\n",
       "  </thead>\n",
       "  <tbody>\n",
       "    <tr>\n",
       "      <th>3243432</th>\n",
       "      <td>36877179_271019</td>\n",
       "      <td>08:41:49</td>\n",
       "      <td>08:41:49</td>\n",
       "      <td>38971</td>\n",
       "      <td>39</td>\n",
       "      <td>25434</td>\n",
       "      <td>ראשון לציון_רכבת הראשונים</td>\n",
       "      <td>07:50:00</td>\n",
       "      <td>30064</td>\n",
       "      <td>31.947781</td>\n",
       "      <td>34.823278</td>\n",
       "      <td>2019-11-03 08:41:49</td>\n",
       "      <td>2019-11-03 08:41:49</td>\n",
       "      <td>3243432</td>\n",
       "    </tr>\n",
       "  </tbody>\n",
       "</table>\n",
       "</div>"
      ],
      "text/plain": [
       "                 trip_id arrival_time departure_time_stop  stop_id  \\\n",
       "3243432  36877179_271019     08:41:49            08:41:49    38971   \n",
       "\n",
       "         stop_sequence  route_id              trip_headsign  \\\n",
       "3243432             39     25434  ראשון לציון_רכבת הראשונים   \n",
       "\n",
       "        departure_time_trip_departure  stop_code   stop_lat   stop_lon  \\\n",
       "3243432                      07:50:00      30064  31.947781  34.823278   \n",
       "\n",
       "                    arrival           departure  node_id  \n",
       "3243432 2019-11-03 08:41:49 2019-11-03 08:41:49  3243432  "
      ]
     },
     "execution_count": 47,
     "metadata": {},
     "output_type": "execute_result"
    }
   ],
   "source": [
    "nodes_df[nodes_df['node_id'] == 3243432]"
   ]
  },
  {
   "cell_type": "code",
   "execution_count": 48,
   "metadata": {},
   "outputs": [
    {
     "data": {
      "text/html": [
       "<div>\n",
       "<style scoped>\n",
       "    .dataframe tbody tr th:only-of-type {\n",
       "        vertical-align: middle;\n",
       "    }\n",
       "\n",
       "    .dataframe tbody tr th {\n",
       "        vertical-align: top;\n",
       "    }\n",
       "\n",
       "    .dataframe thead th {\n",
       "        text-align: right;\n",
       "    }\n",
       "</style>\n",
       "<table border=\"1\" class=\"dataframe\">\n",
       "  <thead>\n",
       "    <tr style=\"text-align: right;\">\n",
       "      <th></th>\n",
       "      <th>trip_id</th>\n",
       "      <th>arrival_time</th>\n",
       "      <th>departure_time_stop</th>\n",
       "      <th>stop_id</th>\n",
       "      <th>stop_sequence</th>\n",
       "      <th>route_id</th>\n",
       "      <th>trip_headsign</th>\n",
       "      <th>departure_time_trip_departure</th>\n",
       "      <th>stop_code</th>\n",
       "      <th>stop_lat</th>\n",
       "      <th>stop_lon</th>\n",
       "      <th>arrival</th>\n",
       "      <th>departure</th>\n",
       "      <th>node_id</th>\n",
       "    </tr>\n",
       "  </thead>\n",
       "  <tbody>\n",
       "    <tr>\n",
       "      <th>1120240</th>\n",
       "      <td>42245728_271019</td>\n",
       "      <td>08:35:49</td>\n",
       "      <td>08:35:49</td>\n",
       "      <td>76</td>\n",
       "      <td>53</td>\n",
       "      <td>25581</td>\n",
       "      <td>רכבת הראשונים</td>\n",
       "      <td>07:40:00</td>\n",
       "      <td>38906</td>\n",
       "      <td>31.948552</td>\n",
       "      <td>34.822422</td>\n",
       "      <td>2019-11-03 08:35:49</td>\n",
       "      <td>2019-11-03 08:35:49</td>\n",
       "      <td>1120240</td>\n",
       "    </tr>\n",
       "  </tbody>\n",
       "</table>\n",
       "</div>"
      ],
      "text/plain": [
       "                 trip_id arrival_time departure_time_stop  stop_id  \\\n",
       "1120240  42245728_271019     08:35:49            08:35:49       76   \n",
       "\n",
       "         stop_sequence  route_id  trip_headsign departure_time_trip_departure  \\\n",
       "1120240             53     25581  רכבת הראשונים                      07:40:00   \n",
       "\n",
       "         stop_code   stop_lat   stop_lon             arrival  \\\n",
       "1120240      38906  31.948552  34.822422 2019-11-03 08:35:49   \n",
       "\n",
       "                  departure  node_id  \n",
       "1120240 2019-11-03 08:35:49  1120240  "
      ]
     },
     "execution_count": 48,
     "metadata": {},
     "output_type": "execute_result"
    }
   ],
   "source": [
    "nodes_df[nodes_df['node_id'] == 1120240]"
   ]
  },
  {
   "cell_type": "code",
   "execution_count": 49,
   "metadata": {},
   "outputs": [
    {
     "data": {
      "text/html": [
       "<div>\n",
       "<style scoped>\n",
       "    .dataframe tbody tr th:only-of-type {\n",
       "        vertical-align: middle;\n",
       "    }\n",
       "\n",
       "    .dataframe tbody tr th {\n",
       "        vertical-align: top;\n",
       "    }\n",
       "\n",
       "    .dataframe thead th {\n",
       "        text-align: right;\n",
       "    }\n",
       "</style>\n",
       "<table border=\"1\" class=\"dataframe\">\n",
       "  <thead>\n",
       "    <tr style=\"text-align: right;\">\n",
       "      <th></th>\n",
       "      <th>trip_id</th>\n",
       "      <th>arrival_time</th>\n",
       "      <th>departure_time_stop</th>\n",
       "      <th>stop_id</th>\n",
       "      <th>stop_sequence</th>\n",
       "      <th>route_id</th>\n",
       "      <th>trip_headsign</th>\n",
       "      <th>departure_time_trip_departure</th>\n",
       "      <th>stop_code</th>\n",
       "      <th>stop_lat</th>\n",
       "      <th>stop_lon</th>\n",
       "      <th>arrival</th>\n",
       "      <th>departure</th>\n",
       "      <th>node_id</th>\n",
       "    </tr>\n",
       "  </thead>\n",
       "  <tbody>\n",
       "    <tr>\n",
       "      <th>3243400</th>\n",
       "      <td>36873380_271019</td>\n",
       "      <td>08:49:53</td>\n",
       "      <td>08:49:53</td>\n",
       "      <td>38971</td>\n",
       "      <td>31</td>\n",
       "      <td>25405</td>\n",
       "      <td>ראשון לציון_רכבת הראשונים</td>\n",
       "      <td>08:10:00</td>\n",
       "      <td>30064</td>\n",
       "      <td>31.947781</td>\n",
       "      <td>34.823278</td>\n",
       "      <td>2019-11-03 08:49:53</td>\n",
       "      <td>2019-11-03 08:49:53</td>\n",
       "      <td>3243400</td>\n",
       "    </tr>\n",
       "  </tbody>\n",
       "</table>\n",
       "</div>"
      ],
      "text/plain": [
       "                 trip_id arrival_time departure_time_stop  stop_id  \\\n",
       "3243400  36873380_271019     08:49:53            08:49:53    38971   \n",
       "\n",
       "         stop_sequence  route_id              trip_headsign  \\\n",
       "3243400             31     25405  ראשון לציון_רכבת הראשונים   \n",
       "\n",
       "        departure_time_trip_departure  stop_code   stop_lat   stop_lon  \\\n",
       "3243400                      08:10:00      30064  31.947781  34.823278   \n",
       "\n",
       "                    arrival           departure  node_id  \n",
       "3243400 2019-11-03 08:49:53 2019-11-03 08:49:53  3243400  "
      ]
     },
     "execution_count": 49,
     "metadata": {},
     "output_type": "execute_result"
    }
   ],
   "source": [
    "nodes_df[nodes_df['node_id'] == 3243400]"
   ]
  },
  {
   "cell_type": "code",
   "execution_count": 50,
   "metadata": {},
   "outputs": [
    {
     "data": {
      "text/plain": [
       "[(1763216, 3026510, Timedelta('0 days 00:09:05')),\n",
       " (1763216, 3026503, Timedelta('0 days 00:14:05'))]"
      ]
     },
     "execution_count": 50,
     "metadata": {},
     "output_type": "execute_result"
    }
   ],
   "source": [
    "transfer_edges[4000000:4000002]"
   ]
  },
  {
   "cell_type": "code",
   "execution_count": 51,
   "metadata": {},
   "outputs": [
    {
     "data": {
      "text/html": [
       "<div>\n",
       "<style scoped>\n",
       "    .dataframe tbody tr th:only-of-type {\n",
       "        vertical-align: middle;\n",
       "    }\n",
       "\n",
       "    .dataframe tbody tr th {\n",
       "        vertical-align: top;\n",
       "    }\n",
       "\n",
       "    .dataframe thead th {\n",
       "        text-align: right;\n",
       "    }\n",
       "</style>\n",
       "<table border=\"1\" class=\"dataframe\">\n",
       "  <thead>\n",
       "    <tr style=\"text-align: right;\">\n",
       "      <th></th>\n",
       "      <th>trip_id</th>\n",
       "      <th>arrival_time</th>\n",
       "      <th>departure_time_stop</th>\n",
       "      <th>stop_id</th>\n",
       "      <th>stop_sequence</th>\n",
       "      <th>route_id</th>\n",
       "      <th>trip_headsign</th>\n",
       "      <th>departure_time_trip_departure</th>\n",
       "      <th>stop_code</th>\n",
       "      <th>stop_lat</th>\n",
       "      <th>stop_lon</th>\n",
       "      <th>arrival</th>\n",
       "      <th>departure</th>\n",
       "      <th>node_id</th>\n",
       "    </tr>\n",
       "  </thead>\n",
       "  <tbody>\n",
       "    <tr>\n",
       "      <th>3026510</th>\n",
       "      <td>42299653_011119</td>\n",
       "      <td>09:00:00</td>\n",
       "      <td>09:00:00</td>\n",
       "      <td>42875</td>\n",
       "      <td>1</td>\n",
       "      <td>51</td>\n",
       "      <td>אשדוד_תחנה מרכזית</td>\n",
       "      <td>09:00:00</td>\n",
       "      <td>20001</td>\n",
       "      <td>32.083157</td>\n",
       "      <td>34.796091</td>\n",
       "      <td>2019-11-03 09:00:00</td>\n",
       "      <td>2019-11-03 09:00:00</td>\n",
       "      <td>3026510</td>\n",
       "    </tr>\n",
       "  </tbody>\n",
       "</table>\n",
       "</div>"
      ],
      "text/plain": [
       "                 trip_id arrival_time departure_time_stop  stop_id  \\\n",
       "3026510  42299653_011119     09:00:00            09:00:00    42875   \n",
       "\n",
       "         stop_sequence  route_id      trip_headsign  \\\n",
       "3026510              1        51  אשדוד_תחנה מרכזית   \n",
       "\n",
       "        departure_time_trip_departure  stop_code   stop_lat   stop_lon  \\\n",
       "3026510                      09:00:00      20001  32.083157  34.796091   \n",
       "\n",
       "                    arrival           departure  node_id  \n",
       "3026510 2019-11-03 09:00:00 2019-11-03 09:00:00  3026510  "
      ]
     },
     "execution_count": 51,
     "metadata": {},
     "output_type": "execute_result"
    }
   ],
   "source": [
    "nodes_df[nodes_df['node_id'] == 3026510]"
   ]
  },
  {
   "cell_type": "code",
   "execution_count": 52,
   "metadata": {},
   "outputs": [
    {
     "data": {
      "text/html": [
       "<div>\n",
       "<style scoped>\n",
       "    .dataframe tbody tr th:only-of-type {\n",
       "        vertical-align: middle;\n",
       "    }\n",
       "\n",
       "    .dataframe tbody tr th {\n",
       "        vertical-align: top;\n",
       "    }\n",
       "\n",
       "    .dataframe thead th {\n",
       "        text-align: right;\n",
       "    }\n",
       "</style>\n",
       "<table border=\"1\" class=\"dataframe\">\n",
       "  <thead>\n",
       "    <tr style=\"text-align: right;\">\n",
       "      <th></th>\n",
       "      <th>trip_id</th>\n",
       "      <th>arrival_time</th>\n",
       "      <th>departure_time_stop</th>\n",
       "      <th>stop_id</th>\n",
       "      <th>stop_sequence</th>\n",
       "      <th>route_id</th>\n",
       "      <th>trip_headsign</th>\n",
       "      <th>departure_time_trip_departure</th>\n",
       "      <th>stop_code</th>\n",
       "      <th>stop_lat</th>\n",
       "      <th>stop_lon</th>\n",
       "      <th>arrival</th>\n",
       "      <th>departure</th>\n",
       "      <th>node_id</th>\n",
       "    </tr>\n",
       "  </thead>\n",
       "  <tbody>\n",
       "    <tr>\n",
       "      <th>1763216</th>\n",
       "      <td>36873382_271019</td>\n",
       "      <td>08:50:55</td>\n",
       "      <td>08:50:55</td>\n",
       "      <td>38946</td>\n",
       "      <td>2</td>\n",
       "      <td>25405</td>\n",
       "      <td>ראשון לציון_רכבת הראשונים</td>\n",
       "      <td>08:50:00</td>\n",
       "      <td>20015</td>\n",
       "      <td>32.081706</td>\n",
       "      <td>34.795561</td>\n",
       "      <td>2019-11-03 08:50:55</td>\n",
       "      <td>2019-11-03 08:50:55</td>\n",
       "      <td>1763216</td>\n",
       "    </tr>\n",
       "  </tbody>\n",
       "</table>\n",
       "</div>"
      ],
      "text/plain": [
       "                 trip_id arrival_time departure_time_stop  stop_id  \\\n",
       "1763216  36873382_271019     08:50:55            08:50:55    38946   \n",
       "\n",
       "         stop_sequence  route_id              trip_headsign  \\\n",
       "1763216              2     25405  ראשון לציון_רכבת הראשונים   \n",
       "\n",
       "        departure_time_trip_departure  stop_code   stop_lat   stop_lon  \\\n",
       "1763216                      08:50:00      20015  32.081706  34.795561   \n",
       "\n",
       "                    arrival           departure  node_id  \n",
       "1763216 2019-11-03 08:50:55 2019-11-03 08:50:55  1763216  "
      ]
     },
     "execution_count": 52,
     "metadata": {},
     "output_type": "execute_result"
    }
   ],
   "source": [
    "nodes_df[nodes_df['node_id'] == 1763216]"
   ]
  },
  {
   "cell_type": "code",
   "execution_count": 53,
   "metadata": {},
   "outputs": [
    {
     "data": {
      "text/html": [
       "<div>\n",
       "<style scoped>\n",
       "    .dataframe tbody tr th:only-of-type {\n",
       "        vertical-align: middle;\n",
       "    }\n",
       "\n",
       "    .dataframe tbody tr th {\n",
       "        vertical-align: top;\n",
       "    }\n",
       "\n",
       "    .dataframe thead th {\n",
       "        text-align: right;\n",
       "    }\n",
       "</style>\n",
       "<table border=\"1\" class=\"dataframe\">\n",
       "  <thead>\n",
       "    <tr style=\"text-align: right;\">\n",
       "      <th></th>\n",
       "      <th>trip_id</th>\n",
       "      <th>arrival_time</th>\n",
       "      <th>departure_time_stop</th>\n",
       "      <th>stop_id</th>\n",
       "      <th>stop_sequence</th>\n",
       "      <th>route_id</th>\n",
       "      <th>trip_headsign</th>\n",
       "      <th>departure_time_trip_departure</th>\n",
       "      <th>stop_code</th>\n",
       "      <th>stop_lat</th>\n",
       "      <th>stop_lon</th>\n",
       "      <th>arrival</th>\n",
       "      <th>departure</th>\n",
       "      <th>node_id</th>\n",
       "    </tr>\n",
       "  </thead>\n",
       "  <tbody>\n",
       "    <tr>\n",
       "      <th>3026503</th>\n",
       "      <td>35771757_271019</td>\n",
       "      <td>09:05:00</td>\n",
       "      <td>09:05:00</td>\n",
       "      <td>42875</td>\n",
       "      <td>1</td>\n",
       "      <td>20871</td>\n",
       "      <td>ראש העין_פארק תעשיה אפק</td>\n",
       "      <td>09:05:00</td>\n",
       "      <td>20001</td>\n",
       "      <td>32.083157</td>\n",
       "      <td>34.796091</td>\n",
       "      <td>2019-11-03 09:05:00</td>\n",
       "      <td>2019-11-03 09:05:00</td>\n",
       "      <td>3026503</td>\n",
       "    </tr>\n",
       "  </tbody>\n",
       "</table>\n",
       "</div>"
      ],
      "text/plain": [
       "                 trip_id arrival_time departure_time_stop  stop_id  \\\n",
       "3026503  35771757_271019     09:05:00            09:05:00    42875   \n",
       "\n",
       "         stop_sequence  route_id            trip_headsign  \\\n",
       "3026503              1     20871  ראש העין_פארק תעשיה אפק   \n",
       "\n",
       "        departure_time_trip_departure  stop_code   stop_lat   stop_lon  \\\n",
       "3026503                      09:05:00      20001  32.083157  34.796091   \n",
       "\n",
       "                    arrival           departure  node_id  \n",
       "3026503 2019-11-03 09:05:00 2019-11-03 09:05:00  3026503  "
      ]
     },
     "execution_count": 53,
     "metadata": {},
     "output_type": "execute_result"
    }
   ],
   "source": [
    "nodes_df[nodes_df['node_id'] == 3026503]"
   ]
  },
  {
   "cell_type": "markdown",
   "metadata": {},
   "source": [
    "## Load edges for stats"
   ]
  },
  {
   "cell_type": "code",
   "execution_count": 9,
   "metadata": {},
   "outputs": [],
   "source": [
    "import pickle\n",
    "\n",
    "with open(OUTPUT_PATH + 'morning_direct_edges.pkl', 'rb') as f:\n",
    "    direct_edges = pickle.load(f)"
   ]
  },
  {
   "cell_type": "code",
   "execution_count": 10,
   "metadata": {},
   "outputs": [],
   "source": [
    "with open(OUTPUT_PATH + 'morning_transfer_edges.pkl', 'rb') as f:\n",
    "    transfer_edges = pickle.load(f)"
   ]
  },
  {
   "cell_type": "code",
   "execution_count": 12,
   "metadata": {},
   "outputs": [
    {
     "data": {
      "text/plain": [
       "312105"
      ]
     },
     "execution_count": 12,
     "metadata": {},
     "output_type": "execute_result"
    }
   ],
   "source": [
    "len(direct_edges)"
   ]
  },
  {
   "cell_type": "code",
   "execution_count": 13,
   "metadata": {},
   "outputs": [
    {
     "data": {
      "text/plain": [
       "4191638"
      ]
     },
     "execution_count": 13,
     "metadata": {},
     "output_type": "execute_result"
    }
   ],
   "source": [
    "len(transfer_edges)"
   ]
  },
  {
   "cell_type": "code",
   "execution_count": null,
   "metadata": {},
   "outputs": [],
   "source": []
  }
 ],
 "metadata": {
  "kernelspec": {
   "display_name": "Python 3",
   "language": "python",
   "name": "python3"
  },
  "language_info": {
   "codemirror_mode": {
    "name": "ipython",
    "version": 3
   },
   "file_extension": ".py",
   "mimetype": "text/x-python",
   "name": "python",
   "nbconvert_exporter": "python",
   "pygments_lexer": "ipython3",
   "version": "3.7.5"
  }
 },
 "nbformat": 4,
 "nbformat_minor": 2
}
