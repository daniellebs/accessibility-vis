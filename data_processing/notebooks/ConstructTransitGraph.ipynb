{
 "cells": [
  {
   "cell_type": "markdown",
   "metadata": {},
   "source": [
    "## GTFS\n",
    "In order to compute accessibility based on GTFS data (General Transit Feed Specification, can by downloaded from ftp://199.203.58.18/), we will first perform basic processing of the data.\n",
    "We are using the pandas library.\n",
    "\n",
    "The code is based on the following structure of GTFS tables:\n",
    "![GTFS Tables](../../input_data/GTFS_tables.PNG)"
   ]
  },
  {
   "cell_type": "code",
   "execution_count": 4,
   "metadata": {},
   "outputs": [],
   "source": [
    "# Imports\n",
    "import pandas as pd\n",
    "import datetime as dt\n",
    "import numpy as np\n",
    "import pickle\n",
    "import warnings\n",
    "from tqdm.auto import tqdm\n",
    "\n",
    "# Set up notebook\n",
    "warnings.filterwarnings('ignore')\n",
    "tqdm.pandas()\n",
    "\n",
    "# Code constants\n",
    "DATA_PATH = '../../input_data/GTFS-28-Oct-19/'\n",
    "OUTPUT_PATH = '../../output_data/'\n",
    "DAY = dt.datetime(2019, 11, 3)\n"
   ]
  },
  {
   "cell_type": "markdown",
   "metadata": {},
   "source": [
    "## Create Nodes\n",
    "### Utility Functions\n",
    "GTFS times are markes so that trips that last after midnight (00:00) actyally get counted from 24:00 and onwards. For example, an entry in stop_times file can have the time 26:50. \n",
    "In order to handle the times in python native datetime package, we must convert all \"GTFS times\" to regular times."
   ]
  },
  {
   "cell_type": "code",
   "execution_count": null,
   "metadata": {},
   "outputs": [],
   "source": [
    "def convert_gtfs_time_to_datetime(gtfs_time):\n",
    "    date = dt.datetime(2019, 11, 3)\n",
    "    h, m, s = [int(x) for x in gtfs_time.split(':')]\n",
    "    if h < 24:\n",
    "        # This is a 'normal' situation, we can simply create a datetime object using the date we defined before\n",
    "        return date + dt.timedelta(hours=h, minutes=m, seconds=s)\n",
    "    # Otherwise we have a 'strange' time: it's after midnight\n",
    "    new_date = date + dt.timedelta(days=1)\n",
    "    return new_date + dt.timedelta(hours=h-24, minutes=m, seconds=s)"
   ]
  },
  {
   "cell_type": "markdown",
   "metadata": {},
   "source": [
    "### Process Calendar - Get trips for a single day\n",
    "Note the the chosed day, as marked by the above constant DAY, should fit the code below. If the date is a Sunday, we should filter by 'sunday' below. See code internal documentation for specifics. "
   ]
  },
  {
   "cell_type": "code",
   "execution_count": null,
   "metadata": {},
   "outputs": [],
   "source": [
    "# Load calendar\n",
    "calendar_df = pd.read_csv(DATA_PATH + 'calendar.txt')\n",
    "# Convert dates to python's datetime type\n",
    "calendar_df['start_date'] = calendar_df['start_date'].apply(lambda x: dt.datetime.strptime(str(x), '%Y%m%d'))\n",
    "calendar_df['end_date'] = calendar_df['end_date'].apply(lambda x: dt.datetime.strptime(str(x), '%Y%m%d'))\n",
    "\n",
    "calendar_df.columns = ['service_id',\n",
    " 'sunday',\n",
    " 'monday',\n",
    " 'tuesday',\n",
    " 'wednesday',\n",
    " 'thursday',\n",
    " 'friday',\n",
    " 'saturday',\n",
    " 'start_date',\n",
    " 'end_date']\n",
    "\n",
    "# Let's say we want all trips that occurred on the first Sunday after the feed was published \n",
    "\n",
    "# Filter so we only keep services that are active on Sunday.\n",
    "sunday_services_df = calendar_df[calendar_df['sunday'] == 1][['service_id', 'start_date', 'end_date']]\n",
    "\n",
    "# Keep only services that start during/before selected date\n",
    "sunday_services_df = sunday_services_df[sunday_services_df['start_date'] <= DAY]\n",
    "\n",
    "# Keep only services that end during/after selected date\n",
    "sunday_services_df = sunday_services_df[sunday_services_df['end_date'] >= DAY]"
   ]
  },
  {
   "cell_type": "markdown",
   "metadata": {},
   "source": [
    "### Process Trips"
   ]
  },
  {
   "cell_type": "code",
   "execution_count": null,
   "metadata": {},
   "outputs": [],
   "source": [
    "# Load trips\n",
    "trips_df = pd.read_csv(DATA_PATH + 'trips.txt')\n",
    "\n",
    "# Fix column names (some columns have special 'hudden' characters that we want to remove)\n",
    "trips_df.columns = ['route_id', 'service_id', 'trip_id','trip_headsign', 'direction_is', 'shape_id']\n",
    "\n",
    "trips_calendar_df = sunday_services_df.merge(trips_df, on='service_id', suffixes=('_calendar', '_trips'))\n",
    "sunday_trips_df = trips_calendar_df.drop(['start_date', 'end_date'], axis=1)"
   ]
  },
  {
   "cell_type": "markdown",
   "metadata": {},
   "source": [
    "We should now have all **trips** that occured on the selected date.\n",
    "### Process Stop Times\n",
    "**Note:** This is pretty heavy compared to the rest of the tables"
   ]
  },
  {
   "cell_type": "code",
   "execution_count": null,
   "metadata": {},
   "outputs": [],
   "source": [
    "# Load stop times\n",
    "stop_times_df = pd.read_csv(DATA_PATH + 'stop_times.txt')\n",
    "\n",
    "# Get all trips departures by getting the minimal departure time for each trip\n",
    "trips_start_times_df = stop_times_df.groupby('trip_id').agg({'departure_time': 'min'})\n",
    "\n",
    "# Let's join the last two tabled to get the departure times of all sunday trips\n",
    "sunday_departures_df = sunday_trips_df.merge(trips_start_times_df, on='trip_id', suffixes=('_departures', '_trips'))"
   ]
  },
  {
   "cell_type": "markdown",
   "metadata": {},
   "source": [
    "### Process Stops"
   ]
  },
  {
   "cell_type": "code",
   "execution_count": null,
   "metadata": {},
   "outputs": [],
   "source": [
    "# Load stops\n",
    "stops_df = pd.read_csv(DATA_PATH + 'stops.txt')\n",
    "\n",
    "# Add stop code and zone id to stop times\n",
    "stop_times_with_stop_codes_df = stop_times_df.merge(\n",
    "    stops_df[['stop_id', 'stop_code', 'zone_id']], on='stop_id')\n",
    "\n",
    "# Add stop code to stop times - Yulia's example\n",
    "# stop_times_with_stop_codes_df = stop_times_df.merge(\n",
    "#     stops_df[['stop_id', 'stop_code']], on='stop_id')\n",
    "\n",
    "\n",
    "stop_times_with_stop_codes_df['departure_time'] = stop_times_with_stop_codes_df[\n",
    "    'departure_time'].apply(convert_gtfs_time_to_datetime)"
   ]
  },
  {
   "cell_type": "markdown",
   "metadata": {},
   "source": [
    "### Construct the nodes"
   ]
  },
  {
   "cell_type": "code",
   "execution_count": null,
   "metadata": {},
   "outputs": [],
   "source": [
    "# We want to (right) join this table with stop_times in order to get the sunday stop times with trip departure time.\n",
    "sunday_nodes_df = stop_times_df.merge(sunday_departures_df, how='right', on='trip_id', suffixes=('_stop', '_trip_departure'))\n",
    "\n",
    "# Remove some columns to clear the data\n",
    "sunday_nodes_df = sunday_nodes_df.drop(['pickup_type', 'shape_dist_traveled', \n",
    "                                        'drop_off_type', 'service_id', 'direction_is', 'shape_id'], \n",
    "                                       axis=1)\n",
    "\n",
    "# Add stops data to nodes\n",
    "nodes_df = sunday_nodes_df.merge(stops_df, on='stop_id', suffixes=('_node', '_stop'))\n",
    "nodes_df = nodes_df.drop(['stop_desc', 'stop_name', 'zone_id', 'parent_station', 'location_type'],axis=1)\n",
    "\n",
    "# Convert GTFS times to match \"real-world time\".\n",
    "nodes_df['arrival'] = nodes_df['arrival_time'].apply(convert_gtfs_time_to_datetime)\n",
    "nodes_df['departure'] = nodes_df['departure_time_stop'].apply(convert_gtfs_time_to_datetime)\n"
   ]
  },
  {
   "cell_type": "markdown",
   "metadata": {},
   "source": [
    "## Create Edges"
   ]
  },
  {
   "cell_type": "code",
   "execution_count": null,
   "metadata": {},
   "outputs": [],
   "source": []
  }
 ],
 "metadata": {
  "kernelspec": {
   "display_name": "Python 3",
   "language": "python",
   "name": "python3"
  },
  "language_info": {
   "codemirror_mode": {
    "name": "ipython",
    "version": 3
   },
   "file_extension": ".py",
   "mimetype": "text/x-python",
   "name": "python",
   "nbconvert_exporter": "python",
   "pygments_lexer": "ipython3",
   "version": "3.7.5"
  }
 },
 "nbformat": 4,
 "nbformat_minor": 4
}
