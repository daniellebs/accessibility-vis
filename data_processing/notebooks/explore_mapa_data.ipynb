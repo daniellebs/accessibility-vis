{
 "cells": [
  {
   "cell_type": "code",
   "execution_count": 106,
   "metadata": {},
   "outputs": [],
   "source": [
    "import geopandas as gpd\n",
    "import os\n",
    "import pandas as pd\n",
    "import warnings\n",
    "import seaborn as sns\n",
    "import matplotlib.pyplot as plt\n",
    "from tqdm.auto import tqdm\n",
    "import pickle\n",
    "import copy \n",
    "\n",
    "warnings.filterwarnings('ignore')\n",
    "tqdm.pandas()"
   ]
  },
  {
   "cell_type": "code",
   "execution_count": null,
   "metadata": {},
   "outputs": [],
   "source": []
  },
  {
   "cell_type": "markdown",
   "metadata": {},
   "source": [
    "## Load Roads"
   ]
  },
  {
   "cell_type": "code",
   "execution_count": 2,
   "metadata": {},
   "outputs": [],
   "source": [
    "MAPA_PATH = \"../../../data/Mapa/Ben Gurion University/Gisrael/\""
   ]
  },
  {
   "cell_type": "code",
   "execution_count": 30,
   "metadata": {},
   "outputs": [],
   "source": [
    "roads_df = gpd.read_file(MAPA_PATH + 'is_str.shp')"
   ]
  },
  {
   "cell_type": "code",
   "execution_count": 31,
   "metadata": {},
   "outputs": [],
   "source": [
    "roads_df = roads_df.set_index('UserID')"
   ]
  },
  {
   "cell_type": "code",
   "execution_count": 32,
   "metadata": {},
   "outputs": [
    {
     "data": {
      "text/html": [
       "<div>\n",
       "<style scoped>\n",
       "    .dataframe tbody tr th:only-of-type {\n",
       "        vertical-align: middle;\n",
       "    }\n",
       "\n",
       "    .dataframe tbody tr th {\n",
       "        vertical-align: top;\n",
       "    }\n",
       "\n",
       "    .dataframe thead th {\n",
       "        text-align: right;\n",
       "    }\n",
       "</style>\n",
       "<table border=\"1\" class=\"dataframe\">\n",
       "  <thead>\n",
       "    <tr style=\"text-align: right;\">\n",
       "      <th></th>\n",
       "      <th>street</th>\n",
       "      <th>FromLeft</th>\n",
       "      <th>ToLeft</th>\n",
       "      <th>FromRight</th>\n",
       "      <th>ToRight</th>\n",
       "      <th>StreetCode</th>\n",
       "      <th>ObjID</th>\n",
       "      <th>FJunction</th>\n",
       "      <th>TJunction</th>\n",
       "      <th>Length</th>\n",
       "      <th>...</th>\n",
       "      <th>Status</th>\n",
       "      <th>RoadFuncti</th>\n",
       "      <th>Flag</th>\n",
       "      <th>Identifier</th>\n",
       "      <th>Roaddirect</th>\n",
       "      <th>CLEARSTREE</th>\n",
       "      <th>REVERSTREE</th>\n",
       "      <th>CLEARCITYN</th>\n",
       "      <th>REVERCITYN</th>\n",
       "      <th>geometry</th>\n",
       "    </tr>\n",
       "    <tr>\n",
       "      <th>UserID</th>\n",
       "      <th></th>\n",
       "      <th></th>\n",
       "      <th></th>\n",
       "      <th></th>\n",
       "      <th></th>\n",
       "      <th></th>\n",
       "      <th></th>\n",
       "      <th></th>\n",
       "      <th></th>\n",
       "      <th></th>\n",
       "      <th></th>\n",
       "      <th></th>\n",
       "      <th></th>\n",
       "      <th></th>\n",
       "      <th></th>\n",
       "      <th></th>\n",
       "      <th></th>\n",
       "      <th></th>\n",
       "      <th></th>\n",
       "      <th></th>\n",
       "      <th></th>\n",
       "    </tr>\n",
       "  </thead>\n",
       "  <tbody>\n",
       "    <tr>\n",
       "      <th>1004561</th>\n",
       "      <td>None</td>\n",
       "      <td>0</td>\n",
       "      <td>0</td>\n",
       "      <td>0</td>\n",
       "      <td>0</td>\n",
       "      <td>None</td>\n",
       "      <td>1</td>\n",
       "      <td>947733</td>\n",
       "      <td>947736</td>\n",
       "      <td>64.569179</td>\n",
       "      <td>...</td>\n",
       "      <td>Operative</td>\n",
       "      <td>4x4 Road</td>\n",
       "      <td>5</td>\n",
       "      <td>1012284</td>\n",
       "      <td>222222</td>\n",
       "      <td>None</td>\n",
       "      <td>None</td>\n",
       "      <td>àéìú</td>\n",
       "      <td>úìéà</td>\n",
       "      <td>LINESTRING (194289.114 388953.679, 194277.535 ...</td>\n",
       "    </tr>\n",
       "  </tbody>\n",
       "</table>\n",
       "<p>1 rows × 37 columns</p>\n",
       "</div>"
      ],
      "text/plain": [
       "        street  FromLeft  ToLeft  FromRight  ToRight StreetCode  ObjID  \\\n",
       "UserID                                                                   \n",
       "1004561   None         0       0          0        0       None      1   \n",
       "\n",
       "         FJunction  TJunction     Length  ...     Status RoadFuncti  Flag  \\\n",
       "UserID                                    ...                               \n",
       "1004561     947733     947736  64.569179  ...  Operative   4x4 Road     5   \n",
       "\n",
       "         Identifier Roaddirect CLEARSTREE  REVERSTREE CLEARCITYN REVERCITYN  \\\n",
       "UserID                                                                        \n",
       "1004561     1012284     222222       None        None       àéìú       úìéà   \n",
       "\n",
       "                                                  geometry  \n",
       "UserID                                                      \n",
       "1004561  LINESTRING (194289.114 388953.679, 194277.535 ...  \n",
       "\n",
       "[1 rows x 37 columns]"
      ]
     },
     "execution_count": 32,
     "metadata": {},
     "output_type": "execute_result"
    }
   ],
   "source": [
    "roads_df.head(1)"
   ]
  },
  {
   "cell_type": "code",
   "execution_count": 33,
   "metadata": {},
   "outputs": [
    {
     "name": "stdout",
     "output_type": "stream",
     "text": [
      "Number of edges (links) in networks: 647504\n"
     ]
    }
   ],
   "source": [
    "print('Number of edges (links) in networks: ' + str(roads_df.shape[0]))"
   ]
  },
  {
   "cell_type": "code",
   "execution_count": 34,
   "metadata": {},
   "outputs": [],
   "source": [
    "unique_junctions = roads_df['FJunction'].append(roads_df['TJunction']).unique()"
   ]
  },
  {
   "cell_type": "code",
   "execution_count": 35,
   "metadata": {},
   "outputs": [
    {
     "name": "stdout",
     "output_type": "stream",
     "text": [
      "Number of nodes (junctions) in networks: 489961\n"
     ]
    }
   ],
   "source": [
    "print('Number of nodes (junctions) in networks: ' + str(unique_junctions.shape[0]))"
   ]
  },
  {
   "cell_type": "code",
   "execution_count": 36,
   "metadata": {},
   "outputs": [
    {
     "name": "stdout",
     "output_type": "stream",
     "text": [
      "Number of unique link origins: 438984\n",
      "This means an average out-degree of 1.4750059227671168\n"
     ]
    }
   ],
   "source": [
    "num_orogins = roads_df['FJunction'].unique().shape[0]\n",
    "print('Number of unique link origins: ' + str(num_orogins))\n",
    "print('This means an average out-degree of ' + str(roads_df.shape[0] / num_orogins))"
   ]
  },
  {
   "cell_type": "code",
   "execution_count": 37,
   "metadata": {},
   "outputs": [
    {
     "name": "stdout",
     "output_type": "stream",
     "text": [
      "Number of unique link targets: 456354\n",
      "This means an average in-degree of 1.418863426199836\n"
     ]
    }
   ],
   "source": [
    "num_targets = roads_df['TJunction'].unique().shape[0]\n",
    "print('Number of unique link targets: ' + str(num_targets))\n",
    "print('This means an average in-degree of ' + str(roads_df.shape[0] / num_targets))"
   ]
  },
  {
   "cell_type": "markdown",
   "metadata": {},
   "source": [
    "### Get Edges (based on one-way and two-way roads) "
   ]
  },
  {
   "cell_type": "code",
   "execution_count": 38,
   "metadata": {},
   "outputs": [
    {
     "data": {
      "text/plain": [
       "Index(['street', 'FromLeft', 'ToLeft', 'FromRight', 'ToRight', 'StreetCode',\n",
       "       'ObjID', 'FJunction', 'TJunction', 'Length', 'RoadType', 'OneWay',\n",
       "       'F_ZLev', 'T_ZLev', 'FLanes', 'TLanes', 'Intended', 'cityname',\n",
       "       'CityCode', 'Seconds', 'FromSpeedL', 'ToSpeedL', 'AprxSpeedL',\n",
       "       'Autonomy', 'Regulation', 'RoadNameMZ', 'DirectionM', 'Status',\n",
       "       'RoadFuncti', 'Flag', 'Identifier', 'Roaddirect', 'CLEARSTREE',\n",
       "       'REVERSTREE', 'CLEARCITYN', 'REVERCITYN', 'geometry'],\n",
       "      dtype='object')"
      ]
     },
     "execution_count": 38,
     "metadata": {},
     "output_type": "execute_result"
    }
   ],
   "source": [
    "roads_df.columns"
   ]
  },
  {
   "cell_type": "code",
   "execution_count": 39,
   "metadata": {},
   "outputs": [],
   "source": [
    "shape_edges_df = roads_df[['ObjID', 'FJunction', 'TJunction', 'RoadType', \n",
    "                     'OneWay', 'FromSpeedL', 'ToSpeedL', \n",
    "                     'AprxSpeedL', 'Seconds', 'Length', 'Roaddirect', 'DirectionM']]\n",
    "shape_edges_df = shape_edges_df.reset_index()"
   ]
  },
  {
   "cell_type": "code",
   "execution_count": 40,
   "metadata": {},
   "outputs": [
    {
     "data": {
      "text/html": [
       "<div>\n",
       "<style scoped>\n",
       "    .dataframe tbody tr th:only-of-type {\n",
       "        vertical-align: middle;\n",
       "    }\n",
       "\n",
       "    .dataframe tbody tr th {\n",
       "        vertical-align: top;\n",
       "    }\n",
       "\n",
       "    .dataframe thead th {\n",
       "        text-align: right;\n",
       "    }\n",
       "</style>\n",
       "<table border=\"1\" class=\"dataframe\">\n",
       "  <thead>\n",
       "    <tr style=\"text-align: right;\">\n",
       "      <th></th>\n",
       "      <th>UserID</th>\n",
       "      <th>ObjID</th>\n",
       "      <th>FJunction</th>\n",
       "      <th>TJunction</th>\n",
       "      <th>RoadType</th>\n",
       "      <th>OneWay</th>\n",
       "      <th>FromSpeedL</th>\n",
       "      <th>ToSpeedL</th>\n",
       "      <th>AprxSpeedL</th>\n",
       "      <th>Seconds</th>\n",
       "      <th>Length</th>\n",
       "      <th>Roaddirect</th>\n",
       "      <th>DirectionM</th>\n",
       "    </tr>\n",
       "  </thead>\n",
       "  <tbody>\n",
       "    <tr>\n",
       "      <th>0</th>\n",
       "      <td>1004561</td>\n",
       "      <td>1</td>\n",
       "      <td>947733</td>\n",
       "      <td>947736</td>\n",
       "      <td>254</td>\n",
       "      <td>2</td>\n",
       "      <td>10</td>\n",
       "      <td>10</td>\n",
       "      <td>10</td>\n",
       "      <td>69.734908</td>\n",
       "      <td>64.569179</td>\n",
       "      <td>222222</td>\n",
       "      <td>None</td>\n",
       "    </tr>\n",
       "    <tr>\n",
       "      <th>1</th>\n",
       "      <td>1059914</td>\n",
       "      <td>2</td>\n",
       "      <td>950536</td>\n",
       "      <td>983821</td>\n",
       "      <td>10</td>\n",
       "      <td>2</td>\n",
       "      <td>90</td>\n",
       "      <td>90</td>\n",
       "      <td>90</td>\n",
       "      <td>2.249966</td>\n",
       "      <td>49.999104</td>\n",
       "      <td>222222</td>\n",
       "      <td>B</td>\n",
       "    </tr>\n",
       "  </tbody>\n",
       "</table>\n",
       "</div>"
      ],
      "text/plain": [
       "    UserID  ObjID  FJunction  TJunction  RoadType OneWay  FromSpeedL  \\\n",
       "0  1004561      1     947733     947736       254      2          10   \n",
       "1  1059914      2     950536     983821        10      2          90   \n",
       "\n",
       "   ToSpeedL  AprxSpeedL    Seconds     Length Roaddirect DirectionM  \n",
       "0        10          10  69.734908  64.569179     222222       None  \n",
       "1        90          90   2.249966  49.999104     222222          B  "
      ]
     },
     "execution_count": 40,
     "metadata": {},
     "output_type": "execute_result"
    }
   ],
   "source": [
    "shape_edges_df.head(2)"
   ]
  },
  {
   "cell_type": "code",
   "execution_count": 75,
   "metadata": {},
   "outputs": [
    {
     "data": {
      "text/html": [
       "<div>\n",
       "<style scoped>\n",
       "    .dataframe tbody tr th:only-of-type {\n",
       "        vertical-align: middle;\n",
       "    }\n",
       "\n",
       "    .dataframe tbody tr th {\n",
       "        vertical-align: top;\n",
       "    }\n",
       "\n",
       "    .dataframe thead th {\n",
       "        text-align: right;\n",
       "    }\n",
       "</style>\n",
       "<table border=\"1\" class=\"dataframe\">\n",
       "  <thead>\n",
       "    <tr style=\"text-align: right;\">\n",
       "      <th></th>\n",
       "      <th>UserID</th>\n",
       "      <th>ObjID</th>\n",
       "      <th>FJunction</th>\n",
       "      <th>TJunction</th>\n",
       "      <th>RoadType</th>\n",
       "      <th>OneWay</th>\n",
       "      <th>FromSpeedL</th>\n",
       "      <th>ToSpeedL</th>\n",
       "      <th>AprxSpeedL</th>\n",
       "      <th>Seconds</th>\n",
       "      <th>Length</th>\n",
       "      <th>Roaddirect</th>\n",
       "      <th>DirectionM</th>\n",
       "    </tr>\n",
       "  </thead>\n",
       "  <tbody>\n",
       "  </tbody>\n",
       "</table>\n",
       "</div>"
      ],
      "text/plain": [
       "Empty DataFrame\n",
       "Columns: [UserID, ObjID, FJunction, TJunction, RoadType, OneWay, FromSpeedL, ToSpeedL, AprxSpeedL, Seconds, Length, Roaddirect, DirectionM]\n",
       "Index: []"
      ]
     },
     "execution_count": 75,
     "metadata": {},
     "output_type": "execute_result"
    }
   ],
   "source": [
    "edges_df = pd.DataFrame(columns=shape_edges_df.columns)\n",
    "edges_df.head()"
   ]
  },
  {
   "cell_type": "code",
   "execution_count": 69,
   "metadata": {},
   "outputs": [
    {
     "data": {
      "text/plain": [
       "array(['2', 'ft', 'N', 'tf'], dtype=object)"
      ]
     },
     "execution_count": 69,
     "metadata": {},
     "output_type": "execute_result"
    }
   ],
   "source": [
    "shape_edges_df['OneWay'].unique()"
   ]
  },
  {
   "cell_type": "code",
   "execution_count": 86,
   "metadata": {},
   "outputs": [
    {
     "data": {
      "text/html": [
       "<div>\n",
       "<style scoped>\n",
       "    .dataframe tbody tr th:only-of-type {\n",
       "        vertical-align: middle;\n",
       "    }\n",
       "\n",
       "    .dataframe tbody tr th {\n",
       "        vertical-align: top;\n",
       "    }\n",
       "\n",
       "    .dataframe thead th {\n",
       "        text-align: right;\n",
       "    }\n",
       "</style>\n",
       "<table border=\"1\" class=\"dataframe\">\n",
       "  <thead>\n",
       "    <tr style=\"text-align: right;\">\n",
       "      <th></th>\n",
       "      <th>UserID</th>\n",
       "      <th>ObjID</th>\n",
       "      <th>FJunction</th>\n",
       "      <th>TJunction</th>\n",
       "      <th>RoadType</th>\n",
       "      <th>OneWay</th>\n",
       "      <th>FromSpeedL</th>\n",
       "      <th>ToSpeedL</th>\n",
       "      <th>AprxSpeedL</th>\n",
       "      <th>Seconds</th>\n",
       "      <th>Length</th>\n",
       "      <th>Roaddirect</th>\n",
       "      <th>DirectionM</th>\n",
       "    </tr>\n",
       "  </thead>\n",
       "  <tbody>\n",
       "    <tr>\n",
       "      <th>0</th>\n",
       "      <td>1004561</td>\n",
       "      <td>1</td>\n",
       "      <td>947733</td>\n",
       "      <td>947736</td>\n",
       "      <td>254</td>\n",
       "      <td>2</td>\n",
       "      <td>10</td>\n",
       "      <td>10</td>\n",
       "      <td>10</td>\n",
       "      <td>69.734908</td>\n",
       "      <td>64.569179</td>\n",
       "      <td>222222</td>\n",
       "      <td>None</td>\n",
       "    </tr>\n",
       "    <tr>\n",
       "      <th>1</th>\n",
       "      <td>1059914</td>\n",
       "      <td>2</td>\n",
       "      <td>950536</td>\n",
       "      <td>983821</td>\n",
       "      <td>10</td>\n",
       "      <td>2</td>\n",
       "      <td>90</td>\n",
       "      <td>90</td>\n",
       "      <td>90</td>\n",
       "      <td>2.249966</td>\n",
       "      <td>49.999104</td>\n",
       "      <td>222222</td>\n",
       "      <td>B</td>\n",
       "    </tr>\n",
       "    <tr>\n",
       "      <th>2</th>\n",
       "      <td>1060654</td>\n",
       "      <td>3</td>\n",
       "      <td>17832</td>\n",
       "      <td>984255</td>\n",
       "      <td>10</td>\n",
       "      <td>2</td>\n",
       "      <td>90</td>\n",
       "      <td>90</td>\n",
       "      <td>90</td>\n",
       "      <td>72.570183</td>\n",
       "      <td>1612.666216</td>\n",
       "      <td>222222</td>\n",
       "      <td>B</td>\n",
       "    </tr>\n",
       "    <tr>\n",
       "      <th>3</th>\n",
       "      <td>967162</td>\n",
       "      <td>4</td>\n",
       "      <td>912962</td>\n",
       "      <td>911713</td>\n",
       "      <td>254</td>\n",
       "      <td>2</td>\n",
       "      <td>10</td>\n",
       "      <td>10</td>\n",
       "      <td>10</td>\n",
       "      <td>453.304152</td>\n",
       "      <td>419.724891</td>\n",
       "      <td>222222</td>\n",
       "      <td>None</td>\n",
       "    </tr>\n",
       "    <tr>\n",
       "      <th>4</th>\n",
       "      <td>1326304</td>\n",
       "      <td>5</td>\n",
       "      <td>1141238</td>\n",
       "      <td>892364</td>\n",
       "      <td>6</td>\n",
       "      <td>2</td>\n",
       "      <td>50</td>\n",
       "      <td>50</td>\n",
       "      <td>50</td>\n",
       "      <td>5.849229</td>\n",
       "      <td>44.681484</td>\n",
       "      <td>222222</td>\n",
       "      <td>None</td>\n",
       "    </tr>\n",
       "  </tbody>\n",
       "</table>\n",
       "</div>"
      ],
      "text/plain": [
       "    UserID  ObjID  FJunction  TJunction  RoadType OneWay  FromSpeedL  \\\n",
       "0  1004561      1     947733     947736       254      2          10   \n",
       "1  1059914      2     950536     983821        10      2          90   \n",
       "2  1060654      3      17832     984255        10      2          90   \n",
       "3   967162      4     912962     911713       254      2          10   \n",
       "4  1326304      5    1141238     892364         6      2          50   \n",
       "\n",
       "   ToSpeedL  AprxSpeedL     Seconds       Length Roaddirect DirectionM  \n",
       "0        10          10   69.734908    64.569179     222222       None  \n",
       "1        90          90    2.249966    49.999104     222222          B  \n",
       "2        90          90   72.570183  1612.666216     222222          B  \n",
       "3        10          10  453.304152   419.724891     222222       None  \n",
       "4        50          50    5.849229    44.681484     222222       None  "
      ]
     },
     "execution_count": 86,
     "metadata": {},
     "output_type": "execute_result"
    }
   ],
   "source": [
    "shape_edges_df.head()"
   ]
  },
  {
   "cell_type": "code",
   "execution_count": 197,
   "metadata": {},
   "outputs": [
    {
     "data": {
      "application/vnd.jupyter.widget-view+json": {
       "model_id": "79ab2b91e1654bb09b0ab527fed30037",
       "version_major": 2,
       "version_minor": 0
      },
      "text/plain": [
       "HBox(children=(FloatProgress(value=0.0, max=647504.0), HTML(value='')))"
      ]
     },
     "metadata": {},
     "output_type": "display_data"
    },
    {
     "name": "stdout",
     "output_type": "stream",
     "text": [
      "\n"
     ]
    },
    {
     "data": {
      "text/plain": [
       "0         None\n",
       "1         None\n",
       "2         None\n",
       "3         None\n",
       "4         None\n",
       "          ... \n",
       "647499    None\n",
       "647500    None\n",
       "647501    None\n",
       "647502    None\n",
       "647503    None\n",
       "Length: 647504, dtype: object"
      ]
     },
     "execution_count": 197,
     "metadata": {},
     "output_type": "execute_result"
    }
   ],
   "source": [
    "edges_dict = dict()\n",
    "adjacency_list = dict()\n",
    "number_of_two_way = 0\n",
    "number_of_ft = 0\n",
    "number_of_tf = 0\n",
    "\n",
    "def create_edges_dict(e):\n",
    "    global edges_dict\n",
    "    global number_of_two_way\n",
    "    global number_of_ft\n",
    "    global number_of_tf\n",
    "    \n",
    "    road_type = e['OneWay']\n",
    "    frm = str(e['FJunction'])\n",
    "    to = str(e['TJunction'])\n",
    "    \n",
    "    if road_type == 'N':\n",
    "        return\n",
    "    elif road_type == 'ft':\n",
    "        edges_dict[frm, to] = copy.deepcopy(e)\n",
    "        \n",
    "        if frm not in adjacency_list:\n",
    "            adjacency_list[frm] = dict()\n",
    "        adjacency_list[frm][to] = copy.deepcopy(e)\n",
    "        \n",
    "        number_of_ft += 1\n",
    "    elif road_type == 'tf':\n",
    "        edges_dict[to, frm] = copy.deepcopy(e)\n",
    "        \n",
    "        if to not in adjacency_list:\n",
    "            adjacency_list[to] = dict()\n",
    "        adjacency_list[to][frm] = copy.deepcopy(e)\n",
    "        \n",
    "        number_of_tf += 1\n",
    "    elif road_type == '2':\n",
    "        edges_dict[frm, to] = copy.deepcopy(e)\n",
    "        edges_dict[to, frm] = copy.deepcopy(e)\n",
    "        \n",
    "        if frm not in adjacency_list:\n",
    "            adjacency_list[frm] = dict()\n",
    "        adjacency_list[frm][to] = copy.deepcopy(e)\n",
    "        \n",
    "        if to not in adjacency_list:\n",
    "            adjacency_list[to] = dict()\n",
    "        adjacency_list[to][frm] = copy.deepcopy(e)\n",
    "        \n",
    "        number_of_two_way +=2\n",
    "        \n",
    "shape_edges_df.progress_apply(lambda x: create_edges_dict(x), axis=1)"
   ]
  },
  {
   "cell_type": "code",
   "execution_count": 198,
   "metadata": {},
   "outputs": [],
   "source": [
    "original_adjacency_list = adjacency_listjacency_list.copy()"
   ]
  },
  {
   "cell_type": "code",
   "execution_count": 91,
   "metadata": {},
   "outputs": [
    {
     "data": {
      "text/plain": [
       "859377"
      ]
     },
     "execution_count": 91,
     "metadata": {},
     "output_type": "execute_result"
    }
   ],
   "source": [
    "len(edges_dict)"
   ]
  },
  {
   "cell_type": "code",
   "execution_count": null,
   "metadata": {},
   "outputs": [],
   "source": []
  },
  {
   "cell_type": "code",
   "execution_count": 93,
   "metadata": {},
   "outputs": [
    {
     "name": "stdout",
     "output_type": "stream",
     "text": [
      "859377\n",
      "number of ft: 154969, number of tf: 24314, number of two ways * 2: 680094\n"
     ]
    }
   ],
   "source": [
    "# Sanity check\n",
    "number_of_edges = len(edges_dict)\n",
    "number_of_ft = shape_edges_df[shape_edges_df['OneWay'] == 'ft'].shape[0]\n",
    "number_of_tf = shape_edges_df[shape_edges_df['OneWay'] == 'tf'].shape[0]\n",
    "number_of_two_way = shape_edges_df[shape_edges_df['OneWay'] == '2'].shape[0]\n",
    "print(number_of_edges)\n",
    "print(f'number of ft: {number_of_ft}, number of tf: {number_of_tf}, number of two ways * 2: {number_of_two_way*2}')\n",
    "assert number_of_edges == (number_of_ft + number_of_tf + number_of_two_way*2)"
   ]
  },
  {
   "cell_type": "code",
   "execution_count": 95,
   "metadata": {},
   "outputs": [],
   "source": [
    "# Save edges\n",
    "edges_df.to_pickle('../../output_data/road_edges.pkl')\n",
    "\n",
    "with open('../../output_data/road_edges.pkl', 'wb') as f:\n",
    "    pickle.dump(edges_dict, f)\n"
   ]
  },
  {
   "cell_type": "markdown",
   "metadata": {},
   "source": [
    "### First Stage - without turn restrictions"
   ]
  },
  {
   "cell_type": "code",
   "execution_count": 99,
   "metadata": {},
   "outputs": [],
   "source": [
    "# Get out degrees\n",
    "unique_origins_count_df = roads_df['FJunction'].value_counts()\n",
    "unique_origins_df = pd.DataFrame()\n",
    "unique_origins_df['id'] = unique_origins_count_df.index\n",
    "unique_origins_df['out_degree'] = unique_origins_count_df.values"
   ]
  },
  {
   "cell_type": "code",
   "execution_count": 100,
   "metadata": {},
   "outputs": [],
   "source": [
    "# Get in degrees\n",
    "unique_targets_count_df = roads_df['TJunction'].value_counts()\n",
    "unique_targets_df = pd.DataFrame()\n",
    "unique_targets_df['id'] = unique_targets_count_df.index\n",
    "unique_targets_df['in_degree'] = unique_targets_count_df.values"
   ]
  },
  {
   "cell_type": "code",
   "execution_count": 101,
   "metadata": {},
   "outputs": [],
   "source": [
    "# Create basic nodes with in and out degrees\n",
    "nodes_df = pd.DataFrame()\n",
    "nodes_df['id'] = pd.Series(unique_junctions)\n",
    "nodes_df = nodes_df.merge(unique_origins_df, how='left', on='id')\n",
    "nodes_df = nodes_df.merge(unique_targets_df, how='left', on='id')\n",
    "nodes_df = nodes_df.fillna(0)"
   ]
  },
  {
   "cell_type": "code",
   "execution_count": 102,
   "metadata": {},
   "outputs": [
    {
     "data": {
      "text/html": [
       "<div>\n",
       "<style scoped>\n",
       "    .dataframe tbody tr th:only-of-type {\n",
       "        vertical-align: middle;\n",
       "    }\n",
       "\n",
       "    .dataframe tbody tr th {\n",
       "        vertical-align: top;\n",
       "    }\n",
       "\n",
       "    .dataframe thead th {\n",
       "        text-align: right;\n",
       "    }\n",
       "</style>\n",
       "<table border=\"1\" class=\"dataframe\">\n",
       "  <thead>\n",
       "    <tr style=\"text-align: right;\">\n",
       "      <th></th>\n",
       "      <th>id</th>\n",
       "      <th>out_degree</th>\n",
       "      <th>in_degree</th>\n",
       "    </tr>\n",
       "  </thead>\n",
       "  <tbody>\n",
       "    <tr>\n",
       "      <td>0</td>\n",
       "      <td>947733</td>\n",
       "      <td>1.0</td>\n",
       "      <td>1.0</td>\n",
       "    </tr>\n",
       "    <tr>\n",
       "      <td>1</td>\n",
       "      <td>950536</td>\n",
       "      <td>1.0</td>\n",
       "      <td>1.0</td>\n",
       "    </tr>\n",
       "    <tr>\n",
       "      <td>2</td>\n",
       "      <td>17832</td>\n",
       "      <td>2.0</td>\n",
       "      <td>1.0</td>\n",
       "    </tr>\n",
       "    <tr>\n",
       "      <td>3</td>\n",
       "      <td>912962</td>\n",
       "      <td>2.0</td>\n",
       "      <td>0.0</td>\n",
       "    </tr>\n",
       "    <tr>\n",
       "      <td>4</td>\n",
       "      <td>1141238</td>\n",
       "      <td>1.0</td>\n",
       "      <td>1.0</td>\n",
       "    </tr>\n",
       "  </tbody>\n",
       "</table>\n",
       "</div>"
      ],
      "text/plain": [
       "        id  out_degree  in_degree\n",
       "0   947733         1.0        1.0\n",
       "1   950536         1.0        1.0\n",
       "2    17832         2.0        1.0\n",
       "3   912962         2.0        0.0\n",
       "4  1141238         1.0        1.0"
      ]
     },
     "execution_count": 102,
     "metadata": {},
     "output_type": "execute_result"
    }
   ],
   "source": [
    "nodes_df.head()"
   ]
  },
  {
   "cell_type": "code",
   "execution_count": 104,
   "metadata": {},
   "outputs": [
    {
     "data": {
      "text/plain": [
       "(489961, 3)"
      ]
     },
     "execution_count": 104,
     "metadata": {},
     "output_type": "execute_result"
    }
   ],
   "source": [
    "nodes_df.shape"
   ]
  },
  {
   "cell_type": "markdown",
   "metadata": {},
   "source": [
    "__Find \"middle\" nodes (one link enters, one link leaves)__ <br>\n",
    "Next we'll need to see if \"both sides\" of the node are similar: same type (one-way/two-way), same speed"
   ]
  },
  {
   "cell_type": "code",
   "execution_count": 109,
   "metadata": {},
   "outputs": [],
   "source": [
    "middle_nodes_df = nodes_df[nodes_df['in_degree'] == 1][nodes_df['out_degree'] == 1]"
   ]
  },
  {
   "cell_type": "code",
   "execution_count": 115,
   "metadata": {},
   "outputs": [
    {
     "data": {
      "text/html": [
       "<div>\n",
       "<style scoped>\n",
       "    .dataframe tbody tr th:only-of-type {\n",
       "        vertical-align: middle;\n",
       "    }\n",
       "\n",
       "    .dataframe tbody tr th {\n",
       "        vertical-align: top;\n",
       "    }\n",
       "\n",
       "    .dataframe thead th {\n",
       "        text-align: right;\n",
       "    }\n",
       "</style>\n",
       "<table border=\"1\" class=\"dataframe\">\n",
       "  <thead>\n",
       "    <tr style=\"text-align: right;\">\n",
       "      <th></th>\n",
       "      <th>id</th>\n",
       "      <th>out_degree</th>\n",
       "      <th>in_degree</th>\n",
       "    </tr>\n",
       "  </thead>\n",
       "  <tbody>\n",
       "    <tr>\n",
       "      <td>0</td>\n",
       "      <td>947733</td>\n",
       "      <td>1.0</td>\n",
       "      <td>1.0</td>\n",
       "    </tr>\n",
       "    <tr>\n",
       "      <td>1</td>\n",
       "      <td>950536</td>\n",
       "      <td>1.0</td>\n",
       "      <td>1.0</td>\n",
       "    </tr>\n",
       "    <tr>\n",
       "      <td>4</td>\n",
       "      <td>1141238</td>\n",
       "      <td>1.0</td>\n",
       "      <td>1.0</td>\n",
       "    </tr>\n",
       "    <tr>\n",
       "      <td>6</td>\n",
       "      <td>929680</td>\n",
       "      <td>1.0</td>\n",
       "      <td>1.0</td>\n",
       "    </tr>\n",
       "    <tr>\n",
       "      <td>7</td>\n",
       "      <td>983803</td>\n",
       "      <td>1.0</td>\n",
       "      <td>1.0</td>\n",
       "    </tr>\n",
       "  </tbody>\n",
       "</table>\n",
       "</div>"
      ],
      "text/plain": [
       "        id  out_degree  in_degree\n",
       "0   947733         1.0        1.0\n",
       "1   950536         1.0        1.0\n",
       "4  1141238         1.0        1.0\n",
       "6   929680         1.0        1.0\n",
       "7   983803         1.0        1.0"
      ]
     },
     "execution_count": 115,
     "metadata": {},
     "output_type": "execute_result"
    }
   ],
   "source": [
    "middle_nodes_df.head()"
   ]
  },
  {
   "cell_type": "code",
   "execution_count": 116,
   "metadata": {},
   "outputs": [
    {
     "data": {
      "text/plain": [
       "Index(['street', 'FromLeft', 'ToLeft', 'FromRight', 'ToRight', 'StreetCode',\n",
       "       'ObjID', 'FJunction', 'TJunction', 'Length', 'RoadType', 'OneWay',\n",
       "       'F_ZLev', 'T_ZLev', 'FLanes', 'TLanes', 'Intended', 'cityname',\n",
       "       'CityCode', 'Seconds', 'FromSpeedL', 'ToSpeedL', 'AprxSpeedL',\n",
       "       'Autonomy', 'Regulation', 'RoadNameMZ', 'DirectionM', 'Status',\n",
       "       'RoadFuncti', 'Flag', 'Identifier', 'Roaddirect', 'CLEARSTREE',\n",
       "       'REVERSTREE', 'CLEARCITYN', 'REVERCITYN', 'geometry'],\n",
       "      dtype='object')"
      ]
     },
     "execution_count": 116,
     "metadata": {},
     "output_type": "execute_result"
    }
   ],
   "source": [
    "roads_df.columns"
   ]
  },
  {
   "cell_type": "code",
   "execution_count": 117,
   "metadata": {},
   "outputs": [],
   "source": [
    "middle_nodes_df = middle_nodes_df.merge(roads_df, how='left', left_on='id', right_on='FJunction')"
   ]
  },
  {
   "cell_type": "code",
   "execution_count": 118,
   "metadata": {},
   "outputs": [
    {
     "data": {
      "text/html": [
       "<div>\n",
       "<style scoped>\n",
       "    .dataframe tbody tr th:only-of-type {\n",
       "        vertical-align: middle;\n",
       "    }\n",
       "\n",
       "    .dataframe tbody tr th {\n",
       "        vertical-align: top;\n",
       "    }\n",
       "\n",
       "    .dataframe thead th {\n",
       "        text-align: right;\n",
       "    }\n",
       "</style>\n",
       "<table border=\"1\" class=\"dataframe\">\n",
       "  <thead>\n",
       "    <tr style=\"text-align: right;\">\n",
       "      <th></th>\n",
       "      <th>id</th>\n",
       "      <th>out_degree</th>\n",
       "      <th>in_degree</th>\n",
       "      <th>street</th>\n",
       "      <th>FromLeft</th>\n",
       "      <th>ToLeft</th>\n",
       "      <th>FromRight</th>\n",
       "      <th>ToRight</th>\n",
       "      <th>StreetCode</th>\n",
       "      <th>ObjID</th>\n",
       "      <th>...</th>\n",
       "      <th>Status</th>\n",
       "      <th>RoadFuncti</th>\n",
       "      <th>Flag</th>\n",
       "      <th>Identifier</th>\n",
       "      <th>Roaddirect</th>\n",
       "      <th>CLEARSTREE</th>\n",
       "      <th>REVERSTREE</th>\n",
       "      <th>CLEARCITYN</th>\n",
       "      <th>REVERCITYN</th>\n",
       "      <th>geometry</th>\n",
       "    </tr>\n",
       "  </thead>\n",
       "  <tbody>\n",
       "    <tr>\n",
       "      <td>0</td>\n",
       "      <td>947733</td>\n",
       "      <td>1.0</td>\n",
       "      <td>1.0</td>\n",
       "      <td>None</td>\n",
       "      <td>0</td>\n",
       "      <td>0</td>\n",
       "      <td>0</td>\n",
       "      <td>0</td>\n",
       "      <td>None</td>\n",
       "      <td>1</td>\n",
       "      <td>...</td>\n",
       "      <td>Operative</td>\n",
       "      <td>4x4 Road</td>\n",
       "      <td>5</td>\n",
       "      <td>1012284</td>\n",
       "      <td>222222</td>\n",
       "      <td>None</td>\n",
       "      <td>None</td>\n",
       "      <td>àéìú</td>\n",
       "      <td>úìéà</td>\n",
       "      <td>LINESTRING (194289.114 388953.679, 194277.535 ...</td>\n",
       "    </tr>\n",
       "    <tr>\n",
       "      <td>1</td>\n",
       "      <td>950536</td>\n",
       "      <td>1.0</td>\n",
       "      <td>1.0</td>\n",
       "      <td>40</td>\n",
       "      <td>0</td>\n",
       "      <td>0</td>\n",
       "      <td>0</td>\n",
       "      <td>0</td>\n",
       "      <td>None</td>\n",
       "      <td>2</td>\n",
       "      <td>...</td>\n",
       "      <td>Operative</td>\n",
       "      <td>Major Road</td>\n",
       "      <td>1</td>\n",
       "      <td>0</td>\n",
       "      <td>222222</td>\n",
       "      <td>40</td>\n",
       "      <td>40</td>\n",
       "      <td>îöôäøîåï</td>\n",
       "      <td>ïåîø äôöî</td>\n",
       "      <td>LINESTRING (187484.184 501340.215, 187506.545 ...</td>\n",
       "    </tr>\n",
       "  </tbody>\n",
       "</table>\n",
       "<p>2 rows × 40 columns</p>\n",
       "</div>"
      ],
      "text/plain": [
       "       id  out_degree  in_degree street  FromLeft  ToLeft  FromRight  ToRight  \\\n",
       "0  947733         1.0        1.0   None         0       0          0        0   \n",
       "1  950536         1.0        1.0     40         0       0          0        0   \n",
       "\n",
       "  StreetCode  ObjID  ...     Status  RoadFuncti  Flag  Identifier Roaddirect  \\\n",
       "0       None      1  ...  Operative    4x4 Road     5     1012284     222222   \n",
       "1       None      2  ...  Operative  Major Road     1           0     222222   \n",
       "\n",
       "   CLEARSTREE  REVERSTREE CLEARCITYN REVERCITYN  \\\n",
       "0        None        None       àéìú       úìéà   \n",
       "1          40          40   îöôäøîåï  ïåîø äôöî   \n",
       "\n",
       "                                            geometry  \n",
       "0  LINESTRING (194289.114 388953.679, 194277.535 ...  \n",
       "1  LINESTRING (187484.184 501340.215, 187506.545 ...  \n",
       "\n",
       "[2 rows x 40 columns]"
      ]
     },
     "execution_count": 118,
     "metadata": {},
     "output_type": "execute_result"
    }
   ],
   "source": [
    "middle_nodes_df.head(2)"
   ]
  },
  {
   "cell_type": "code",
   "execution_count": 119,
   "metadata": {},
   "outputs": [],
   "source": [
    "middle_nodes_df = middle_nodes_df.merge(roads_df, how='left', left_on='id', right_on='TJunction', suffixes=('_before','_after'))"
   ]
  },
  {
   "cell_type": "markdown",
   "metadata": {},
   "source": [
    "## Explore Turn Restrictions"
   ]
  },
  {
   "cell_type": "code",
   "execution_count": 3,
   "metadata": {},
   "outputs": [],
   "source": [
    "turn_restrict_df = gpd.read_file(MAPA_PATH + 'restrict.shp')"
   ]
  },
  {
   "cell_type": "code",
   "execution_count": 5,
   "metadata": {},
   "outputs": [],
   "source": [
    "turn_restrict_df = turn_restrict_df.drop(['permission', 'descriptio', 'geometry'], axis=1)"
   ]
  },
  {
   "cell_type": "code",
   "execution_count": 6,
   "metadata": {},
   "outputs": [
    {
     "data": {
      "text/html": [
       "<div>\n",
       "<style scoped>\n",
       "    .dataframe tbody tr th:only-of-type {\n",
       "        vertical-align: middle;\n",
       "    }\n",
       "\n",
       "    .dataframe tbody tr th {\n",
       "        vertical-align: top;\n",
       "    }\n",
       "\n",
       "    .dataframe thead th {\n",
       "        text-align: right;\n",
       "    }\n",
       "</style>\n",
       "<table border=\"1\" class=\"dataframe\">\n",
       "  <thead>\n",
       "    <tr style=\"text-align: right;\">\n",
       "      <th></th>\n",
       "      <th>objid</th>\n",
       "      <th>userid</th>\n",
       "      <th>einterval</th>\n",
       "      <th>junctionid</th>\n",
       "      <th>xinterval</th>\n",
       "    </tr>\n",
       "  </thead>\n",
       "  <tbody>\n",
       "    <tr>\n",
       "      <th>0</th>\n",
       "      <td>1</td>\n",
       "      <td>290963</td>\n",
       "      <td>1186054</td>\n",
       "      <td>1058686</td>\n",
       "      <td>1186052</td>\n",
       "    </tr>\n",
       "    <tr>\n",
       "      <th>1</th>\n",
       "      <td>2</td>\n",
       "      <td>333770</td>\n",
       "      <td>1449582</td>\n",
       "      <td>1218598</td>\n",
       "      <td>1449582</td>\n",
       "    </tr>\n",
       "    <tr>\n",
       "      <th>2</th>\n",
       "      <td>3</td>\n",
       "      <td>140163</td>\n",
       "      <td>1108991</td>\n",
       "      <td>1014949</td>\n",
       "      <td>1108987</td>\n",
       "    </tr>\n",
       "    <tr>\n",
       "      <th>3</th>\n",
       "      <td>4</td>\n",
       "      <td>145069</td>\n",
       "      <td>1727739</td>\n",
       "      <td>1038715</td>\n",
       "      <td>1727739</td>\n",
       "    </tr>\n",
       "    <tr>\n",
       "      <th>4</th>\n",
       "      <td>5</td>\n",
       "      <td>116673</td>\n",
       "      <td>1537902</td>\n",
       "      <td>45643</td>\n",
       "      <td>1537902</td>\n",
       "    </tr>\n",
       "  </tbody>\n",
       "</table>\n",
       "</div>"
      ],
      "text/plain": [
       "   objid  userid  einterval  junctionid  xinterval\n",
       "0      1  290963    1186054     1058686    1186052\n",
       "1      2  333770    1449582     1218598    1449582\n",
       "2      3  140163    1108991     1014949    1108987\n",
       "3      4  145069    1727739     1038715    1727739\n",
       "4      5  116673    1537902       45643    1537902"
      ]
     },
     "execution_count": 6,
     "metadata": {},
     "output_type": "execute_result"
    }
   ],
   "source": [
    "turn_restrict_df.head()"
   ]
  },
  {
   "cell_type": "code",
   "execution_count": 15,
   "metadata": {},
   "outputs": [
    {
     "data": {
      "text/plain": [
       "(72004, 5)"
      ]
     },
     "execution_count": 15,
     "metadata": {},
     "output_type": "execute_result"
    }
   ],
   "source": [
    "turn_restrict_df.shape"
   ]
  },
  {
   "cell_type": "code",
   "execution_count": 98,
   "metadata": {},
   "outputs": [],
   "source": [
    "middle_node_value_counts = turn_restrict_df['junctionid'].value_counts()"
   ]
  },
  {
   "cell_type": "code",
   "execution_count": 99,
   "metadata": {
    "scrolled": true
   },
   "outputs": [
    {
     "data": {
      "image/png": "[encoded data removed]",
      "text/plain": [
       "<Figure size 432x288 with 1 Axes>"
      ]
     },
     "metadata": {
      "needs_background": "light"
     },
     "output_type": "display_data"
    }
   ],
   "source": [
    "sns.distplot(middle_node_value_counts);"
   ]
  },
  {
   "cell_type": "code",
   "execution_count": 100,
   "metadata": {},
   "outputs": [
    {
     "data": {
      "image/png": "[encoded data removed]",
      "text/plain": [
       "<Figure size 432x288 with 1 Axes>"
      ]
     },
     "metadata": {
      "needs_background": "light"
     },
     "output_type": "display_data"
    }
   ],
   "source": [
    "sns.countplot(middle_node_value_counts);"
   ]
  },
  {
   "cell_type": "code",
   "execution_count": 101,
   "metadata": {},
   "outputs": [
    {
     "data": {
      "text/plain": [
       "1     30873\n",
       "2      9111\n",
       "3      4289\n",
       "5      1125\n",
       "4       822\n",
       "6       142\n",
       "7        20\n",
       "8         7\n",
       "10        3\n",
       "9         3\n",
       "12        2\n",
       "Name: junctionid, dtype: int64"
      ]
     },
     "execution_count": 101,
     "metadata": {},
     "output_type": "execute_result"
    }
   ],
   "source": [
    "middle_node_value_counts.value_counts()"
   ]
  },
  {
   "cell_type": "markdown",
   "metadata": {},
   "source": [
    "## Util Functions"
   ]
  },
  {
   "cell_type": "code",
   "execution_count": 194,
   "metadata": {},
   "outputs": [],
   "source": [
    "def get_edge_other_node(edge_id, node):\n",
    "    e = shape_edges_df[shape_edges_df['UserID'] == edge_id]\n",
    "    \n",
    "    f = e['FJunction'].values[0]\n",
    "    t = e['TJunction'].values[0]\n",
    "    \n",
    "    if f == node:\n",
    "        return t\n",
    "    if t == node:\n",
    "        return f\n",
    "    \n",
    "    raise Exception(f'node {node} is not part of the edge {edge_id}')"
   ]
  },
  {
   "cell_type": "code",
   "execution_count": 195,
   "metadata": {},
   "outputs": [
    {
     "data": {
      "text/plain": [
       "1058685"
      ]
     },
     "execution_count": 195,
     "metadata": {},
     "output_type": "execute_result"
    }
   ],
   "source": [
    "# Test: This should return 1058685\n",
    "get_edge_other_node(1186054, 1058686)"
   ]
  },
  {
   "cell_type": "code",
   "execution_count": null,
   "metadata": {},
   "outputs": [],
   "source": []
  },
  {
   "cell_type": "code",
   "execution_count": null,
   "metadata": {},
   "outputs": [],
   "source": []
  },
  {
   "cell_type": "code",
   "execution_count": null,
   "metadata": {},
   "outputs": [],
   "source": []
  },
  {
   "cell_type": "code",
   "execution_count": null,
   "metadata": {},
   "outputs": [],
   "source": []
  },
  {
   "cell_type": "code",
   "execution_count": null,
   "metadata": {},
   "outputs": [],
   "source": []
  },
  {
   "cell_type": "code",
   "execution_count": null,
   "metadata": {},
   "outputs": [],
   "source": []
  },
  {
   "cell_type": "code",
   "execution_count": null,
   "metadata": {},
   "outputs": [],
   "source": []
  },
  {
   "cell_type": "code",
   "execution_count": null,
   "metadata": {},
   "outputs": [],
   "source": []
  },
  {
   "cell_type": "markdown",
   "metadata": {},
   "source": [
    "## Apply turn restrictions algorithm"
   ]
  },
  {
   "cell_type": "code",
   "execution_count": 97,
   "metadata": {},
   "outputs": [
    {
     "data": {
      "text/html": [
       "<div>\n",
       "<style scoped>\n",
       "    .dataframe tbody tr th:only-of-type {\n",
       "        vertical-align: middle;\n",
       "    }\n",
       "\n",
       "    .dataframe tbody tr th {\n",
       "        vertical-align: top;\n",
       "    }\n",
       "\n",
       "    .dataframe thead th {\n",
       "        text-align: right;\n",
       "    }\n",
       "</style>\n",
       "<table border=\"1\" class=\"dataframe\">\n",
       "  <thead>\n",
       "    <tr style=\"text-align: right;\">\n",
       "      <th></th>\n",
       "      <th>objid</th>\n",
       "      <th>userid</th>\n",
       "      <th>einterval</th>\n",
       "      <th>junctionid</th>\n",
       "      <th>xinterval</th>\n",
       "    </tr>\n",
       "  </thead>\n",
       "  <tbody>\n",
       "    <tr>\n",
       "      <th>0</th>\n",
       "      <td>1</td>\n",
       "      <td>290963</td>\n",
       "      <td>1186054</td>\n",
       "      <td>1058686</td>\n",
       "      <td>1186052</td>\n",
       "    </tr>\n",
       "    <tr>\n",
       "      <th>1</th>\n",
       "      <td>2</td>\n",
       "      <td>333770</td>\n",
       "      <td>1449582</td>\n",
       "      <td>1218598</td>\n",
       "      <td>1449582</td>\n",
       "    </tr>\n",
       "    <tr>\n",
       "      <th>2</th>\n",
       "      <td>3</td>\n",
       "      <td>140163</td>\n",
       "      <td>1108991</td>\n",
       "      <td>1014949</td>\n",
       "      <td>1108987</td>\n",
       "    </tr>\n",
       "    <tr>\n",
       "      <th>3</th>\n",
       "      <td>4</td>\n",
       "      <td>145069</td>\n",
       "      <td>1727739</td>\n",
       "      <td>1038715</td>\n",
       "      <td>1727739</td>\n",
       "    </tr>\n",
       "    <tr>\n",
       "      <th>4</th>\n",
       "      <td>5</td>\n",
       "      <td>116673</td>\n",
       "      <td>1537902</td>\n",
       "      <td>45643</td>\n",
       "      <td>1537902</td>\n",
       "    </tr>\n",
       "  </tbody>\n",
       "</table>\n",
       "</div>"
      ],
      "text/plain": [
       "   objid  userid  einterval  junctionid  xinterval\n",
       "0      1  290963    1186054     1058686    1186052\n",
       "1      2  333770    1449582     1218598    1449582\n",
       "2      3  140163    1108991     1014949    1108987\n",
       "3      4  145069    1727739     1038715    1727739\n",
       "4      5  116673    1537902       45643    1537902"
      ]
     },
     "execution_count": 97,
     "metadata": {},
     "output_type": "execute_result"
    }
   ],
   "source": [
    "turn_restrict_df.head()"
   ]
  },
  {
   "cell_type": "code",
   "execution_count": 130,
   "metadata": {},
   "outputs": [
    {
     "data": {
      "text/plain": [
       "(72004, 5)"
      ]
     },
     "execution_count": 130,
     "metadata": {},
     "output_type": "execute_result"
    }
   ],
   "source": [
    "turn_restrict_df.shape"
   ]
  },
  {
   "cell_type": "code",
   "execution_count": 180,
   "metadata": {},
   "outputs": [],
   "source": [
    "shape_edges_df = shape_edges_df.reset_index()"
   ]
  },
  {
   "cell_type": "code",
   "execution_count": 205,
   "metadata": {},
   "outputs": [],
   "source": [
    "adjacency_list = original_adjacency_list.copy()"
   ]
  },
  {
   "cell_type": "code",
   "execution_count": 206,
   "metadata": {},
   "outputs": [
    {
     "name": "stdout",
     "output_type": "stream",
     "text": [
      "Skipped 72004 restrictions\n"
     ]
    }
   ],
   "source": [
    "skipped_restrictions = []\n",
    "for i, restrict in turn_restrict_df.iterrows():\n",
    "    u = str(get_edge_other_node(restrict['einterval'], restrict['junctionid']))\n",
    "    v = str(restrict['junctionid'])\n",
    "    w = str(get_edge_other_node(restrict['xinterval'], restrict['junctionid']))\n",
    "    \n",
    "    # if no edge (u,v) or (v,w) then the restriction is already enforced\n",
    "    if ((u not in adjacency_list) or (v not in adjacency_list[u]) or \n",
    "        (v not in adjacency_list) or (w not in adjacency_list[v])):\n",
    "        skipped_restrictions.append(restrict)\n",
    "        continue\n",
    "        \n",
    "    # add a new node v_u with a new edge (u, v_u)\n",
    "    v_u = v + '_' + u\n",
    "    adjacency_list[v_u] = dict()\n",
    "    adjacency_list[u][v_u] = adjacency_list[u][v]\n",
    "    \n",
    "    # remove (u,v)\n",
    "    del adjacency_list[u][v]\n",
    "    \n",
    "    \n",
    "    # for each edge (v,x) where x!=w add (v_u, x)\n",
    "    for x in adjacency_list[v]:\n",
    "        if x == w:\n",
    "            continue\n",
    "        adjacency_list[v_u][x] = adjacency_list[v][x]\n",
    "        \n",
    "print(f'Skipped {len(skipped_restrictions)} restrictions')"
   ]
  },
  {
   "cell_type": "markdown",
   "metadata": {},
   "source": [
    "<span style=\"background-color: #FFFF00\">We must figure out why we skipped some restrictions</span>"
   ]
  },
  {
   "cell_type": "code",
   "execution_count": 203,
   "metadata": {},
   "outputs": [
    {
     "name": "stdout",
     "output_type": "stream",
     "text": [
      "The number of edges after turn restriction manipulation is 859377\n"
     ]
    }
   ],
   "source": [
    "num_edges = 0\n",
    "for s, targets in adjacency_list.items():\n",
    "    for t in targets:\n",
    "        num_edges += 1\n",
    "        \n",
    "print(f'The number of edges after turn restriction manipulation is {num_edges}')"
   ]
  },
  {
   "cell_type": "code",
   "execution_count": 125,
   "metadata": {},
   "outputs": [
    {
     "name": "stdout",
     "output_type": "stream",
     "text": [
      "The number of edges before turn restriction manipulation was 859377\n"
     ]
    }
   ],
   "source": [
    "print(f'The number of edges before turn restriction manipulation was {len(edges_dict)}')"
   ]
  },
  {
   "cell_type": "code",
   "execution_count": 201,
   "metadata": {},
   "outputs": [
    {
     "name": "stdout",
     "output_type": "stream",
     "text": [
      "The number of NEW edges after turn restriction manipulation is 76602\n"
     ]
    }
   ],
   "source": [
    "num_new_edges = 0\n",
    "for s, targets in adjacency_list.items():\n",
    "    if '_' not in s:\n",
    "        # we don't care about 'regular' source nodes, only newly added\n",
    "        continue\n",
    "    for t in targets:\n",
    "        num_new_edges += 1\n",
    "        \n",
    "print(f'The number of NEW edges after turn restriction manipulation is {num_new_edges}')"
   ]
  },
  {
   "cell_type": "markdown",
   "metadata": {},
   "source": [
    "### Let's check why turn restrictions are being skipped"
   ]
  },
  {
   "cell_type": "code",
   "execution_count": 96,
   "metadata": {},
   "outputs": [
    {
     "data": {
      "text/html": [
       "<div>\n",
       "<style scoped>\n",
       "    .dataframe tbody tr th:only-of-type {\n",
       "        vertical-align: middle;\n",
       "    }\n",
       "\n",
       "    .dataframe tbody tr th {\n",
       "        vertical-align: top;\n",
       "    }\n",
       "\n",
       "    .dataframe thead th {\n",
       "        text-align: right;\n",
       "    }\n",
       "</style>\n",
       "<table border=\"1\" class=\"dataframe\">\n",
       "  <thead>\n",
       "    <tr style=\"text-align: right;\">\n",
       "      <th></th>\n",
       "      <th>UserID</th>\n",
       "      <th>ObjID</th>\n",
       "      <th>FJunction</th>\n",
       "      <th>TJunction</th>\n",
       "      <th>RoadType</th>\n",
       "      <th>OneWay</th>\n",
       "      <th>FromSpeedL</th>\n",
       "      <th>ToSpeedL</th>\n",
       "      <th>AprxSpeedL</th>\n",
       "      <th>Seconds</th>\n",
       "      <th>Length</th>\n",
       "      <th>Roaddirect</th>\n",
       "      <th>DirectionM</th>\n",
       "    </tr>\n",
       "  </thead>\n",
       "  <tbody>\n",
       "    <tr>\n",
       "      <th>0</th>\n",
       "      <td>1004561</td>\n",
       "      <td>1</td>\n",
       "      <td>947733</td>\n",
       "      <td>947736</td>\n",
       "      <td>254</td>\n",
       "      <td>2</td>\n",
       "      <td>10</td>\n",
       "      <td>10</td>\n",
       "      <td>10</td>\n",
       "      <td>69.734908</td>\n",
       "      <td>64.569179</td>\n",
       "      <td>222222</td>\n",
       "      <td>None</td>\n",
       "    </tr>\n",
       "    <tr>\n",
       "      <th>1</th>\n",
       "      <td>1059914</td>\n",
       "      <td>2</td>\n",
       "      <td>950536</td>\n",
       "      <td>983821</td>\n",
       "      <td>10</td>\n",
       "      <td>2</td>\n",
       "      <td>90</td>\n",
       "      <td>90</td>\n",
       "      <td>90</td>\n",
       "      <td>2.249966</td>\n",
       "      <td>49.999104</td>\n",
       "      <td>222222</td>\n",
       "      <td>B</td>\n",
       "    </tr>\n",
       "    <tr>\n",
       "      <th>2</th>\n",
       "      <td>1060654</td>\n",
       "      <td>3</td>\n",
       "      <td>17832</td>\n",
       "      <td>984255</td>\n",
       "      <td>10</td>\n",
       "      <td>2</td>\n",
       "      <td>90</td>\n",
       "      <td>90</td>\n",
       "      <td>90</td>\n",
       "      <td>72.570183</td>\n",
       "      <td>1612.666216</td>\n",
       "      <td>222222</td>\n",
       "      <td>B</td>\n",
       "    </tr>\n",
       "    <tr>\n",
       "      <th>3</th>\n",
       "      <td>967162</td>\n",
       "      <td>4</td>\n",
       "      <td>912962</td>\n",
       "      <td>911713</td>\n",
       "      <td>254</td>\n",
       "      <td>2</td>\n",
       "      <td>10</td>\n",
       "      <td>10</td>\n",
       "      <td>10</td>\n",
       "      <td>453.304152</td>\n",
       "      <td>419.724891</td>\n",
       "      <td>222222</td>\n",
       "      <td>None</td>\n",
       "    </tr>\n",
       "    <tr>\n",
       "      <th>4</th>\n",
       "      <td>1326304</td>\n",
       "      <td>5</td>\n",
       "      <td>1141238</td>\n",
       "      <td>892364</td>\n",
       "      <td>6</td>\n",
       "      <td>2</td>\n",
       "      <td>50</td>\n",
       "      <td>50</td>\n",
       "      <td>50</td>\n",
       "      <td>5.849229</td>\n",
       "      <td>44.681484</td>\n",
       "      <td>222222</td>\n",
       "      <td>None</td>\n",
       "    </tr>\n",
       "  </tbody>\n",
       "</table>\n",
       "</div>"
      ],
      "text/plain": [
       "    UserID  ObjID  FJunction  TJunction  RoadType OneWay  FromSpeedL  \\\n",
       "0  1004561      1     947733     947736       254      2          10   \n",
       "1  1059914      2     950536     983821        10      2          90   \n",
       "2  1060654      3      17832     984255        10      2          90   \n",
       "3   967162      4     912962     911713       254      2          10   \n",
       "4  1326304      5    1141238     892364         6      2          50   \n",
       "\n",
       "   ToSpeedL  AprxSpeedL     Seconds       Length Roaddirect DirectionM  \n",
       "0        10          10   69.734908    64.569179     222222       None  \n",
       "1        90          90    2.249966    49.999104     222222          B  \n",
       "2        90          90   72.570183  1612.666216     222222          B  \n",
       "3        10          10  453.304152   419.724891     222222       None  \n",
       "4        50          50    5.849229    44.681484     222222       None  "
      ]
     },
     "execution_count": 96,
     "metadata": {},
     "output_type": "execute_result"
    }
   ],
   "source": [
    "shape_edges_df.head()"
   ]
  },
  {
   "cell_type": "code",
   "execution_count": 134,
   "metadata": {},
   "outputs": [
    {
     "data": {
      "text/plain": [
       "True"
      ]
     },
     "execution_count": 134,
     "metadata": {},
     "output_type": "execute_result"
    }
   ],
   "source": [
    "a = shape_edges_df[shape_edges_df['FJunction'] == 0]\n",
    "a.empty"
   ]
  },
  {
   "cell_type": "code",
   "execution_count": 145,
   "metadata": {},
   "outputs": [],
   "source": [
    "def does_edge_exist(a, b):\n",
    "    ab = shape_edges_df[shape_edges_df['FJunction'] == a][shape_edges_df['TJunction'] == b]\n",
    "    if not ab.empty:\n",
    "        # Verify it's ft or two-way\n",
    "        if ab.reset_index()[0]['OneWay'] == 'tf':\n",
    "            return False\n",
    "        return True\n",
    "    \n",
    "    ab = shape_edges_df[shape_edges_df['TJunction'] == a][shape_edges_df['FJunction'] == b]\n",
    "    if not ab.empty:\n",
    "        # Verify it's tf or two-way\n",
    "        if ab.reset_index()[0]['OneWay'] == 'ft':\n",
    "            return False\n",
    "        return True\n",
    "    \n",
    "    return False"
   ]
  },
  {
   "cell_type": "code",
   "execution_count": 146,
   "metadata": {},
   "outputs": [
    {
     "data": {
      "text/plain": [
       "False"
      ]
     },
     "execution_count": 146,
     "metadata": {},
     "output_type": "execute_result"
    }
   ],
   "source": [
    "does_edge_exist(1186054, 1058686)"
   ]
  },
  {
   "cell_type": "code",
   "execution_count": null,
   "metadata": {},
   "outputs": [],
   "source": [
    "shape_edges_df[shape_edges_df['FJunction'] == a][shape_edges_df['TJunction'] == b]"
   ]
  },
  {
   "cell_type": "code",
   "execution_count": 148,
   "metadata": {},
   "outputs": [
    {
     "ename": "KeyError",
     "evalue": "0",
     "output_type": "error",
     "traceback": [
      "\u001b[1;31m---------------------------------------------------------------------------\u001b[0m",
      "\u001b[1;31mKeyError\u001b[0m                                  Traceback (most recent call last)",
      "\u001b[1;32mG:\\danielle\\AppData\\Local\\Continuum\\anaconda3\\envs\\accessibility\\lib\\site-packages\\pandas\\core\\indexes\\base.py\u001b[0m in \u001b[0;36mget_loc\u001b[1;34m(self, key, method, tolerance)\u001b[0m\n\u001b[0;32m   2896\u001b[0m             \u001b[1;32mtry\u001b[0m\u001b[1;33m:\u001b[0m\u001b[1;33m\u001b[0m\u001b[1;33m\u001b[0m\u001b[0m\n\u001b[1;32m-> 2897\u001b[1;33m                 \u001b[1;32mreturn\u001b[0m \u001b[0mself\u001b[0m\u001b[1;33m.\u001b[0m\u001b[0m_engine\u001b[0m\u001b[1;33m.\u001b[0m\u001b[0mget_loc\u001b[0m\u001b[1;33m(\u001b[0m\u001b[0mkey\u001b[0m\u001b[1;33m)\u001b[0m\u001b[1;33m\u001b[0m\u001b[1;33m\u001b[0m\u001b[0m\n\u001b[0m\u001b[0;32m   2898\u001b[0m             \u001b[1;32mexcept\u001b[0m \u001b[0mKeyError\u001b[0m\u001b[1;33m:\u001b[0m\u001b[1;33m\u001b[0m\u001b[1;33m\u001b[0m\u001b[0m\n",
      "\u001b[1;32mpandas/_libs/index.pyx\u001b[0m in \u001b[0;36mpandas._libs.index.IndexEngine.get_loc\u001b[1;34m()\u001b[0m\n",
      "\u001b[1;32mpandas/_libs/index.pyx\u001b[0m in \u001b[0;36mpandas._libs.index.IndexEngine.get_loc\u001b[1;34m()\u001b[0m\n",
      "\u001b[1;32mpandas/_libs/hashtable_class_helper.pxi\u001b[0m in \u001b[0;36mpandas._libs.hashtable.PyObjectHashTable.get_item\u001b[1;34m()\u001b[0m\n",
      "\u001b[1;32mpandas/_libs/hashtable_class_helper.pxi\u001b[0m in \u001b[0;36mpandas._libs.hashtable.PyObjectHashTable.get_item\u001b[1;34m()\u001b[0m\n",
      "\u001b[1;31mKeyError\u001b[0m: 0",
      "\nDuring handling of the above exception, another exception occurred:\n",
      "\u001b[1;31mKeyError\u001b[0m                                  Traceback (most recent call last)",
      "\u001b[1;32m<ipython-input-148-4bf0a4dd4106>\u001b[0m in \u001b[0;36m<module>\u001b[1;34m\u001b[0m\n\u001b[0;32m      8\u001b[0m \u001b[1;33m\u001b[0m\u001b[0m\n\u001b[0;32m      9\u001b[0m     \u001b[0muv_exists\u001b[0m \u001b[1;33m=\u001b[0m \u001b[0mdoes_edge_exist\u001b[0m\u001b[1;33m(\u001b[0m\u001b[0mu\u001b[0m\u001b[1;33m,\u001b[0m\u001b[0mv\u001b[0m\u001b[1;33m)\u001b[0m\u001b[1;33m\u001b[0m\u001b[1;33m\u001b[0m\u001b[0m\n\u001b[1;32m---> 10\u001b[1;33m     \u001b[0mvw_exists\u001b[0m \u001b[1;33m=\u001b[0m \u001b[0mdoes_edge_exist\u001b[0m\u001b[1;33m(\u001b[0m\u001b[0mv\u001b[0m\u001b[1;33m,\u001b[0m\u001b[0mw\u001b[0m\u001b[1;33m)\u001b[0m\u001b[1;33m\u001b[0m\u001b[1;33m\u001b[0m\u001b[0m\n\u001b[0m\u001b[0;32m     11\u001b[0m     \u001b[1;32mif\u001b[0m \u001b[1;32mnot\u001b[0m \u001b[0muv_exists\u001b[0m\u001b[1;33m:\u001b[0m\u001b[1;33m\u001b[0m\u001b[1;33m\u001b[0m\u001b[0m\n\u001b[0;32m     12\u001b[0m         \u001b[0muv_skipped\u001b[0m \u001b[1;33m+=\u001b[0m \u001b[1;36m1\u001b[0m\u001b[1;33m\u001b[0m\u001b[1;33m\u001b[0m\u001b[0m\n",
      "\u001b[1;32m<ipython-input-145-af75e7e882d2>\u001b[0m in \u001b[0;36mdoes_edge_exist\u001b[1;34m(a, b)\u001b[0m\n\u001b[0;32m      3\u001b[0m     \u001b[1;32mif\u001b[0m \u001b[1;32mnot\u001b[0m \u001b[0mab\u001b[0m\u001b[1;33m.\u001b[0m\u001b[0mempty\u001b[0m\u001b[1;33m:\u001b[0m\u001b[1;33m\u001b[0m\u001b[1;33m\u001b[0m\u001b[0m\n\u001b[0;32m      4\u001b[0m         \u001b[1;31m# Verify it's ft or two-way\u001b[0m\u001b[1;33m\u001b[0m\u001b[1;33m\u001b[0m\u001b[1;33m\u001b[0m\u001b[0m\n\u001b[1;32m----> 5\u001b[1;33m         \u001b[1;32mif\u001b[0m \u001b[0mab\u001b[0m\u001b[1;33m.\u001b[0m\u001b[0mreset_index\u001b[0m\u001b[1;33m(\u001b[0m\u001b[1;33m)\u001b[0m\u001b[1;33m[\u001b[0m\u001b[1;36m0\u001b[0m\u001b[1;33m]\u001b[0m\u001b[1;33m[\u001b[0m\u001b[1;34m'OneWay'\u001b[0m\u001b[1;33m]\u001b[0m \u001b[1;33m==\u001b[0m \u001b[1;34m'tf'\u001b[0m\u001b[1;33m:\u001b[0m\u001b[1;33m\u001b[0m\u001b[1;33m\u001b[0m\u001b[0m\n\u001b[0m\u001b[0;32m      6\u001b[0m             \u001b[1;32mreturn\u001b[0m \u001b[1;32mFalse\u001b[0m\u001b[1;33m\u001b[0m\u001b[1;33m\u001b[0m\u001b[0m\n\u001b[0;32m      7\u001b[0m         \u001b[1;32mreturn\u001b[0m \u001b[1;32mTrue\u001b[0m\u001b[1;33m\u001b[0m\u001b[1;33m\u001b[0m\u001b[0m\n",
      "\u001b[1;32mG:\\danielle\\AppData\\Local\\Continuum\\anaconda3\\envs\\accessibility\\lib\\site-packages\\pandas\\core\\frame.py\u001b[0m in \u001b[0;36m__getitem__\u001b[1;34m(self, key)\u001b[0m\n\u001b[0;32m   2993\u001b[0m             \u001b[1;32mif\u001b[0m \u001b[0mself\u001b[0m\u001b[1;33m.\u001b[0m\u001b[0mcolumns\u001b[0m\u001b[1;33m.\u001b[0m\u001b[0mnlevels\u001b[0m \u001b[1;33m>\u001b[0m \u001b[1;36m1\u001b[0m\u001b[1;33m:\u001b[0m\u001b[1;33m\u001b[0m\u001b[1;33m\u001b[0m\u001b[0m\n\u001b[0;32m   2994\u001b[0m                 \u001b[1;32mreturn\u001b[0m \u001b[0mself\u001b[0m\u001b[1;33m.\u001b[0m\u001b[0m_getitem_multilevel\u001b[0m\u001b[1;33m(\u001b[0m\u001b[0mkey\u001b[0m\u001b[1;33m)\u001b[0m\u001b[1;33m\u001b[0m\u001b[1;33m\u001b[0m\u001b[0m\n\u001b[1;32m-> 2995\u001b[1;33m             \u001b[0mindexer\u001b[0m \u001b[1;33m=\u001b[0m \u001b[0mself\u001b[0m\u001b[1;33m.\u001b[0m\u001b[0mcolumns\u001b[0m\u001b[1;33m.\u001b[0m\u001b[0mget_loc\u001b[0m\u001b[1;33m(\u001b[0m\u001b[0mkey\u001b[0m\u001b[1;33m)\u001b[0m\u001b[1;33m\u001b[0m\u001b[1;33m\u001b[0m\u001b[0m\n\u001b[0m\u001b[0;32m   2996\u001b[0m             \u001b[1;32mif\u001b[0m \u001b[0mis_integer\u001b[0m\u001b[1;33m(\u001b[0m\u001b[0mindexer\u001b[0m\u001b[1;33m)\u001b[0m\u001b[1;33m:\u001b[0m\u001b[1;33m\u001b[0m\u001b[1;33m\u001b[0m\u001b[0m\n\u001b[0;32m   2997\u001b[0m                 \u001b[0mindexer\u001b[0m \u001b[1;33m=\u001b[0m \u001b[1;33m[\u001b[0m\u001b[0mindexer\u001b[0m\u001b[1;33m]\u001b[0m\u001b[1;33m\u001b[0m\u001b[1;33m\u001b[0m\u001b[0m\n",
      "\u001b[1;32mG:\\danielle\\AppData\\Local\\Continuum\\anaconda3\\envs\\accessibility\\lib\\site-packages\\pandas\\core\\indexes\\base.py\u001b[0m in \u001b[0;36mget_loc\u001b[1;34m(self, key, method, tolerance)\u001b[0m\n\u001b[0;32m   2897\u001b[0m                 \u001b[1;32mreturn\u001b[0m \u001b[0mself\u001b[0m\u001b[1;33m.\u001b[0m\u001b[0m_engine\u001b[0m\u001b[1;33m.\u001b[0m\u001b[0mget_loc\u001b[0m\u001b[1;33m(\u001b[0m\u001b[0mkey\u001b[0m\u001b[1;33m)\u001b[0m\u001b[1;33m\u001b[0m\u001b[1;33m\u001b[0m\u001b[0m\n\u001b[0;32m   2898\u001b[0m             \u001b[1;32mexcept\u001b[0m \u001b[0mKeyError\u001b[0m\u001b[1;33m:\u001b[0m\u001b[1;33m\u001b[0m\u001b[1;33m\u001b[0m\u001b[0m\n\u001b[1;32m-> 2899\u001b[1;33m                 \u001b[1;32mreturn\u001b[0m \u001b[0mself\u001b[0m\u001b[1;33m.\u001b[0m\u001b[0m_engine\u001b[0m\u001b[1;33m.\u001b[0m\u001b[0mget_loc\u001b[0m\u001b[1;33m(\u001b[0m\u001b[0mself\u001b[0m\u001b[1;33m.\u001b[0m\u001b[0m_maybe_cast_indexer\u001b[0m\u001b[1;33m(\u001b[0m\u001b[0mkey\u001b[0m\u001b[1;33m)\u001b[0m\u001b[1;33m)\u001b[0m\u001b[1;33m\u001b[0m\u001b[1;33m\u001b[0m\u001b[0m\n\u001b[0m\u001b[0;32m   2900\u001b[0m         \u001b[0mindexer\u001b[0m \u001b[1;33m=\u001b[0m \u001b[0mself\u001b[0m\u001b[1;33m.\u001b[0m\u001b[0mget_indexer\u001b[0m\u001b[1;33m(\u001b[0m\u001b[1;33m[\u001b[0m\u001b[0mkey\u001b[0m\u001b[1;33m]\u001b[0m\u001b[1;33m,\u001b[0m \u001b[0mmethod\u001b[0m\u001b[1;33m=\u001b[0m\u001b[0mmethod\u001b[0m\u001b[1;33m,\u001b[0m \u001b[0mtolerance\u001b[0m\u001b[1;33m=\u001b[0m\u001b[0mtolerance\u001b[0m\u001b[1;33m)\u001b[0m\u001b[1;33m\u001b[0m\u001b[1;33m\u001b[0m\u001b[0m\n\u001b[0;32m   2901\u001b[0m         \u001b[1;32mif\u001b[0m \u001b[0mindexer\u001b[0m\u001b[1;33m.\u001b[0m\u001b[0mndim\u001b[0m \u001b[1;33m>\u001b[0m \u001b[1;36m1\u001b[0m \u001b[1;32mor\u001b[0m \u001b[0mindexer\u001b[0m\u001b[1;33m.\u001b[0m\u001b[0msize\u001b[0m \u001b[1;33m>\u001b[0m \u001b[1;36m1\u001b[0m\u001b[1;33m:\u001b[0m\u001b[1;33m\u001b[0m\u001b[1;33m\u001b[0m\u001b[0m\n",
      "\u001b[1;32mpandas/_libs/index.pyx\u001b[0m in \u001b[0;36mpandas._libs.index.IndexEngine.get_loc\u001b[1;34m()\u001b[0m\n",
      "\u001b[1;32mpandas/_libs/index.pyx\u001b[0m in \u001b[0;36mpandas._libs.index.IndexEngine.get_loc\u001b[1;34m()\u001b[0m\n",
      "\u001b[1;32mpandas/_libs/hashtable_class_helper.pxi\u001b[0m in \u001b[0;36mpandas._libs.hashtable.PyObjectHashTable.get_item\u001b[1;34m()\u001b[0m\n",
      "\u001b[1;32mpandas/_libs/hashtable_class_helper.pxi\u001b[0m in \u001b[0;36mpandas._libs.hashtable.PyObjectHashTable.get_item\u001b[1;34m()\u001b[0m\n",
      "\u001b[1;31mKeyError\u001b[0m: 0"
     ]
    }
   ],
   "source": [
    "uv_skipped = 0\n",
    "vw_skipped = 0\n",
    "should_handle = 0\n",
    "for i, restrict in turn_restrict_df.iterrows():\n",
    "    u = restrict['einterval']\n",
    "    v = restrict['junctionid']\n",
    "    w = restrict['xinterval']\n",
    "    \n",
    "    uv_exists = does_edge_exist(u,v)\n",
    "    vw_exists = does_edge_exist(v,w)\n",
    "    if not uv_exists:\n",
    "        uv_skipped += 1\n",
    "        \n",
    "    if not vw_exists:\n",
    "        vw_skipped += 1\n",
    "        \n",
    "    if uv_exists and vw_exists:\n",
    "        print(should_handle)\n",
    "        \n",
    "print(f'Skipped {uv_skipped} (u,v) edges and {vw_skipped} (v,w) edges')          \n",
    "            \n",
    "    \n",
    "        "
   ]
  },
  {
   "cell_type": "code",
   "execution_count": null,
   "metadata": {},
   "outputs": [],
   "source": []
  }
 ],
 "metadata": {
  "kernelspec": {
   "display_name": "Python 3",
   "language": "python",
   "name": "python3"
  },
  "language_info": {
   "codemirror_mode": {
    "name": "ipython",
    "version": 3
   },
   "file_extension": ".py",
   "mimetype": "text/x-python",
   "name": "python",
   "nbconvert_exporter": "python",
   "pygments_lexer": "ipython3",
   "version": "3.7.5"
  }
 },
 "nbformat": 4,
 "nbformat_minor": 2
}
