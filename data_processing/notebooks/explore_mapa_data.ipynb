{
 "cells": [
  {
   "cell_type": "code",
   "execution_count": 107,
   "metadata": {},
   "outputs": [],
   "source": [
    "import geopandas as gpd\n",
    "import os\n",
    "import pandas as pd\n",
    "import warnings\n",
    "\n",
    "warnings.filterwarnings('ignore')"
   ]
  },
  {
   "cell_type": "markdown",
   "metadata": {},
   "source": [
    "## Load Roads"
   ]
  },
  {
   "cell_type": "code",
   "execution_count": 11,
   "metadata": {},
   "outputs": [],
   "source": [
    "MAPA_PATH = \"../../../data/Mapa/Ben Gurion University/Gisrael/\""
   ]
  },
  {
   "cell_type": "code",
   "execution_count": 19,
   "metadata": {},
   "outputs": [],
   "source": [
    "roads_df = gpd.read_file(MAPA_PATH + 'is_str.shp')"
   ]
  },
  {
   "cell_type": "code",
   "execution_count": 92,
   "metadata": {},
   "outputs": [],
   "source": [
    "roads_df = roads_df.set_index('UserID')"
   ]
  },
  {
   "cell_type": "code",
   "execution_count": 93,
   "metadata": {},
   "outputs": [
    {
     "data": {
      "text/html": [
       "<div>\n",
       "<style scoped>\n",
       "    .dataframe tbody tr th:only-of-type {\n",
       "        vertical-align: middle;\n",
       "    }\n",
       "\n",
       "    .dataframe tbody tr th {\n",
       "        vertical-align: top;\n",
       "    }\n",
       "\n",
       "    .dataframe thead th {\n",
       "        text-align: right;\n",
       "    }\n",
       "</style>\n",
       "<table border=\"1\" class=\"dataframe\">\n",
       "  <thead>\n",
       "    <tr style=\"text-align: right;\">\n",
       "      <th></th>\n",
       "      <th>street</th>\n",
       "      <th>FromLeft</th>\n",
       "      <th>ToLeft</th>\n",
       "      <th>FromRight</th>\n",
       "      <th>ToRight</th>\n",
       "      <th>StreetCode</th>\n",
       "      <th>ObjID</th>\n",
       "      <th>FJunction</th>\n",
       "      <th>TJunction</th>\n",
       "      <th>Length</th>\n",
       "      <th>...</th>\n",
       "      <th>Status</th>\n",
       "      <th>RoadFuncti</th>\n",
       "      <th>Flag</th>\n",
       "      <th>Identifier</th>\n",
       "      <th>Roaddirect</th>\n",
       "      <th>CLEARSTREE</th>\n",
       "      <th>REVERSTREE</th>\n",
       "      <th>CLEARCITYN</th>\n",
       "      <th>REVERCITYN</th>\n",
       "      <th>geometry</th>\n",
       "    </tr>\n",
       "    <tr>\n",
       "      <th>UserID</th>\n",
       "      <th></th>\n",
       "      <th></th>\n",
       "      <th></th>\n",
       "      <th></th>\n",
       "      <th></th>\n",
       "      <th></th>\n",
       "      <th></th>\n",
       "      <th></th>\n",
       "      <th></th>\n",
       "      <th></th>\n",
       "      <th></th>\n",
       "      <th></th>\n",
       "      <th></th>\n",
       "      <th></th>\n",
       "      <th></th>\n",
       "      <th></th>\n",
       "      <th></th>\n",
       "      <th></th>\n",
       "      <th></th>\n",
       "      <th></th>\n",
       "      <th></th>\n",
       "    </tr>\n",
       "  </thead>\n",
       "  <tbody>\n",
       "    <tr>\n",
       "      <td>1004561</td>\n",
       "      <td>None</td>\n",
       "      <td>0</td>\n",
       "      <td>0</td>\n",
       "      <td>0</td>\n",
       "      <td>0</td>\n",
       "      <td>None</td>\n",
       "      <td>1</td>\n",
       "      <td>947733</td>\n",
       "      <td>947736</td>\n",
       "      <td>64.569179</td>\n",
       "      <td>...</td>\n",
       "      <td>Operative</td>\n",
       "      <td>4x4 Road</td>\n",
       "      <td>5</td>\n",
       "      <td>1012284</td>\n",
       "      <td>222222</td>\n",
       "      <td>None</td>\n",
       "      <td>None</td>\n",
       "      <td>àéìú</td>\n",
       "      <td>úìéà</td>\n",
       "      <td>LINESTRING (194289.114 388953.679, 194277.535 ...</td>\n",
       "    </tr>\n",
       "  </tbody>\n",
       "</table>\n",
       "<p>1 rows × 37 columns</p>\n",
       "</div>"
      ],
      "text/plain": [
       "        street  FromLeft  ToLeft  FromRight  ToRight StreetCode  ObjID  \\\n",
       "UserID                                                                   \n",
       "1004561   None         0       0          0        0       None      1   \n",
       "\n",
       "         FJunction  TJunction     Length  ...     Status RoadFuncti  Flag  \\\n",
       "UserID                                    ...                               \n",
       "1004561     947733     947736  64.569179  ...  Operative   4x4 Road     5   \n",
       "\n",
       "         Identifier Roaddirect CLEARSTREE  REVERSTREE CLEARCITYN REVERCITYN  \\\n",
       "UserID                                                                        \n",
       "1004561     1012284     222222       None        None       àéìú       úìéà   \n",
       "\n",
       "                                                  geometry  \n",
       "UserID                                                      \n",
       "1004561  LINESTRING (194289.114 388953.679, 194277.535 ...  \n",
       "\n",
       "[1 rows x 37 columns]"
      ]
     },
     "execution_count": 93,
     "metadata": {},
     "output_type": "execute_result"
    }
   ],
   "source": [
    "roads_df.head(1)"
   ]
  },
  {
   "cell_type": "code",
   "execution_count": 94,
   "metadata": {},
   "outputs": [
    {
     "name": "stdout",
     "output_type": "stream",
     "text": [
      "Number of edges (links) in networks: 647504\n"
     ]
    }
   ],
   "source": [
    "print('Number of edges (links) in networks: ' + str(roads_df.shape[0]))"
   ]
  },
  {
   "cell_type": "code",
   "execution_count": 95,
   "metadata": {},
   "outputs": [],
   "source": [
    "unique_junctions = roads_df['FJunction'].append(roads_df['TJunction']).unique()"
   ]
  },
  {
   "cell_type": "code",
   "execution_count": 96,
   "metadata": {},
   "outputs": [
    {
     "name": "stdout",
     "output_type": "stream",
     "text": [
      "Number of nodes (junctions) in networks: 489961\n"
     ]
    }
   ],
   "source": [
    "print('Number of nodes (junctions) in networks: ' + str(unique_junctions.shape[0]))"
   ]
  },
  {
   "cell_type": "code",
   "execution_count": 97,
   "metadata": {},
   "outputs": [
    {
     "name": "stdout",
     "output_type": "stream",
     "text": [
      "Number of unique link origins: 438984\n",
      "This means an average out-degree of 1.4750059227671168\n"
     ]
    }
   ],
   "source": [
    "num_orogins = roads_df['FJunction'].unique().shape[0]\n",
    "print('Number of unique link origins: ' + str(num_orogins))\n",
    "print('This means an average out-degree of ' + str(roads_df.shape[0] / num_orogins))"
   ]
  },
  {
   "cell_type": "code",
   "execution_count": 98,
   "metadata": {},
   "outputs": [
    {
     "name": "stdout",
     "output_type": "stream",
     "text": [
      "Number of unique link targets: 456354\n",
      "This means an average in-degree of 1.418863426199836\n"
     ]
    }
   ],
   "source": [
    "num_targets = roads_df['TJunction'].unique().shape[0]\n",
    "print('Number of unique link targets: ' + str(num_targets))\n",
    "print('This means an average in-degree of ' + str(roads_df.shape[0] / num_targets))"
   ]
  },
  {
   "cell_type": "markdown",
   "metadata": {},
   "source": [
    "### Get Edges (based on one-way and two-way roads) "
   ]
  },
  {
   "cell_type": "code",
   "execution_count": 120,
   "metadata": {},
   "outputs": [
    {
     "data": {
      "text/plain": [
       "Index(['street', 'FromLeft', 'ToLeft', 'FromRight', 'ToRight', 'StreetCode',\n",
       "       'ObjID', 'FJunction', 'TJunction', 'Length', 'RoadType', 'OneWay',\n",
       "       'F_ZLev', 'T_ZLev', 'FLanes', 'TLanes', 'Intended', 'cityname',\n",
       "       'CityCode', 'Seconds', 'FromSpeedL', 'ToSpeedL', 'AprxSpeedL',\n",
       "       'Autonomy', 'Regulation', 'RoadNameMZ', 'DirectionM', 'Status',\n",
       "       'RoadFuncti', 'Flag', 'Identifier', 'Roaddirect', 'CLEARSTREE',\n",
       "       'REVERSTREE', 'CLEARCITYN', 'REVERCITYN', 'geometry'],\n",
       "      dtype='object')"
      ]
     },
     "execution_count": 120,
     "metadata": {},
     "output_type": "execute_result"
    }
   ],
   "source": [
    "roads_df.columns"
   ]
  },
  {
   "cell_type": "code",
   "execution_count": 162,
   "metadata": {},
   "outputs": [],
   "source": [
    "shape_edges_df = roads_df[['ObjID', 'FJunction', 'TJunction', 'RoadType', \n",
    "                     'OneWay', 'FromSpeedL', 'ToSpeedL', \n",
    "                     'AprxSpeedL', 'Seconds', 'Length', 'Roaddirect', 'DirectionM']]\n",
    "shape_edges_df = shape_edges_df.reset_index()"
   ]
  },
  {
   "cell_type": "code",
   "execution_count": 163,
   "metadata": {},
   "outputs": [
    {
     "data": {
      "text/html": [
       "<div>\n",
       "<style scoped>\n",
       "    .dataframe tbody tr th:only-of-type {\n",
       "        vertical-align: middle;\n",
       "    }\n",
       "\n",
       "    .dataframe tbody tr th {\n",
       "        vertical-align: top;\n",
       "    }\n",
       "\n",
       "    .dataframe thead th {\n",
       "        text-align: right;\n",
       "    }\n",
       "</style>\n",
       "<table border=\"1\" class=\"dataframe\">\n",
       "  <thead>\n",
       "    <tr style=\"text-align: right;\">\n",
       "      <th></th>\n",
       "      <th>UserID</th>\n",
       "      <th>ObjID</th>\n",
       "      <th>FJunction</th>\n",
       "      <th>TJunction</th>\n",
       "      <th>RoadType</th>\n",
       "      <th>OneWay</th>\n",
       "      <th>FromSpeedL</th>\n",
       "      <th>ToSpeedL</th>\n",
       "      <th>AprxSpeedL</th>\n",
       "      <th>Seconds</th>\n",
       "      <th>Length</th>\n",
       "      <th>Roaddirect</th>\n",
       "      <th>DirectionM</th>\n",
       "    </tr>\n",
       "  </thead>\n",
       "  <tbody>\n",
       "    <tr>\n",
       "      <td>0</td>\n",
       "      <td>1004561</td>\n",
       "      <td>1</td>\n",
       "      <td>947733</td>\n",
       "      <td>947736</td>\n",
       "      <td>254</td>\n",
       "      <td>2</td>\n",
       "      <td>10</td>\n",
       "      <td>10</td>\n",
       "      <td>10</td>\n",
       "      <td>69.734908</td>\n",
       "      <td>64.569179</td>\n",
       "      <td>222222</td>\n",
       "      <td>None</td>\n",
       "    </tr>\n",
       "    <tr>\n",
       "      <td>1</td>\n",
       "      <td>1059914</td>\n",
       "      <td>2</td>\n",
       "      <td>950536</td>\n",
       "      <td>983821</td>\n",
       "      <td>10</td>\n",
       "      <td>2</td>\n",
       "      <td>90</td>\n",
       "      <td>90</td>\n",
       "      <td>90</td>\n",
       "      <td>2.249966</td>\n",
       "      <td>49.999104</td>\n",
       "      <td>222222</td>\n",
       "      <td>B</td>\n",
       "    </tr>\n",
       "  </tbody>\n",
       "</table>\n",
       "</div>"
      ],
      "text/plain": [
       "    UserID  ObjID  FJunction  TJunction  RoadType OneWay  FromSpeedL  \\\n",
       "0  1004561      1     947733     947736       254      2          10   \n",
       "1  1059914      2     950536     983821        10      2          90   \n",
       "\n",
       "   ToSpeedL  AprxSpeedL    Seconds     Length Roaddirect DirectionM  \n",
       "0        10          10  69.734908  64.569179     222222       None  \n",
       "1        90          90   2.249966  49.999104     222222          B  "
      ]
     },
     "execution_count": 163,
     "metadata": {},
     "output_type": "execute_result"
    }
   ],
   "source": [
    "shape_edges_df.head(2)"
   ]
  },
  {
   "cell_type": "code",
   "execution_count": 164,
   "metadata": {},
   "outputs": [],
   "source": [
    "edges_df = pd.DataFrame()\n",
    "edges_df.columns = edges_df.columns"
   ]
  },
  {
   "cell_type": "code",
   "execution_count": 165,
   "metadata": {},
   "outputs": [
    {
     "data": {
      "text/plain": [
       "array(['2', 'ft', 'N', 'tf'], dtype=object)"
      ]
     },
     "execution_count": 165,
     "metadata": {},
     "output_type": "execute_result"
    }
   ],
   "source": [
    "shape_edges_df['OneWay'].unique()"
   ]
  },
  {
   "cell_type": "code",
   "execution_count": 166,
   "metadata": {},
   "outputs": [],
   "source": [
    "def create_edges(e):\n",
    "    road_type = e['OneWay']\n",
    "\n",
    "    if road_type == 'N':\n",
    "        return\n",
    "    elif road_type == 'ft' or road_type == '2':\n",
    "        edges_df.append(e)\n",
    "    elif road_type == 'tf' or road_type == '2':\n",
    "        frm = e['FJunction']\n",
    "        to = e['TJunction']\n",
    "        tf_edge = e\n",
    "        tf_edge['FJunction'] = to\n",
    "        tf_edge['TJunction'] = frm\n",
    "        edges_df.append(tf_edge)\n",
    "        "
   ]
  },
  {
   "cell_type": "code",
   "execution_count": 167,
   "metadata": {},
   "outputs": [
    {
     "data": {
      "text/plain": [
       "0         None\n",
       "1         None\n",
       "2         None\n",
       "3         None\n",
       "4         None\n",
       "          ... \n",
       "647499    None\n",
       "647500    None\n",
       "647501    None\n",
       "647502    None\n",
       "647503    None\n",
       "Length: 647504, dtype: object"
      ]
     },
     "execution_count": 167,
     "metadata": {},
     "output_type": "execute_result"
    }
   ],
   "source": [
    "shape_edges_df.apply(lambda x: create_edges(x), axis=1)"
   ]
  },
  {
   "cell_type": "code",
   "execution_count": 168,
   "metadata": {},
   "outputs": [
    {
     "ename": "NameError",
     "evalue": "name 'edges' is not defined",
     "output_type": "error",
     "traceback": [
      "\u001b[1;31m---------------------------------------------------------------------------\u001b[0m",
      "\u001b[1;31mNameError\u001b[0m                                 Traceback (most recent call last)",
      "\u001b[1;32m<ipython-input-168-cc158e0c0dc4>\u001b[0m in \u001b[0;36m<module>\u001b[1;34m\u001b[0m\n\u001b[0;32m      1\u001b[0m \u001b[1;31m# Sanity check\u001b[0m\u001b[1;33m\u001b[0m\u001b[1;33m\u001b[0m\u001b[1;33m\u001b[0m\u001b[0m\n\u001b[1;32m----> 2\u001b[1;33m \u001b[0mnumber_of_edges\u001b[0m \u001b[1;33m=\u001b[0m \u001b[0medges\u001b[0m\u001b[1;33m.\u001b[0m\u001b[0mshape\u001b[0m\u001b[1;33m[\u001b[0m\u001b[1;36m0\u001b[0m\u001b[1;33m]\u001b[0m\u001b[1;33m\u001b[0m\u001b[1;33m\u001b[0m\u001b[0m\n\u001b[0m\u001b[0;32m      3\u001b[0m \u001b[0mnumber_of_ft\u001b[0m \u001b[1;33m=\u001b[0m \u001b[0mroads_df\u001b[0m\u001b[1;33m[\u001b[0m\u001b[0mroads_df\u001b[0m\u001b[1;33m[\u001b[0m\u001b[1;34m'OneWay'\u001b[0m\u001b[1;33m]\u001b[0m \u001b[1;33m==\u001b[0m \u001b[1;34m'ft'\u001b[0m\u001b[1;33m]\u001b[0m\u001b[1;33m.\u001b[0m\u001b[0mshape\u001b[0m\u001b[1;33m[\u001b[0m\u001b[1;36m0\u001b[0m\u001b[1;33m]\u001b[0m\u001b[1;33m\u001b[0m\u001b[1;33m\u001b[0m\u001b[0m\n\u001b[0;32m      4\u001b[0m \u001b[0mnumber_of_tf\u001b[0m \u001b[1;33m=\u001b[0m \u001b[0mroads_df\u001b[0m\u001b[1;33m[\u001b[0m\u001b[0mroads_df\u001b[0m\u001b[1;33m[\u001b[0m\u001b[1;34m'OneWay'\u001b[0m\u001b[1;33m]\u001b[0m \u001b[1;33m==\u001b[0m \u001b[1;34m'tf'\u001b[0m\u001b[1;33m]\u001b[0m\u001b[1;33m.\u001b[0m\u001b[0mshape\u001b[0m\u001b[1;33m[\u001b[0m\u001b[1;36m0\u001b[0m\u001b[1;33m]\u001b[0m\u001b[1;33m\u001b[0m\u001b[1;33m\u001b[0m\u001b[0m\n\u001b[0;32m      5\u001b[0m \u001b[0mnumber_of_two_way\u001b[0m \u001b[1;33m=\u001b[0m \u001b[0mroads_df\u001b[0m\u001b[1;33m[\u001b[0m\u001b[0mroads_df\u001b[0m\u001b[1;33m[\u001b[0m\u001b[1;34m'OneWay'\u001b[0m\u001b[1;33m]\u001b[0m \u001b[1;33m==\u001b[0m \u001b[1;34m'2'\u001b[0m\u001b[1;33m]\u001b[0m\u001b[1;33m.\u001b[0m\u001b[0mshape\u001b[0m\u001b[1;33m[\u001b[0m\u001b[1;36m0\u001b[0m\u001b[1;33m]\u001b[0m\u001b[1;33m\u001b[0m\u001b[1;33m\u001b[0m\u001b[0m\n",
      "\u001b[1;31mNameError\u001b[0m: name 'edges' is not defined"
     ]
    }
   ],
   "source": [
    "# Sanity check\n",
    "number_of_edges = edges.shape[0]\n",
    "number_of_ft = roads_df[roads_df['OneWay'] == 'ft'].shape[0]\n",
    "number_of_tf = roads_df[roads_df['OneWay'] == 'tf'].shape[0]\n",
    "number_of_two_way = roads_df[roads_df['OneWay'] == '2'].shape[0]\n",
    "\n",
    "assert number_of_edges == (number_of_ft + number_of_tf + number_of_two_way*2)"
   ]
  },
  {
   "cell_type": "markdown",
   "metadata": {},
   "source": [
    "### First Stage - without turn restrictions"
   ]
  },
  {
   "cell_type": "code",
   "execution_count": 99,
   "metadata": {},
   "outputs": [],
   "source": [
    "# Get out degrees\n",
    "unique_origins_count_df = roads_df['FJunction'].value_counts()\n",
    "unique_origins_df = pd.DataFrame()\n",
    "unique_origins_df['id'] = unique_origins_count_df.index\n",
    "unique_origins_df['out_degree'] = unique_origins_count_df.values"
   ]
  },
  {
   "cell_type": "code",
   "execution_count": 100,
   "metadata": {},
   "outputs": [],
   "source": [
    "# Get in degrees\n",
    "unique_targets_count_df = roads_df['TJunction'].value_counts()\n",
    "unique_targets_df = pd.DataFrame()\n",
    "unique_targets_df['id'] = unique_targets_count_df.index\n",
    "unique_targets_df['in_degree'] = unique_targets_count_df.values"
   ]
  },
  {
   "cell_type": "code",
   "execution_count": 101,
   "metadata": {},
   "outputs": [],
   "source": [
    "# Create basic nodes with in and out degrees\n",
    "nodes_df = pd.DataFrame()\n",
    "nodes_df['id'] = pd.Series(unique_junctions)\n",
    "nodes_df = nodes_df.merge(unique_origins_df, how='left', on='id')\n",
    "nodes_df = nodes_df.merge(unique_targets_df, how='left', on='id')\n",
    "nodes_df = nodes_df.fillna(0)"
   ]
  },
  {
   "cell_type": "code",
   "execution_count": 102,
   "metadata": {},
   "outputs": [
    {
     "data": {
      "text/html": [
       "<div>\n",
       "<style scoped>\n",
       "    .dataframe tbody tr th:only-of-type {\n",
       "        vertical-align: middle;\n",
       "    }\n",
       "\n",
       "    .dataframe tbody tr th {\n",
       "        vertical-align: top;\n",
       "    }\n",
       "\n",
       "    .dataframe thead th {\n",
       "        text-align: right;\n",
       "    }\n",
       "</style>\n",
       "<table border=\"1\" class=\"dataframe\">\n",
       "  <thead>\n",
       "    <tr style=\"text-align: right;\">\n",
       "      <th></th>\n",
       "      <th>id</th>\n",
       "      <th>out_degree</th>\n",
       "      <th>in_degree</th>\n",
       "    </tr>\n",
       "  </thead>\n",
       "  <tbody>\n",
       "    <tr>\n",
       "      <td>0</td>\n",
       "      <td>947733</td>\n",
       "      <td>1.0</td>\n",
       "      <td>1.0</td>\n",
       "    </tr>\n",
       "    <tr>\n",
       "      <td>1</td>\n",
       "      <td>950536</td>\n",
       "      <td>1.0</td>\n",
       "      <td>1.0</td>\n",
       "    </tr>\n",
       "    <tr>\n",
       "      <td>2</td>\n",
       "      <td>17832</td>\n",
       "      <td>2.0</td>\n",
       "      <td>1.0</td>\n",
       "    </tr>\n",
       "    <tr>\n",
       "      <td>3</td>\n",
       "      <td>912962</td>\n",
       "      <td>2.0</td>\n",
       "      <td>0.0</td>\n",
       "    </tr>\n",
       "    <tr>\n",
       "      <td>4</td>\n",
       "      <td>1141238</td>\n",
       "      <td>1.0</td>\n",
       "      <td>1.0</td>\n",
       "    </tr>\n",
       "  </tbody>\n",
       "</table>\n",
       "</div>"
      ],
      "text/plain": [
       "        id  out_degree  in_degree\n",
       "0   947733         1.0        1.0\n",
       "1   950536         1.0        1.0\n",
       "2    17832         2.0        1.0\n",
       "3   912962         2.0        0.0\n",
       "4  1141238         1.0        1.0"
      ]
     },
     "execution_count": 102,
     "metadata": {},
     "output_type": "execute_result"
    }
   ],
   "source": [
    "nodes_df.head()"
   ]
  },
  {
   "cell_type": "code",
   "execution_count": 104,
   "metadata": {},
   "outputs": [
    {
     "data": {
      "text/plain": [
       "(489961, 3)"
      ]
     },
     "execution_count": 104,
     "metadata": {},
     "output_type": "execute_result"
    }
   ],
   "source": [
    "nodes_df.shape"
   ]
  },
  {
   "cell_type": "markdown",
   "metadata": {},
   "source": [
    "__Find \"middle\" nodes (one link enters, one link leaves)__ <br>\n",
    "Next we'll need to see if \"both sides\" of the node are similar: same type (one-way/two-way), same speed"
   ]
  },
  {
   "cell_type": "code",
   "execution_count": 109,
   "metadata": {},
   "outputs": [],
   "source": [
    "middle_nodes_df = nodes_df[nodes_df['in_degree'] == 1][nodes_df['out_degree'] == 1]"
   ]
  },
  {
   "cell_type": "code",
   "execution_count": 115,
   "metadata": {},
   "outputs": [
    {
     "data": {
      "text/html": [
       "<div>\n",
       "<style scoped>\n",
       "    .dataframe tbody tr th:only-of-type {\n",
       "        vertical-align: middle;\n",
       "    }\n",
       "\n",
       "    .dataframe tbody tr th {\n",
       "        vertical-align: top;\n",
       "    }\n",
       "\n",
       "    .dataframe thead th {\n",
       "        text-align: right;\n",
       "    }\n",
       "</style>\n",
       "<table border=\"1\" class=\"dataframe\">\n",
       "  <thead>\n",
       "    <tr style=\"text-align: right;\">\n",
       "      <th></th>\n",
       "      <th>id</th>\n",
       "      <th>out_degree</th>\n",
       "      <th>in_degree</th>\n",
       "    </tr>\n",
       "  </thead>\n",
       "  <tbody>\n",
       "    <tr>\n",
       "      <td>0</td>\n",
       "      <td>947733</td>\n",
       "      <td>1.0</td>\n",
       "      <td>1.0</td>\n",
       "    </tr>\n",
       "    <tr>\n",
       "      <td>1</td>\n",
       "      <td>950536</td>\n",
       "      <td>1.0</td>\n",
       "      <td>1.0</td>\n",
       "    </tr>\n",
       "    <tr>\n",
       "      <td>4</td>\n",
       "      <td>1141238</td>\n",
       "      <td>1.0</td>\n",
       "      <td>1.0</td>\n",
       "    </tr>\n",
       "    <tr>\n",
       "      <td>6</td>\n",
       "      <td>929680</td>\n",
       "      <td>1.0</td>\n",
       "      <td>1.0</td>\n",
       "    </tr>\n",
       "    <tr>\n",
       "      <td>7</td>\n",
       "      <td>983803</td>\n",
       "      <td>1.0</td>\n",
       "      <td>1.0</td>\n",
       "    </tr>\n",
       "  </tbody>\n",
       "</table>\n",
       "</div>"
      ],
      "text/plain": [
       "        id  out_degree  in_degree\n",
       "0   947733         1.0        1.0\n",
       "1   950536         1.0        1.0\n",
       "4  1141238         1.0        1.0\n",
       "6   929680         1.0        1.0\n",
       "7   983803         1.0        1.0"
      ]
     },
     "execution_count": 115,
     "metadata": {},
     "output_type": "execute_result"
    }
   ],
   "source": [
    "middle_nodes_df.head()"
   ]
  },
  {
   "cell_type": "code",
   "execution_count": 116,
   "metadata": {},
   "outputs": [
    {
     "data": {
      "text/plain": [
       "Index(['street', 'FromLeft', 'ToLeft', 'FromRight', 'ToRight', 'StreetCode',\n",
       "       'ObjID', 'FJunction', 'TJunction', 'Length', 'RoadType', 'OneWay',\n",
       "       'F_ZLev', 'T_ZLev', 'FLanes', 'TLanes', 'Intended', 'cityname',\n",
       "       'CityCode', 'Seconds', 'FromSpeedL', 'ToSpeedL', 'AprxSpeedL',\n",
       "       'Autonomy', 'Regulation', 'RoadNameMZ', 'DirectionM', 'Status',\n",
       "       'RoadFuncti', 'Flag', 'Identifier', 'Roaddirect', 'CLEARSTREE',\n",
       "       'REVERSTREE', 'CLEARCITYN', 'REVERCITYN', 'geometry'],\n",
       "      dtype='object')"
      ]
     },
     "execution_count": 116,
     "metadata": {},
     "output_type": "execute_result"
    }
   ],
   "source": [
    "roads_df.columns"
   ]
  },
  {
   "cell_type": "code",
   "execution_count": 117,
   "metadata": {},
   "outputs": [],
   "source": [
    "middle_nodes_df = middle_nodes_df.merge(roads_df, how='left', left_on='id', right_on='FJunction')"
   ]
  },
  {
   "cell_type": "code",
   "execution_count": 118,
   "metadata": {},
   "outputs": [
    {
     "data": {
      "text/html": [
       "<div>\n",
       "<style scoped>\n",
       "    .dataframe tbody tr th:only-of-type {\n",
       "        vertical-align: middle;\n",
       "    }\n",
       "\n",
       "    .dataframe tbody tr th {\n",
       "        vertical-align: top;\n",
       "    }\n",
       "\n",
       "    .dataframe thead th {\n",
       "        text-align: right;\n",
       "    }\n",
       "</style>\n",
       "<table border=\"1\" class=\"dataframe\">\n",
       "  <thead>\n",
       "    <tr style=\"text-align: right;\">\n",
       "      <th></th>\n",
       "      <th>id</th>\n",
       "      <th>out_degree</th>\n",
       "      <th>in_degree</th>\n",
       "      <th>street</th>\n",
       "      <th>FromLeft</th>\n",
       "      <th>ToLeft</th>\n",
       "      <th>FromRight</th>\n",
       "      <th>ToRight</th>\n",
       "      <th>StreetCode</th>\n",
       "      <th>ObjID</th>\n",
       "      <th>...</th>\n",
       "      <th>Status</th>\n",
       "      <th>RoadFuncti</th>\n",
       "      <th>Flag</th>\n",
       "      <th>Identifier</th>\n",
       "      <th>Roaddirect</th>\n",
       "      <th>CLEARSTREE</th>\n",
       "      <th>REVERSTREE</th>\n",
       "      <th>CLEARCITYN</th>\n",
       "      <th>REVERCITYN</th>\n",
       "      <th>geometry</th>\n",
       "    </tr>\n",
       "  </thead>\n",
       "  <tbody>\n",
       "    <tr>\n",
       "      <td>0</td>\n",
       "      <td>947733</td>\n",
       "      <td>1.0</td>\n",
       "      <td>1.0</td>\n",
       "      <td>None</td>\n",
       "      <td>0</td>\n",
       "      <td>0</td>\n",
       "      <td>0</td>\n",
       "      <td>0</td>\n",
       "      <td>None</td>\n",
       "      <td>1</td>\n",
       "      <td>...</td>\n",
       "      <td>Operative</td>\n",
       "      <td>4x4 Road</td>\n",
       "      <td>5</td>\n",
       "      <td>1012284</td>\n",
       "      <td>222222</td>\n",
       "      <td>None</td>\n",
       "      <td>None</td>\n",
       "      <td>àéìú</td>\n",
       "      <td>úìéà</td>\n",
       "      <td>LINESTRING (194289.114 388953.679, 194277.535 ...</td>\n",
       "    </tr>\n",
       "    <tr>\n",
       "      <td>1</td>\n",
       "      <td>950536</td>\n",
       "      <td>1.0</td>\n",
       "      <td>1.0</td>\n",
       "      <td>40</td>\n",
       "      <td>0</td>\n",
       "      <td>0</td>\n",
       "      <td>0</td>\n",
       "      <td>0</td>\n",
       "      <td>None</td>\n",
       "      <td>2</td>\n",
       "      <td>...</td>\n",
       "      <td>Operative</td>\n",
       "      <td>Major Road</td>\n",
       "      <td>1</td>\n",
       "      <td>0</td>\n",
       "      <td>222222</td>\n",
       "      <td>40</td>\n",
       "      <td>40</td>\n",
       "      <td>îöôäøîåï</td>\n",
       "      <td>ïåîø äôöî</td>\n",
       "      <td>LINESTRING (187484.184 501340.215, 187506.545 ...</td>\n",
       "    </tr>\n",
       "  </tbody>\n",
       "</table>\n",
       "<p>2 rows × 40 columns</p>\n",
       "</div>"
      ],
      "text/plain": [
       "       id  out_degree  in_degree street  FromLeft  ToLeft  FromRight  ToRight  \\\n",
       "0  947733         1.0        1.0   None         0       0          0        0   \n",
       "1  950536         1.0        1.0     40         0       0          0        0   \n",
       "\n",
       "  StreetCode  ObjID  ...     Status  RoadFuncti  Flag  Identifier Roaddirect  \\\n",
       "0       None      1  ...  Operative    4x4 Road     5     1012284     222222   \n",
       "1       None      2  ...  Operative  Major Road     1           0     222222   \n",
       "\n",
       "   CLEARSTREE  REVERSTREE CLEARCITYN REVERCITYN  \\\n",
       "0        None        None       àéìú       úìéà   \n",
       "1          40          40   îöôäøîåï  ïåîø äôöî   \n",
       "\n",
       "                                            geometry  \n",
       "0  LINESTRING (194289.114 388953.679, 194277.535 ...  \n",
       "1  LINESTRING (187484.184 501340.215, 187506.545 ...  \n",
       "\n",
       "[2 rows x 40 columns]"
      ]
     },
     "execution_count": 118,
     "metadata": {},
     "output_type": "execute_result"
    }
   ],
   "source": [
    "middle_nodes_df.head(2)"
   ]
  },
  {
   "cell_type": "code",
   "execution_count": 119,
   "metadata": {},
   "outputs": [],
   "source": [
    "middle_nodes_df = middle_nodes_df.merge(roads_df, how='left', left_on='id', right_on='TJunction', suffixes=('_before','_after'))"
   ]
  },
  {
   "cell_type": "code",
   "execution_count": null,
   "metadata": {},
   "outputs": [],
   "source": []
  }
 ],
 "metadata": {
  "kernelspec": {
   "display_name": "Python 3",
   "language": "python",
   "name": "python3"
  },
  "language_info": {
   "codemirror_mode": {
    "name": "ipython",
    "version": 3
   },
   "file_extension": ".py",
   "mimetype": "text/x-python",
   "name": "python",
   "nbconvert_exporter": "python",
   "pygments_lexer": "ipython3",
   "version": "3.7.4"
  }
 },
 "nbformat": 4,
 "nbformat_minor": 2
}
