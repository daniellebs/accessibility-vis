{
 "cells": [
  {
   "cell_type": "code",
   "execution_count": 1,
   "metadata": {},
   "outputs": [],
   "source": [
    "import pickle\n",
    "import pandas as pd"
   ]
  },
  {
   "cell_type": "code",
   "execution_count": 3,
   "metadata": {},
   "outputs": [],
   "source": [
    "filename = '../../output_data/sa_13341-14033.pkl'"
   ]
  },
  {
   "cell_type": "code",
   "execution_count": 6,
   "metadata": {},
   "outputs": [],
   "source": [
    "service_areas_df = pd.read_pickle(filename) "
   ]
  },
  {
   "cell_type": "code",
   "execution_count": 7,
   "metadata": {},
   "outputs": [
    {
     "data": {
      "text/html": [
       "<div>\n",
       "<style scoped>\n",
       "    .dataframe tbody tr th:only-of-type {\n",
       "        vertical-align: middle;\n",
       "    }\n",
       "\n",
       "    .dataframe tbody tr th {\n",
       "        vertical-align: top;\n",
       "    }\n",
       "\n",
       "    .dataframe thead th {\n",
       "        text-align: right;\n",
       "    }\n",
       "</style>\n",
       "<table border=\"1\" class=\"dataframe\">\n",
       "  <thead>\n",
       "    <tr style=\"text-align: right;\">\n",
       "      <th></th>\n",
       "      <th>stop_id_source</th>\n",
       "      <th>stop_id_target</th>\n",
       "      <th>time_sec</th>\n",
       "      <th>stop_lon_target</th>\n",
       "      <th>stop_lat_target</th>\n",
       "      <th>arrival_target</th>\n",
       "      <th>stop_lon_source</th>\n",
       "      <th>stop_lat_source</th>\n",
       "      <th>departure</th>\n",
       "    </tr>\n",
       "  </thead>\n",
       "  <tbody>\n",
       "    <tr>\n",
       "      <th>0</th>\n",
       "      <td>12867</td>\n",
       "      <td>3</td>\n",
       "      <td>2625.0</td>\n",
       "      <td>34.782828</td>\n",
       "      <td>31.984553</td>\n",
       "      <td>2019-11-03 08:11:42</td>\n",
       "      <td>34.833799</td>\n",
       "      <td>32.054798</td>\n",
       "      <td>2019-11-03 08:55:27</td>\n",
       "    </tr>\n",
       "    <tr>\n",
       "      <th>1</th>\n",
       "      <td>12867</td>\n",
       "      <td>6</td>\n",
       "      <td>2422.0</td>\n",
       "      <td>34.898110</td>\n",
       "      <td>31.956678</td>\n",
       "      <td>2019-11-03 08:15:05</td>\n",
       "      <td>34.833799</td>\n",
       "      <td>32.054798</td>\n",
       "      <td>2019-11-03 08:55:27</td>\n",
       "    </tr>\n",
       "    <tr>\n",
       "      <th>2</th>\n",
       "      <td>12867</td>\n",
       "      <td>8</td>\n",
       "      <td>3230.0</td>\n",
       "      <td>34.824106</td>\n",
       "      <td>31.857565</td>\n",
       "      <td>2019-11-03 08:01:37</td>\n",
       "      <td>34.833799</td>\n",
       "      <td>32.054798</td>\n",
       "      <td>2019-11-03 08:55:27</td>\n",
       "    </tr>\n",
       "    <tr>\n",
       "      <th>3</th>\n",
       "      <td>12867</td>\n",
       "      <td>9</td>\n",
       "      <td>3153.0</td>\n",
       "      <td>34.821857</td>\n",
       "      <td>31.862305</td>\n",
       "      <td>2019-11-03 08:02:54</td>\n",
       "      <td>34.833799</td>\n",
       "      <td>32.054798</td>\n",
       "      <td>2019-11-03 08:55:27</td>\n",
       "    </tr>\n",
       "    <tr>\n",
       "      <th>4</th>\n",
       "      <td>12867</td>\n",
       "      <td>10</td>\n",
       "      <td>3101.0</td>\n",
       "      <td>34.822237</td>\n",
       "      <td>31.865085</td>\n",
       "      <td>2019-11-03 08:03:46</td>\n",
       "      <td>34.833799</td>\n",
       "      <td>32.054798</td>\n",
       "      <td>2019-11-03 08:55:27</td>\n",
       "    </tr>\n",
       "  </tbody>\n",
       "</table>\n",
       "</div>"
      ],
      "text/plain": [
       "   stop_id_source  stop_id_target  time_sec  stop_lon_target  stop_lat_target  \\\n",
       "0           12867               3    2625.0        34.782828        31.984553   \n",
       "1           12867               6    2422.0        34.898110        31.956678   \n",
       "2           12867               8    3230.0        34.824106        31.857565   \n",
       "3           12867               9    3153.0        34.821857        31.862305   \n",
       "4           12867              10    3101.0        34.822237        31.865085   \n",
       "\n",
       "       arrival_target  stop_lon_source  stop_lat_source           departure  \n",
       "0 2019-11-03 08:11:42        34.833799        32.054798 2019-11-03 08:55:27  \n",
       "1 2019-11-03 08:15:05        34.833799        32.054798 2019-11-03 08:55:27  \n",
       "2 2019-11-03 08:01:37        34.833799        32.054798 2019-11-03 08:55:27  \n",
       "3 2019-11-03 08:02:54        34.833799        32.054798 2019-11-03 08:55:27  \n",
       "4 2019-11-03 08:03:46        34.833799        32.054798 2019-11-03 08:55:27  "
      ]
     },
     "execution_count": 7,
     "metadata": {},
     "output_type": "execute_result"
    }
   ],
   "source": [
    "service_areas_df.head()"
   ]
  },
  {
   "cell_type": "code",
   "execution_count": 8,
   "metadata": {},
   "outputs": [],
   "source": [
    "single_source_sa_df = service_areas_df[service_areas_df['stop_id_source'] == 12867]"
   ]
  },
  {
   "cell_type": "code",
   "execution_count": 14,
   "metadata": {},
   "outputs": [],
   "source": [
    "single_source_sa_df.to_csv('../../output_data/csv/sa_13341-14033_to_stop_12867.csv')"
   ]
  },
  {
   "cell_type": "code",
   "execution_count": 15,
   "metadata": {},
   "outputs": [
    {
     "data": {
      "text/plain": [
       "(6783, 9)"
      ]
     },
     "execution_count": 15,
     "metadata": {},
     "output_type": "execute_result"
    }
   ],
   "source": [
    "single_source_sa_df.shape"
   ]
  },
  {
   "cell_type": "code",
   "execution_count": 16,
   "metadata": {},
   "outputs": [
    {
     "data": {
      "text/html": [
       "<div>\n",
       "<style scoped>\n",
       "    .dataframe tbody tr th:only-of-type {\n",
       "        vertical-align: middle;\n",
       "    }\n",
       "\n",
       "    .dataframe tbody tr th {\n",
       "        vertical-align: top;\n",
       "    }\n",
       "\n",
       "    .dataframe thead th {\n",
       "        text-align: right;\n",
       "    }\n",
       "</style>\n",
       "<table border=\"1\" class=\"dataframe\">\n",
       "  <thead>\n",
       "    <tr style=\"text-align: right;\">\n",
       "      <th></th>\n",
       "      <th>stop_id_source</th>\n",
       "      <th>stop_id_target</th>\n",
       "      <th>time_sec</th>\n",
       "      <th>stop_lon_target</th>\n",
       "      <th>stop_lat_target</th>\n",
       "      <th>arrival_target</th>\n",
       "      <th>stop_lon_source</th>\n",
       "      <th>stop_lat_source</th>\n",
       "      <th>departure</th>\n",
       "    </tr>\n",
       "  </thead>\n",
       "  <tbody>\n",
       "    <tr>\n",
       "      <th>0</th>\n",
       "      <td>12867</td>\n",
       "      <td>3</td>\n",
       "      <td>2625.0</td>\n",
       "      <td>34.782828</td>\n",
       "      <td>31.984553</td>\n",
       "      <td>2019-11-03 08:11:42</td>\n",
       "      <td>34.833799</td>\n",
       "      <td>32.054798</td>\n",
       "      <td>2019-11-03 08:55:27</td>\n",
       "    </tr>\n",
       "    <tr>\n",
       "      <th>1</th>\n",
       "      <td>12867</td>\n",
       "      <td>6</td>\n",
       "      <td>2422.0</td>\n",
       "      <td>34.898110</td>\n",
       "      <td>31.956678</td>\n",
       "      <td>2019-11-03 08:15:05</td>\n",
       "      <td>34.833799</td>\n",
       "      <td>32.054798</td>\n",
       "      <td>2019-11-03 08:55:27</td>\n",
       "    </tr>\n",
       "    <tr>\n",
       "      <th>2</th>\n",
       "      <td>12867</td>\n",
       "      <td>8</td>\n",
       "      <td>3230.0</td>\n",
       "      <td>34.824106</td>\n",
       "      <td>31.857565</td>\n",
       "      <td>2019-11-03 08:01:37</td>\n",
       "      <td>34.833799</td>\n",
       "      <td>32.054798</td>\n",
       "      <td>2019-11-03 08:55:27</td>\n",
       "    </tr>\n",
       "    <tr>\n",
       "      <th>3</th>\n",
       "      <td>12867</td>\n",
       "      <td>9</td>\n",
       "      <td>3153.0</td>\n",
       "      <td>34.821857</td>\n",
       "      <td>31.862305</td>\n",
       "      <td>2019-11-03 08:02:54</td>\n",
       "      <td>34.833799</td>\n",
       "      <td>32.054798</td>\n",
       "      <td>2019-11-03 08:55:27</td>\n",
       "    </tr>\n",
       "    <tr>\n",
       "      <th>4</th>\n",
       "      <td>12867</td>\n",
       "      <td>10</td>\n",
       "      <td>3101.0</td>\n",
       "      <td>34.822237</td>\n",
       "      <td>31.865085</td>\n",
       "      <td>2019-11-03 08:03:46</td>\n",
       "      <td>34.833799</td>\n",
       "      <td>32.054798</td>\n",
       "      <td>2019-11-03 08:55:27</td>\n",
       "    </tr>\n",
       "  </tbody>\n",
       "</table>\n",
       "</div>"
      ],
      "text/plain": [
       "   stop_id_source  stop_id_target  time_sec  stop_lon_target  stop_lat_target  \\\n",
       "0           12867               3    2625.0        34.782828        31.984553   \n",
       "1           12867               6    2422.0        34.898110        31.956678   \n",
       "2           12867               8    3230.0        34.824106        31.857565   \n",
       "3           12867               9    3153.0        34.821857        31.862305   \n",
       "4           12867              10    3101.0        34.822237        31.865085   \n",
       "\n",
       "       arrival_target  stop_lon_source  stop_lat_source           departure  \n",
       "0 2019-11-03 08:11:42        34.833799        32.054798 2019-11-03 08:55:27  \n",
       "1 2019-11-03 08:15:05        34.833799        32.054798 2019-11-03 08:55:27  \n",
       "2 2019-11-03 08:01:37        34.833799        32.054798 2019-11-03 08:55:27  \n",
       "3 2019-11-03 08:02:54        34.833799        32.054798 2019-11-03 08:55:27  \n",
       "4 2019-11-03 08:03:46        34.833799        32.054798 2019-11-03 08:55:27  "
      ]
     },
     "execution_count": 16,
     "metadata": {},
     "output_type": "execute_result"
    }
   ],
   "source": [
    "single_source_sa_df.head()"
   ]
  },
  {
   "cell_type": "code",
   "execution_count": null,
   "metadata": {},
   "outputs": [],
   "source": []
  }
 ],
 "metadata": {
  "kernelspec": {
   "display_name": "Python 3",
   "language": "python",
   "name": "python3"
  },
  "language_info": {
   "codemirror_mode": {
    "name": "ipython",
    "version": 3
   },
   "file_extension": ".py",
   "mimetype": "text/x-python",
   "name": "python",
   "nbconvert_exporter": "python",
   "pygments_lexer": "ipython3",
   "version": "3.6.4"
  }
 },
 "nbformat": 4,
 "nbformat_minor": 2
}
