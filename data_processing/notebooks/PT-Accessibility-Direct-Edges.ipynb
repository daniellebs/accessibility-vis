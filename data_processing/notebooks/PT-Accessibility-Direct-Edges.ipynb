{
 "cells": [
  {
   "cell_type": "markdown",
   "metadata": {},
   "source": [
    "## GTFS - Direct Edges"
   ]
  },
  {
   "cell_type": "code",
   "execution_count": 1,
   "metadata": {},
   "outputs": [],
   "source": [
    "import pandas as pd\n",
    "import datetime\n",
    "import numpy as np\n",
    "import pickle\n",
    "\n",
    "DATA_PATH = '../../input_data/GTFS-28-Oct-19/'"
   ]
  },
  {
   "cell_type": "code",
   "execution_count": 2,
   "metadata": {},
   "outputs": [],
   "source": [
    "OUTPUT_PATH = '../../output_data/'"
   ]
  },
  {
   "cell_type": "markdown",
   "metadata": {},
   "source": [
    "## Load Nodes"
   ]
  },
  {
   "cell_type": "code",
   "execution_count": 4,
   "metadata": {},
   "outputs": [
    {
     "name": "stdout",
     "output_type": "stream",
     "text": [
      "Loading nodes from file ../../output_data/morning_nodes.pkl\n"
     ]
    },
    {
     "data": {
      "text/html": [
       "<div>\n",
       "<style scoped>\n",
       "    .dataframe tbody tr th:only-of-type {\n",
       "        vertical-align: middle;\n",
       "    }\n",
       "\n",
       "    .dataframe tbody tr th {\n",
       "        vertical-align: top;\n",
       "    }\n",
       "\n",
       "    .dataframe thead th {\n",
       "        text-align: right;\n",
       "    }\n",
       "</style>\n",
       "<table border=\"1\" class=\"dataframe\">\n",
       "  <thead>\n",
       "    <tr style=\"text-align: right;\">\n",
       "      <th></th>\n",
       "      <th>index</th>\n",
       "      <th>trip_id</th>\n",
       "      <th>arrival_time</th>\n",
       "      <th>departure_time_stop</th>\n",
       "      <th>stop_id</th>\n",
       "      <th>stop_sequence</th>\n",
       "      <th>route_id</th>\n",
       "      <th>trip_headsign</th>\n",
       "      <th>departure_time_trip_departure</th>\n",
       "      <th>stop_code</th>\n",
       "      <th>stop_lat</th>\n",
       "      <th>stop_lon</th>\n",
       "      <th>arrival</th>\n",
       "      <th>departure</th>\n",
       "      <th>node_id</th>\n",
       "    </tr>\n",
       "  </thead>\n",
       "  <tbody>\n",
       "    <tr>\n",
       "      <th>0</th>\n",
       "      <td>18</td>\n",
       "      <td>14824097_271019</td>\n",
       "      <td>08:02:40</td>\n",
       "      <td>08:02:40</td>\n",
       "      <td>2356</td>\n",
       "      <td>2</td>\n",
       "      <td>1606</td>\n",
       "      <td>נוף הגליל_שלום</td>\n",
       "      <td>08:00:00</td>\n",
       "      <td>41476</td>\n",
       "      <td>32.793214</td>\n",
       "      <td>35.038925</td>\n",
       "      <td>2019-11-03 08:02:40</td>\n",
       "      <td>2019-11-03 08:02:40</td>\n",
       "      <td>0</td>\n",
       "    </tr>\n",
       "    <tr>\n",
       "      <th>1</th>\n",
       "      <td>19</td>\n",
       "      <td>14824098_271019</td>\n",
       "      <td>09:02:40</td>\n",
       "      <td>09:02:40</td>\n",
       "      <td>2356</td>\n",
       "      <td>2</td>\n",
       "      <td>1606</td>\n",
       "      <td>נוף הגליל_שלום</td>\n",
       "      <td>09:00:00</td>\n",
       "      <td>41476</td>\n",
       "      <td>32.793214</td>\n",
       "      <td>35.038925</td>\n",
       "      <td>2019-11-03 09:02:40</td>\n",
       "      <td>2019-11-03 09:02:40</td>\n",
       "      <td>1</td>\n",
       "    </tr>\n",
       "    <tr>\n",
       "      <th>2</th>\n",
       "      <td>36</td>\n",
       "      <td>19590744_271019</td>\n",
       "      <td>08:14:17</td>\n",
       "      <td>08:14:17</td>\n",
       "      <td>2356</td>\n",
       "      <td>2</td>\n",
       "      <td>16379</td>\n",
       "      <td>טבריה_תחנה מרכזית</td>\n",
       "      <td>08:10:00</td>\n",
       "      <td>41476</td>\n",
       "      <td>32.793214</td>\n",
       "      <td>35.038925</td>\n",
       "      <td>2019-11-03 08:14:17</td>\n",
       "      <td>2019-11-03 08:14:17</td>\n",
       "      <td>2</td>\n",
       "    </tr>\n",
       "  </tbody>\n",
       "</table>\n",
       "</div>"
      ],
      "text/plain": [
       "   index          trip_id arrival_time departure_time_stop  stop_id  \\\n",
       "0     18  14824097_271019     08:02:40            08:02:40     2356   \n",
       "1     19  14824098_271019     09:02:40            09:02:40     2356   \n",
       "2     36  19590744_271019     08:14:17            08:14:17     2356   \n",
       "\n",
       "   stop_sequence  route_id      trip_headsign departure_time_trip_departure  \\\n",
       "0              2      1606     נוף הגליל_שלום                      08:00:00   \n",
       "1              2      1606     נוף הגליל_שלום                      09:00:00   \n",
       "2              2     16379  טבריה_תחנה מרכזית                      08:10:00   \n",
       "\n",
       "   stop_code   stop_lat   stop_lon             arrival           departure  \\\n",
       "0      41476  32.793214  35.038925 2019-11-03 08:02:40 2019-11-03 08:02:40   \n",
       "1      41476  32.793214  35.038925 2019-11-03 09:02:40 2019-11-03 09:02:40   \n",
       "2      41476  32.793214  35.038925 2019-11-03 08:14:17 2019-11-03 08:14:17   \n",
       "\n",
       "   node_id  \n",
       "0        0  \n",
       "1        1  \n",
       "2        2  "
      ]
     },
     "execution_count": 4,
     "metadata": {},
     "output_type": "execute_result"
    }
   ],
   "source": [
    "# Load nodes\n",
    "FILES_PREFIX = 'morning'\n",
    "# FILES_PREFIX = 'single_trip'\n",
    "file_name = OUTPUT_PATH + FILES_PREFIX + '_nodes.pkl'\n",
    "print(f'Loading nodes from file {file_name}')\n",
    "nodes_df = pd.read_pickle(file_name)\n",
    "nodes_df.head(3)"
   ]
  },
  {
   "cell_type": "code",
   "execution_count": 5,
   "metadata": {},
   "outputs": [
    {
     "data": {
      "text/plain": [
       "(325870, 15)"
      ]
     },
     "execution_count": 5,
     "metadata": {},
     "output_type": "execute_result"
    }
   ],
   "source": [
    "nodes_df.shape"
   ]
  },
  {
   "cell_type": "markdown",
   "metadata": {},
   "source": [
    "## Compute Direct Edges"
   ]
  },
  {
   "cell_type": "code",
   "execution_count": 8,
   "metadata": {},
   "outputs": [],
   "source": [
    "# First we verify that the stops in each trip are consecutive\n",
    "\n",
    "tmp_df = nodes_df\n",
    "\n",
    "def verify_consective(l):\n",
    "    if sorted(list(l)) != list(range(min(l), max(l)+1)):\n",
    "        print('Found non-consecutive stop sequence')\n",
    "        raise Exception('NON CONSECUTIVE STOP SEQUENCE')"
   ]
  },
  {
   "cell_type": "code",
   "execution_count": 9,
   "metadata": {},
   "outputs": [
    {
     "data": {
      "text/html": [
       "<div>\n",
       "<style scoped>\n",
       "    .dataframe tbody tr th:only-of-type {\n",
       "        vertical-align: middle;\n",
       "    }\n",
       "\n",
       "    .dataframe tbody tr th {\n",
       "        vertical-align: top;\n",
       "    }\n",
       "\n",
       "    .dataframe thead th {\n",
       "        text-align: right;\n",
       "    }\n",
       "</style>\n",
       "<table border=\"1\" class=\"dataframe\">\n",
       "  <thead>\n",
       "    <tr style=\"text-align: right;\">\n",
       "      <th></th>\n",
       "    </tr>\n",
       "  </thead>\n",
       "  <tbody>\n",
       "  </tbody>\n",
       "</table>\n",
       "</div>"
      ],
      "text/plain": [
       "Empty DataFrame\n",
       "Columns: []\n",
       "Index: []"
      ]
     },
     "execution_count": 9,
     "metadata": {},
     "output_type": "execute_result"
    }
   ],
   "source": [
    "tmp_df[['trip_id', 'stop_sequence']].groupby('trip_id').apply(lambda x: verify_consective(x.stop_sequence))"
   ]
  },
  {
   "cell_type": "markdown",
   "metadata": {},
   "source": [
    "No exception -> all stops are consecutive, we can resume"
   ]
  },
  {
   "cell_type": "code",
   "execution_count": 10,
   "metadata": {},
   "outputs": [],
   "source": [
    "del tmp_df"
   ]
  },
  {
   "cell_type": "code",
   "execution_count": 11,
   "metadata": {},
   "outputs": [],
   "source": [
    "def create_direct_edges_for_trip(x):\n",
    "    # TODO: Save node_id instead of index\n",
    "    for index, node in x.iterrows():\n",
    "        stop_seq = node['stop_sequence']\n",
    "        # For the same trip we want to take the next node\n",
    "        next_node = x[x['stop_sequence'] == stop_seq + 1]\n",
    "        if next_node.shape[0] == 0:\n",
    "            # This is the last node of the current trip, no outgoing edge\n",
    "            continue\n",
    "        assert next_node.shape[0] == 1\n",
    "\n",
    "        w = ((next_node['departure'] - node['arrival'])).values[0] / np.timedelta64(1, 's')\n",
    "        d_edge = (node['node_id'], next_node['node_id'].values[0], w)\n",
    "        direct_edges.add(d_edge)"
   ]
  },
  {
   "cell_type": "markdown",
   "metadata": {},
   "source": [
    "<span style=\"background-color: #F1D9F9\">TODO: make this multiprocessed: group by trip_id, and then split the data to batches of groups (trips). For each group we will apply the 'create direct edges' using a pool. We need to make sure that directed_edges is thread/process-safe.</span>"
   ]
  },
  {
   "cell_type": "code",
   "execution_count": 12,
   "metadata": {},
   "outputs": [
    {
     "name": "stderr",
     "output_type": "stream",
     "text": [
      "G:\\danielle\\AppData\\Local\\Continuum\\anaconda3\\envs\\accessibility\\lib\\site-packages\\tqdm\\std.py:658: FutureWarning: The Panel class is removed from pandas. Accessing it from the top-level namespace will also be removed in the next version\n",
      "  from pandas import Panel\n"
     ]
    },
    {
     "data": {
      "application/vnd.jupyter.widget-view+json": {
       "model_id": "0026c9dac80042c6b3df65cef59b640d",
       "version_major": 2,
       "version_minor": 0
      },
      "text/plain": [
       "HBox(children=(FloatProgress(value=0.0, max=13765.0), HTML(value='')))"
      ]
     },
     "metadata": {},
     "output_type": "display_data"
    },
    {
     "name": "stdout",
     "output_type": "stream",
     "text": [
      "\n"
     ]
    },
    {
     "data": {
      "text/html": [
       "<div>\n",
       "<style scoped>\n",
       "    .dataframe tbody tr th:only-of-type {\n",
       "        vertical-align: middle;\n",
       "    }\n",
       "\n",
       "    .dataframe tbody tr th {\n",
       "        vertical-align: top;\n",
       "    }\n",
       "\n",
       "    .dataframe thead th {\n",
       "        text-align: right;\n",
       "    }\n",
       "</style>\n",
       "<table border=\"1\" class=\"dataframe\">\n",
       "  <thead>\n",
       "    <tr style=\"text-align: right;\">\n",
       "      <th></th>\n",
       "    </tr>\n",
       "  </thead>\n",
       "  <tbody>\n",
       "  </tbody>\n",
       "</table>\n",
       "</div>"
      ],
      "text/plain": [
       "Empty DataFrame\n",
       "Columns: []\n",
       "Index: []"
      ]
     },
     "execution_count": 12,
     "metadata": {},
     "output_type": "execute_result"
    }
   ],
   "source": [
    "# For each trip (grouping by trip), create edges for this trip's consecutive nodes.\n",
    "from tqdm.auto import tqdm\n",
    "tqdm.pandas()\n",
    "\n",
    "direct_edges = set()\n",
    "nodes_df[['node_id', 'trip_id', 'stop_sequence', 'arrival', 'departure']].groupby('trip_id').progress_apply(create_direct_edges_for_trip)"
   ]
  },
  {
   "cell_type": "code",
   "execution_count": 13,
   "metadata": {},
   "outputs": [
    {
     "data": {
      "text/plain": [
       "312105"
      ]
     },
     "execution_count": 13,
     "metadata": {},
     "output_type": "execute_result"
    }
   ],
   "source": [
    "len(direct_edges)"
   ]
  },
  {
   "cell_type": "code",
   "execution_count": 14,
   "metadata": {},
   "outputs": [],
   "source": [
    "with open(OUTPUT_PATH + FILES_PREFIX + '_direct_edges.pkl', 'wb') as f:\n",
    "    pickle.dump(direct_edges, f)"
   ]
  },
  {
   "cell_type": "code",
   "execution_count": null,
   "metadata": {},
   "outputs": [],
   "source": []
  }
 ],
 "metadata": {
  "kernelspec": {
   "display_name": "Python 3",
   "language": "python",
   "name": "python3"
  },
  "language_info": {
   "codemirror_mode": {
    "name": "ipython",
    "version": 3
   },
   "file_extension": ".py",
   "mimetype": "text/x-python",
   "name": "python",
   "nbconvert_exporter": "python",
   "pygments_lexer": "ipython3",
   "version": "3.7.5"
  }
 },
 "nbformat": 4,
 "nbformat_minor": 2
}
