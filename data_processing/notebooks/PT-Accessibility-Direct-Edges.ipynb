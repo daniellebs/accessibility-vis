{
 "cells": [
  {
   "cell_type": "markdown",
   "metadata": {},
   "source": [
    "## GTFS\n",
    "In order to compute accessibility based on GTFS data (General Transit Feed Specification, can by downloaded from ftp://199.203.58.18/), we will first perform basic processing of the data.\n",
    "We are using the pandas library.\n",
    "\n",
    "The code is based on the following structure of GTFS tables:\n",
    "![GTFS Tables](./GTFS_tables.PNG)"
   ]
  },
  {
   "cell_type": "code",
   "execution_count": 9,
   "metadata": {},
   "outputs": [],
   "source": [
    "import pandas as pd\n",
    "import datetime\n",
    "import numpy as np\n",
    "\n",
    "# DATA_PATH = '../data/'\n",
    "DATA_PATH = '../data/GTFS-24-October-17/'"
   ]
  },
  {
   "cell_type": "code",
   "execution_count": 5,
   "metadata": {},
   "outputs": [],
   "source": [
    "# OUTPUT_PATH = 'G:/danielle/accessibility_to_trains'\n",
    "OUTPUT_PATH = 'D:/'"
   ]
  },
  {
   "cell_type": "markdown",
   "metadata": {},
   "source": [
    "## Load Nodes"
   ]
  },
  {
   "cell_type": "code",
   "execution_count": 11,
   "metadata": {},
   "outputs": [
    {
     "data": {
      "text/html": [
       "<div>\n",
       "<style scoped>\n",
       "    .dataframe tbody tr th:only-of-type {\n",
       "        vertical-align: middle;\n",
       "    }\n",
       "\n",
       "    .dataframe tbody tr th {\n",
       "        vertical-align: top;\n",
       "    }\n",
       "\n",
       "    .dataframe thead th {\n",
       "        text-align: right;\n",
       "    }\n",
       "</style>\n",
       "<table border=\"1\" class=\"dataframe\">\n",
       "  <thead>\n",
       "    <tr style=\"text-align: right;\">\n",
       "      <th></th>\n",
       "      <th>trip_id</th>\n",
       "      <th>arrival_time</th>\n",
       "      <th>departure_time_stop</th>\n",
       "      <th>stop_id</th>\n",
       "      <th>stop_sequence</th>\n",
       "      <th>route_id</th>\n",
       "      <th>departure_time_trip_departure</th>\n",
       "      <th>stop_code</th>\n",
       "      <th>stop_lat</th>\n",
       "      <th>stop_lon</th>\n",
       "      <th>arrival</th>\n",
       "      <th>departure</th>\n",
       "    </tr>\n",
       "  </thead>\n",
       "  <tbody>\n",
       "    <tr>\n",
       "      <th>0</th>\n",
       "      <td>29454675_291017</td>\n",
       "      <td>08:57:00</td>\n",
       "      <td>08:57:00</td>\n",
       "      <td>37312</td>\n",
       "      <td>1</td>\n",
       "      <td>20950</td>\n",
       "      <td>08:57:00</td>\n",
       "      <td>17084</td>\n",
       "      <td>31.242886</td>\n",
       "      <td>34.798546</td>\n",
       "      <td>2017-10-29 08:57:00</td>\n",
       "      <td>2017-10-29 08:57:00</td>\n",
       "    </tr>\n",
       "    <tr>\n",
       "      <th>9</th>\n",
       "      <td>29454016_291017</td>\n",
       "      <td>08:08:00</td>\n",
       "      <td>08:08:00</td>\n",
       "      <td>37312</td>\n",
       "      <td>23</td>\n",
       "      <td>20985</td>\n",
       "      <td>05:38:00</td>\n",
       "      <td>17084</td>\n",
       "      <td>31.242886</td>\n",
       "      <td>34.798546</td>\n",
       "      <td>2017-10-29 08:08:00</td>\n",
       "      <td>2017-10-29 08:08:00</td>\n",
       "    </tr>\n",
       "    <tr>\n",
       "      <th>22</th>\n",
       "      <td>29453854_291017</td>\n",
       "      <td>08:19:00</td>\n",
       "      <td>08:19:00</td>\n",
       "      <td>37312</td>\n",
       "      <td>1</td>\n",
       "      <td>16488</td>\n",
       "      <td>08:19:00</td>\n",
       "      <td>17084</td>\n",
       "      <td>31.242886</td>\n",
       "      <td>34.798546</td>\n",
       "      <td>2017-10-29 08:19:00</td>\n",
       "      <td>2017-10-29 08:19:00</td>\n",
       "    </tr>\n",
       "  </tbody>\n",
       "</table>\n",
       "</div>"
      ],
      "text/plain": [
       "            trip_id arrival_time departure_time_stop  stop_id  stop_sequence  \\\n",
       "0   29454675_291017     08:57:00            08:57:00    37312              1   \n",
       "9   29454016_291017     08:08:00            08:08:00    37312             23   \n",
       "22  29453854_291017     08:19:00            08:19:00    37312              1   \n",
       "\n",
       "    route_id departure_time_trip_departure  stop_code   stop_lat   stop_lon  \\\n",
       "0      20950                      08:57:00      17084  31.242886  34.798546   \n",
       "9      20985                      05:38:00      17084  31.242886  34.798546   \n",
       "22     16488                      08:19:00      17084  31.242886  34.798546   \n",
       "\n",
       "               arrival           departure  \n",
       "0  2017-10-29 08:57:00 2017-10-29 08:57:00  \n",
       "9  2017-10-29 08:08:00 2017-10-29 08:08:00  \n",
       "22 2017-10-29 08:19:00 2017-10-29 08:19:00  "
      ]
     },
     "execution_count": 11,
     "metadata": {},
     "output_type": "execute_result"
    }
   ],
   "source": [
    "# Load nodes\n",
    "NODES_PATH = 'morning_trips_nodes.pkl'\n",
    "nodes_df = pd.read_pickle(NODES_PATH)\n",
    "nodes_df.head(3)"
   ]
  },
  {
   "cell_type": "markdown",
   "metadata": {},
   "source": [
    "## Compute Direct Edges"
   ]
  },
  {
   "cell_type": "code",
   "execution_count": 12,
   "metadata": {},
   "outputs": [],
   "source": [
    "# First we verify that the stops in each trip are consecutive\n",
    "\n",
    "# tmp_df = nodes_df\n",
    "tmp_df = nodes_df\n",
    "\n",
    "def verify_consective(l):\n",
    "    if sorted(list(l)) != list(range(min(l), max(l)+1)):\n",
    "        print('Found non-consecutive stop sequence')\n",
    "        raise Exception('NON CONSECUTIVE STOP SEQUENCE')"
   ]
  },
  {
   "cell_type": "code",
   "execution_count": 13,
   "metadata": {},
   "outputs": [
    {
     "data": {
      "text/html": [
       "<div>\n",
       "<style scoped>\n",
       "    .dataframe tbody tr th:only-of-type {\n",
       "        vertical-align: middle;\n",
       "    }\n",
       "\n",
       "    .dataframe tbody tr th {\n",
       "        vertical-align: top;\n",
       "    }\n",
       "\n",
       "    .dataframe thead th {\n",
       "        text-align: right;\n",
       "    }\n",
       "</style>\n",
       "<table border=\"1\" class=\"dataframe\">\n",
       "  <thead>\n",
       "    <tr style=\"text-align: right;\">\n",
       "      <th></th>\n",
       "    </tr>\n",
       "  </thead>\n",
       "  <tbody>\n",
       "  </tbody>\n",
       "</table>\n",
       "</div>"
      ],
      "text/plain": [
       "Empty DataFrame\n",
       "Columns: []\n",
       "Index: []"
      ]
     },
     "execution_count": 13,
     "metadata": {},
     "output_type": "execute_result"
    }
   ],
   "source": [
    "tmp_df[['trip_id', 'stop_sequence']].groupby('trip_id').apply(lambda x: verify_consective(x.stop_sequence))"
   ]
  },
  {
   "cell_type": "markdown",
   "metadata": {},
   "source": [
    "No exception -> all stops are consecutive, we can resume"
   ]
  },
  {
   "cell_type": "code",
   "execution_count": 14,
   "metadata": {},
   "outputs": [],
   "source": [
    "def create_direct_edges_for_trip(x):\n",
    "    for index, node in x.iterrows():\n",
    "        stop_seq = node['stop_sequence']\n",
    "        # For the same trip we want to take the next node\n",
    "        next_node = x[x['stop_sequence'] == stop_seq + 1]\n",
    "        if next_node.shape[0] == 0:\n",
    "            # This is the last node of the current trip, no outgoing edge\n",
    "            continue\n",
    "        assert next_node.shape[0] == 1\n",
    "        next_node_index = next_node.index[0]\n",
    "\n",
    "        w = ((next_node['departure'] - node['arrival']) / np.timedelta64(1, 's')).values[0]    \n",
    "        direct_edges.add((index, next_node_index, w))"
   ]
  },
  {
   "cell_type": "markdown",
   "metadata": {},
   "source": [
    "<span style=\"background-color: #F1D9F9\">TODO: make this multiprocessed: group by trip_id, and then split the data to batches of groups (trips). For each group we will apply the 'create direct edges' using a pool. We need to make sure that directed_edges is thread/process-safe.</span>"
   ]
  },
  {
   "cell_type": "code",
   "execution_count": 15,
   "metadata": {},
   "outputs": [
    {
     "data": {
      "application/vnd.jupyter.widget-view+json": {
       "model_id": "e3d173cb1b244e78b66e94223923b3c4",
       "version_major": 2,
       "version_minor": 0
      },
      "text/plain": [
       "HBox(children=(IntProgress(value=0, max=10332), HTML(value='')))"
      ]
     },
     "metadata": {},
     "output_type": "display_data"
    },
    {
     "name": "stdout",
     "output_type": "stream",
     "text": [
      "\n"
     ]
    },
    {
     "data": {
      "text/html": [
       "<div>\n",
       "<style scoped>\n",
       "    .dataframe tbody tr th:only-of-type {\n",
       "        vertical-align: middle;\n",
       "    }\n",
       "\n",
       "    .dataframe tbody tr th {\n",
       "        vertical-align: top;\n",
       "    }\n",
       "\n",
       "    .dataframe thead th {\n",
       "        text-align: right;\n",
       "    }\n",
       "</style>\n",
       "<table border=\"1\" class=\"dataframe\">\n",
       "  <thead>\n",
       "    <tr style=\"text-align: right;\">\n",
       "      <th></th>\n",
       "    </tr>\n",
       "  </thead>\n",
       "  <tbody>\n",
       "  </tbody>\n",
       "</table>\n",
       "</div>"
      ],
      "text/plain": [
       "Empty DataFrame\n",
       "Columns: []\n",
       "Index: []"
      ]
     },
     "execution_count": 15,
     "metadata": {},
     "output_type": "execute_result"
    }
   ],
   "source": [
    "# For each trip (grouping by trip), create edges for this trip's consecutive nodes.\n",
    "from tqdm.auto import tqdm\n",
    "tqdm.pandas()\n",
    "\n",
    "direct_edges = set()\n",
    "tmp_df[['trip_id', 'stop_sequence', 'arrival', 'departure']].groupby('trip_id').progress_apply(create_direct_edges_for_trip)"
   ]
  },
  {
   "cell_type": "code",
   "execution_count": 16,
   "metadata": {},
   "outputs": [
    {
     "data": {
      "text/plain": [
       "194359"
      ]
     },
     "execution_count": 16,
     "metadata": {},
     "output_type": "execute_result"
    }
   ],
   "source": [
    "len(direct_edges)"
   ]
  },
  {
   "cell_type": "code",
   "execution_count": 17,
   "metadata": {},
   "outputs": [],
   "source": [
    "import pickle\n",
    "\n",
    "with open('direct_morning_edges_all_israel.pkl', 'wb') as f:\n",
    "    pickle.dump(direct_edges, f)"
   ]
  },
  {
   "cell_type": "code",
   "execution_count": 18,
   "metadata": {},
   "outputs": [
    {
     "data": {
      "text/plain": [
       "(204691, 12)"
      ]
     },
     "execution_count": 18,
     "metadata": {},
     "output_type": "execute_result"
    }
   ],
   "source": [
    "nodes_df.shape"
   ]
  }
 ],
 "metadata": {
  "kernelspec": {
   "display_name": "Python 3",
   "language": "python",
   "name": "python3"
  },
  "language_info": {
   "codemirror_mode": {
    "name": "ipython",
    "version": 3
   },
   "file_extension": ".py",
   "mimetype": "text/x-python",
   "name": "python",
   "nbconvert_exporter": "python",
   "pygments_lexer": "ipython3",
   "version": "3.6.4"
  }
 },
 "nbformat": 4,
 "nbformat_minor": 2
}
