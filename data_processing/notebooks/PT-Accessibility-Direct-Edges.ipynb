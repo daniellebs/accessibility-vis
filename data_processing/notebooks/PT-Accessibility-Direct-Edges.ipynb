{
 "cells": [
  {
   "cell_type": "markdown",
   "metadata": {},
   "source": [
    "## GTFS - Direct Edges"
   ]
  },
  {
   "cell_type": "code",
   "execution_count": 1,
   "metadata": {},
   "outputs": [],
   "source": [
    "import pandas as pd\n",
    "import datetime\n",
    "import numpy as np\n",
    "import pickle\n",
    "\n",
    "DATA_PATH = '../../input_data/GTFS-28-Oct-19/'"
   ]
  },
  {
   "cell_type": "code",
   "execution_count": 2,
   "metadata": {},
   "outputs": [],
   "source": [
    "OUTPUT_PATH = '../../output_data/'"
   ]
  },
  {
   "cell_type": "markdown",
   "metadata": {},
   "source": [
    "## Load Nodes"
   ]
  },
  {
   "cell_type": "code",
   "execution_count": 13,
   "metadata": {},
   "outputs": [
    {
     "name": "stdout",
     "output_type": "stream",
     "text": [
      "Loading nodes from file ../../output_data/single_trip_nodes.pkl\n"
     ]
    },
    {
     "data": {
      "text/html": [
       "<div>\n",
       "<style scoped>\n",
       "    .dataframe tbody tr th:only-of-type {\n",
       "        vertical-align: middle;\n",
       "    }\n",
       "\n",
       "    .dataframe tbody tr th {\n",
       "        vertical-align: top;\n",
       "    }\n",
       "\n",
       "    .dataframe thead th {\n",
       "        text-align: right;\n",
       "    }\n",
       "</style>\n",
       "<table border=\"1\" class=\"dataframe\">\n",
       "  <thead>\n",
       "    <tr style=\"text-align: right;\">\n",
       "      <th></th>\n",
       "      <th>index</th>\n",
       "      <th>trip_id</th>\n",
       "      <th>arrival_time</th>\n",
       "      <th>departure_time_stop</th>\n",
       "      <th>stop_id</th>\n",
       "      <th>stop_sequence</th>\n",
       "      <th>route_id</th>\n",
       "      <th>trip_headsign</th>\n",
       "      <th>departure_time_trip_departure</th>\n",
       "      <th>stop_code</th>\n",
       "      <th>stop_lat</th>\n",
       "      <th>stop_lon</th>\n",
       "      <th>arrival</th>\n",
       "      <th>departure</th>\n",
       "      <th>node_id</th>\n",
       "    </tr>\n",
       "  </thead>\n",
       "  <tbody>\n",
       "    <tr>\n",
       "      <th>0</th>\n",
       "      <td>18</td>\n",
       "      <td>14824097_271019</td>\n",
       "      <td>08:02:40</td>\n",
       "      <td>08:02:40</td>\n",
       "      <td>2356</td>\n",
       "      <td>2</td>\n",
       "      <td>1606</td>\n",
       "      <td>נוף הגליל_שלום</td>\n",
       "      <td>08:00:00</td>\n",
       "      <td>41476</td>\n",
       "      <td>32.793214</td>\n",
       "      <td>35.038925</td>\n",
       "      <td>2019-11-03 08:02:40</td>\n",
       "      <td>2019-11-03 08:02:40</td>\n",
       "      <td>0</td>\n",
       "    </tr>\n",
       "    <tr>\n",
       "      <th>54</th>\n",
       "      <td>573</td>\n",
       "      <td>14824097_271019</td>\n",
       "      <td>08:04:32</td>\n",
       "      <td>08:04:32</td>\n",
       "      <td>3869</td>\n",
       "      <td>3</td>\n",
       "      <td>1606</td>\n",
       "      <td>נוף הגליל_שלום</td>\n",
       "      <td>08:00:00</td>\n",
       "      <td>43007</td>\n",
       "      <td>32.799882</td>\n",
       "      <td>35.050769</td>\n",
       "      <td>2019-11-03 08:04:32</td>\n",
       "      <td>2019-11-03 08:04:32</td>\n",
       "      <td>54</td>\n",
       "    </tr>\n",
       "    <tr>\n",
       "      <th>106</th>\n",
       "      <td>1099</td>\n",
       "      <td>14824097_271019</td>\n",
       "      <td>08:06:27</td>\n",
       "      <td>08:06:27</td>\n",
       "      <td>2357</td>\n",
       "      <td>4</td>\n",
       "      <td>1606</td>\n",
       "      <td>נוף הגליל_שלום</td>\n",
       "      <td>08:00:00</td>\n",
       "      <td>41477</td>\n",
       "      <td>32.805789</td>\n",
       "      <td>35.056577</td>\n",
       "      <td>2019-11-03 08:06:27</td>\n",
       "      <td>2019-11-03 08:06:27</td>\n",
       "      <td>106</td>\n",
       "    </tr>\n",
       "  </tbody>\n",
       "</table>\n",
       "</div>"
      ],
      "text/plain": [
       "     index          trip_id arrival_time departure_time_stop  stop_id  \\\n",
       "0       18  14824097_271019     08:02:40            08:02:40     2356   \n",
       "54     573  14824097_271019     08:04:32            08:04:32     3869   \n",
       "106   1099  14824097_271019     08:06:27            08:06:27     2357   \n",
       "\n",
       "     stop_sequence  route_id   trip_headsign departure_time_trip_departure  \\\n",
       "0                2      1606  נוף הגליל_שלום                      08:00:00   \n",
       "54               3      1606  נוף הגליל_שלום                      08:00:00   \n",
       "106              4      1606  נוף הגליל_שלום                      08:00:00   \n",
       "\n",
       "     stop_code   stop_lat   stop_lon             arrival           departure  \\\n",
       "0        41476  32.793214  35.038925 2019-11-03 08:02:40 2019-11-03 08:02:40   \n",
       "54       43007  32.799882  35.050769 2019-11-03 08:04:32 2019-11-03 08:04:32   \n",
       "106      41477  32.805789  35.056577 2019-11-03 08:06:27 2019-11-03 08:06:27   \n",
       "\n",
       "     node_id  \n",
       "0          0  \n",
       "54        54  \n",
       "106      106  "
      ]
     },
     "execution_count": 13,
     "metadata": {},
     "output_type": "execute_result"
    }
   ],
   "source": [
    "# Load nodes\n",
    "# FILES_PREFIX = 'morning'\n",
    "FILES_PREFIX = 'single_trip'\n",
    "file_name = OUTPUT_PATH + FILES_PREFIX + '_nodes.pkl'\n",
    "print(f'Loading nodes from file {file_name}')\n",
    "nodes_df = pd.read_pickle(file_name)\n",
    "nodes_df.head(3)"
   ]
  },
  {
   "cell_type": "markdown",
   "metadata": {},
   "source": [
    "## Compute Direct Edges"
   ]
  },
  {
   "cell_type": "code",
   "execution_count": 14,
   "metadata": {},
   "outputs": [],
   "source": [
    "# First we verify that the stops in each trip are consecutive\n",
    "\n",
    "tmp_df = nodes_df\n",
    "\n",
    "def verify_consective(l):\n",
    "    if sorted(list(l)) != list(range(min(l), max(l)+1)):\n",
    "        print('Found non-consecutive stop sequence')\n",
    "        raise Exception('NON CONSECUTIVE STOP SEQUENCE')"
   ]
  },
  {
   "cell_type": "code",
   "execution_count": 15,
   "metadata": {},
   "outputs": [
    {
     "data": {
      "text/html": [
       "<div>\n",
       "<style scoped>\n",
       "    .dataframe tbody tr th:only-of-type {\n",
       "        vertical-align: middle;\n",
       "    }\n",
       "\n",
       "    .dataframe tbody tr th {\n",
       "        vertical-align: top;\n",
       "    }\n",
       "\n",
       "    .dataframe thead th {\n",
       "        text-align: right;\n",
       "    }\n",
       "</style>\n",
       "<table border=\"1\" class=\"dataframe\">\n",
       "  <thead>\n",
       "    <tr style=\"text-align: right;\">\n",
       "      <th></th>\n",
       "    </tr>\n",
       "  </thead>\n",
       "  <tbody>\n",
       "  </tbody>\n",
       "</table>\n",
       "</div>"
      ],
      "text/plain": [
       "Empty DataFrame\n",
       "Columns: []\n",
       "Index: []"
      ]
     },
     "execution_count": 15,
     "metadata": {},
     "output_type": "execute_result"
    }
   ],
   "source": [
    "tmp_df[['trip_id', 'stop_sequence']].groupby('trip_id').apply(lambda x: verify_consective(x.stop_sequence))"
   ]
  },
  {
   "cell_type": "code",
   "execution_count": 16,
   "metadata": {},
   "outputs": [],
   "source": [
    "del tmp_df"
   ]
  },
  {
   "cell_type": "markdown",
   "metadata": {},
   "source": [
    "No exception -> all stops are consecutive, we can resume"
   ]
  },
  {
   "cell_type": "code",
   "execution_count": 17,
   "metadata": {},
   "outputs": [],
   "source": [
    "def create_direct_edges_for_trip(x):\n",
    "    # TODO: Save node_id instead of index\n",
    "    for index, node in x.iterrows():\n",
    "        stop_seq = node['stop_sequence']\n",
    "        # For the same trip we want to take the next node\n",
    "        next_node = x[x['stop_sequence'] == stop_seq + 1]\n",
    "        if next_node.shape[0] == 0:\n",
    "            # This is the last node of the current trip, no outgoing edge\n",
    "            continue\n",
    "        assert next_node.shape[0] == 1\n",
    "\n",
    "        w = ((next_node['departure'] - node['arrival'])).values[0] / np.timedelta64(1, 's')\n",
    "        d_edge = (node['node_id'], next_node['node_id'].values[0], w)\n",
    "        direct_edges.add(d_edge)"
   ]
  },
  {
   "cell_type": "markdown",
   "metadata": {},
   "source": [
    "<span style=\"background-color: #F1D9F9\">TODO: make this multiprocessed: group by trip_id, and then split the data to batches of groups (trips). For each group we will apply the 'create direct edges' using a pool. We need to make sure that directed_edges is thread/process-safe.</span>"
   ]
  },
  {
   "cell_type": "code",
   "execution_count": 18,
   "metadata": {},
   "outputs": [
    {
     "data": {
      "application/vnd.jupyter.widget-view+json": {
       "model_id": "021819130b4c4bb19b9509dab19520c4",
       "version_major": 2,
       "version_minor": 0
      },
      "text/plain": [
       "HBox(children=(IntProgress(value=0, max=1), HTML(value='')))"
      ]
     },
     "metadata": {},
     "output_type": "display_data"
    },
    {
     "data": {
      "text/html": [
       "<div>\n",
       "<style scoped>\n",
       "    .dataframe tbody tr th:only-of-type {\n",
       "        vertical-align: middle;\n",
       "    }\n",
       "\n",
       "    .dataframe tbody tr th {\n",
       "        vertical-align: top;\n",
       "    }\n",
       "\n",
       "    .dataframe thead th {\n",
       "        text-align: right;\n",
       "    }\n",
       "</style>\n",
       "<table border=\"1\" class=\"dataframe\">\n",
       "  <thead>\n",
       "    <tr style=\"text-align: right;\">\n",
       "      <th></th>\n",
       "    </tr>\n",
       "  </thead>\n",
       "  <tbody>\n",
       "  </tbody>\n",
       "</table>\n",
       "</div>"
      ],
      "text/plain": [
       "Empty DataFrame\n",
       "Columns: []\n",
       "Index: []"
      ]
     },
     "execution_count": 18,
     "metadata": {},
     "output_type": "execute_result"
    }
   ],
   "source": [
    "# For each trip (grouping by trip), create edges for this trip's consecutive nodes.\n",
    "from tqdm.auto import tqdm\n",
    "tqdm.pandas()\n",
    "\n",
    "direct_edges = set()\n",
    "nodes_df[['node_id', 'trip_id', 'stop_sequence', 'arrival', 'departure']].groupby('trip_id').progress_apply(create_direct_edges_for_trip)"
   ]
  },
  {
   "cell_type": "code",
   "execution_count": 19,
   "metadata": {},
   "outputs": [
    {
     "data": {
      "text/plain": [
       "59"
      ]
     },
     "execution_count": 19,
     "metadata": {},
     "output_type": "execute_result"
    }
   ],
   "source": [
    "len(direct_edges)"
   ]
  },
  {
   "cell_type": "code",
   "execution_count": 20,
   "metadata": {},
   "outputs": [],
   "source": [
    "with open(OUTPUT_PATH + FILES_PREFIX + '_direct_edges.pkl', 'wb') as f:\n",
    "    pickle.dump(direct_edges, f)"
   ]
  },
  {
   "cell_type": "code",
   "execution_count": null,
   "metadata": {},
   "outputs": [],
   "source": []
  }
 ],
 "metadata": {
  "kernelspec": {
   "display_name": "Python 3",
   "language": "python",
   "name": "python3"
  },
  "language_info": {
   "codemirror_mode": {
    "name": "ipython",
    "version": 3
   },
   "file_extension": ".py",
   "mimetype": "text/x-python",
   "name": "python",
   "nbconvert_exporter": "python",
   "pygments_lexer": "ipython3",
   "version": "3.6.4"
  }
 },
 "nbformat": 4,
 "nbformat_minor": 2
}
