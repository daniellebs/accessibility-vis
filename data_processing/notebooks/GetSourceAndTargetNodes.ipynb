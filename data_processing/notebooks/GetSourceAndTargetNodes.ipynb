{
 "cells": [
  {
   "cell_type": "code",
   "execution_count": 18,
   "metadata": {},
   "outputs": [],
   "source": [
    "import pandas as pd\n",
    "import numpy as np\n",
    "import datetime as dt\n",
    "import pickle\n",
    "\n",
    "DATA_PATH = '../../input_data/GTFS-28-Oct-19/'\n",
    "OUTPUT_PATH = '../../output_data/'"
   ]
  },
  {
   "cell_type": "code",
   "execution_count": 2,
   "metadata": {},
   "outputs": [],
   "source": [
    "DAY = dt.datetime(2019, 11, 3)"
   ]
  },
  {
   "cell_type": "markdown",
   "metadata": {},
   "source": [
    "## Load Nodes"
   ]
  },
  {
   "cell_type": "code",
   "execution_count": 3,
   "metadata": {},
   "outputs": [
    {
     "name": "stdout",
     "output_type": "stream",
     "text": [
      "Loading nodes from file ../../output_data/morning_nodes.pkl\n"
     ]
    },
    {
     "data": {
      "text/html": [
       "<div>\n",
       "<style scoped>\n",
       "    .dataframe tbody tr th:only-of-type {\n",
       "        vertical-align: middle;\n",
       "    }\n",
       "\n",
       "    .dataframe tbody tr th {\n",
       "        vertical-align: top;\n",
       "    }\n",
       "\n",
       "    .dataframe thead th {\n",
       "        text-align: right;\n",
       "    }\n",
       "</style>\n",
       "<table border=\"1\" class=\"dataframe\">\n",
       "  <thead>\n",
       "    <tr style=\"text-align: right;\">\n",
       "      <th></th>\n",
       "      <th>index</th>\n",
       "      <th>trip_id</th>\n",
       "      <th>arrival_time</th>\n",
       "      <th>departure_time_stop</th>\n",
       "      <th>stop_id</th>\n",
       "      <th>stop_sequence</th>\n",
       "      <th>route_id</th>\n",
       "      <th>trip_headsign</th>\n",
       "      <th>departure_time_trip_departure</th>\n",
       "      <th>stop_code</th>\n",
       "      <th>stop_lat</th>\n",
       "      <th>stop_lon</th>\n",
       "      <th>arrival</th>\n",
       "      <th>departure</th>\n",
       "      <th>node_id</th>\n",
       "    </tr>\n",
       "  </thead>\n",
       "  <tbody>\n",
       "    <tr>\n",
       "      <th>0</th>\n",
       "      <td>18</td>\n",
       "      <td>14824097_271019</td>\n",
       "      <td>08:02:40</td>\n",
       "      <td>08:02:40</td>\n",
       "      <td>2356</td>\n",
       "      <td>2</td>\n",
       "      <td>1606</td>\n",
       "      <td>נוף הגליל_שלום</td>\n",
       "      <td>08:00:00</td>\n",
       "      <td>41476</td>\n",
       "      <td>32.793214</td>\n",
       "      <td>35.038925</td>\n",
       "      <td>2019-11-03 08:02:40</td>\n",
       "      <td>2019-11-03 08:02:40</td>\n",
       "      <td>0</td>\n",
       "    </tr>\n",
       "    <tr>\n",
       "      <th>1</th>\n",
       "      <td>19</td>\n",
       "      <td>14824098_271019</td>\n",
       "      <td>09:02:40</td>\n",
       "      <td>09:02:40</td>\n",
       "      <td>2356</td>\n",
       "      <td>2</td>\n",
       "      <td>1606</td>\n",
       "      <td>נוף הגליל_שלום</td>\n",
       "      <td>09:00:00</td>\n",
       "      <td>41476</td>\n",
       "      <td>32.793214</td>\n",
       "      <td>35.038925</td>\n",
       "      <td>2019-11-03 09:02:40</td>\n",
       "      <td>2019-11-03 09:02:40</td>\n",
       "      <td>1</td>\n",
       "    </tr>\n",
       "    <tr>\n",
       "      <th>2</th>\n",
       "      <td>36</td>\n",
       "      <td>19590744_271019</td>\n",
       "      <td>08:14:17</td>\n",
       "      <td>08:14:17</td>\n",
       "      <td>2356</td>\n",
       "      <td>2</td>\n",
       "      <td>16379</td>\n",
       "      <td>טבריה_תחנה מרכזית</td>\n",
       "      <td>08:10:00</td>\n",
       "      <td>41476</td>\n",
       "      <td>32.793214</td>\n",
       "      <td>35.038925</td>\n",
       "      <td>2019-11-03 08:14:17</td>\n",
       "      <td>2019-11-03 08:14:17</td>\n",
       "      <td>2</td>\n",
       "    </tr>\n",
       "  </tbody>\n",
       "</table>\n",
       "</div>"
      ],
      "text/plain": [
       "   index          trip_id arrival_time departure_time_stop  stop_id  \\\n",
       "0     18  14824097_271019     08:02:40            08:02:40     2356   \n",
       "1     19  14824098_271019     09:02:40            09:02:40     2356   \n",
       "2     36  19590744_271019     08:14:17            08:14:17     2356   \n",
       "\n",
       "   stop_sequence  route_id      trip_headsign departure_time_trip_departure  \\\n",
       "0              2      1606     נוף הגליל_שלום                      08:00:00   \n",
       "1              2      1606     נוף הגליל_שלום                      09:00:00   \n",
       "2              2     16379  טבריה_תחנה מרכזית                      08:10:00   \n",
       "\n",
       "   stop_code   stop_lat   stop_lon             arrival           departure  \\\n",
       "0      41476  32.793214  35.038925 2019-11-03 08:02:40 2019-11-03 08:02:40   \n",
       "1      41476  32.793214  35.038925 2019-11-03 09:02:40 2019-11-03 09:02:40   \n",
       "2      41476  32.793214  35.038925 2019-11-03 08:14:17 2019-11-03 08:14:17   \n",
       "\n",
       "   node_id  \n",
       "0        0  \n",
       "1        1  \n",
       "2        2  "
      ]
     },
     "execution_count": 3,
     "metadata": {},
     "output_type": "execute_result"
    }
   ],
   "source": [
    "FILES_PREFIX = 'morning'\n",
    "file_name = OUTPUT_PATH + FILES_PREFIX + '_nodes.pkl'\n",
    "print(f'Loading nodes from file {file_name}')\n",
    "nodes_df = pd.read_pickle(file_name)\n",
    "nodes_df.head(3)"
   ]
  },
  {
   "cell_type": "code",
   "execution_count": 4,
   "metadata": {},
   "outputs": [
    {
     "data": {
      "text/plain": [
       "(325870, 15)"
      ]
     },
     "execution_count": 4,
     "metadata": {},
     "output_type": "execute_result"
    }
   ],
   "source": [
    "nodes_df.shape"
   ]
  },
  {
   "cell_type": "markdown",
   "metadata": {},
   "source": [
    "## Get Source Nodes"
   ]
  },
  {
   "cell_type": "code",
   "execution_count": 31,
   "metadata": {},
   "outputs": [],
   "source": [
    "t = DAY+dt.timedelta(hours=8, minutes=25)\n",
    "source_nodes_df = nodes_df[nodes_df['departure'] < t]"
   ]
  },
  {
   "cell_type": "code",
   "execution_count": 32,
   "metadata": {},
   "outputs": [
    {
     "data": {
      "text/plain": [
       "(96674, 15)"
      ]
     },
     "execution_count": 32,
     "metadata": {},
     "output_type": "execute_result"
    }
   ],
   "source": [
    "source_nodes_df.shape"
   ]
  },
  {
   "cell_type": "code",
   "execution_count": 33,
   "metadata": {},
   "outputs": [],
   "source": [
    "start_time = str(t).split(' ')[1].replace(':','')"
   ]
  },
  {
   "cell_type": "code",
   "execution_count": 34,
   "metadata": {},
   "outputs": [],
   "source": [
    "source_nodes = list(source_nodes_df['node_id'])"
   ]
  },
  {
   "cell_type": "code",
   "execution_count": 38,
   "metadata": {},
   "outputs": [],
   "source": [
    "source_nodes = [str(n) for n in source_nodes]"
   ]
  },
  {
   "cell_type": "code",
   "execution_count": 39,
   "metadata": {},
   "outputs": [
    {
     "data": {
      "text/plain": [
       "96674"
      ]
     },
     "execution_count": 39,
     "metadata": {},
     "output_type": "execute_result"
    }
   ],
   "source": [
    "len(source_nodes)"
   ]
  },
  {
   "cell_type": "code",
   "execution_count": 19,
   "metadata": {},
   "outputs": [],
   "source": [
    "with open(OUTPUT_PATH + 'source_nodes.pkl', 'wb') as f:\n",
    "    pickle.dump(source_nodes, f)"
   ]
  },
  {
   "cell_type": "markdown",
   "metadata": {},
   "source": [
    "## Get Target Nodes"
   ]
  },
  {
   "cell_type": "code",
   "execution_count": 21,
   "metadata": {},
   "outputs": [
    {
     "data": {
      "text/plain": [
       "Timestamp('2019-11-03 08:00:01')"
      ]
     },
     "execution_count": 21,
     "metadata": {},
     "output_type": "execute_result"
    }
   ],
   "source": [
    "nodes_df['arrival'].min()"
   ]
  },
  {
   "cell_type": "code",
   "execution_count": 20,
   "metadata": {},
   "outputs": [
    {
     "data": {
      "text/plain": [
       "Timestamp('2019-11-03 09:29:59')"
      ]
     },
     "execution_count": 20,
     "metadata": {},
     "output_type": "execute_result"
    }
   ],
   "source": [
    "nodes_df['arrival'].max()"
   ]
  },
  {
   "cell_type": "code",
   "execution_count": 22,
   "metadata": {},
   "outputs": [
    {
     "name": "stderr",
     "output_type": "stream",
     "text": [
      "d:\\users\\bensdani\\venvs\\lib\\site-packages\\ipykernel_launcher.py:3: UserWarning: Boolean Series key will be reindexed to match DataFrame index.\n",
      "  This is separate from the ipykernel package so we can avoid doing imports until\n"
     ]
    }
   ],
   "source": [
    "earliest_arrival_t = DAY+dt.timedelta(hours=8, minutes=45)\n",
    "latest_arrival_t = DAY+dt.timedelta(hours=9, minutes=10)\n",
    "target_nodes_df = nodes_df[nodes_df['arrival'] > earliest_arrival_t][nodes_df['arrival'] < latest_arrival_t]"
   ]
  },
  {
   "cell_type": "code",
   "execution_count": 23,
   "metadata": {},
   "outputs": [
    {
     "data": {
      "text/plain": [
       "Timestamp('2019-11-03 08:45:01')"
      ]
     },
     "execution_count": 23,
     "metadata": {},
     "output_type": "execute_result"
    }
   ],
   "source": [
    "target_nodes_df['arrival'].min()"
   ]
  },
  {
   "cell_type": "code",
   "execution_count": 24,
   "metadata": {},
   "outputs": [
    {
     "data": {
      "text/plain": [
       "Timestamp('2019-11-03 09:09:59')"
      ]
     },
     "execution_count": 24,
     "metadata": {},
     "output_type": "execute_result"
    }
   ],
   "source": [
    "target_nodes_df['arrival'].max()"
   ]
  },
  {
   "cell_type": "code",
   "execution_count": 26,
   "metadata": {},
   "outputs": [
    {
     "data": {
      "text/html": [
       "<div>\n",
       "<style scoped>\n",
       "    .dataframe tbody tr th:only-of-type {\n",
       "        vertical-align: middle;\n",
       "    }\n",
       "\n",
       "    .dataframe tbody tr th {\n",
       "        vertical-align: top;\n",
       "    }\n",
       "\n",
       "    .dataframe thead th {\n",
       "        text-align: right;\n",
       "    }\n",
       "</style>\n",
       "<table border=\"1\" class=\"dataframe\">\n",
       "  <thead>\n",
       "    <tr style=\"text-align: right;\">\n",
       "      <th></th>\n",
       "      <th>index</th>\n",
       "      <th>trip_id</th>\n",
       "      <th>arrival_time</th>\n",
       "      <th>departure_time_stop</th>\n",
       "      <th>stop_id</th>\n",
       "      <th>stop_sequence</th>\n",
       "      <th>route_id</th>\n",
       "      <th>trip_headsign</th>\n",
       "      <th>departure_time_trip_departure</th>\n",
       "      <th>stop_code</th>\n",
       "      <th>stop_lat</th>\n",
       "      <th>stop_lon</th>\n",
       "      <th>arrival</th>\n",
       "      <th>departure</th>\n",
       "      <th>node_id</th>\n",
       "    </tr>\n",
       "  </thead>\n",
       "  <tbody>\n",
       "    <tr>\n",
       "      <th>1</th>\n",
       "      <td>19</td>\n",
       "      <td>14824098_271019</td>\n",
       "      <td>09:02:40</td>\n",
       "      <td>09:02:40</td>\n",
       "      <td>2356</td>\n",
       "      <td>2</td>\n",
       "      <td>1606</td>\n",
       "      <td>נוף הגליל_שלום</td>\n",
       "      <td>09:00:00</td>\n",
       "      <td>41476</td>\n",
       "      <td>32.793214</td>\n",
       "      <td>35.038925</td>\n",
       "      <td>2019-11-03 09:02:40</td>\n",
       "      <td>2019-11-03 09:02:40</td>\n",
       "      <td>1</td>\n",
       "    </tr>\n",
       "    <tr>\n",
       "      <th>6</th>\n",
       "      <td>63</td>\n",
       "      <td>24004510_271019</td>\n",
       "      <td>08:54:09</td>\n",
       "      <td>08:54:09</td>\n",
       "      <td>2356</td>\n",
       "      <td>2</td>\n",
       "      <td>4418</td>\n",
       "      <td>כרמיאל_גבעת רם</td>\n",
       "      <td>08:50:00</td>\n",
       "      <td>41476</td>\n",
       "      <td>32.793214</td>\n",
       "      <td>35.038925</td>\n",
       "      <td>2019-11-03 08:54:09</td>\n",
       "      <td>2019-11-03 08:54:09</td>\n",
       "      <td>6</td>\n",
       "    </tr>\n",
       "    <tr>\n",
       "      <th>9</th>\n",
       "      <td>88</td>\n",
       "      <td>24961335_271019</td>\n",
       "      <td>08:47:40</td>\n",
       "      <td>08:47:40</td>\n",
       "      <td>2356</td>\n",
       "      <td>2</td>\n",
       "      <td>17720</td>\n",
       "      <td>אבו סנאן_מרכז</td>\n",
       "      <td>08:45:00</td>\n",
       "      <td>41476</td>\n",
       "      <td>32.793214</td>\n",
       "      <td>35.038925</td>\n",
       "      <td>2019-11-03 08:47:40</td>\n",
       "      <td>2019-11-03 08:47:40</td>\n",
       "      <td>9</td>\n",
       "    </tr>\n",
       "    <tr>\n",
       "      <th>11</th>\n",
       "      <td>104</td>\n",
       "      <td>25337104_271019</td>\n",
       "      <td>08:46:45</td>\n",
       "      <td>08:46:45</td>\n",
       "      <td>2356</td>\n",
       "      <td>17</td>\n",
       "      <td>4155</td>\n",
       "      <td>קרית מוצקין_מרכזית הקריות</td>\n",
       "      <td>08:25:00</td>\n",
       "      <td>41476</td>\n",
       "      <td>32.793214</td>\n",
       "      <td>35.038925</td>\n",
       "      <td>2019-11-03 08:46:45</td>\n",
       "      <td>2019-11-03 08:46:45</td>\n",
       "      <td>11</td>\n",
       "    </tr>\n",
       "    <tr>\n",
       "      <th>16</th>\n",
       "      <td>187</td>\n",
       "      <td>25344253_271019</td>\n",
       "      <td>08:47:47</td>\n",
       "      <td>08:47:47</td>\n",
       "      <td>2356</td>\n",
       "      <td>45</td>\n",
       "      <td>11293</td>\n",
       "      <td>צומת</td>\n",
       "      <td>07:54:00</td>\n",
       "      <td>41476</td>\n",
       "      <td>32.793214</td>\n",
       "      <td>35.038925</td>\n",
       "      <td>2019-11-03 08:47:47</td>\n",
       "      <td>2019-11-03 08:47:47</td>\n",
       "      <td>16</td>\n",
       "    </tr>\n",
       "  </tbody>\n",
       "</table>\n",
       "</div>"
      ],
      "text/plain": [
       "    index          trip_id arrival_time departure_time_stop  stop_id  \\\n",
       "1      19  14824098_271019     09:02:40            09:02:40     2356   \n",
       "6      63  24004510_271019     08:54:09            08:54:09     2356   \n",
       "9      88  24961335_271019     08:47:40            08:47:40     2356   \n",
       "11    104  25337104_271019     08:46:45            08:46:45     2356   \n",
       "16    187  25344253_271019     08:47:47            08:47:47     2356   \n",
       "\n",
       "    stop_sequence  route_id              trip_headsign  \\\n",
       "1               2      1606             נוף הגליל_שלום   \n",
       "6               2      4418             כרמיאל_גבעת רם   \n",
       "9               2     17720              אבו סנאן_מרכז   \n",
       "11             17      4155  קרית מוצקין_מרכזית הקריות   \n",
       "16             45     11293                       צומת   \n",
       "\n",
       "   departure_time_trip_departure  stop_code   stop_lat   stop_lon  \\\n",
       "1                       09:00:00      41476  32.793214  35.038925   \n",
       "6                       08:50:00      41476  32.793214  35.038925   \n",
       "9                       08:45:00      41476  32.793214  35.038925   \n",
       "11                      08:25:00      41476  32.793214  35.038925   \n",
       "16                      07:54:00      41476  32.793214  35.038925   \n",
       "\n",
       "               arrival           departure  node_id  \n",
       "1  2019-11-03 09:02:40 2019-11-03 09:02:40        1  \n",
       "6  2019-11-03 08:54:09 2019-11-03 08:54:09        6  \n",
       "9  2019-11-03 08:47:40 2019-11-03 08:47:40        9  \n",
       "11 2019-11-03 08:46:45 2019-11-03 08:46:45       11  \n",
       "16 2019-11-03 08:47:47 2019-11-03 08:47:47       16  "
      ]
     },
     "execution_count": 26,
     "metadata": {},
     "output_type": "execute_result"
    }
   ],
   "source": [
    "target_nodes_df.head()"
   ]
  },
  {
   "cell_type": "code",
   "execution_count": 27,
   "metadata": {},
   "outputs": [],
   "source": [
    "target_nodes = list(target_nodes_df['node_id'])"
   ]
  },
  {
   "cell_type": "code",
   "execution_count": 36,
   "metadata": {},
   "outputs": [],
   "source": [
    "target_nodes = [str(n) for n in target_nodes]"
   ]
  },
  {
   "cell_type": "code",
   "execution_count": 37,
   "metadata": {},
   "outputs": [],
   "source": [
    "with open(OUTPUT_PATH + 'target_nodes.pkl', 'wb') as f:\n",
    "    pickle.dump(target_nodes, f)"
   ]
  },
  {
   "cell_type": "code",
   "execution_count": 29,
   "metadata": {},
   "outputs": [
    {
     "data": {
      "text/plain": [
       "87832"
      ]
     },
     "execution_count": 29,
     "metadata": {},
     "output_type": "execute_result"
    }
   ],
   "source": [
    "len(target_nodes)"
   ]
  },
  {
   "cell_type": "code",
   "execution_count": null,
   "metadata": {},
   "outputs": [],
   "source": []
  }
 ],
 "metadata": {
  "kernelspec": {
   "display_name": "Python 3",
   "language": "python",
   "name": "python3"
  },
  "language_info": {
   "codemirror_mode": {
    "name": "ipython",
    "version": 3
   },
   "file_extension": ".py",
   "mimetype": "text/x-python",
   "name": "python",
   "nbconvert_exporter": "python",
   "pygments_lexer": "ipython3",
   "version": "3.6.4"
  }
 },
 "nbformat": 4,
 "nbformat_minor": 2
}
