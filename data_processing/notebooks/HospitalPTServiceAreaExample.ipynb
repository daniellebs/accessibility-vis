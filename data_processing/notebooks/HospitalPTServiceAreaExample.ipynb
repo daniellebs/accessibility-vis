{
 "cells": [
  {
   "cell_type": "code",
   "execution_count": 19,
   "metadata": {},
   "outputs": [],
   "source": [
    "import pickle\n",
    "import pandas as pd\n",
    "import os\n",
    "from tqdm import tqdm_notebook"
   ]
  },
  {
   "cell_type": "code",
   "execution_count": 16,
   "metadata": {},
   "outputs": [
    {
     "data": {
      "text/html": [
       "<div>\n",
       "<style scoped>\n",
       "    .dataframe tbody tr th:only-of-type {\n",
       "        vertical-align: middle;\n",
       "    }\n",
       "\n",
       "    .dataframe tbody tr th {\n",
       "        vertical-align: top;\n",
       "    }\n",
       "\n",
       "    .dataframe thead th {\n",
       "        text-align: right;\n",
       "    }\n",
       "</style>\n",
       "<table border=\"1\" class=\"dataframe\">\n",
       "  <thead>\n",
       "    <tr style=\"text-align: right;\">\n",
       "      <th></th>\n",
       "      <th>stop_id_source</th>\n",
       "      <th>stop_id_target</th>\n",
       "      <th>time_sec</th>\n",
       "      <th>stop_lon_target</th>\n",
       "      <th>stop_lat_target</th>\n",
       "      <th>arrival_target</th>\n",
       "      <th>stop_lon_source</th>\n",
       "      <th>stop_lat_source</th>\n",
       "      <th>departure</th>\n",
       "    </tr>\n",
       "  </thead>\n",
       "  <tbody>\n",
       "    <tr>\n",
       "      <th>0</th>\n",
       "      <td>12867</td>\n",
       "      <td>3</td>\n",
       "      <td>2625.0</td>\n",
       "      <td>34.782828</td>\n",
       "      <td>31.984553</td>\n",
       "      <td>2019-11-03 08:11:42</td>\n",
       "      <td>34.833799</td>\n",
       "      <td>32.054798</td>\n",
       "      <td>2019-11-03 08:55:27</td>\n",
       "    </tr>\n",
       "    <tr>\n",
       "      <th>1</th>\n",
       "      <td>12867</td>\n",
       "      <td>6</td>\n",
       "      <td>2422.0</td>\n",
       "      <td>34.898110</td>\n",
       "      <td>31.956678</td>\n",
       "      <td>2019-11-03 08:15:05</td>\n",
       "      <td>34.833799</td>\n",
       "      <td>32.054798</td>\n",
       "      <td>2019-11-03 08:55:27</td>\n",
       "    </tr>\n",
       "    <tr>\n",
       "      <th>2</th>\n",
       "      <td>12867</td>\n",
       "      <td>8</td>\n",
       "      <td>3230.0</td>\n",
       "      <td>34.824106</td>\n",
       "      <td>31.857565</td>\n",
       "      <td>2019-11-03 08:01:37</td>\n",
       "      <td>34.833799</td>\n",
       "      <td>32.054798</td>\n",
       "      <td>2019-11-03 08:55:27</td>\n",
       "    </tr>\n",
       "    <tr>\n",
       "      <th>3</th>\n",
       "      <td>12867</td>\n",
       "      <td>9</td>\n",
       "      <td>3153.0</td>\n",
       "      <td>34.821857</td>\n",
       "      <td>31.862305</td>\n",
       "      <td>2019-11-03 08:02:54</td>\n",
       "      <td>34.833799</td>\n",
       "      <td>32.054798</td>\n",
       "      <td>2019-11-03 08:55:27</td>\n",
       "    </tr>\n",
       "    <tr>\n",
       "      <th>4</th>\n",
       "      <td>12867</td>\n",
       "      <td>10</td>\n",
       "      <td>3101.0</td>\n",
       "      <td>34.822237</td>\n",
       "      <td>31.865085</td>\n",
       "      <td>2019-11-03 08:03:46</td>\n",
       "      <td>34.833799</td>\n",
       "      <td>32.054798</td>\n",
       "      <td>2019-11-03 08:55:27</td>\n",
       "    </tr>\n",
       "  </tbody>\n",
       "</table>\n",
       "</div>"
      ],
      "text/plain": [
       "   stop_id_source  stop_id_target  time_sec  stop_lon_target  stop_lat_target  \\\n",
       "0           12867               3    2625.0        34.782828        31.984553   \n",
       "1           12867               6    2422.0        34.898110        31.956678   \n",
       "2           12867               8    3230.0        34.824106        31.857565   \n",
       "3           12867               9    3153.0        34.821857        31.862305   \n",
       "4           12867              10    3101.0        34.822237        31.865085   \n",
       "\n",
       "       arrival_target  stop_lon_source  stop_lat_source           departure  \n",
       "0 2019-11-03 08:11:42        34.833799        32.054798 2019-11-03 08:55:27  \n",
       "1 2019-11-03 08:15:05        34.833799        32.054798 2019-11-03 08:55:27  \n",
       "2 2019-11-03 08:01:37        34.833799        32.054798 2019-11-03 08:55:27  \n",
       "3 2019-11-03 08:02:54        34.833799        32.054798 2019-11-03 08:55:27  \n",
       "4 2019-11-03 08:03:46        34.833799        32.054798 2019-11-03 08:55:27  "
      ]
     },
     "execution_count": 16,
     "metadata": {},
     "output_type": "execute_result"
    }
   ],
   "source": [
    "# Single_example\n",
    "filename = '../../output_data/sa_13341-14033.pkl'\n",
    "sample = pd.read_pickle(filename).head()\n",
    "sample\n"
   ]
  },
  {
   "cell_type": "code",
   "execution_count": 12,
   "metadata": {},
   "outputs": [
    {
     "data": {
      "text/plain": [
       "False"
      ]
     },
     "execution_count": 12,
     "metadata": {},
     "output_type": "execute_result"
    }
   ],
   "source": [
    "2040 in set(a['stop_id_target'])"
   ]
  },
  {
   "cell_type": "code",
   "execution_count": 14,
   "metadata": {},
   "outputs": [
    {
     "data": {
      "text/html": [
       "<div>\n",
       "<style scoped>\n",
       "    .dataframe tbody tr th:only-of-type {\n",
       "        vertical-align: middle;\n",
       "    }\n",
       "\n",
       "    .dataframe tbody tr th {\n",
       "        vertical-align: top;\n",
       "    }\n",
       "\n",
       "    .dataframe thead th {\n",
       "        text-align: right;\n",
       "    }\n",
       "</style>\n",
       "<table border=\"1\" class=\"dataframe\">\n",
       "  <thead>\n",
       "    <tr style=\"text-align: right;\">\n",
       "      <th></th>\n",
       "      <th>stop_id_source</th>\n",
       "      <th>stop_id_target</th>\n",
       "      <th>time_sec</th>\n",
       "      <th>stop_lon_target</th>\n",
       "      <th>stop_lat_target</th>\n",
       "      <th>arrival_target</th>\n",
       "      <th>stop_lon_source</th>\n",
       "      <th>stop_lat_source</th>\n",
       "      <th>departure</th>\n",
       "    </tr>\n",
       "  </thead>\n",
       "  <tbody>\n",
       "    <tr>\n",
       "      <th>0</th>\n",
       "      <td>12867</td>\n",
       "      <td>3</td>\n",
       "      <td>2625.0</td>\n",
       "      <td>34.782828</td>\n",
       "      <td>31.984553</td>\n",
       "      <td>2019-11-03 08:11:42</td>\n",
       "      <td>34.833799</td>\n",
       "      <td>32.054798</td>\n",
       "      <td>2019-11-03 08:55:27</td>\n",
       "    </tr>\n",
       "    <tr>\n",
       "      <th>1</th>\n",
       "      <td>12867</td>\n",
       "      <td>6</td>\n",
       "      <td>2422.0</td>\n",
       "      <td>34.898110</td>\n",
       "      <td>31.956678</td>\n",
       "      <td>2019-11-03 08:15:05</td>\n",
       "      <td>34.833799</td>\n",
       "      <td>32.054798</td>\n",
       "      <td>2019-11-03 08:55:27</td>\n",
       "    </tr>\n",
       "    <tr>\n",
       "      <th>2</th>\n",
       "      <td>12867</td>\n",
       "      <td>8</td>\n",
       "      <td>3230.0</td>\n",
       "      <td>34.824106</td>\n",
       "      <td>31.857565</td>\n",
       "      <td>2019-11-03 08:01:37</td>\n",
       "      <td>34.833799</td>\n",
       "      <td>32.054798</td>\n",
       "      <td>2019-11-03 08:55:27</td>\n",
       "    </tr>\n",
       "    <tr>\n",
       "      <th>3</th>\n",
       "      <td>12867</td>\n",
       "      <td>9</td>\n",
       "      <td>3153.0</td>\n",
       "      <td>34.821857</td>\n",
       "      <td>31.862305</td>\n",
       "      <td>2019-11-03 08:02:54</td>\n",
       "      <td>34.833799</td>\n",
       "      <td>32.054798</td>\n",
       "      <td>2019-11-03 08:55:27</td>\n",
       "    </tr>\n",
       "    <tr>\n",
       "      <th>4</th>\n",
       "      <td>12867</td>\n",
       "      <td>10</td>\n",
       "      <td>3101.0</td>\n",
       "      <td>34.822237</td>\n",
       "      <td>31.865085</td>\n",
       "      <td>2019-11-03 08:03:46</td>\n",
       "      <td>34.833799</td>\n",
       "      <td>32.054798</td>\n",
       "      <td>2019-11-03 08:55:27</td>\n",
       "    </tr>\n",
       "    <tr>\n",
       "      <th>0</th>\n",
       "      <td>12867</td>\n",
       "      <td>3</td>\n",
       "      <td>2625.0</td>\n",
       "      <td>34.782828</td>\n",
       "      <td>31.984553</td>\n",
       "      <td>2019-11-03 08:11:42</td>\n",
       "      <td>34.833799</td>\n",
       "      <td>32.054798</td>\n",
       "      <td>2019-11-03 08:55:27</td>\n",
       "    </tr>\n",
       "    <tr>\n",
       "      <th>1</th>\n",
       "      <td>12867</td>\n",
       "      <td>6</td>\n",
       "      <td>2422.0</td>\n",
       "      <td>34.898110</td>\n",
       "      <td>31.956678</td>\n",
       "      <td>2019-11-03 08:15:05</td>\n",
       "      <td>34.833799</td>\n",
       "      <td>32.054798</td>\n",
       "      <td>2019-11-03 08:55:27</td>\n",
       "    </tr>\n",
       "    <tr>\n",
       "      <th>2</th>\n",
       "      <td>12867</td>\n",
       "      <td>8</td>\n",
       "      <td>3230.0</td>\n",
       "      <td>34.824106</td>\n",
       "      <td>31.857565</td>\n",
       "      <td>2019-11-03 08:01:37</td>\n",
       "      <td>34.833799</td>\n",
       "      <td>32.054798</td>\n",
       "      <td>2019-11-03 08:55:27</td>\n",
       "    </tr>\n",
       "    <tr>\n",
       "      <th>3</th>\n",
       "      <td>12867</td>\n",
       "      <td>9</td>\n",
       "      <td>3153.0</td>\n",
       "      <td>34.821857</td>\n",
       "      <td>31.862305</td>\n",
       "      <td>2019-11-03 08:02:54</td>\n",
       "      <td>34.833799</td>\n",
       "      <td>32.054798</td>\n",
       "      <td>2019-11-03 08:55:27</td>\n",
       "    </tr>\n",
       "    <tr>\n",
       "      <th>4</th>\n",
       "      <td>12867</td>\n",
       "      <td>10</td>\n",
       "      <td>3101.0</td>\n",
       "      <td>34.822237</td>\n",
       "      <td>31.865085</td>\n",
       "      <td>2019-11-03 08:03:46</td>\n",
       "      <td>34.833799</td>\n",
       "      <td>32.054798</td>\n",
       "      <td>2019-11-03 08:55:27</td>\n",
       "    </tr>\n",
       "    <tr>\n",
       "      <th>4</th>\n",
       "      <td>12867</td>\n",
       "      <td>10</td>\n",
       "      <td>3101.0</td>\n",
       "      <td>34.822237</td>\n",
       "      <td>31.865085</td>\n",
       "      <td>2019-11-03 08:03:46</td>\n",
       "      <td>34.833799</td>\n",
       "      <td>32.054798</td>\n",
       "      <td>2019-11-03 08:55:27</td>\n",
       "    </tr>\n",
       "    <tr>\n",
       "      <th>4</th>\n",
       "      <td>12867</td>\n",
       "      <td>10</td>\n",
       "      <td>3101.0</td>\n",
       "      <td>34.822237</td>\n",
       "      <td>31.865085</td>\n",
       "      <td>2019-11-03 08:03:46</td>\n",
       "      <td>34.833799</td>\n",
       "      <td>32.054798</td>\n",
       "      <td>2019-11-03 08:55:27</td>\n",
       "    </tr>\n",
       "  </tbody>\n",
       "</table>\n",
       "</div>"
      ],
      "text/plain": [
       "   stop_id_source  stop_id_target  time_sec  stop_lon_target  stop_lat_target  \\\n",
       "0           12867               3    2625.0        34.782828        31.984553   \n",
       "1           12867               6    2422.0        34.898110        31.956678   \n",
       "2           12867               8    3230.0        34.824106        31.857565   \n",
       "3           12867               9    3153.0        34.821857        31.862305   \n",
       "4           12867              10    3101.0        34.822237        31.865085   \n",
       "0           12867               3    2625.0        34.782828        31.984553   \n",
       "1           12867               6    2422.0        34.898110        31.956678   \n",
       "2           12867               8    3230.0        34.824106        31.857565   \n",
       "3           12867               9    3153.0        34.821857        31.862305   \n",
       "4           12867              10    3101.0        34.822237        31.865085   \n",
       "4           12867              10    3101.0        34.822237        31.865085   \n",
       "4           12867              10    3101.0        34.822237        31.865085   \n",
       "\n",
       "       arrival_target  stop_lon_source  stop_lat_source           departure  \n",
       "0 2019-11-03 08:11:42        34.833799        32.054798 2019-11-03 08:55:27  \n",
       "1 2019-11-03 08:15:05        34.833799        32.054798 2019-11-03 08:55:27  \n",
       "2 2019-11-03 08:01:37        34.833799        32.054798 2019-11-03 08:55:27  \n",
       "3 2019-11-03 08:02:54        34.833799        32.054798 2019-11-03 08:55:27  \n",
       "4 2019-11-03 08:03:46        34.833799        32.054798 2019-11-03 08:55:27  \n",
       "0 2019-11-03 08:11:42        34.833799        32.054798 2019-11-03 08:55:27  \n",
       "1 2019-11-03 08:15:05        34.833799        32.054798 2019-11-03 08:55:27  \n",
       "2 2019-11-03 08:01:37        34.833799        32.054798 2019-11-03 08:55:27  \n",
       "3 2019-11-03 08:02:54        34.833799        32.054798 2019-11-03 08:55:27  \n",
       "4 2019-11-03 08:03:46        34.833799        32.054798 2019-11-03 08:55:27  \n",
       "4 2019-11-03 08:03:46        34.833799        32.054798 2019-11-03 08:55:27  \n",
       "4 2019-11-03 08:03:46        34.833799        32.054798 2019-11-03 08:55:27  "
      ]
     },
     "execution_count": 14,
     "metadata": {},
     "output_type": "execute_result"
    }
   ],
   "source": [
    "a = a.append(a[a['stop_id_target'] == 10])\n",
    "a"
   ]
  },
  {
   "cell_type": "code",
   "execution_count": 27,
   "metadata": {},
   "outputs": [
    {
     "name": "stderr",
     "output_type": "stream",
     "text": [
      "G:\\danielle\\AppData\\Local\\Continuum\\anaconda3\\envs\\accessibility\\lib\\site-packages\\ipykernel_launcher.py:5: TqdmDeprecationWarning: This function will be removed in tqdm==5.0.0\n",
      "Please use `tqdm.notebook.tqdm` instead of `tqdm.tqdm_notebook`\n",
      "  \"\"\"\n"
     ]
    },
    {
     "data": {
      "application/vnd.jupyter.widget-view+json": {
       "model_id": "84707b23c2804be98faab7a985f84094",
       "version_major": 2,
       "version_minor": 0
      },
      "text/plain": [
       "HBox(children=(FloatProgress(value=0.0, max=472.0), HTML(value='')))"
      ]
     },
     "metadata": {},
     "output_type": "display_data"
    },
    {
     "name": "stdout",
     "output_type": "stream",
     "text": [
      "\n"
     ]
    }
   ],
   "source": [
    "# stop id 2040 is the RAMBAM hospital stop\n",
    "target_stop = 2040\n",
    "sa_df = pd.DataFrame(columns = sample.columns)\n",
    "\n",
    "for filename in tqdm_notebook(list(os.listdir('../../output_data/'))):\n",
    "    if 'sa_' in filename:\n",
    "        sa_df = sa_df.append(pd.read_pickle('../../output_data/' + filename))\n",
    "#         sa_df = sa_df.append(tmp_sa[tmp_sa['stop_id_target'] == target_stop])"
   ]
  },
  {
   "cell_type": "code",
   "execution_count": 28,
   "metadata": {},
   "outputs": [
    {
     "data": {
      "text/html": [
       "<div>\n",
       "<style scoped>\n",
       "    .dataframe tbody tr th:only-of-type {\n",
       "        vertical-align: middle;\n",
       "    }\n",
       "\n",
       "    .dataframe tbody tr th {\n",
       "        vertical-align: top;\n",
       "    }\n",
       "\n",
       "    .dataframe thead th {\n",
       "        text-align: right;\n",
       "    }\n",
       "</style>\n",
       "<table border=\"1\" class=\"dataframe\">\n",
       "  <thead>\n",
       "    <tr style=\"text-align: right;\">\n",
       "      <th></th>\n",
       "      <th>stop_id_source</th>\n",
       "      <th>stop_id_target</th>\n",
       "      <th>time_sec</th>\n",
       "      <th>stop_lon_target</th>\n",
       "      <th>stop_lat_target</th>\n",
       "      <th>arrival_target</th>\n",
       "      <th>stop_lon_source</th>\n",
       "      <th>stop_lat_source</th>\n",
       "      <th>departure</th>\n",
       "    </tr>\n",
       "  </thead>\n",
       "  <tbody>\n",
       "    <tr>\n",
       "      <th>0</th>\n",
       "      <td>1469</td>\n",
       "      <td>1230</td>\n",
       "      <td>3172.0</td>\n",
       "      <td>34.932260</td>\n",
       "      <td>32.557385</td>\n",
       "      <td>2019-11-03 08:01:38</td>\n",
       "      <td>35.074972</td>\n",
       "      <td>32.815284</td>\n",
       "      <td>2019-11-03 08:54:30</td>\n",
       "    </tr>\n",
       "    <tr>\n",
       "      <th>1</th>\n",
       "      <td>1469</td>\n",
       "      <td>1243</td>\n",
       "      <td>3368.0</td>\n",
       "      <td>34.938368</td>\n",
       "      <td>32.571946</td>\n",
       "      <td>2019-11-03 08:05:45</td>\n",
       "      <td>35.074972</td>\n",
       "      <td>32.815284</td>\n",
       "      <td>2019-11-03 09:01:53</td>\n",
       "    </tr>\n",
       "    <tr>\n",
       "      <th>2</th>\n",
       "      <td>1469</td>\n",
       "      <td>1246</td>\n",
       "      <td>908.0</td>\n",
       "      <td>35.017746</td>\n",
       "      <td>32.798692</td>\n",
       "      <td>2019-11-03 08:39:22</td>\n",
       "      <td>35.074972</td>\n",
       "      <td>32.815284</td>\n",
       "      <td>2019-11-03 08:54:30</td>\n",
       "    </tr>\n",
       "    <tr>\n",
       "      <th>3</th>\n",
       "      <td>1469</td>\n",
       "      <td>1247</td>\n",
       "      <td>841.0</td>\n",
       "      <td>35.021788</td>\n",
       "      <td>32.795426</td>\n",
       "      <td>2019-11-03 08:40:29</td>\n",
       "      <td>35.074972</td>\n",
       "      <td>32.815284</td>\n",
       "      <td>2019-11-03 08:54:30</td>\n",
       "    </tr>\n",
       "    <tr>\n",
       "      <th>4</th>\n",
       "      <td>1469</td>\n",
       "      <td>1249</td>\n",
       "      <td>257.0</td>\n",
       "      <td>35.068810</td>\n",
       "      <td>32.810104</td>\n",
       "      <td>2019-11-03 08:57:36</td>\n",
       "      <td>35.074972</td>\n",
       "      <td>32.815284</td>\n",
       "      <td>2019-11-03 09:01:53</td>\n",
       "    </tr>\n",
       "  </tbody>\n",
       "</table>\n",
       "</div>"
      ],
      "text/plain": [
       "  stop_id_source stop_id_target  time_sec  stop_lon_target  stop_lat_target  \\\n",
       "0           1469           1230    3172.0        34.932260        32.557385   \n",
       "1           1469           1243    3368.0        34.938368        32.571946   \n",
       "2           1469           1246     908.0        35.017746        32.798692   \n",
       "3           1469           1247     841.0        35.021788        32.795426   \n",
       "4           1469           1249     257.0        35.068810        32.810104   \n",
       "\n",
       "       arrival_target  stop_lon_source  stop_lat_source           departure  \n",
       "0 2019-11-03 08:01:38        35.074972        32.815284 2019-11-03 08:54:30  \n",
       "1 2019-11-03 08:05:45        35.074972        32.815284 2019-11-03 09:01:53  \n",
       "2 2019-11-03 08:39:22        35.074972        32.815284 2019-11-03 08:54:30  \n",
       "3 2019-11-03 08:40:29        35.074972        32.815284 2019-11-03 08:54:30  \n",
       "4 2019-11-03 08:57:36        35.074972        32.815284 2019-11-03 09:01:53  "
      ]
     },
     "execution_count": 28,
     "metadata": {},
     "output_type": "execute_result"
    }
   ],
   "source": [
    "sa_df.head()"
   ]
  },
  {
   "cell_type": "code",
   "execution_count": 29,
   "metadata": {},
   "outputs": [],
   "source": [
    "sa_df.to_pickle('../../output_data/all_sa_df.pkl')"
   ]
  },
  {
   "cell_type": "code",
   "execution_count": 30,
   "metadata": {},
   "outputs": [
    {
     "data": {
      "text/plain": [
       "(48566069, 9)"
      ]
     },
     "execution_count": 30,
     "metadata": {},
     "output_type": "execute_result"
    }
   ],
   "source": [
    "sa_df.shape"
   ]
  },
  {
   "cell_type": "code",
   "execution_count": 31,
   "metadata": {},
   "outputs": [],
   "source": [
    "sa_targets = set(sa_df['stop_id_target'])"
   ]
  },
  {
   "cell_type": "code",
   "execution_count": 32,
   "metadata": {},
   "outputs": [
    {
     "data": {
      "text/plain": [
       "24996"
      ]
     },
     "execution_count": 32,
     "metadata": {},
     "output_type": "execute_result"
    }
   ],
   "source": [
    "len(sa_targets)"
   ]
  },
  {
   "cell_type": "code",
   "execution_count": 33,
   "metadata": {},
   "outputs": [
    {
     "data": {
      "text/plain": [
       "True"
      ]
     },
     "execution_count": 33,
     "metadata": {},
     "output_type": "execute_result"
    }
   ],
   "source": [
    "2040 in sa_targets"
   ]
  },
  {
   "cell_type": "code",
   "execution_count": 34,
   "metadata": {},
   "outputs": [],
   "source": [
    "rambam_sa = sa_df[sa_df['stop_id_target'] == 2040]"
   ]
  },
  {
   "cell_type": "code",
   "execution_count": 35,
   "metadata": {},
   "outputs": [
    {
     "data": {
      "text/plain": [
       "(2880, 9)"
      ]
     },
     "execution_count": 35,
     "metadata": {},
     "output_type": "execute_result"
    }
   ],
   "source": [
    "rambam_sa.shape"
   ]
  },
  {
   "cell_type": "code",
   "execution_count": 36,
   "metadata": {},
   "outputs": [
    {
     "data": {
      "text/html": [
       "<div>\n",
       "<style scoped>\n",
       "    .dataframe tbody tr th:only-of-type {\n",
       "        vertical-align: middle;\n",
       "    }\n",
       "\n",
       "    .dataframe tbody tr th {\n",
       "        vertical-align: top;\n",
       "    }\n",
       "\n",
       "    .dataframe thead th {\n",
       "        text-align: right;\n",
       "    }\n",
       "</style>\n",
       "<table border=\"1\" class=\"dataframe\">\n",
       "  <thead>\n",
       "    <tr style=\"text-align: right;\">\n",
       "      <th></th>\n",
       "      <th>stop_id_source</th>\n",
       "      <th>stop_id_target</th>\n",
       "      <th>time_sec</th>\n",
       "      <th>stop_lon_target</th>\n",
       "      <th>stop_lat_target</th>\n",
       "      <th>arrival_target</th>\n",
       "      <th>stop_lon_source</th>\n",
       "      <th>stop_lat_source</th>\n",
       "      <th>departure</th>\n",
       "    </tr>\n",
       "  </thead>\n",
       "  <tbody>\n",
       "    <tr>\n",
       "      <th>327</th>\n",
       "      <td>1469</td>\n",
       "      <td>2040</td>\n",
       "      <td>1799.0</td>\n",
       "      <td>34.985153</td>\n",
       "      <td>32.831695</td>\n",
       "      <td>2019-11-03 08:24:31</td>\n",
       "      <td>35.074972</td>\n",
       "      <td>32.815284</td>\n",
       "      <td>2019-11-03 08:54:30</td>\n",
       "    </tr>\n",
       "    <tr>\n",
       "      <th>4169</th>\n",
       "      <td>2179</td>\n",
       "      <td>2040</td>\n",
       "      <td>1736.0</td>\n",
       "      <td>34.985153</td>\n",
       "      <td>32.831695</td>\n",
       "      <td>2019-11-03 08:24:31</td>\n",
       "      <td>35.071139</td>\n",
       "      <td>32.811661</td>\n",
       "      <td>2019-11-03 08:53:27</td>\n",
       "    </tr>\n",
       "    <tr>\n",
       "      <th>8109</th>\n",
       "      <td>2356</td>\n",
       "      <td>2040</td>\n",
       "      <td>1334.0</td>\n",
       "      <td>34.985153</td>\n",
       "      <td>32.831695</td>\n",
       "      <td>2019-11-03 08:24:31</td>\n",
       "      <td>35.038925</td>\n",
       "      <td>32.793214</td>\n",
       "      <td>2019-11-03 08:46:45</td>\n",
       "    </tr>\n",
       "    <tr>\n",
       "      <th>12278</th>\n",
       "      <td>2357</td>\n",
       "      <td>2040</td>\n",
       "      <td>1562.0</td>\n",
       "      <td>34.985153</td>\n",
       "      <td>32.831695</td>\n",
       "      <td>2019-11-03 08:24:31</td>\n",
       "      <td>35.056577</td>\n",
       "      <td>32.805789</td>\n",
       "      <td>2019-11-03 08:50:33</td>\n",
       "    </tr>\n",
       "    <tr>\n",
       "      <th>16314</th>\n",
       "      <td>2360</td>\n",
       "      <td>2040</td>\n",
       "      <td>2148.0</td>\n",
       "      <td>34.985153</td>\n",
       "      <td>32.831695</td>\n",
       "      <td>2019-11-03 08:24:31</td>\n",
       "      <td>35.089138</td>\n",
       "      <td>32.842679</td>\n",
       "      <td>2019-11-03 09:00:19</td>\n",
       "    </tr>\n",
       "  </tbody>\n",
       "</table>\n",
       "</div>"
      ],
      "text/plain": [
       "      stop_id_source stop_id_target  time_sec  stop_lon_target  \\\n",
       "327             1469           2040    1799.0        34.985153   \n",
       "4169            2179           2040    1736.0        34.985153   \n",
       "8109            2356           2040    1334.0        34.985153   \n",
       "12278           2357           2040    1562.0        34.985153   \n",
       "16314           2360           2040    2148.0        34.985153   \n",
       "\n",
       "       stop_lat_target      arrival_target  stop_lon_source  stop_lat_source  \\\n",
       "327          32.831695 2019-11-03 08:24:31        35.074972        32.815284   \n",
       "4169         32.831695 2019-11-03 08:24:31        35.071139        32.811661   \n",
       "8109         32.831695 2019-11-03 08:24:31        35.038925        32.793214   \n",
       "12278        32.831695 2019-11-03 08:24:31        35.056577        32.805789   \n",
       "16314        32.831695 2019-11-03 08:24:31        35.089138        32.842679   \n",
       "\n",
       "                departure  \n",
       "327   2019-11-03 08:54:30  \n",
       "4169  2019-11-03 08:53:27  \n",
       "8109  2019-11-03 08:46:45  \n",
       "12278 2019-11-03 08:50:33  \n",
       "16314 2019-11-03 09:00:19  "
      ]
     },
     "execution_count": 36,
     "metadata": {},
     "output_type": "execute_result"
    }
   ],
   "source": [
    "rambam_sa.head()"
   ]
  },
  {
   "cell_type": "code",
   "execution_count": 37,
   "metadata": {},
   "outputs": [],
   "source": [
    "rambam_sa.to_pickle('../../output_data/rambam_sa_df.pkl')"
   ]
  },
  {
   "cell_type": "code",
   "execution_count": 38,
   "metadata": {},
   "outputs": [],
   "source": [
    "rambam_sa.to_csv('../../output_data/rambam_sa_df.csv')"
   ]
  },
  {
   "cell_type": "code",
   "execution_count": 39,
   "metadata": {},
   "outputs": [
    {
     "data": {
      "text/plain": [
       "2842"
      ]
     },
     "execution_count": 39,
     "metadata": {},
     "output_type": "execute_result"
    }
   ],
   "source": [
    "len(set(rambam_sa['stop_id_source']))"
   ]
  },
  {
   "cell_type": "code",
   "execution_count": null,
   "metadata": {},
   "outputs": [],
   "source": []
  }
 ],
 "metadata": {
  "kernelspec": {
   "display_name": "Python 3",
   "language": "python",
   "name": "python3"
  },
  "language_info": {
   "codemirror_mode": {
    "name": "ipython",
    "version": 3
   },
   "file_extension": ".py",
   "mimetype": "text/x-python",
   "name": "python",
   "nbconvert_exporter": "python",
   "pygments_lexer": "ipython3",
   "version": "3.7.5"
  }
 },
 "nbformat": 4,
 "nbformat_minor": 4
}
