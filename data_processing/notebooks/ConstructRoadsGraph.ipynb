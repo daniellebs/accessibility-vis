{
 "cells": [
  {
   "cell_type": "code",
   "execution_count": 44,
   "metadata": {},
   "outputs": [],
   "source": [
    "import geopandas as gpd\n",
    "import os\n",
    "import pandas as pd\n",
    "import warnings\n",
    "import seaborn as sns\n",
    "import matplotlib.pyplot as plt\n",
    "from tqdm.auto import tqdm\n",
    "import pickle\n",
    "import copy \n",
    "\n",
    "warnings.filterwarnings('ignore')\n",
    "tqdm.pandas()"
   ]
  },
  {
   "cell_type": "markdown",
   "metadata": {},
   "source": [
    "# Construct Roads Graph"
   ]
  },
  {
   "cell_type": "markdown",
   "metadata": {},
   "source": [
    "## Load Data"
   ]
  },
  {
   "cell_type": "code",
   "execution_count": 45,
   "metadata": {},
   "outputs": [],
   "source": [
    "TEST = False"
   ]
  },
  {
   "cell_type": "code",
   "execution_count": 46,
   "metadata": {},
   "outputs": [],
   "source": [
    "MAPA_PATH = \"../../../data/Mapa/test_data/center_tlv/\" if TEST else \"../../../data/Mapa/Ben Gurion University/Gisrael/\"\n",
    "OUTPUT_PATH = \"../../output_data/roads/test/center_tlv/\" if TEST else \"../../output_data/roads/\"\n"
   ]
  },
  {
   "cell_type": "code",
   "execution_count": 47,
   "metadata": {},
   "outputs": [],
   "source": [
    "roads_df = gpd.read_file(MAPA_PATH + 'is_str.shp')"
   ]
  },
  {
   "cell_type": "code",
   "execution_count": 48,
   "metadata": {},
   "outputs": [
    {
     "data": {
      "text/plain": [
       "(647504, 38)"
      ]
     },
     "execution_count": 48,
     "metadata": {},
     "output_type": "execute_result"
    }
   ],
   "source": [
    "roads_df.shape"
   ]
  },
  {
   "cell_type": "markdown",
   "metadata": {},
   "source": [
    "## Basic Edges"
   ]
  },
  {
   "cell_type": "code",
   "execution_count": 49,
   "metadata": {},
   "outputs": [],
   "source": [
    "shape_edges_df = roads_df[['UserID', 'ObjID', 'FJunction', 'TJunction', 'RoadType', \n",
    "                     'OneWay', 'FromSpeedL', 'ToSpeedL', \n",
    "                     'AprxSpeedL', 'Seconds', 'Length', 'Roaddirect', 'DirectionM', 'F_ZLev', 'T_ZLev']]\n",
    "shape_edges_df = shape_edges_df.reset_index()"
   ]
  },
  {
   "cell_type": "code",
   "execution_count": 50,
   "metadata": {},
   "outputs": [
    {
     "data": {
      "application/vnd.jupyter.widget-view+json": {
       "model_id": "61da374d3a954a9bacd1b408df4eedf3",
       "version_major": 2,
       "version_minor": 0
      },
      "text/plain": [
       "HBox(children=(FloatProgress(value=0.0, max=647504.0), HTML(value='')))"
      ]
     },
     "metadata": {},
     "output_type": "display_data"
    },
    {
     "name": "stdout",
     "output_type": "stream",
     "text": [
      "\n"
     ]
    }
   ],
   "source": [
    "edges_dict = dict()\n",
    "adjacency_list = dict()\n",
    "number_of_two_way = 0\n",
    "number_of_ft = 0\n",
    "number_of_tf = 0\n",
    "\n",
    "def create_edges_dict(e):\n",
    "    global edges_dict\n",
    "    global number_of_two_way\n",
    "    global number_of_ft\n",
    "    global number_of_tf\n",
    "    \n",
    "    road_type = e['OneWay']\n",
    "    frm = str(e['FJunction'])\n",
    "    to = str(e['TJunction'])\n",
    "    \n",
    "    if road_type == 'N':\n",
    "        return\n",
    "    elif road_type == 'ft':\n",
    "        if (frm, to) in edges_dict:\n",
    "            raise Exception(f'Found parallel edge: {frm}, {to}')\n",
    "        edges_dict[frm, to] = copy.deepcopy(e)\n",
    "        \n",
    "        if frm not in adjacency_list:\n",
    "            adjacency_list[frm] = dict()\n",
    "        adjacency_list[frm][to] = copy.deepcopy(e)\n",
    "        \n",
    "        number_of_ft += 1\n",
    "    elif road_type == 'tf':\n",
    "        if (to, frm) in edges_dict:\n",
    "            raise Exception(f'Found parallel edge: {to}, {frm}')\n",
    "        edges_dict[to, frm] = copy.deepcopy(e)\n",
    "        \n",
    "        if to not in adjacency_list:\n",
    "            adjacency_list[to] = dict()\n",
    "        adjacency_list[to][frm] = copy.deepcopy(e)\n",
    "        \n",
    "        number_of_tf += 1\n",
    "    elif road_type == '2':\n",
    "        if (frm, to) in edges_dict:\n",
    "            raise Exception(f'Found parallel edge: {frm}, {to}')\n",
    "        if (to, frm) in edges_dict:\n",
    "            raise Exception(f'Found parallel edge: {to}, {frm}')\n",
    "        edges_dict[frm, to] = copy.deepcopy(e)\n",
    "        edges_dict[to, frm] = copy.deepcopy(e)\n",
    "        \n",
    "        if frm not in adjacency_list:\n",
    "            adjacency_list[frm] = dict()\n",
    "        adjacency_list[frm][to] = copy.deepcopy(e)\n",
    "        \n",
    "        if to not in adjacency_list:\n",
    "            adjacency_list[to] = dict()\n",
    "        adjacency_list[to][frm] = copy.deepcopy(e)\n",
    "        \n",
    "        number_of_two_way +=2\n",
    "        \n",
    "res = shape_edges_df.progress_apply(lambda x: create_edges_dict(x), axis=1)"
   ]
  },
  {
   "cell_type": "code",
   "execution_count": 15,
   "metadata": {},
   "outputs": [],
   "source": [
    "original_adjacency_list = adjacency_list.copy()"
   ]
  },
  {
   "cell_type": "code",
   "execution_count": 51,
   "metadata": {},
   "outputs": [
    {
     "data": {
      "text/plain": [
       "427358"
      ]
     },
     "execution_count": 51,
     "metadata": {},
     "output_type": "execute_result"
    }
   ],
   "source": [
    "len(adjacency_list)"
   ]
  },
  {
   "cell_type": "code",
   "execution_count": 52,
   "metadata": {},
   "outputs": [
    {
     "data": {
      "text/plain": [
       "859377"
      ]
     },
     "execution_count": 52,
     "metadata": {},
     "output_type": "execute_result"
    }
   ],
   "source": [
    "len(edges_dict)"
   ]
  },
  {
   "cell_type": "markdown",
   "metadata": {},
   "source": [
    "### Test"
   ]
  },
  {
   "cell_type": "code",
   "execution_count": 53,
   "metadata": {},
   "outputs": [
    {
     "name": "stdout",
     "output_type": "stream",
     "text": [
      "859377\n",
      "number of ft: 154969, number of tf: 24314, number of two ways * 2: 680094\n"
     ]
    }
   ],
   "source": [
    "# Sanity check\n",
    "number_of_edges = len(edges_dict)\n",
    "number_of_ft = shape_edges_df[shape_edges_df['OneWay'] == 'ft'].shape[0]\n",
    "number_of_tf = shape_edges_df[shape_edges_df['OneWay'] == 'tf'].shape[0]\n",
    "number_of_two_way = shape_edges_df[shape_edges_df['OneWay'] == '2'].shape[0]\n",
    "print(number_of_edges)\n",
    "print(f'number of ft: {number_of_ft}, number of tf: {number_of_tf}, number of two ways * 2: {number_of_two_way*2}')\n",
    "assert number_of_edges == (number_of_ft + number_of_tf + number_of_two_way*2)"
   ]
  },
  {
   "cell_type": "markdown",
   "metadata": {},
   "source": [
    "## Turn Restrictions"
   ]
  },
  {
   "cell_type": "code",
   "execution_count": 54,
   "metadata": {},
   "outputs": [],
   "source": [
    "turn_restrict_df = gpd.read_file('../../../data/Mapa/Ben Gurion University/Gisrael/restrict.shp')"
   ]
  },
  {
   "cell_type": "markdown",
   "metadata": {},
   "source": [
    "### Utils"
   ]
  },
  {
   "cell_type": "code",
   "execution_count": 55,
   "metadata": {},
   "outputs": [],
   "source": [
    "def get_edge_other_node(edge_id, node):\n",
    "    e = shape_edges_df[shape_edges_df['UserID'] == edge_id]\n",
    "    \n",
    "    try:\n",
    "        f = e['FJunction'].values[0]\n",
    "        t = e['TJunction'].values[0]\n",
    "    except:\n",
    "        print(e['FJunction'])\n",
    "        print(e['TJunction'])\n",
    "        raise(Exception())\n",
    "    \n",
    "    if f == node:\n",
    "        return t\n",
    "    if t == node:\n",
    "        return f\n",
    "    \n",
    "    raise Exception(f'node {node} is not part of the edge {edge_id}')\n",
    "    \n",
    "    \n",
    "############################################################    \n",
    "######################## Test ##############################\n",
    "############################################################\n",
    "\n",
    "# assert get_edge_other_node(1186054, 1058686) == 1058685"
   ]
  },
  {
   "cell_type": "code",
   "execution_count": 56,
   "metadata": {},
   "outputs": [],
   "source": [
    "nodes = set(list(shape_edges_df['FJunction']) + list(shape_edges_df['TJunction']))\n",
    "edges = set(shape_edges_df['UserID'])"
   ]
  },
  {
   "cell_type": "code",
   "execution_count": 61,
   "metadata": {},
   "outputs": [
    {
     "data": {
      "text/plain": [
       "647504"
      ]
     },
     "execution_count": 61,
     "metadata": {},
     "output_type": "execute_result"
    }
   ],
   "source": [
    "len(edges)"
   ]
  },
  {
   "cell_type": "code",
   "execution_count": 57,
   "metadata": {},
   "outputs": [
    {
     "data": {
      "text/plain": [
       "489961"
      ]
     },
     "execution_count": 57,
     "metadata": {},
     "output_type": "execute_result"
    }
   ],
   "source": [
    "len(nodes)"
   ]
  },
  {
   "cell_type": "markdown",
   "metadata": {},
   "source": [
    "### Manipulate Graph according to [Turn Restrictions Algorithm](https://docs.google.com/document/d/1XG5cRIPrrrchI-ub2eU_BYekPyKPA4vKLt3xK62fkS8/edit?usp=sharing)"
   ]
  },
  {
   "cell_type": "code",
   "execution_count": 58,
   "metadata": {},
   "outputs": [
    {
     "data": {
      "text/html": [
       "<div>\n",
       "<style scoped>\n",
       "    .dataframe tbody tr th:only-of-type {\n",
       "        vertical-align: middle;\n",
       "    }\n",
       "\n",
       "    .dataframe tbody tr th {\n",
       "        vertical-align: top;\n",
       "    }\n",
       "\n",
       "    .dataframe thead th {\n",
       "        text-align: right;\n",
       "    }\n",
       "</style>\n",
       "<table border=\"1\" class=\"dataframe\">\n",
       "  <thead>\n",
       "    <tr style=\"text-align: right;\">\n",
       "      <th></th>\n",
       "      <th>objid</th>\n",
       "      <th>userid</th>\n",
       "      <th>einterval</th>\n",
       "      <th>junctionid</th>\n",
       "      <th>xinterval</th>\n",
       "      <th>permission</th>\n",
       "      <th>descriptio</th>\n",
       "      <th>geometry</th>\n",
       "    </tr>\n",
       "  </thead>\n",
       "  <tbody>\n",
       "    <tr>\n",
       "      <th>0</th>\n",
       "      <td>1</td>\n",
       "      <td>290963</td>\n",
       "      <td>1186054</td>\n",
       "      <td>1058686</td>\n",
       "      <td>1186052</td>\n",
       "      <td>111111</td>\n",
       "      <td>XXXXXX</td>\n",
       "      <td>None</td>\n",
       "    </tr>\n",
       "    <tr>\n",
       "      <th>1</th>\n",
       "      <td>2</td>\n",
       "      <td>333770</td>\n",
       "      <td>1449582</td>\n",
       "      <td>1218598</td>\n",
       "      <td>1449582</td>\n",
       "      <td>111111</td>\n",
       "      <td>XXXXXX</td>\n",
       "      <td>None</td>\n",
       "    </tr>\n",
       "  </tbody>\n",
       "</table>\n",
       "</div>"
      ],
      "text/plain": [
       "   objid  userid  einterval  junctionid  xinterval permission descriptio  \\\n",
       "0      1  290963    1186054     1058686    1186052     111111     XXXXXX   \n",
       "1      2  333770    1449582     1218598    1449582     111111     XXXXXX   \n",
       "\n",
       "  geometry  \n",
       "0     None  \n",
       "1     None  "
      ]
     },
     "execution_count": 58,
     "metadata": {},
     "output_type": "execute_result"
    }
   ],
   "source": [
    "turn_restrict_df.head(2)"
   ]
  },
  {
   "cell_type": "code",
   "execution_count": 59,
   "metadata": {},
   "outputs": [
    {
     "name": "stdout",
     "output_type": "stream",
     "text": [
      "Skipped 1448 restrictions\n"
     ]
    }
   ],
   "source": [
    "skipped_restrictions = []\n",
    "\n",
    "for i, restrict in turn_restrict_df.iterrows():\n",
    "    if TEST:\n",
    "        if (restrict['junctionid'] not in nodes or \n",
    "            restrict['einterval'] not in edges or \n",
    "            restrict['xinterval'] not in edges):\n",
    "            continue\n",
    "    \n",
    "    u = str(get_edge_other_node(restrict['einterval'], restrict['junctionid']))\n",
    "    v = str(restrict['junctionid'])\n",
    "    w = str(get_edge_other_node(restrict['xinterval'], restrict['junctionid']))\n",
    "    \n",
    "    original_v = v\n",
    "    # maybe we already created v_u\n",
    "    if (u in adjacency_list) and (v not in adjacency_list[u]):\n",
    "        v = v + '_' + u\n",
    "    # maybe we already created w_v\n",
    "    if (v in adjacency_list) and (w not in adjacency_list[v]):\n",
    "        w = w + '_' + original_v    \n",
    "    \n",
    "    # if no edge (u,v) or (v,w) then the restriction is already enforced\n",
    "    if ((u not in adjacency_list) or (v not in adjacency_list[u]) or \n",
    "        (v not in adjacency_list) or (w not in adjacency_list[v])):\n",
    "        skipped_restrictions.append(restrict)\n",
    "        continue\n",
    "        \n",
    "    if '_' in v:  # v already represents v_u\n",
    "        # remove (v_u,w)\n",
    "        del adjacency_list[v][w]\n",
    "    else:  # v_u was not already created\n",
    "        # add a new node v_u with a new edge (u, v_u)\n",
    "        v_u = v + '_' + u\n",
    "        adjacency_list[v_u] = dict()\n",
    "        adjacency_list[u][v_u] = adjacency_list[u][v]\n",
    "    \n",
    "        # remove (u,v)\n",
    "        del adjacency_list[u][v]\n",
    "    \n",
    "    \n",
    "        # for each edge (v,x) where x!=w add (v_u, x)\n",
    "        for x in adjacency_list[v]:\n",
    "            if x == w:\n",
    "                continue\n",
    "            adjacency_list[v_u][x] = adjacency_list[v][x]\n",
    "        \n",
    "print(f'Skipped {len(skipped_restrictions)} restrictions')"
   ]
  },
  {
   "cell_type": "code",
   "execution_count": 60,
   "metadata": {},
   "outputs": [
    {
     "data": {
      "text/plain": [
       "491983"
      ]
     },
     "execution_count": 60,
     "metadata": {},
     "output_type": "execute_result"
    }
   ],
   "source": [
    "len(adjacency_list)"
   ]
  },
  {
   "cell_type": "code",
   "execution_count": 22,
   "metadata": {},
   "outputs": [
    {
     "data": {
      "text/plain": [
       "0"
      ]
     },
     "execution_count": 22,
     "metadata": {},
     "output_type": "execute_result"
    }
   ],
   "source": [
    "# Verify that all skipped restrictions are blocked roads\n",
    "count = 0\n",
    "for row in skipped_restrictions:    \n",
    "    f_edge_type = shape_edges_df[shape_edges_df['UserID'] == row['einterval']]['OneWay'].values[0] \n",
    "    t_edge_type = shape_edges_df[shape_edges_df['UserID'] == row['xinterval']]['OneWay'].values[0] \n",
    "    if f_edge_type != 'N' and t_edge_type != 'N':\n",
    "        count += 1\n",
    "count"
   ]
  },
  {
   "cell_type": "code",
   "execution_count": 23,
   "metadata": {},
   "outputs": [],
   "source": [
    "# save adjacency list with turn restrictions\n",
    "with open(OUTPUT_PATH + 'roads_graph_turn_restrictions.pkl','wb') as f:\n",
    "    pickle.dump(adjacency_list, f)"
   ]
  },
  {
   "cell_type": "markdown",
   "metadata": {},
   "source": [
    "## Z-Levels\n",
    "In order to handle z-levels, we must go through all pairs of (u,v),(v,w) edges, and compare T_ZLev(u,v) and F_ZLev(v,w). If they are different, we will mark u->v->w as a turn restriction. "
   ]
  },
  {
   "cell_type": "code",
   "execution_count": 24,
   "metadata": {},
   "outputs": [
    {
     "data": {
      "text/html": [
       "<div>\n",
       "<style scoped>\n",
       "    .dataframe tbody tr th:only-of-type {\n",
       "        vertical-align: middle;\n",
       "    }\n",
       "\n",
       "    .dataframe tbody tr th {\n",
       "        vertical-align: top;\n",
       "    }\n",
       "\n",
       "    .dataframe thead th {\n",
       "        text-align: right;\n",
       "    }\n",
       "</style>\n",
       "<table border=\"1\" class=\"dataframe\">\n",
       "  <thead>\n",
       "    <tr style=\"text-align: right;\">\n",
       "      <th></th>\n",
       "      <th>index</th>\n",
       "      <th>UserID</th>\n",
       "      <th>ObjID</th>\n",
       "      <th>FJunction</th>\n",
       "      <th>TJunction</th>\n",
       "      <th>RoadType</th>\n",
       "      <th>OneWay</th>\n",
       "      <th>FromSpeedL</th>\n",
       "      <th>ToSpeedL</th>\n",
       "      <th>AprxSpeedL</th>\n",
       "      <th>Seconds</th>\n",
       "      <th>Length</th>\n",
       "      <th>Roaddirect</th>\n",
       "      <th>DirectionM</th>\n",
       "      <th>F_ZLev</th>\n",
       "      <th>T_ZLev</th>\n",
       "    </tr>\n",
       "  </thead>\n",
       "  <tbody>\n",
       "    <tr>\n",
       "      <th>0</th>\n",
       "      <td>0</td>\n",
       "      <td>1466455</td>\n",
       "      <td>140395</td>\n",
       "      <td>1229728</td>\n",
       "      <td>898653</td>\n",
       "      <td>84</td>\n",
       "      <td>ft</td>\n",
       "      <td>50</td>\n",
       "      <td>50</td>\n",
       "      <td>20</td>\n",
       "      <td>19.573799</td>\n",
       "      <td>36.247675</td>\n",
       "      <td>111111</td>\n",
       "      <td>None</td>\n",
       "      <td>0</td>\n",
       "      <td>0</td>\n",
       "    </tr>\n",
       "    <tr>\n",
       "      <th>1</th>\n",
       "      <td>1</td>\n",
       "      <td>1466456</td>\n",
       "      <td>140396</td>\n",
       "      <td>898654</td>\n",
       "      <td>1229728</td>\n",
       "      <td>84</td>\n",
       "      <td>ft</td>\n",
       "      <td>50</td>\n",
       "      <td>50</td>\n",
       "      <td>20</td>\n",
       "      <td>15.640147</td>\n",
       "      <td>28.963154</td>\n",
       "      <td>111111</td>\n",
       "      <td>None</td>\n",
       "      <td>0</td>\n",
       "      <td>0</td>\n",
       "    </tr>\n",
       "  </tbody>\n",
       "</table>\n",
       "</div>"
      ],
      "text/plain": [
       "   index   UserID   ObjID  FJunction  TJunction  RoadType OneWay  FromSpeedL  \\\n",
       "0      0  1466455  140395    1229728     898653        84     ft          50   \n",
       "1      1  1466456  140396     898654    1229728        84     ft          50   \n",
       "\n",
       "   ToSpeedL  AprxSpeedL    Seconds     Length Roaddirect DirectionM  F_ZLev  \\\n",
       "0        50          20  19.573799  36.247675     111111       None       0   \n",
       "1        50          20  15.640147  28.963154     111111       None       0   \n",
       "\n",
       "   T_ZLev  \n",
       "0       0  \n",
       "1       0  "
      ]
     },
     "execution_count": 24,
     "metadata": {},
     "output_type": "execute_result"
    }
   ],
   "source": [
    "shape_edges_df.head(2)"
   ]
  },
  {
   "cell_type": "code",
   "execution_count": 25,
   "metadata": {},
   "outputs": [],
   "source": [
    "edges = {'From': [], 'To': [], 'Edge': []}\n",
    "for f in original_adjacency_list:\n",
    "    for t in original_adjacency_list[f]:\n",
    "        edges['From'].append(f)\n",
    "        edges['To'].append(t)\n",
    "        edges['Edge'].append(original_adjacency_list[f][t])\n",
    "\n",
    "edges_df = pd.DataFrame(edges)\n",
    "    "
   ]
  },
  {
   "cell_type": "code",
   "execution_count": 26,
   "metadata": {},
   "outputs": [
    {
     "data": {
      "text/html": [
       "<div>\n",
       "<style scoped>\n",
       "    .dataframe tbody tr th:only-of-type {\n",
       "        vertical-align: middle;\n",
       "    }\n",
       "\n",
       "    .dataframe tbody tr th {\n",
       "        vertical-align: top;\n",
       "    }\n",
       "\n",
       "    .dataframe thead th {\n",
       "        text-align: right;\n",
       "    }\n",
       "</style>\n",
       "<table border=\"1\" class=\"dataframe\">\n",
       "  <thead>\n",
       "    <tr style=\"text-align: right;\">\n",
       "      <th></th>\n",
       "      <th>From</th>\n",
       "      <th>To</th>\n",
       "      <th>Edge</th>\n",
       "    </tr>\n",
       "  </thead>\n",
       "  <tbody>\n",
       "    <tr>\n",
       "      <th>0</th>\n",
       "      <td>1229728</td>\n",
       "      <td>898653</td>\n",
       "      <td>index               0\n",
       "UserID        1466455\n",
       "Ob...</td>\n",
       "    </tr>\n",
       "    <tr>\n",
       "      <th>1</th>\n",
       "      <td>898654</td>\n",
       "      <td>1229728</td>\n",
       "      <td>index               1\n",
       "UserID        1466456\n",
       "Ob...</td>\n",
       "    </tr>\n",
       "    <tr>\n",
       "      <th>2</th>\n",
       "      <td>898654</td>\n",
       "      <td>1003088</td>\n",
       "      <td>index            3291\n",
       "UserID        1090272\n",
       "Ob...</td>\n",
       "    </tr>\n",
       "    <tr>\n",
       "      <th>3</th>\n",
       "      <td>29709</td>\n",
       "      <td>898654</td>\n",
       "      <td>index               2\n",
       "UserID         944311\n",
       "Ob...</td>\n",
       "    </tr>\n",
       "    <tr>\n",
       "      <th>4</th>\n",
       "      <td>898447</td>\n",
       "      <td>898446</td>\n",
       "      <td>index               3\n",
       "UserID         943992\n",
       "Ob...</td>\n",
       "    </tr>\n",
       "  </tbody>\n",
       "</table>\n",
       "</div>"
      ],
      "text/plain": [
       "      From       To                                               Edge\n",
       "0  1229728   898653  index               0\n",
       "UserID        1466455\n",
       "Ob...\n",
       "1   898654  1229728  index               1\n",
       "UserID        1466456\n",
       "Ob...\n",
       "2   898654  1003088  index            3291\n",
       "UserID        1090272\n",
       "Ob...\n",
       "3    29709   898654  index               2\n",
       "UserID         944311\n",
       "Ob...\n",
       "4   898447   898446  index               3\n",
       "UserID         943992\n",
       "Ob..."
      ]
     },
     "execution_count": 26,
     "metadata": {},
     "output_type": "execute_result"
    }
   ],
   "source": [
    "edges_df.head()"
   ]
  },
  {
   "cell_type": "code",
   "execution_count": 27,
   "metadata": {},
   "outputs": [],
   "source": [
    "pairs_of_edges_df = edges_df.merge(edges_df, left_on='To', right_on='From', suffixes=('_F', '_T'))"
   ]
  },
  {
   "cell_type": "code",
   "execution_count": 28,
   "metadata": {},
   "outputs": [
    {
     "data": {
      "text/html": [
       "<div>\n",
       "<style scoped>\n",
       "    .dataframe tbody tr th:only-of-type {\n",
       "        vertical-align: middle;\n",
       "    }\n",
       "\n",
       "    .dataframe tbody tr th {\n",
       "        vertical-align: top;\n",
       "    }\n",
       "\n",
       "    .dataframe thead th {\n",
       "        text-align: right;\n",
       "    }\n",
       "</style>\n",
       "<table border=\"1\" class=\"dataframe\">\n",
       "  <thead>\n",
       "    <tr style=\"text-align: right;\">\n",
       "      <th></th>\n",
       "      <th>From_F</th>\n",
       "      <th>To_F</th>\n",
       "      <th>Edge_F</th>\n",
       "      <th>From_T</th>\n",
       "      <th>To_T</th>\n",
       "      <th>Edge_T</th>\n",
       "    </tr>\n",
       "  </thead>\n",
       "  <tbody>\n",
       "    <tr>\n",
       "      <th>0</th>\n",
       "      <td>1229728</td>\n",
       "      <td>898653</td>\n",
       "      <td>index               0\n",
       "UserID        1466455\n",
       "Ob...</td>\n",
       "      <td>898653</td>\n",
       "      <td>29686</td>\n",
       "      <td>index               6\n",
       "UserID         944310\n",
       "Ob...</td>\n",
       "    </tr>\n",
       "    <tr>\n",
       "      <th>1</th>\n",
       "      <td>898654</td>\n",
       "      <td>1229728</td>\n",
       "      <td>index               1\n",
       "UserID        1466456\n",
       "Ob...</td>\n",
       "      <td>1229728</td>\n",
       "      <td>898653</td>\n",
       "      <td>index               0\n",
       "UserID        1466455\n",
       "Ob...</td>\n",
       "    </tr>\n",
       "    <tr>\n",
       "      <th>2</th>\n",
       "      <td>898654</td>\n",
       "      <td>1003088</td>\n",
       "      <td>index            3291\n",
       "UserID        1090272\n",
       "Ob...</td>\n",
       "      <td>1003088</td>\n",
       "      <td>29554</td>\n",
       "      <td>index            3288\n",
       "UserID        1090273\n",
       "Ob...</td>\n",
       "    </tr>\n",
       "    <tr>\n",
       "      <th>3</th>\n",
       "      <td>29709</td>\n",
       "      <td>898654</td>\n",
       "      <td>index               2\n",
       "UserID         944311\n",
       "Ob...</td>\n",
       "      <td>898654</td>\n",
       "      <td>1229728</td>\n",
       "      <td>index               1\n",
       "UserID        1466456\n",
       "Ob...</td>\n",
       "    </tr>\n",
       "    <tr>\n",
       "      <th>4</th>\n",
       "      <td>29709</td>\n",
       "      <td>898654</td>\n",
       "      <td>index               2\n",
       "UserID         944311\n",
       "Ob...</td>\n",
       "      <td>898654</td>\n",
       "      <td>1003088</td>\n",
       "      <td>index            3291\n",
       "UserID        1090272\n",
       "Ob...</td>\n",
       "    </tr>\n",
       "  </tbody>\n",
       "</table>\n",
       "</div>"
      ],
      "text/plain": [
       "    From_F     To_F                                             Edge_F  \\\n",
       "0  1229728   898653  index               0\n",
       "UserID        1466455\n",
       "Ob...   \n",
       "1   898654  1229728  index               1\n",
       "UserID        1466456\n",
       "Ob...   \n",
       "2   898654  1003088  index            3291\n",
       "UserID        1090272\n",
       "Ob...   \n",
       "3    29709   898654  index               2\n",
       "UserID         944311\n",
       "Ob...   \n",
       "4    29709   898654  index               2\n",
       "UserID         944311\n",
       "Ob...   \n",
       "\n",
       "    From_T     To_T                                             Edge_T  \n",
       "0   898653    29686  index               6\n",
       "UserID         944310\n",
       "Ob...  \n",
       "1  1229728   898653  index               0\n",
       "UserID        1466455\n",
       "Ob...  \n",
       "2  1003088    29554  index            3288\n",
       "UserID        1090273\n",
       "Ob...  \n",
       "3   898654  1229728  index               1\n",
       "UserID        1466456\n",
       "Ob...  \n",
       "4   898654  1003088  index            3291\n",
       "UserID        1090272\n",
       "Ob...  "
      ]
     },
     "execution_count": 28,
     "metadata": {},
     "output_type": "execute_result"
    }
   ],
   "source": [
    "pairs_of_edges_df.head()"
   ]
  },
  {
   "cell_type": "code",
   "execution_count": 29,
   "metadata": {},
   "outputs": [
    {
     "data": {
      "text/plain": [
       "(6181, 3)"
      ]
     },
     "execution_count": 29,
     "metadata": {},
     "output_type": "execute_result"
    }
   ],
   "source": [
    "edges_df.shape"
   ]
  },
  {
   "cell_type": "code",
   "execution_count": 30,
   "metadata": {},
   "outputs": [
    {
     "data": {
      "text/plain": [
       "(10136, 6)"
      ]
     },
     "execution_count": 30,
     "metadata": {},
     "output_type": "execute_result"
    }
   ],
   "source": [
    "pairs_of_edges_df.shape"
   ]
  },
  {
   "cell_type": "code",
   "execution_count": 31,
   "metadata": {},
   "outputs": [],
   "source": [
    "z_level_restrictions = {'einterval': [], 'junctionid': [], 'xinterval': []}\n",
    "for _, row in pairs_of_edges_df.iterrows():    \n",
    "    middle_node_is_tjunction_in_edge_f = row['To_F'] == str(row['Edge_F']['TJunction'])\n",
    "    if middle_node_is_tjunction_in_edge_f:\n",
    "        from_zlev = row['Edge_F']['T_ZLev']\n",
    "    else:\n",
    "        assert row['To_F'] == str(row['Edge_F']['FJunction']), f\"Edge_F is drawn from {row['Edge_F']['FJunction']} to {row['Edge_F']['TJunction']}, \\\n",
    "                while the current edge goes to {row['To_F']}\"\n",
    "        from_zlev = row['Edge_F']['F_ZLev']\n",
    "        \n",
    "    middle_node_is_fjunction_in_edge_t = row['From_T'] == str(row['Edge_T']['FJunction'])\n",
    "    if middle_node_is_fjunction_in_edge_t:\n",
    "        to_zlev = row['Edge_T']['F_ZLev']\n",
    "    else:\n",
    "        assert row['From_T'] == str(row['Edge_T']['TJunction']), f\"Edge_T is drawn from {row['Edge_T']['FJunction']} to {row['Edge_T']['TJunction']}, \\\n",
    "                while the current edge goes from {row['From_F']}\"\n",
    "        to_zlev = row['Edge_T']['T_ZLev']\n",
    "        \n",
    "    if from_zlev != to_zlev:\n",
    "        z_level_restrictions['einterval'].append(int(row['Edge_F']['UserID']))\n",
    "        z_level_restrictions['junctionid'].append(int(row['To_F']))\n",
    "        z_level_restrictions['xinterval'].append(int(row['Edge_T']['UserID']))\n",
    "        \n",
    "        \n",
    "z_level_restrictions_df = pd.DataFrame(z_level_restrictions)"
   ]
  },
  {
   "cell_type": "code",
   "execution_count": 32,
   "metadata": {},
   "outputs": [
    {
     "data": {
      "text/html": [
       "<div>\n",
       "<style scoped>\n",
       "    .dataframe tbody tr th:only-of-type {\n",
       "        vertical-align: middle;\n",
       "    }\n",
       "\n",
       "    .dataframe tbody tr th {\n",
       "        vertical-align: top;\n",
       "    }\n",
       "\n",
       "    .dataframe thead th {\n",
       "        text-align: right;\n",
       "    }\n",
       "</style>\n",
       "<table border=\"1\" class=\"dataframe\">\n",
       "  <thead>\n",
       "    <tr style=\"text-align: right;\">\n",
       "      <th></th>\n",
       "      <th>einterval</th>\n",
       "      <th>junctionid</th>\n",
       "      <th>xinterval</th>\n",
       "    </tr>\n",
       "  </thead>\n",
       "  <tbody>\n",
       "    <tr>\n",
       "      <th>0</th>\n",
       "      <td>1337269</td>\n",
       "      <td>1148239</td>\n",
       "      <td>1337267</td>\n",
       "    </tr>\n",
       "    <tr>\n",
       "      <th>1</th>\n",
       "      <td>1337269</td>\n",
       "      <td>1148239</td>\n",
       "      <td>1337268</td>\n",
       "    </tr>\n",
       "    <tr>\n",
       "      <th>2</th>\n",
       "      <td>1337268</td>\n",
       "      <td>1148239</td>\n",
       "      <td>1337271</td>\n",
       "    </tr>\n",
       "    <tr>\n",
       "      <th>3</th>\n",
       "      <td>1337268</td>\n",
       "      <td>1148239</td>\n",
       "      <td>1337269</td>\n",
       "    </tr>\n",
       "    <tr>\n",
       "      <th>4</th>\n",
       "      <td>1337267</td>\n",
       "      <td>1148239</td>\n",
       "      <td>1337271</td>\n",
       "    </tr>\n",
       "    <tr>\n",
       "      <th>5</th>\n",
       "      <td>1337267</td>\n",
       "      <td>1148239</td>\n",
       "      <td>1337269</td>\n",
       "    </tr>\n",
       "    <tr>\n",
       "      <th>6</th>\n",
       "      <td>1337271</td>\n",
       "      <td>1148239</td>\n",
       "      <td>1337267</td>\n",
       "    </tr>\n",
       "    <tr>\n",
       "      <th>7</th>\n",
       "      <td>1337271</td>\n",
       "      <td>1148239</td>\n",
       "      <td>1337268</td>\n",
       "    </tr>\n",
       "    <tr>\n",
       "      <th>8</th>\n",
       "      <td>1218913</td>\n",
       "      <td>1077381</td>\n",
       "      <td>1361376</td>\n",
       "    </tr>\n",
       "    <tr>\n",
       "      <th>9</th>\n",
       "      <td>1218916</td>\n",
       "      <td>1077381</td>\n",
       "      <td>1218914</td>\n",
       "    </tr>\n",
       "  </tbody>\n",
       "</table>\n",
       "</div>"
      ],
      "text/plain": [
       "   einterval  junctionid  xinterval\n",
       "0    1337269     1148239    1337267\n",
       "1    1337269     1148239    1337268\n",
       "2    1337268     1148239    1337271\n",
       "3    1337268     1148239    1337269\n",
       "4    1337267     1148239    1337271\n",
       "5    1337267     1148239    1337269\n",
       "6    1337271     1148239    1337267\n",
       "7    1337271     1148239    1337268\n",
       "8    1218913     1077381    1361376\n",
       "9    1218916     1077381    1218914"
      ]
     },
     "execution_count": 32,
     "metadata": {},
     "output_type": "execute_result"
    }
   ],
   "source": [
    "z_level_restrictions_df.head(10)"
   ]
  },
  {
   "cell_type": "code",
   "execution_count": 33,
   "metadata": {},
   "outputs": [
    {
     "name": "stdout",
     "output_type": "stream",
     "text": [
      "Skipped 0 restrictions\n"
     ]
    }
   ],
   "source": [
    "skipped_restrictions = []\n",
    "\n",
    "for i, restrict in z_level_restrictions_df.iterrows():\n",
    "    u = str(get_edge_other_node(restrict['einterval'], restrict['junctionid']))\n",
    "    v = str(restrict['junctionid'])\n",
    "    w = str(get_edge_other_node(restrict['xinterval'], restrict['junctionid']))\n",
    "    \n",
    "    original_v = v\n",
    "    # maybe we already created v_u\n",
    "    if (u in adjacency_list) and (v not in adjacency_list[u]):\n",
    "        v = v + '_' + u\n",
    "    # maybe we already created w_v\n",
    "    if (v in adjacency_list) and (w not in adjacency_list[v]):\n",
    "        w = w + '_' + original_v    \n",
    "    \n",
    "    # if no edge (u,v) or (v,w) then the restriction is already enforced\n",
    "    if ((u not in adjacency_list) or (v not in adjacency_list[u]) or \n",
    "        (v not in adjacency_list) or (w not in adjacency_list[v])):\n",
    "        skipped_restrictions.append(restrict)\n",
    "        continue\n",
    "        \n",
    "    if '_' in v:  # v already represents v_u\n",
    "        # remove (v_u,w)\n",
    "        del adjacency_list[v][w]\n",
    "    else:  # v_u was not already created\n",
    "        # add a new node v_u with a new edge (u, v_u)\n",
    "        v_u = v + '_' + u\n",
    "        adjacency_list[v_u] = dict()\n",
    "        adjacency_list[u][v_u] = adjacency_list[u][v]\n",
    "    \n",
    "        # remove (u,v)\n",
    "        del adjacency_list[u][v]\n",
    "    \n",
    "    \n",
    "        # for each edge (v,x) where x!=w add (v_u, x)\n",
    "        for x in adjacency_list[v]:\n",
    "            if x == w:\n",
    "                continue\n",
    "            adjacency_list[v_u][x] = adjacency_list[v][x]\n",
    "        \n",
    "print(f'Skipped {len(skipped_restrictions)} restrictions')"
   ]
  },
  {
   "cell_type": "code",
   "execution_count": 34,
   "metadata": {},
   "outputs": [],
   "source": [
    "# save adjacency list with turn restrictions\n",
    "with open(OUTPUT_PATH + 'roads_graph_turn_restrictions_and_z_levels.pkl','wb') as f:\n",
    "    pickle.dump(adjacency_list, f)"
   ]
  },
  {
   "cell_type": "markdown",
   "metadata": {},
   "source": [
    "## Add Weights"
   ]
  },
  {
   "cell_type": "code",
   "execution_count": 35,
   "metadata": {},
   "outputs": [],
   "source": [
    "weighted_edges = []\n",
    "\n",
    "for f in adjacency_list:\n",
    "    for t in adjacency_list[f]:\n",
    "        weighted_edges.append((f,t,adjacency_list[f][t]['Seconds']))"
   ]
  },
  {
   "cell_type": "code",
   "execution_count": 36,
   "metadata": {},
   "outputs": [],
   "source": [
    "with open(OUTPUT_PATH + 'roads_graph_weighted_edges.pkl','wb') as f:\n",
    "    pickle.dump(weighted_edges, f)"
   ]
  },
  {
   "cell_type": "markdown",
   "metadata": {},
   "source": [
    "## Graph Stats"
   ]
  },
  {
   "cell_type": "code",
   "execution_count": 42,
   "metadata": {},
   "outputs": [],
   "source": [
    "# Load an existing graph\n",
    "with open(OUTPUT_PATH + 'roads_graph_weighted_edges.pkl','rb') as f:\n",
    "    weighted_edges = pickle.load(f)"
   ]
  },
  {
   "cell_type": "code",
   "execution_count": 43,
   "metadata": {},
   "outputs": [
    {
     "name": "stdout",
     "output_type": "stream",
     "text": [
      "Number of edges: 949378\n",
      "Number of nodes: 497721\n"
     ]
    }
   ],
   "source": [
    "nodes = [(s, d) for s, d, _ in weighted_edges]\n",
    "nodes = set([item for sublist in nodes for item in sublist])\n",
    "print(f'Number of edges: {len(weighted_edges)}\\nNumber of nodes: {len(nodes)}')"
   ]
  },
  {
   "cell_type": "markdown",
   "metadata": {},
   "source": [
    "## Add Nodes Attributes\n",
    "This is the attribute that should represent the node, such as \"number of jobs\", \"number of residents\" etc., to use it in access area / service area computations.\n",
    "Here, we create a dummy attribute with the value '1' to each node, so for example we count the number of destinations we can reach within time T, rather than number of jobs. "
   ]
  },
  {
   "cell_type": "code",
   "execution_count": 290,
   "metadata": {},
   "outputs": [],
   "source": [
    "node_properties = {n : 1 for n in nodes}\n",
    "\n",
    "with open(OUTPUT_PATH + 'roads_graph_node_attributes.pkl','wb') as f:\n",
    "    pickle.dump(node_properties, f)"
   ]
  },
  {
   "cell_type": "markdown",
   "metadata": {},
   "source": [
    "## For Testing: Start Nodes"
   ]
  },
  {
   "cell_type": "code",
   "execution_count": 8,
   "metadata": {},
   "outputs": [],
   "source": [
    "start_roads_df = gpd.read_file('../../../data/Mapa/test_data/center_tlv/center_tlv.shp')"
   ]
  },
  {
   "cell_type": "code",
   "execution_count": 9,
   "metadata": {},
   "outputs": [
    {
     "data": {
      "text/html": [
       "<div>\n",
       "<style scoped>\n",
       "    .dataframe tbody tr th:only-of-type {\n",
       "        vertical-align: middle;\n",
       "    }\n",
       "\n",
       "    .dataframe tbody tr th {\n",
       "        vertical-align: top;\n",
       "    }\n",
       "\n",
       "    .dataframe thead th {\n",
       "        text-align: right;\n",
       "    }\n",
       "</style>\n",
       "<table border=\"1\" class=\"dataframe\">\n",
       "  <thead>\n",
       "    <tr style=\"text-align: right;\">\n",
       "      <th></th>\n",
       "      <th>street</th>\n",
       "      <th>FromLeft</th>\n",
       "      <th>ToLeft</th>\n",
       "      <th>FromRight</th>\n",
       "      <th>ToRight</th>\n",
       "      <th>StreetCode</th>\n",
       "      <th>ObjID</th>\n",
       "      <th>UserID</th>\n",
       "      <th>FJunction</th>\n",
       "      <th>TJunction</th>\n",
       "      <th>...</th>\n",
       "      <th>Status</th>\n",
       "      <th>RoadFuncti</th>\n",
       "      <th>Flag</th>\n",
       "      <th>Identifier</th>\n",
       "      <th>Roaddirect</th>\n",
       "      <th>CLEARSTREE</th>\n",
       "      <th>REVERSTREE</th>\n",
       "      <th>CLEARCITYN</th>\n",
       "      <th>REVERCITYN</th>\n",
       "      <th>geometry</th>\n",
       "    </tr>\n",
       "  </thead>\n",
       "  <tbody>\n",
       "    <tr>\n",
       "      <th>0</th>\n",
       "      <td>None</td>\n",
       "      <td>0</td>\n",
       "      <td>0</td>\n",
       "      <td>0</td>\n",
       "      <td>0</td>\n",
       "      <td>None</td>\n",
       "      <td>140395</td>\n",
       "      <td>1466455</td>\n",
       "      <td>1229728</td>\n",
       "      <td>898653</td>\n",
       "      <td>...</td>\n",
       "      <td>Operative</td>\n",
       "      <td>Parking</td>\n",
       "      <td>5</td>\n",
       "      <td>0</td>\n",
       "      <td>111111</td>\n",
       "      <td>None</td>\n",
       "      <td>None</td>\n",
       "      <td>úìàáéáéôå</td>\n",
       "      <td>åôé áéáà ìú</td>\n",
       "      <td>LINESTRING (178742.195 663704.295, 178750.543 ...</td>\n",
       "    </tr>\n",
       "    <tr>\n",
       "      <th>1</th>\n",
       "      <td>çðéåï ìá úì àáéá</td>\n",
       "      <td>0</td>\n",
       "      <td>0</td>\n",
       "      <td>0</td>\n",
       "      <td>0</td>\n",
       "      <td>None</td>\n",
       "      <td>140396</td>\n",
       "      <td>1466456</td>\n",
       "      <td>898654</td>\n",
       "      <td>1229728</td>\n",
       "      <td>...</td>\n",
       "      <td>Operative</td>\n",
       "      <td>Access to Parking</td>\n",
       "      <td>5</td>\n",
       "      <td>0</td>\n",
       "      <td>111111</td>\n",
       "      <td>çðéåïìáúìàáéá</td>\n",
       "      <td>áéáà ìú áì ïåéðç</td>\n",
       "      <td>úìàáéáéôå</td>\n",
       "      <td>åôé áéáà ìú</td>\n",
       "      <td>LINESTRING (178714.903 663694.601, 178742.195 ...</td>\n",
       "    </tr>\n",
       "  </tbody>\n",
       "</table>\n",
       "<p>2 rows × 38 columns</p>\n",
       "</div>"
      ],
      "text/plain": [
       "             street  FromLeft  ToLeft  FromRight  ToRight StreetCode   ObjID  \\\n",
       "0              None         0       0          0        0       None  140395   \n",
       "1  çðéåï ìá úì àáéá         0       0          0        0       None  140396   \n",
       "\n",
       "    UserID  FJunction  TJunction  ...     Status         RoadFuncti Flag  \\\n",
       "0  1466455    1229728     898653  ...  Operative            Parking    5   \n",
       "1  1466456     898654    1229728  ...  Operative  Access to Parking    5   \n",
       "\n",
       "   Identifier  Roaddirect     CLEARSTREE        REVERSTREE  CLEARCITYN  \\\n",
       "0           0      111111           None              None   úìàáéáéôå   \n",
       "1           0      111111  çðéåïìáúìàáéá  áéáà ìú áì ïåéðç   úìàáéáéôå   \n",
       "\n",
       "    REVERCITYN                                           geometry  \n",
       "0  åôé áéáà ìú  LINESTRING (178742.195 663704.295, 178750.543 ...  \n",
       "1  åôé áéáà ìú  LINESTRING (178714.903 663694.601, 178742.195 ...  \n",
       "\n",
       "[2 rows x 38 columns]"
      ]
     },
     "execution_count": 9,
     "metadata": {},
     "output_type": "execute_result"
    }
   ],
   "source": [
    "start_roads_df.head(2)"
   ]
  },
  {
   "cell_type": "code",
   "execution_count": 38,
   "metadata": {},
   "outputs": [],
   "source": [
    "with open(OUTPUT_PATH + 'center_tlv_nodes.pkl','wb') as f:\n",
    "    pickle.dump(list(nodes), f)\n"
   ]
  },
  {
   "cell_type": "code",
   "execution_count": null,
   "metadata": {},
   "outputs": [],
   "source": []
  }
 ],
 "metadata": {
  "kernelspec": {
   "display_name": "Python 3",
   "language": "python",
   "name": "python3"
  },
  "language_info": {
   "codemirror_mode": {
    "name": "ipython",
    "version": 3
   },
   "file_extension": ".py",
   "mimetype": "text/x-python",
   "name": "python",
   "nbconvert_exporter": "python",
   "pygments_lexer": "ipython3",
   "version": "3.7.5"
  }
 },
 "nbformat": 4,
 "nbformat_minor": 4
}
