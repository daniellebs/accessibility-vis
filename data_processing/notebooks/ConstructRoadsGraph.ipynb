{
 "cells": [
  {
   "cell_type": "code",
   "execution_count": 1,
   "metadata": {},
   "outputs": [],
   "source": [
    "import geopandas as gpd\n",
    "import os\n",
    "import pandas as pd\n",
    "import warnings\n",
    "import seaborn as sns\n",
    "import matplotlib.pyplot as plt\n",
    "from tqdm.auto import tqdm\n",
    "import pickle\n",
    "import copy \n",
    "\n",
    "warnings.filterwarnings('ignore')\n",
    "tqdm.pandas()"
   ]
  },
  {
   "cell_type": "markdown",
   "metadata": {},
   "source": [
    "# Construct Roads Graph"
   ]
  },
  {
   "cell_type": "markdown",
   "metadata": {},
   "source": [
    "## Load Data"
   ]
  },
  {
   "cell_type": "code",
   "execution_count": 2,
   "metadata": {},
   "outputs": [],
   "source": [
    "MAPA_PATH = \"../../../data/Mapa/Ben Gurion University/Gisrael/\"\n",
    "roads_df = gpd.read_file(MAPA_PATH + 'is_str.shp')"
   ]
  },
  {
   "cell_type": "markdown",
   "metadata": {},
   "source": [
    "## Basic Edges"
   ]
  },
  {
   "cell_type": "code",
   "execution_count": 117,
   "metadata": {},
   "outputs": [],
   "source": [
    "shape_edges_df = roads_df[['UserID', 'ObjID', 'FJunction', 'TJunction', 'RoadType', \n",
    "                     'OneWay', 'FromSpeedL', 'ToSpeedL', \n",
    "                     'AprxSpeedL', 'Seconds', 'Length', 'Roaddirect', 'DirectionM', 'F_ZLev', 'T_ZLev']]\n",
    "shape_edges_df = shape_edges_df.reset_index()"
   ]
  },
  {
   "cell_type": "code",
   "execution_count": 158,
   "metadata": {},
   "outputs": [
    {
     "data": {
      "application/vnd.jupyter.widget-view+json": {
       "model_id": "0d7542f832c749caa00d11ce35b5d6ac",
       "version_major": 2,
       "version_minor": 0
      },
      "text/plain": [
       "HBox(children=(FloatProgress(value=0.0, max=647504.0), HTML(value='')))"
      ]
     },
     "metadata": {},
     "output_type": "display_data"
    },
    {
     "name": "stdout",
     "output_type": "stream",
     "text": [
      "\n"
     ]
    }
   ],
   "source": [
    "edges_dict = dict()\n",
    "adjacency_list = dict()\n",
    "number_of_two_way = 0\n",
    "number_of_ft = 0\n",
    "number_of_tf = 0\n",
    "\n",
    "def create_edges_dict(e):\n",
    "    global edges_dict\n",
    "    global number_of_two_way\n",
    "    global number_of_ft\n",
    "    global number_of_tf\n",
    "    \n",
    "    road_type = e['OneWay']\n",
    "    frm = str(e['FJunction'])\n",
    "    to = str(e['TJunction'])\n",
    "    \n",
    "    if road_type == 'N':\n",
    "        return\n",
    "    elif road_type == 'ft':\n",
    "        if (frm, to) in edges_dict:\n",
    "            raise Exception(f'Found parallel edge: {frm}, {to}')\n",
    "        edges_dict[frm, to] = copy.deepcopy(e)\n",
    "        \n",
    "        if frm not in adjacency_list:\n",
    "            adjacency_list[frm] = dict()\n",
    "        adjacency_list[frm][to] = copy.deepcopy(e)\n",
    "        \n",
    "        number_of_ft += 1\n",
    "    elif road_type == 'tf':\n",
    "        if (to, frm) in edges_dict:\n",
    "            raise Exception(f'Found parallel edge: {to}, {frm}')\n",
    "        edges_dict[to, frm] = copy.deepcopy(e)\n",
    "        \n",
    "        if to not in adjacency_list:\n",
    "            adjacency_list[to] = dict()\n",
    "        adjacency_list[to][frm] = copy.deepcopy(e)\n",
    "        \n",
    "        number_of_tf += 1\n",
    "    elif road_type == '2':\n",
    "        if (frm, to) in edges_dict:\n",
    "            raise Exception(f'Found parallel edge: {frm}, {to}')\n",
    "        if (to, frm) in edges_dict:\n",
    "            raise Exception(f'Found parallel edge: {to}, {frm}')\n",
    "        edges_dict[frm, to] = copy.deepcopy(e)\n",
    "        edges_dict[to, frm] = copy.deepcopy(e)\n",
    "        \n",
    "        if frm not in adjacency_list:\n",
    "            adjacency_list[frm] = dict()\n",
    "        adjacency_list[frm][to] = copy.deepcopy(e)\n",
    "        \n",
    "        if to not in adjacency_list:\n",
    "            adjacency_list[to] = dict()\n",
    "        adjacency_list[to][frm] = copy.deepcopy(e)\n",
    "        \n",
    "        number_of_two_way +=2\n",
    "        \n",
    "res = shape_edges_df.progress_apply(lambda x: create_edges_dict(x), axis=1)"
   ]
  },
  {
   "cell_type": "code",
   "execution_count": 160,
   "metadata": {},
   "outputs": [],
   "source": [
    "original_adjacency_list = adjacency_list.copy()"
   ]
  },
  {
   "cell_type": "markdown",
   "metadata": {},
   "source": [
    "### Test"
   ]
  },
  {
   "cell_type": "code",
   "execution_count": 161,
   "metadata": {},
   "outputs": [
    {
     "name": "stdout",
     "output_type": "stream",
     "text": [
      "859377\n",
      "number of ft: 154969, number of tf: 24314, number of two ways * 2: 680094\n"
     ]
    }
   ],
   "source": [
    "# Sanity check\n",
    "number_of_edges = len(edges_dict)\n",
    "number_of_ft = shape_edges_df[shape_edges_df['OneWay'] == 'ft'].shape[0]\n",
    "number_of_tf = shape_edges_df[shape_edges_df['OneWay'] == 'tf'].shape[0]\n",
    "number_of_two_way = shape_edges_df[shape_edges_df['OneWay'] == '2'].shape[0]\n",
    "print(number_of_edges)\n",
    "print(f'number of ft: {number_of_ft}, number of tf: {number_of_tf}, number of two ways * 2: {number_of_two_way*2}')\n",
    "assert number_of_edges == (number_of_ft + number_of_tf + number_of_two_way*2)"
   ]
  },
  {
   "cell_type": "markdown",
   "metadata": {},
   "source": [
    "## Turn Restrictions"
   ]
  },
  {
   "cell_type": "code",
   "execution_count": 162,
   "metadata": {},
   "outputs": [],
   "source": [
    "turn_restrict_df = gpd.read_file(MAPA_PATH + 'restrict.shp')"
   ]
  },
  {
   "cell_type": "markdown",
   "metadata": {},
   "source": [
    "### Utils"
   ]
  },
  {
   "cell_type": "code",
   "execution_count": 163,
   "metadata": {},
   "outputs": [],
   "source": [
    "def get_edge_other_node(edge_id, node):\n",
    "    e = shape_edges_df[shape_edges_df['UserID'] == edge_id]\n",
    "    \n",
    "    f = e['FJunction'].values[0]\n",
    "    t = e['TJunction'].values[0]\n",
    "    \n",
    "    if f == node:\n",
    "        return t\n",
    "    if t == node:\n",
    "        return f\n",
    "    \n",
    "    raise Exception(f'node {node} is not part of the edge {edge_id}')\n",
    "    \n",
    "    \n",
    "############################################################    \n",
    "######################## Test ##############################\n",
    "############################################################\n",
    "\n",
    "assert get_edge_other_node(1186054, 1058686) == 1058685"
   ]
  },
  {
   "cell_type": "markdown",
   "metadata": {},
   "source": [
    "### Manipulate Graph according to [Turn Restrictions Algorithm](https://docs.google.com/document/d/1XG5cRIPrrrchI-ub2eU_BYekPyKPA4vKLt3xK62fkS8/edit?usp=sharing)"
   ]
  },
  {
   "cell_type": "code",
   "execution_count": 164,
   "metadata": {},
   "outputs": [
    {
     "name": "stdout",
     "output_type": "stream",
     "text": [
      "Skipped 1448 restrictions\n"
     ]
    }
   ],
   "source": [
    "skipped_restrictions = []\n",
    "\n",
    "for i, restrict in turn_restrict_df.iterrows():\n",
    "    u = str(get_edge_other_node(restrict['einterval'], restrict['junctionid']))\n",
    "    v = str(restrict['junctionid'])\n",
    "    w = str(get_edge_other_node(restrict['xinterval'], restrict['junctionid']))\n",
    "    \n",
    "    original_v = v\n",
    "    # maybe we already created v_u\n",
    "    if (u in adjacency_list) and (v not in adjacency_list[u]):\n",
    "        v = v + '_' + u\n",
    "    # maybe we already created w_v\n",
    "    if (v in adjacency_list) and (w not in adjacency_list[v]):\n",
    "        w = w + '_' + original_v    \n",
    "    \n",
    "    # if no edge (u,v) or (v,w) then the restriction is already enforced\n",
    "    if ((u not in adjacency_list) or (v not in adjacency_list[u]) or \n",
    "        (v not in adjacency_list) or (w not in adjacency_list[v])):\n",
    "        skipped_restrictions.append(restrict)\n",
    "        continue\n",
    "        \n",
    "    if '_' in v:  # v already represents v_u\n",
    "        # remove (v_u,w)\n",
    "        del adjacency_list[v][w]\n",
    "    else:  # v_u was not already created\n",
    "        # add a new node v_u with a new edge (u, v_u)\n",
    "        v_u = v + '_' + u\n",
    "        adjacency_list[v_u] = dict()\n",
    "        adjacency_list[u][v_u] = adjacency_list[u][v]\n",
    "    \n",
    "        # remove (u,v)\n",
    "        del adjacency_list[u][v]\n",
    "    \n",
    "    \n",
    "        # for each edge (v,x) where x!=w add (v_u, x)\n",
    "        for x in adjacency_list[v]:\n",
    "            if x == w:\n",
    "                continue\n",
    "            adjacency_list[v_u][x] = adjacency_list[v][x]\n",
    "        \n",
    "print(f'Skipped {len(skipped_restrictions)} restrictions')"
   ]
  },
  {
   "cell_type": "code",
   "execution_count": 165,
   "metadata": {},
   "outputs": [
    {
     "data": {
      "text/plain": [
       "0"
      ]
     },
     "execution_count": 165,
     "metadata": {},
     "output_type": "execute_result"
    }
   ],
   "source": [
    "# Verify that all skipped restrictions are blocked roads\n",
    "count = 0\n",
    "for row in skipped_restrictions:    \n",
    "    f_edge_type = shape_edges_df[shape_edges_df['UserID'] == row['einterval']]['OneWay'].values[0] \n",
    "    t_edge_type = shape_edges_df[shape_edges_df['UserID'] == row['xinterval']]['OneWay'].values[0] \n",
    "    if f_edge_type != 'N' and t_edge_type != 'N':\n",
    "        count += 1\n",
    "count"
   ]
  },
  {
   "cell_type": "code",
   "execution_count": 166,
   "metadata": {},
   "outputs": [],
   "source": [
    "# save adjacency list with turn restrictions\n",
    "with open('../../output_data/roads_graph_turn_restrictions.pkl','wb') as f:\n",
    "    pickle.dump(adjacency_list, f)"
   ]
  },
  {
   "cell_type": "markdown",
   "metadata": {},
   "source": [
    "## Z-Levels\n",
    "In order to handle z-levels, we must go through all pairs of (u,v),(v,w) edges, and compare T_ZLev(u,v) and F_ZLev(v,w). If they are different, we will mark u->v->w as a turn restriction. "
   ]
  },
  {
   "cell_type": "code",
   "execution_count": 167,
   "metadata": {},
   "outputs": [
    {
     "data": {
      "text/html": [
       "<div>\n",
       "<style scoped>\n",
       "    .dataframe tbody tr th:only-of-type {\n",
       "        vertical-align: middle;\n",
       "    }\n",
       "\n",
       "    .dataframe tbody tr th {\n",
       "        vertical-align: top;\n",
       "    }\n",
       "\n",
       "    .dataframe thead th {\n",
       "        text-align: right;\n",
       "    }\n",
       "</style>\n",
       "<table border=\"1\" class=\"dataframe\">\n",
       "  <thead>\n",
       "    <tr style=\"text-align: right;\">\n",
       "      <th></th>\n",
       "      <th>index</th>\n",
       "      <th>UserID</th>\n",
       "      <th>ObjID</th>\n",
       "      <th>FJunction</th>\n",
       "      <th>TJunction</th>\n",
       "      <th>RoadType</th>\n",
       "      <th>OneWay</th>\n",
       "      <th>FromSpeedL</th>\n",
       "      <th>ToSpeedL</th>\n",
       "      <th>AprxSpeedL</th>\n",
       "      <th>Seconds</th>\n",
       "      <th>Length</th>\n",
       "      <th>Roaddirect</th>\n",
       "      <th>DirectionM</th>\n",
       "      <th>F_ZLev</th>\n",
       "      <th>T_ZLev</th>\n",
       "    </tr>\n",
       "  </thead>\n",
       "  <tbody>\n",
       "    <tr>\n",
       "      <th>0</th>\n",
       "      <td>0</td>\n",
       "      <td>1004561</td>\n",
       "      <td>1</td>\n",
       "      <td>947733</td>\n",
       "      <td>947736</td>\n",
       "      <td>254</td>\n",
       "      <td>2</td>\n",
       "      <td>10</td>\n",
       "      <td>10</td>\n",
       "      <td>10</td>\n",
       "      <td>69.734908</td>\n",
       "      <td>64.569179</td>\n",
       "      <td>222222</td>\n",
       "      <td>None</td>\n",
       "      <td>0</td>\n",
       "      <td>0</td>\n",
       "    </tr>\n",
       "    <tr>\n",
       "      <th>1</th>\n",
       "      <td>1</td>\n",
       "      <td>1059914</td>\n",
       "      <td>2</td>\n",
       "      <td>950536</td>\n",
       "      <td>983821</td>\n",
       "      <td>10</td>\n",
       "      <td>2</td>\n",
       "      <td>90</td>\n",
       "      <td>90</td>\n",
       "      <td>90</td>\n",
       "      <td>2.249966</td>\n",
       "      <td>49.999104</td>\n",
       "      <td>222222</td>\n",
       "      <td>B</td>\n",
       "      <td>0</td>\n",
       "      <td>0</td>\n",
       "    </tr>\n",
       "  </tbody>\n",
       "</table>\n",
       "</div>"
      ],
      "text/plain": [
       "   index   UserID  ObjID  FJunction  TJunction  RoadType OneWay  FromSpeedL  \\\n",
       "0      0  1004561      1     947733     947736       254      2          10   \n",
       "1      1  1059914      2     950536     983821        10      2          90   \n",
       "\n",
       "   ToSpeedL  AprxSpeedL    Seconds     Length Roaddirect DirectionM  F_ZLev  \\\n",
       "0        10          10  69.734908  64.569179     222222       None       0   \n",
       "1        90          90   2.249966  49.999104     222222          B       0   \n",
       "\n",
       "   T_ZLev  \n",
       "0       0  \n",
       "1       0  "
      ]
     },
     "execution_count": 167,
     "metadata": {},
     "output_type": "execute_result"
    }
   ],
   "source": [
    "shape_edges_df.head(2)"
   ]
  },
  {
   "cell_type": "code",
   "execution_count": 168,
   "metadata": {},
   "outputs": [],
   "source": [
    "edges = {'From': [], 'To': [], 'Edge': []}\n",
    "for f in original_adjacency_list:\n",
    "    for t in original_adjacency_list[f]:\n",
    "        edges['From'].append(f)\n",
    "        edges['To'].append(t)\n",
    "        edges['Edge'].append(original_adjacency_list[f][t])\n",
    "\n",
    "edges_df = pd.DataFrame(edges)\n",
    "    "
   ]
  },
  {
   "cell_type": "code",
   "execution_count": 169,
   "metadata": {},
   "outputs": [
    {
     "data": {
      "text/html": [
       "<div>\n",
       "<style scoped>\n",
       "    .dataframe tbody tr th:only-of-type {\n",
       "        vertical-align: middle;\n",
       "    }\n",
       "\n",
       "    .dataframe tbody tr th {\n",
       "        vertical-align: top;\n",
       "    }\n",
       "\n",
       "    .dataframe thead th {\n",
       "        text-align: right;\n",
       "    }\n",
       "</style>\n",
       "<table border=\"1\" class=\"dataframe\">\n",
       "  <thead>\n",
       "    <tr style=\"text-align: right;\">\n",
       "      <th></th>\n",
       "      <th>From</th>\n",
       "      <th>To</th>\n",
       "      <th>Edge</th>\n",
       "    </tr>\n",
       "  </thead>\n",
       "  <tbody>\n",
       "    <tr>\n",
       "      <th>0</th>\n",
       "      <td>947733</td>\n",
       "      <td>947736</td>\n",
       "      <td>index               0\n",
       "UserID        1004561\n",
       "Ob...</td>\n",
       "    </tr>\n",
       "    <tr>\n",
       "      <th>1</th>\n",
       "      <td>947733</td>\n",
       "      <td>947732</td>\n",
       "      <td>index            1542\n",
       "UserID        1004557\n",
       "Ob...</td>\n",
       "    </tr>\n",
       "    <tr>\n",
       "      <th>2</th>\n",
       "      <td>947736</td>\n",
       "      <td>947733</td>\n",
       "      <td>index               0\n",
       "UserID        1004561\n",
       "Ob...</td>\n",
       "    </tr>\n",
       "    <tr>\n",
       "      <th>3</th>\n",
       "      <td>947736</td>\n",
       "      <td>947735</td>\n",
       "      <td>index            1550\n",
       "UserID        1004560\n",
       "Ob...</td>\n",
       "    </tr>\n",
       "    <tr>\n",
       "      <th>4</th>\n",
       "      <td>950536</td>\n",
       "      <td>983821_950536</td>\n",
       "      <td>index               1\n",
       "UserID        1059914\n",
       "Ob...</td>\n",
       "    </tr>\n",
       "  </tbody>\n",
       "</table>\n",
       "</div>"
      ],
      "text/plain": [
       "     From             To                                               Edge\n",
       "0  947733         947736  index               0\n",
       "UserID        1004561\n",
       "Ob...\n",
       "1  947733         947732  index            1542\n",
       "UserID        1004557\n",
       "Ob...\n",
       "2  947736         947733  index               0\n",
       "UserID        1004561\n",
       "Ob...\n",
       "3  947736         947735  index            1550\n",
       "UserID        1004560\n",
       "Ob...\n",
       "4  950536  983821_950536  index               1\n",
       "UserID        1059914\n",
       "Ob..."
      ]
     },
     "execution_count": 169,
     "metadata": {},
     "output_type": "execute_result"
    }
   ],
   "source": [
    "edges_df.head()"
   ]
  },
  {
   "cell_type": "code",
   "execution_count": 170,
   "metadata": {},
   "outputs": [],
   "source": [
    "pairs_of_edges_df = edges_df.merge(edges_df, left_on='To', right_on='From', suffixes=('_F', '_T'))"
   ]
  },
  {
   "cell_type": "code",
   "execution_count": 171,
   "metadata": {},
   "outputs": [
    {
     "data": {
      "text/html": [
       "<div>\n",
       "<style scoped>\n",
       "    .dataframe tbody tr th:only-of-type {\n",
       "        vertical-align: middle;\n",
       "    }\n",
       "\n",
       "    .dataframe tbody tr th {\n",
       "        vertical-align: top;\n",
       "    }\n",
       "\n",
       "    .dataframe thead th {\n",
       "        text-align: right;\n",
       "    }\n",
       "</style>\n",
       "<table border=\"1\" class=\"dataframe\">\n",
       "  <thead>\n",
       "    <tr style=\"text-align: right;\">\n",
       "      <th></th>\n",
       "      <th>From_F</th>\n",
       "      <th>To_F</th>\n",
       "      <th>Edge_F</th>\n",
       "      <th>From_T</th>\n",
       "      <th>To_T</th>\n",
       "      <th>Edge_T</th>\n",
       "    </tr>\n",
       "  </thead>\n",
       "  <tbody>\n",
       "    <tr>\n",
       "      <th>0</th>\n",
       "      <td>947733</td>\n",
       "      <td>947736</td>\n",
       "      <td>index               0\n",
       "UserID        1004561\n",
       "Ob...</td>\n",
       "      <td>947736</td>\n",
       "      <td>947733</td>\n",
       "      <td>index               0\n",
       "UserID        1004561\n",
       "Ob...</td>\n",
       "    </tr>\n",
       "    <tr>\n",
       "      <th>1</th>\n",
       "      <td>947733</td>\n",
       "      <td>947736</td>\n",
       "      <td>index               0\n",
       "UserID        1004561\n",
       "Ob...</td>\n",
       "      <td>947736</td>\n",
       "      <td>947735</td>\n",
       "      <td>index            1550\n",
       "UserID        1004560\n",
       "Ob...</td>\n",
       "    </tr>\n",
       "    <tr>\n",
       "      <th>2</th>\n",
       "      <td>947735</td>\n",
       "      <td>947736</td>\n",
       "      <td>index            1550\n",
       "UserID        1004560\n",
       "Ob...</td>\n",
       "      <td>947736</td>\n",
       "      <td>947733</td>\n",
       "      <td>index               0\n",
       "UserID        1004561\n",
       "Ob...</td>\n",
       "    </tr>\n",
       "    <tr>\n",
       "      <th>3</th>\n",
       "      <td>947735</td>\n",
       "      <td>947736</td>\n",
       "      <td>index            1550\n",
       "UserID        1004560\n",
       "Ob...</td>\n",
       "      <td>947736</td>\n",
       "      <td>947735</td>\n",
       "      <td>index            1550\n",
       "UserID        1004560\n",
       "Ob...</td>\n",
       "    </tr>\n",
       "    <tr>\n",
       "      <th>4</th>\n",
       "      <td>947733</td>\n",
       "      <td>947732</td>\n",
       "      <td>index            1542\n",
       "UserID        1004557\n",
       "Ob...</td>\n",
       "      <td>947732</td>\n",
       "      <td>947735</td>\n",
       "      <td>index            1043\n",
       "UserID        1004570\n",
       "Ob...</td>\n",
       "    </tr>\n",
       "  </tbody>\n",
       "</table>\n",
       "</div>"
      ],
      "text/plain": [
       "   From_F    To_F                                             Edge_F  From_T  \\\n",
       "0  947733  947736  index               0\n",
       "UserID        1004561\n",
       "Ob...  947736   \n",
       "1  947733  947736  index               0\n",
       "UserID        1004561\n",
       "Ob...  947736   \n",
       "2  947735  947736  index            1550\n",
       "UserID        1004560\n",
       "Ob...  947736   \n",
       "3  947735  947736  index            1550\n",
       "UserID        1004560\n",
       "Ob...  947736   \n",
       "4  947733  947732  index            1542\n",
       "UserID        1004557\n",
       "Ob...  947732   \n",
       "\n",
       "     To_T                                             Edge_T  \n",
       "0  947733  index               0\n",
       "UserID        1004561\n",
       "Ob...  \n",
       "1  947735  index            1550\n",
       "UserID        1004560\n",
       "Ob...  \n",
       "2  947733  index               0\n",
       "UserID        1004561\n",
       "Ob...  \n",
       "3  947735  index            1550\n",
       "UserID        1004560\n",
       "Ob...  \n",
       "4  947735  index            1043\n",
       "UserID        1004570\n",
       "Ob...  "
      ]
     },
     "execution_count": 171,
     "metadata": {},
     "output_type": "execute_result"
    }
   ],
   "source": [
    "pairs_of_edges_df.head()"
   ]
  },
  {
   "cell_type": "code",
   "execution_count": 172,
   "metadata": {},
   "outputs": [
    {
     "data": {
      "text/plain": [
       "(859377, 3)"
      ]
     },
     "execution_count": 172,
     "metadata": {},
     "output_type": "execute_result"
    }
   ],
   "source": [
    "edges_df.shape"
   ]
  },
  {
   "cell_type": "code",
   "execution_count": 173,
   "metadata": {},
   "outputs": [
    {
     "data": {
      "text/plain": [
       "(1850554, 6)"
      ]
     },
     "execution_count": 173,
     "metadata": {},
     "output_type": "execute_result"
    }
   ],
   "source": [
    "pairs_of_edges_df.shape"
   ]
  },
  {
   "cell_type": "code",
   "execution_count": 174,
   "metadata": {},
   "outputs": [],
   "source": [
    "z_level_restrictions = {'einterval': [], 'junctionid': [], 'xinterval': []}\n",
    "for _, row in pairs_of_edges_df.iterrows():    \n",
    "    middle_node_is_tjunction_in_edge_f = row['To_F'] == str(row['Edge_F']['TJunction'])\n",
    "    if middle_node_is_tjunction_in_edge_f:\n",
    "        from_zlev = row['Edge_F']['T_ZLev']\n",
    "    else:\n",
    "        assert row['To_F'] == str(row['Edge_F']['FJunction']), f\"Edge_F is drawn from {row['Edge_F']['FJunction']} to {row['Edge_F']['TJunction']}, \\\n",
    "                while the current edge goes to {row['To_F']}\"\n",
    "        from_zlev = row['Edge_F']['F_ZLev']\n",
    "        \n",
    "    middle_node_is_fjunction_in_edge_t = row['From_T'] == str(row['Edge_T']['FJunction'])\n",
    "    if middle_node_is_fjunction_in_edge_t:\n",
    "        to_zlev = row['Edge_T']['F_ZLev']\n",
    "    else:\n",
    "        assert row['From_T'] == str(row['Edge_T']['TJunction']), f\"Edge_T is drawn from {row['Edge_T']['FJunction']} to {row['Edge_T']['TJunction']}, \\\n",
    "                while the current edge goes from {row['From_F']}\"\n",
    "        to_zlev = row['Edge_T']['T_ZLev']\n",
    "        \n",
    "    if from_zlev != to_zlev:\n",
    "        z_level_restrictions['einterval'].append(int(row['Edge_F']['UserID']))\n",
    "        z_level_restrictions['junctionid'].append(int(row['To_F']))\n",
    "        z_level_restrictions['xinterval'].append(int(row['Edge_T']['UserID']))\n",
    "        \n",
    "        \n",
    "z_level_restrictions_df = pd.DataFrame(z_level_restrictions)"
   ]
  },
  {
   "cell_type": "code",
   "execution_count": 175,
   "metadata": {},
   "outputs": [
    {
     "data": {
      "text/html": [
       "<div>\n",
       "<style scoped>\n",
       "    .dataframe tbody tr th:only-of-type {\n",
       "        vertical-align: middle;\n",
       "    }\n",
       "\n",
       "    .dataframe tbody tr th {\n",
       "        vertical-align: top;\n",
       "    }\n",
       "\n",
       "    .dataframe thead th {\n",
       "        text-align: right;\n",
       "    }\n",
       "</style>\n",
       "<table border=\"1\" class=\"dataframe\">\n",
       "  <thead>\n",
       "    <tr style=\"text-align: right;\">\n",
       "      <th></th>\n",
       "      <th>einterval</th>\n",
       "      <th>junctionid</th>\n",
       "      <th>xinterval</th>\n",
       "    </tr>\n",
       "  </thead>\n",
       "  <tbody>\n",
       "    <tr>\n",
       "      <th>0</th>\n",
       "      <td>1614399</td>\n",
       "      <td>887616</td>\n",
       "      <td>1125452</td>\n",
       "    </tr>\n",
       "    <tr>\n",
       "      <th>1</th>\n",
       "      <td>1614399</td>\n",
       "      <td>887616</td>\n",
       "      <td>1125453</td>\n",
       "    </tr>\n",
       "    <tr>\n",
       "      <th>2</th>\n",
       "      <td>1125452</td>\n",
       "      <td>887616</td>\n",
       "      <td>12090</td>\n",
       "    </tr>\n",
       "    <tr>\n",
       "      <th>3</th>\n",
       "      <td>1125452</td>\n",
       "      <td>887616</td>\n",
       "      <td>1614399</td>\n",
       "    </tr>\n",
       "    <tr>\n",
       "      <th>4</th>\n",
       "      <td>12090</td>\n",
       "      <td>887616</td>\n",
       "      <td>1125452</td>\n",
       "    </tr>\n",
       "    <tr>\n",
       "      <th>5</th>\n",
       "      <td>12090</td>\n",
       "      <td>887616</td>\n",
       "      <td>1125453</td>\n",
       "    </tr>\n",
       "    <tr>\n",
       "      <th>6</th>\n",
       "      <td>1125453</td>\n",
       "      <td>887616</td>\n",
       "      <td>12090</td>\n",
       "    </tr>\n",
       "    <tr>\n",
       "      <th>7</th>\n",
       "      <td>1125453</td>\n",
       "      <td>887616</td>\n",
       "      <td>1614399</td>\n",
       "    </tr>\n",
       "    <tr>\n",
       "      <th>8</th>\n",
       "      <td>1391723</td>\n",
       "      <td>1181793</td>\n",
       "      <td>1391721</td>\n",
       "    </tr>\n",
       "    <tr>\n",
       "      <th>9</th>\n",
       "      <td>1391723</td>\n",
       "      <td>1181793</td>\n",
       "      <td>1391722</td>\n",
       "    </tr>\n",
       "  </tbody>\n",
       "</table>\n",
       "</div>"
      ],
      "text/plain": [
       "   einterval  junctionid  xinterval\n",
       "0    1614399      887616    1125452\n",
       "1    1614399      887616    1125453\n",
       "2    1125452      887616      12090\n",
       "3    1125452      887616    1614399\n",
       "4      12090      887616    1125452\n",
       "5      12090      887616    1125453\n",
       "6    1125453      887616      12090\n",
       "7    1125453      887616    1614399\n",
       "8    1391723     1181793    1391721\n",
       "9    1391723     1181793    1391722"
      ]
     },
     "execution_count": 175,
     "metadata": {},
     "output_type": "execute_result"
    }
   ],
   "source": [
    "z_level_restrictions_df.head(10)"
   ]
  },
  {
   "cell_type": "code",
   "execution_count": 176,
   "metadata": {},
   "outputs": [
    {
     "name": "stdout",
     "output_type": "stream",
     "text": [
      "Skipped 0 restrictions\n"
     ]
    }
   ],
   "source": [
    "skipped_restrictions = []\n",
    "\n",
    "for i, restrict in z_level_restrictions_df.iterrows():\n",
    "    u = str(get_edge_other_node(restrict['einterval'], restrict['junctionid']))\n",
    "    v = str(restrict['junctionid'])\n",
    "    w = str(get_edge_other_node(restrict['xinterval'], restrict['junctionid']))\n",
    "    \n",
    "    original_v = v\n",
    "    # maybe we already created v_u\n",
    "    if (u in adjacency_list) and (v not in adjacency_list[u]):\n",
    "        v = v + '_' + u\n",
    "    # maybe we already created w_v\n",
    "    if (v in adjacency_list) and (w not in adjacency_list[v]):\n",
    "        w = w + '_' + original_v    \n",
    "    \n",
    "    # if no edge (u,v) or (v,w) then the restriction is already enforced\n",
    "    if ((u not in adjacency_list) or (v not in adjacency_list[u]) or \n",
    "        (v not in adjacency_list) or (w not in adjacency_list[v])):\n",
    "        skipped_restrictions.append(restrict)\n",
    "        continue\n",
    "        \n",
    "    if '_' in v:  # v already represents v_u\n",
    "        # remove (v_u,w)\n",
    "        del adjacency_list[v][w]\n",
    "    else:  # v_u was not already created\n",
    "        # add a new node v_u with a new edge (u, v_u)\n",
    "        v_u = v + '_' + u\n",
    "        adjacency_list[v_u] = dict()\n",
    "        adjacency_list[u][v_u] = adjacency_list[u][v]\n",
    "    \n",
    "        # remove (u,v)\n",
    "        del adjacency_list[u][v]\n",
    "    \n",
    "    \n",
    "        # for each edge (v,x) where x!=w add (v_u, x)\n",
    "        for x in adjacency_list[v]:\n",
    "            if x == w:\n",
    "                continue\n",
    "            adjacency_list[v_u][x] = adjacency_list[v][x]\n",
    "        \n",
    "print(f'Skipped {len(skipped_restrictions)} restrictions')"
   ]
  },
  {
   "cell_type": "code",
   "execution_count": 177,
   "metadata": {},
   "outputs": [],
   "source": [
    "# save adjacency list with turn restrictions\n",
    "with open('../../output_data/roads_graph_turn_restrictions_and_z_levels.pkl','wb') as f:\n",
    "    pickle.dump(adjacency_list, f)"
   ]
  },
  {
   "cell_type": "markdown",
   "metadata": {},
   "source": [
    "## Add Weights"
   ]
  },
  {
   "cell_type": "code",
   "execution_count": 185,
   "metadata": {},
   "outputs": [],
   "source": [
    "weighted_edges = []\n",
    "\n",
    "for f in adjacency_list:\n",
    "    for t in adjacency_list[f]:\n",
    "        weighted_edges.append((f,t,adjacency_list[f][t]['Seconds']))"
   ]
  },
  {
   "cell_type": "code",
   "execution_count": 186,
   "metadata": {},
   "outputs": [
    {
     "data": {
      "text/plain": [
       "949378"
      ]
     },
     "execution_count": 186,
     "metadata": {},
     "output_type": "execute_result"
    }
   ],
   "source": [
    "len(weighted_edges)"
   ]
  },
  {
   "cell_type": "code",
   "execution_count": 187,
   "metadata": {},
   "outputs": [],
   "source": [
    "with open('../../output_data/roads_graph_weighted_edges.pkl','wb') as f:\n",
    "    pickle.dump(weighted_edges, f)"
   ]
  },
  {
   "cell_type": "code",
   "execution_count": null,
   "metadata": {},
   "outputs": [],
   "source": []
  }
 ],
 "metadata": {
  "kernelspec": {
   "display_name": "Python 3",
   "language": "python",
   "name": "python3"
  },
  "language_info": {
   "codemirror_mode": {
    "name": "ipython",
    "version": 3
   },
   "file_extension": ".py",
   "mimetype": "text/x-python",
   "name": "python",
   "nbconvert_exporter": "python",
   "pygments_lexer": "ipython3",
   "version": "3.7.5"
  }
 },
 "nbformat": 4,
 "nbformat_minor": 4
}
